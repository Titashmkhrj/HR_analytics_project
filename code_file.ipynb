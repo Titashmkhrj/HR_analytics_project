{
  "nbformat": 4,
  "nbformat_minor": 0,
  "metadata": {
    "kernelspec": {
      "display_name": "Python 3",
      "language": "python",
      "name": "python3"
    },
    "language_info": {
      "codemirror_mode": {
        "name": "ipython",
        "version": 3
      },
      "file_extension": ".py",
      "mimetype": "text/x-python",
      "name": "python",
      "nbconvert_exporter": "python",
      "pygments_lexer": "ipython3",
      "version": "3.7.0"
    },
    "colab": {
      "name": "code_file.ipynb",
      "provenance": []
    }
  },
  "cells": [
    {
      "cell_type": "markdown",
      "metadata": {
        "id": "si0yjMizE2o5",
        "colab_type": "text"
      },
      "source": [
        "# Project Desription\n",
        "<u>**PROBLEM STATEMENT**</u> <i>(according to the data provider on Kaggle)</i>     \n",
        "\n",
        "\"A large company named XYZ, employs, at any given point of time, around 4000 employees. However, every year, around 15% of its employees leave the company and need to be replaced with the talent pool available in the job market. The management believes that this level of attrition (employees leaving, either on their own or because they got fired) is bad for the company, because of the following reasons -  \n",
        "\n",
        "* The former employees’ projects get delayed, which makes it difficult to meet timelines, resulting in a reputation loss among consumers and partners.  \n",
        "* A sizeable department has to be maintained, for the purposes of recruiting new talent.  \n",
        "* More often than not, the new employees have to be trained for the job and/or given time to acclimatise themselves to the company.  \n",
        "\n",
        "Hence, the management has contracted an HR analytics firm to understand what factors they should focus on, in order to curb attrition. In other words, they want to know what changes they should make to their workplace, in order to get most of their employees to stay. Also, they want to know which of these variables is most important and needs to be addressed right away.\"  \n",
        "\n",
        "<u>**GOAL OF THE PROJECT**</u>    \n",
        "\n",
        "We are required to model the probability of attrition. The results thus obtained will be used by the management to understand what changes they should make to their workplace, in order to get most of their employees to stay.  \n",
        "\n",
        "<u>**DATA SOURCE**</u>  \n",
        "\n",
        "* FROM Kaggle - https://www.kaggle.com/vjchoudhary7/hr-analytics-case-study\n",
        "\n"
      ]
    },
    {
      "cell_type": "markdown",
      "metadata": {
        "id": "ozMyK1v3E2o8",
        "colab_type": "text"
      },
      "source": [
        "# Importing libraries\n",
        "**Okay so prima facie, lets import some of the libraries we will be needing for this project.**  \n",
        "(even if we are missing out on some library, we can always import it later on in the project.)"
      ]
    },
    {
      "cell_type": "code",
      "metadata": {
        "id": "hvR1IqOhE2o-",
        "colab_type": "code",
        "colab": {}
      },
      "source": [
        "import sys\n",
        "\n",
        "# library to handle vectorized data \n",
        "import numpy as np \n",
        "# library for data analsysis and manupulation\n",
        "import pandas as pd \n",
        "# so that the output is not trunacated by pandas when we actually want to see it \n",
        "# pd.set_option('display.max_columns', 100)\n",
        "# pd.set_option('display.max_rows', 1000)\n",
        "\n",
        "# for visualisations\n",
        "import seaborn as sns\n",
        "\n",
        "%matplotlib inline \n",
        "import matplotlib as mpl\n",
        "import matplotlib.pyplot as plt\n"
      ],
      "execution_count": 0,
      "outputs": []
    },
    {
      "cell_type": "markdown",
      "metadata": {
        "id": "ilNUGz5RHUOr",
        "colab_type": "text"
      },
      "source": [
        "# Mounting the drive, to access the data."
      ]
    },
    {
      "cell_type": "code",
      "metadata": {
        "id": "f6ZBK7EmFaal",
        "colab_type": "code",
        "outputId": "1af6d47d-550c-46a4-ab80-6d603a1072dd",
        "colab": {
          "base_uri": "https://localhost:8080/",
          "height": 34
        }
      },
      "source": [
        "from google.colab import drive\n",
        "drive.mount('/content/drive')"
      ],
      "execution_count": 6,
      "outputs": [
        {
          "output_type": "stream",
          "text": [
            "Drive already mounted at /content/drive; to attempt to forcibly remount, call drive.mount(\"/content/drive\", force_remount=True).\n"
          ],
          "name": "stdout"
        }
      ]
    },
    {
      "cell_type": "code",
      "metadata": {
        "id": "qTGnQS4QFnTd",
        "colab_type": "code",
        "outputId": "efb4ec64-c639-4213-f221-bcd3a75c2704",
        "colab": {
          "base_uri": "https://localhost:8080/",
          "height": 34
        }
      },
      "source": [
        "%ls"
      ],
      "execution_count": 7,
      "outputs": [
        {
          "output_type": "stream",
          "text": [
            "\u001b[0m\u001b[01;34mdrive\u001b[0m/  \u001b[01;34msample_data\u001b[0m/\n"
          ],
          "name": "stdout"
        }
      ]
    },
    {
      "cell_type": "code",
      "metadata": {
        "id": "Xv38j3bWFnD3",
        "colab_type": "code",
        "outputId": "df214c27-82a3-4396-b864-a80f6151b43b",
        "colab": {
          "base_uri": "https://localhost:8080/",
          "height": 34
        }
      },
      "source": [
        "%cd /content/drive/My Drive/Github_projects/HR_analytics_project"
      ],
      "execution_count": 8,
      "outputs": [
        {
          "output_type": "stream",
          "text": [
            "/content/drive/My Drive/Github_projects/HR_analytics_project\n"
          ],
          "name": "stdout"
        }
      ]
    },
    {
      "cell_type": "markdown",
      "metadata": {
        "id": "dJVCBJCpE2pI",
        "colab_type": "text"
      },
      "source": [
        "# Loading the data : \n",
        "\n",
        "The data that we have for this project is as follows :\n",
        "(for the features see the included data dictionary).\n",
        "\n",
        "* **employee_survey_data** - This file conatins the survey results of the employees on the following features.\n",
        "* **general_data** - This file contain general data about employees.\n",
        "* **in_time** - This file contains employee login time details.\n",
        "* **out_time** - This file contains employees logout time details.\n",
        "* **manager_survey_data** - This file contains employees feedback survey about their managers."
      ]
    },
    {
      "cell_type": "code",
      "metadata": {
        "id": "cKnXE9YvE2pI",
        "colab_type": "code",
        "colab": {}
      },
      "source": [
        "employee_survey_data = pd.read_csv('data_files/employee_survey_data.csv')\n",
        "general_data = pd.read_csv('data_files/general_data.csv')\n",
        "in_time = pd.read_csv('data_files/in_time.csv')\n",
        "out_time = pd.read_csv('data_files/out_time.csv')\n",
        "manager_survey_data = pd.read_csv('data_files/manager_survey_data.csv')"
      ],
      "execution_count": 0,
      "outputs": []
    },
    {
      "cell_type": "code",
      "metadata": {
        "id": "6TTERrePE2pP",
        "colab_type": "code",
        "outputId": "6eca0705-3f12-4ed3-96df-e71fac3cc6cc",
        "colab": {
          "base_uri": "https://localhost:8080/",
          "height": 204
        }
      },
      "source": [
        "employee_survey_data.head()"
      ],
      "execution_count": 10,
      "outputs": [
        {
          "output_type": "execute_result",
          "data": {
            "text/html": [
              "<div>\n",
              "<style scoped>\n",
              "    .dataframe tbody tr th:only-of-type {\n",
              "        vertical-align: middle;\n",
              "    }\n",
              "\n",
              "    .dataframe tbody tr th {\n",
              "        vertical-align: top;\n",
              "    }\n",
              "\n",
              "    .dataframe thead th {\n",
              "        text-align: right;\n",
              "    }\n",
              "</style>\n",
              "<table border=\"1\" class=\"dataframe\">\n",
              "  <thead>\n",
              "    <tr style=\"text-align: right;\">\n",
              "      <th></th>\n",
              "      <th>EmployeeID</th>\n",
              "      <th>EnvironmentSatisfaction</th>\n",
              "      <th>JobSatisfaction</th>\n",
              "      <th>WorkLifeBalance</th>\n",
              "    </tr>\n",
              "  </thead>\n",
              "  <tbody>\n",
              "    <tr>\n",
              "      <th>0</th>\n",
              "      <td>1</td>\n",
              "      <td>3.0</td>\n",
              "      <td>4.0</td>\n",
              "      <td>2.0</td>\n",
              "    </tr>\n",
              "    <tr>\n",
              "      <th>1</th>\n",
              "      <td>2</td>\n",
              "      <td>3.0</td>\n",
              "      <td>2.0</td>\n",
              "      <td>4.0</td>\n",
              "    </tr>\n",
              "    <tr>\n",
              "      <th>2</th>\n",
              "      <td>3</td>\n",
              "      <td>2.0</td>\n",
              "      <td>2.0</td>\n",
              "      <td>1.0</td>\n",
              "    </tr>\n",
              "    <tr>\n",
              "      <th>3</th>\n",
              "      <td>4</td>\n",
              "      <td>4.0</td>\n",
              "      <td>4.0</td>\n",
              "      <td>3.0</td>\n",
              "    </tr>\n",
              "    <tr>\n",
              "      <th>4</th>\n",
              "      <td>5</td>\n",
              "      <td>4.0</td>\n",
              "      <td>1.0</td>\n",
              "      <td>3.0</td>\n",
              "    </tr>\n",
              "  </tbody>\n",
              "</table>\n",
              "</div>"
            ],
            "text/plain": [
              "   EmployeeID  EnvironmentSatisfaction  JobSatisfaction  WorkLifeBalance\n",
              "0           1                      3.0              4.0              2.0\n",
              "1           2                      3.0              2.0              4.0\n",
              "2           3                      2.0              2.0              1.0\n",
              "3           4                      4.0              4.0              3.0\n",
              "4           5                      4.0              1.0              3.0"
            ]
          },
          "metadata": {
            "tags": []
          },
          "execution_count": 10
        }
      ]
    },
    {
      "cell_type": "code",
      "metadata": {
        "id": "GTG2XNMaE2pV",
        "colab_type": "code",
        "outputId": "fc3a9fa2-a6f1-4b3e-c642-462a65c42878",
        "colab": {
          "base_uri": "https://localhost:8080/",
          "height": 309
        }
      },
      "source": [
        "general_data.head()"
      ],
      "execution_count": 11,
      "outputs": [
        {
          "output_type": "execute_result",
          "data": {
            "text/html": [
              "<div>\n",
              "<style scoped>\n",
              "    .dataframe tbody tr th:only-of-type {\n",
              "        vertical-align: middle;\n",
              "    }\n",
              "\n",
              "    .dataframe tbody tr th {\n",
              "        vertical-align: top;\n",
              "    }\n",
              "\n",
              "    .dataframe thead th {\n",
              "        text-align: right;\n",
              "    }\n",
              "</style>\n",
              "<table border=\"1\" class=\"dataframe\">\n",
              "  <thead>\n",
              "    <tr style=\"text-align: right;\">\n",
              "      <th></th>\n",
              "      <th>Age</th>\n",
              "      <th>Attrition</th>\n",
              "      <th>BusinessTravel</th>\n",
              "      <th>Department</th>\n",
              "      <th>DistanceFromHome</th>\n",
              "      <th>Education</th>\n",
              "      <th>EducationField</th>\n",
              "      <th>EmployeeCount</th>\n",
              "      <th>EmployeeID</th>\n",
              "      <th>Gender</th>\n",
              "      <th>JobLevel</th>\n",
              "      <th>JobRole</th>\n",
              "      <th>MaritalStatus</th>\n",
              "      <th>MonthlyIncome</th>\n",
              "      <th>NumCompaniesWorked</th>\n",
              "      <th>Over18</th>\n",
              "      <th>PercentSalaryHike</th>\n",
              "      <th>StandardHours</th>\n",
              "      <th>StockOptionLevel</th>\n",
              "      <th>TotalWorkingYears</th>\n",
              "      <th>TrainingTimesLastYear</th>\n",
              "      <th>YearsAtCompany</th>\n",
              "      <th>YearsSinceLastPromotion</th>\n",
              "      <th>YearsWithCurrManager</th>\n",
              "    </tr>\n",
              "  </thead>\n",
              "  <tbody>\n",
              "    <tr>\n",
              "      <th>0</th>\n",
              "      <td>51</td>\n",
              "      <td>No</td>\n",
              "      <td>Travel_Rarely</td>\n",
              "      <td>Sales</td>\n",
              "      <td>6</td>\n",
              "      <td>2</td>\n",
              "      <td>Life Sciences</td>\n",
              "      <td>1</td>\n",
              "      <td>1</td>\n",
              "      <td>Female</td>\n",
              "      <td>1</td>\n",
              "      <td>Healthcare Representative</td>\n",
              "      <td>Married</td>\n",
              "      <td>131160</td>\n",
              "      <td>1.0</td>\n",
              "      <td>Y</td>\n",
              "      <td>11</td>\n",
              "      <td>8</td>\n",
              "      <td>0</td>\n",
              "      <td>1.0</td>\n",
              "      <td>6</td>\n",
              "      <td>1</td>\n",
              "      <td>0</td>\n",
              "      <td>0</td>\n",
              "    </tr>\n",
              "    <tr>\n",
              "      <th>1</th>\n",
              "      <td>31</td>\n",
              "      <td>Yes</td>\n",
              "      <td>Travel_Frequently</td>\n",
              "      <td>Research &amp; Development</td>\n",
              "      <td>10</td>\n",
              "      <td>1</td>\n",
              "      <td>Life Sciences</td>\n",
              "      <td>1</td>\n",
              "      <td>2</td>\n",
              "      <td>Female</td>\n",
              "      <td>1</td>\n",
              "      <td>Research Scientist</td>\n",
              "      <td>Single</td>\n",
              "      <td>41890</td>\n",
              "      <td>0.0</td>\n",
              "      <td>Y</td>\n",
              "      <td>23</td>\n",
              "      <td>8</td>\n",
              "      <td>1</td>\n",
              "      <td>6.0</td>\n",
              "      <td>3</td>\n",
              "      <td>5</td>\n",
              "      <td>1</td>\n",
              "      <td>4</td>\n",
              "    </tr>\n",
              "    <tr>\n",
              "      <th>2</th>\n",
              "      <td>32</td>\n",
              "      <td>No</td>\n",
              "      <td>Travel_Frequently</td>\n",
              "      <td>Research &amp; Development</td>\n",
              "      <td>17</td>\n",
              "      <td>4</td>\n",
              "      <td>Other</td>\n",
              "      <td>1</td>\n",
              "      <td>3</td>\n",
              "      <td>Male</td>\n",
              "      <td>4</td>\n",
              "      <td>Sales Executive</td>\n",
              "      <td>Married</td>\n",
              "      <td>193280</td>\n",
              "      <td>1.0</td>\n",
              "      <td>Y</td>\n",
              "      <td>15</td>\n",
              "      <td>8</td>\n",
              "      <td>3</td>\n",
              "      <td>5.0</td>\n",
              "      <td>2</td>\n",
              "      <td>5</td>\n",
              "      <td>0</td>\n",
              "      <td>3</td>\n",
              "    </tr>\n",
              "    <tr>\n",
              "      <th>3</th>\n",
              "      <td>38</td>\n",
              "      <td>No</td>\n",
              "      <td>Non-Travel</td>\n",
              "      <td>Research &amp; Development</td>\n",
              "      <td>2</td>\n",
              "      <td>5</td>\n",
              "      <td>Life Sciences</td>\n",
              "      <td>1</td>\n",
              "      <td>4</td>\n",
              "      <td>Male</td>\n",
              "      <td>3</td>\n",
              "      <td>Human Resources</td>\n",
              "      <td>Married</td>\n",
              "      <td>83210</td>\n",
              "      <td>3.0</td>\n",
              "      <td>Y</td>\n",
              "      <td>11</td>\n",
              "      <td>8</td>\n",
              "      <td>3</td>\n",
              "      <td>13.0</td>\n",
              "      <td>5</td>\n",
              "      <td>8</td>\n",
              "      <td>7</td>\n",
              "      <td>5</td>\n",
              "    </tr>\n",
              "    <tr>\n",
              "      <th>4</th>\n",
              "      <td>32</td>\n",
              "      <td>No</td>\n",
              "      <td>Travel_Rarely</td>\n",
              "      <td>Research &amp; Development</td>\n",
              "      <td>10</td>\n",
              "      <td>1</td>\n",
              "      <td>Medical</td>\n",
              "      <td>1</td>\n",
              "      <td>5</td>\n",
              "      <td>Male</td>\n",
              "      <td>1</td>\n",
              "      <td>Sales Executive</td>\n",
              "      <td>Single</td>\n",
              "      <td>23420</td>\n",
              "      <td>4.0</td>\n",
              "      <td>Y</td>\n",
              "      <td>12</td>\n",
              "      <td>8</td>\n",
              "      <td>2</td>\n",
              "      <td>9.0</td>\n",
              "      <td>2</td>\n",
              "      <td>6</td>\n",
              "      <td>0</td>\n",
              "      <td>4</td>\n",
              "    </tr>\n",
              "  </tbody>\n",
              "</table>\n",
              "</div>"
            ],
            "text/plain": [
              "   Age Attrition     BusinessTravel              Department  DistanceFromHome  \\\n",
              "0   51        No      Travel_Rarely                   Sales                 6   \n",
              "1   31       Yes  Travel_Frequently  Research & Development                10   \n",
              "2   32        No  Travel_Frequently  Research & Development                17   \n",
              "3   38        No         Non-Travel  Research & Development                 2   \n",
              "4   32        No      Travel_Rarely  Research & Development                10   \n",
              "\n",
              "   Education EducationField  EmployeeCount  EmployeeID  Gender  JobLevel  \\\n",
              "0          2  Life Sciences              1           1  Female         1   \n",
              "1          1  Life Sciences              1           2  Female         1   \n",
              "2          4          Other              1           3    Male         4   \n",
              "3          5  Life Sciences              1           4    Male         3   \n",
              "4          1        Medical              1           5    Male         1   \n",
              "\n",
              "                     JobRole MaritalStatus  MonthlyIncome  NumCompaniesWorked  \\\n",
              "0  Healthcare Representative       Married         131160                 1.0   \n",
              "1         Research Scientist        Single          41890                 0.0   \n",
              "2            Sales Executive       Married         193280                 1.0   \n",
              "3            Human Resources       Married          83210                 3.0   \n",
              "4            Sales Executive        Single          23420                 4.0   \n",
              "\n",
              "  Over18  PercentSalaryHike  StandardHours  StockOptionLevel  \\\n",
              "0      Y                 11              8                 0   \n",
              "1      Y                 23              8                 1   \n",
              "2      Y                 15              8                 3   \n",
              "3      Y                 11              8                 3   \n",
              "4      Y                 12              8                 2   \n",
              "\n",
              "   TotalWorkingYears  TrainingTimesLastYear  YearsAtCompany  \\\n",
              "0                1.0                      6               1   \n",
              "1                6.0                      3               5   \n",
              "2                5.0                      2               5   \n",
              "3               13.0                      5               8   \n",
              "4                9.0                      2               6   \n",
              "\n",
              "   YearsSinceLastPromotion  YearsWithCurrManager  \n",
              "0                        0                     0  \n",
              "1                        1                     4  \n",
              "2                        0                     3  \n",
              "3                        7                     5  \n",
              "4                        0                     4  "
            ]
          },
          "metadata": {
            "tags": []
          },
          "execution_count": 11
        }
      ]
    },
    {
      "cell_type": "code",
      "metadata": {
        "id": "b1IblxEhE2pZ",
        "colab_type": "code",
        "outputId": "d5c8e557-5552-4fc8-8f1f-60a2b9f53edf",
        "colab": {
          "base_uri": "https://localhost:8080/",
          "height": 440
        }
      },
      "source": [
        "in_time.head()"
      ],
      "execution_count": 12,
      "outputs": [
        {
          "output_type": "execute_result",
          "data": {
            "text/html": [
              "<div>\n",
              "<style scoped>\n",
              "    .dataframe tbody tr th:only-of-type {\n",
              "        vertical-align: middle;\n",
              "    }\n",
              "\n",
              "    .dataframe tbody tr th {\n",
              "        vertical-align: top;\n",
              "    }\n",
              "\n",
              "    .dataframe thead th {\n",
              "        text-align: right;\n",
              "    }\n",
              "</style>\n",
              "<table border=\"1\" class=\"dataframe\">\n",
              "  <thead>\n",
              "    <tr style=\"text-align: right;\">\n",
              "      <th></th>\n",
              "      <th>Unnamed: 0</th>\n",
              "      <th>2015-01-01</th>\n",
              "      <th>2015-01-02</th>\n",
              "      <th>2015-01-05</th>\n",
              "      <th>2015-01-06</th>\n",
              "      <th>2015-01-07</th>\n",
              "      <th>2015-01-08</th>\n",
              "      <th>2015-01-09</th>\n",
              "      <th>2015-01-12</th>\n",
              "      <th>2015-01-13</th>\n",
              "      <th>2015-01-14</th>\n",
              "      <th>2015-01-15</th>\n",
              "      <th>2015-01-16</th>\n",
              "      <th>2015-01-19</th>\n",
              "      <th>2015-01-20</th>\n",
              "      <th>2015-01-21</th>\n",
              "      <th>2015-01-22</th>\n",
              "      <th>2015-01-23</th>\n",
              "      <th>2015-01-26</th>\n",
              "      <th>2015-01-27</th>\n",
              "      <th>2015-01-28</th>\n",
              "      <th>2015-01-29</th>\n",
              "      <th>2015-01-30</th>\n",
              "      <th>2015-02-02</th>\n",
              "      <th>2015-02-03</th>\n",
              "      <th>2015-02-04</th>\n",
              "      <th>2015-02-05</th>\n",
              "      <th>2015-02-06</th>\n",
              "      <th>2015-02-09</th>\n",
              "      <th>2015-02-10</th>\n",
              "      <th>2015-02-11</th>\n",
              "      <th>2015-02-12</th>\n",
              "      <th>2015-02-13</th>\n",
              "      <th>2015-02-16</th>\n",
              "      <th>2015-02-17</th>\n",
              "      <th>2015-02-18</th>\n",
              "      <th>2015-02-19</th>\n",
              "      <th>2015-02-20</th>\n",
              "      <th>2015-02-23</th>\n",
              "      <th>2015-02-24</th>\n",
              "      <th>2015-02-25</th>\n",
              "      <th>2015-02-26</th>\n",
              "      <th>2015-02-27</th>\n",
              "      <th>2015-03-02</th>\n",
              "      <th>2015-03-03</th>\n",
              "      <th>2015-03-04</th>\n",
              "      <th>2015-03-05</th>\n",
              "      <th>2015-03-06</th>\n",
              "      <th>2015-03-09</th>\n",
              "      <th>2015-03-10</th>\n",
              "      <th>...</th>\n",
              "      <th>2015-10-23</th>\n",
              "      <th>2015-10-26</th>\n",
              "      <th>2015-10-27</th>\n",
              "      <th>2015-10-28</th>\n",
              "      <th>2015-10-29</th>\n",
              "      <th>2015-10-30</th>\n",
              "      <th>2015-11-02</th>\n",
              "      <th>2015-11-03</th>\n",
              "      <th>2015-11-04</th>\n",
              "      <th>2015-11-05</th>\n",
              "      <th>2015-11-06</th>\n",
              "      <th>2015-11-09</th>\n",
              "      <th>2015-11-10</th>\n",
              "      <th>2015-11-11</th>\n",
              "      <th>2015-11-12</th>\n",
              "      <th>2015-11-13</th>\n",
              "      <th>2015-11-16</th>\n",
              "      <th>2015-11-17</th>\n",
              "      <th>2015-11-18</th>\n",
              "      <th>2015-11-19</th>\n",
              "      <th>2015-11-20</th>\n",
              "      <th>2015-11-23</th>\n",
              "      <th>2015-11-24</th>\n",
              "      <th>2015-11-25</th>\n",
              "      <th>2015-11-26</th>\n",
              "      <th>2015-11-27</th>\n",
              "      <th>2015-11-30</th>\n",
              "      <th>2015-12-01</th>\n",
              "      <th>2015-12-02</th>\n",
              "      <th>2015-12-03</th>\n",
              "      <th>2015-12-04</th>\n",
              "      <th>2015-12-07</th>\n",
              "      <th>2015-12-08</th>\n",
              "      <th>2015-12-09</th>\n",
              "      <th>2015-12-10</th>\n",
              "      <th>2015-12-11</th>\n",
              "      <th>2015-12-14</th>\n",
              "      <th>2015-12-15</th>\n",
              "      <th>2015-12-16</th>\n",
              "      <th>2015-12-17</th>\n",
              "      <th>2015-12-18</th>\n",
              "      <th>2015-12-21</th>\n",
              "      <th>2015-12-22</th>\n",
              "      <th>2015-12-23</th>\n",
              "      <th>2015-12-24</th>\n",
              "      <th>2015-12-25</th>\n",
              "      <th>2015-12-28</th>\n",
              "      <th>2015-12-29</th>\n",
              "      <th>2015-12-30</th>\n",
              "      <th>2015-12-31</th>\n",
              "    </tr>\n",
              "  </thead>\n",
              "  <tbody>\n",
              "    <tr>\n",
              "      <th>0</th>\n",
              "      <td>1</td>\n",
              "      <td>NaN</td>\n",
              "      <td>2015-01-02 09:43:45</td>\n",
              "      <td>2015-01-05 10:08:48</td>\n",
              "      <td>2015-01-06 09:54:26</td>\n",
              "      <td>2015-01-07 09:34:31</td>\n",
              "      <td>2015-01-08 09:51:09</td>\n",
              "      <td>2015-01-09 10:09:25</td>\n",
              "      <td>2015-01-12 09:42:53</td>\n",
              "      <td>2015-01-13 10:13:06</td>\n",
              "      <td>NaN</td>\n",
              "      <td>2015-01-15 10:01:24</td>\n",
              "      <td>2015-01-16 10:19:08</td>\n",
              "      <td>NaN</td>\n",
              "      <td>2015-01-20 09:50:34</td>\n",
              "      <td>2015-01-21 09:49:42</td>\n",
              "      <td>2015-01-22 09:47:45</td>\n",
              "      <td>2015-01-23 09:23:44</td>\n",
              "      <td>NaN</td>\n",
              "      <td>2015-01-27 09:50:37</td>\n",
              "      <td>2015-01-28 09:56:13</td>\n",
              "      <td>2015-01-29 09:53:47</td>\n",
              "      <td>2015-01-30 10:09:26</td>\n",
              "      <td>2015-02-02 09:38:43</td>\n",
              "      <td>2015-02-03 10:23:38</td>\n",
              "      <td>2015-02-04 09:48:37</td>\n",
              "      <td>2015-02-05 09:52:36</td>\n",
              "      <td>2015-02-06 09:53:23</td>\n",
              "      <td>2015-02-09 10:01:45</td>\n",
              "      <td>2015-02-10 10:14:18</td>\n",
              "      <td>2015-02-11 10:18:44</td>\n",
              "      <td>2015-02-12 10:10:35</td>\n",
              "      <td>2015-02-13 09:13:07</td>\n",
              "      <td>2015-02-16 10:14:02</td>\n",
              "      <td>2015-02-17 10:03:08</td>\n",
              "      <td>2015-02-18 10:23:06</td>\n",
              "      <td>NaN</td>\n",
              "      <td>2015-02-20 09:54:56</td>\n",
              "      <td>2015-02-23 09:46:59</td>\n",
              "      <td>2015-02-24 10:11:18</td>\n",
              "      <td>2015-02-25 09:52:36</td>\n",
              "      <td>2015-02-26 09:56:33</td>\n",
              "      <td>2015-02-27 09:58:46</td>\n",
              "      <td>2015-03-02 10:19:43</td>\n",
              "      <td>2015-03-03 10:08:37</td>\n",
              "      <td>2015-03-04 10:05:38</td>\n",
              "      <td>NaN</td>\n",
              "      <td>2015-03-06 09:55:53</td>\n",
              "      <td>2015-03-09 10:28:34</td>\n",
              "      <td>2015-03-10 09:47:30</td>\n",
              "      <td>...</td>\n",
              "      <td>2015-10-23 10:03:33</td>\n",
              "      <td>2015-10-26 09:51:07</td>\n",
              "      <td>2015-10-27 09:25:10</td>\n",
              "      <td>2015-10-28 09:50:30</td>\n",
              "      <td>2015-10-29 09:50:22</td>\n",
              "      <td>2015-10-30 09:51:07</td>\n",
              "      <td>2015-11-02 10:01:58</td>\n",
              "      <td>2015-11-03 10:28:53</td>\n",
              "      <td>2015-11-04 09:47:00</td>\n",
              "      <td>2015-11-05 10:24:57</td>\n",
              "      <td>2015-11-06 10:15:27</td>\n",
              "      <td>NaN</td>\n",
              "      <td>NaN</td>\n",
              "      <td>NaN</td>\n",
              "      <td>2015-11-12 10:02:34</td>\n",
              "      <td>2015-11-13 09:29:49</td>\n",
              "      <td>2015-11-16 10:16:02</td>\n",
              "      <td>2015-11-17 09:57:23</td>\n",
              "      <td>2015-11-18 10:13:24</td>\n",
              "      <td>2015-11-19 09:46:48</td>\n",
              "      <td>2015-11-20 10:09:35</td>\n",
              "      <td>2015-11-23 09:54:17</td>\n",
              "      <td>2015-11-24 10:02:07</td>\n",
              "      <td>2015-11-25 10:01:51</td>\n",
              "      <td>2015-11-26 10:18:45</td>\n",
              "      <td>2015-11-27 10:24:49</td>\n",
              "      <td>2015-11-30 10:04:24</td>\n",
              "      <td>2015-12-01 09:31:27</td>\n",
              "      <td>2015-12-02 09:57:52</td>\n",
              "      <td>2015-12-03 10:05:55</td>\n",
              "      <td>2015-12-04 09:55:09</td>\n",
              "      <td>2015-12-07 09:28:15</td>\n",
              "      <td>2015-12-08 09:54:56</td>\n",
              "      <td>2015-12-09 09:51:52</td>\n",
              "      <td>2015-12-10 09:40:25</td>\n",
              "      <td>2015-12-11 09:46:49</td>\n",
              "      <td>2015-12-14 10:03:33</td>\n",
              "      <td>NaN</td>\n",
              "      <td>2015-12-16 10:21:19</td>\n",
              "      <td>NaN</td>\n",
              "      <td>NaN</td>\n",
              "      <td>2015-12-21 09:55:29</td>\n",
              "      <td>2015-12-22 10:04:06</td>\n",
              "      <td>2015-12-23 10:14:27</td>\n",
              "      <td>2015-12-24 10:11:35</td>\n",
              "      <td>NaN</td>\n",
              "      <td>2015-12-28 10:13:41</td>\n",
              "      <td>2015-12-29 10:03:36</td>\n",
              "      <td>2015-12-30 09:54:12</td>\n",
              "      <td>2015-12-31 10:12:44</td>\n",
              "    </tr>\n",
              "    <tr>\n",
              "      <th>1</th>\n",
              "      <td>2</td>\n",
              "      <td>NaN</td>\n",
              "      <td>2015-01-02 10:15:44</td>\n",
              "      <td>2015-01-05 10:21:05</td>\n",
              "      <td>NaN</td>\n",
              "      <td>2015-01-07 09:45:17</td>\n",
              "      <td>2015-01-08 10:09:04</td>\n",
              "      <td>2015-01-09 09:43:26</td>\n",
              "      <td>2015-01-12 10:00:07</td>\n",
              "      <td>2015-01-13 10:43:29</td>\n",
              "      <td>NaN</td>\n",
              "      <td>2015-01-15 09:37:57</td>\n",
              "      <td>2015-01-16 09:57:18</td>\n",
              "      <td>2015-01-19 10:23:43</td>\n",
              "      <td>2015-01-20 09:29:03</td>\n",
              "      <td>2015-01-21 09:46:45</td>\n",
              "      <td>2015-01-22 10:03:51</td>\n",
              "      <td>2015-01-23 09:20:06</td>\n",
              "      <td>NaN</td>\n",
              "      <td>2015-01-27 10:07:48</td>\n",
              "      <td>2015-01-28 10:08:25</td>\n",
              "      <td>2015-01-29 09:52:04</td>\n",
              "      <td>2015-01-30 09:49:49</td>\n",
              "      <td>2015-02-02 10:07:26</td>\n",
              "      <td>2015-02-03 09:55:45</td>\n",
              "      <td>2015-02-04 10:25:41</td>\n",
              "      <td>2015-02-05 10:05:11</td>\n",
              "      <td>2015-02-06 09:12:39</td>\n",
              "      <td>NaN</td>\n",
              "      <td>2015-02-10 10:10:13</td>\n",
              "      <td>2015-02-11 09:40:20</td>\n",
              "      <td>2015-02-12 10:10:09</td>\n",
              "      <td>2015-02-13 09:35:25</td>\n",
              "      <td>2015-02-16 10:04:12</td>\n",
              "      <td>2015-02-17 09:45:05</td>\n",
              "      <td>2015-02-18 09:54:42</td>\n",
              "      <td>2015-02-19 10:11:49</td>\n",
              "      <td>2015-02-20 10:06:18</td>\n",
              "      <td>2015-02-23 09:41:58</td>\n",
              "      <td>2015-02-24 09:44:22</td>\n",
              "      <td>2015-02-25 09:58:39</td>\n",
              "      <td>2015-02-26 09:59:07</td>\n",
              "      <td>2015-02-27 10:31:41</td>\n",
              "      <td>2015-03-02 09:55:43</td>\n",
              "      <td>2015-03-03 10:31:20</td>\n",
              "      <td>2015-03-04 09:56:59</td>\n",
              "      <td>NaN</td>\n",
              "      <td>2015-03-06 10:01:10</td>\n",
              "      <td>2015-03-09 10:02:33</td>\n",
              "      <td>2015-03-10 09:32:40</td>\n",
              "      <td>...</td>\n",
              "      <td>2015-10-23 09:53:38</td>\n",
              "      <td>2015-10-26 09:49:43</td>\n",
              "      <td>2015-10-27 10:29:20</td>\n",
              "      <td>2015-10-28 09:47:39</td>\n",
              "      <td>2015-10-29 09:52:02</td>\n",
              "      <td>2015-10-30 09:47:37</td>\n",
              "      <td>2015-11-02 10:04:45</td>\n",
              "      <td>2015-11-03 09:36:03</td>\n",
              "      <td>2015-11-04 09:58:34</td>\n",
              "      <td>2015-11-05 09:50:08</td>\n",
              "      <td>2015-11-06 10:02:38</td>\n",
              "      <td>NaN</td>\n",
              "      <td>NaN</td>\n",
              "      <td>NaN</td>\n",
              "      <td>2015-11-12 09:54:47</td>\n",
              "      <td>2015-11-13 09:26:10</td>\n",
              "      <td>2015-11-16 10:22:00</td>\n",
              "      <td>2015-11-17 09:26:04</td>\n",
              "      <td>2015-11-18 10:10:39</td>\n",
              "      <td>NaN</td>\n",
              "      <td>2015-11-20 10:01:09</td>\n",
              "      <td>2015-11-23 09:51:11</td>\n",
              "      <td>2015-11-24 09:19:04</td>\n",
              "      <td>2015-11-25 09:43:44</td>\n",
              "      <td>2015-11-26 10:34:30</td>\n",
              "      <td>2015-11-27 10:15:10</td>\n",
              "      <td>2015-11-30 09:46:46</td>\n",
              "      <td>2015-12-01 09:56:22</td>\n",
              "      <td>2015-12-02 09:55:43</td>\n",
              "      <td>2015-12-03 10:05:37</td>\n",
              "      <td>2015-12-04 10:02:05</td>\n",
              "      <td>2015-12-07 09:36:05</td>\n",
              "      <td>2015-12-08 10:01:21</td>\n",
              "      <td>2015-12-09 09:49:23</td>\n",
              "      <td>2015-12-10 10:06:05</td>\n",
              "      <td>2015-12-11 10:15:18</td>\n",
              "      <td>2015-12-14 10:00:01</td>\n",
              "      <td>2015-12-15 10:30:18</td>\n",
              "      <td>2015-12-16 10:01:18</td>\n",
              "      <td>2015-12-17 09:15:08</td>\n",
              "      <td>2015-12-18 10:37:17</td>\n",
              "      <td>2015-12-21 09:49:02</td>\n",
              "      <td>2015-12-22 10:33:51</td>\n",
              "      <td>2015-12-23 10:12:10</td>\n",
              "      <td>NaN</td>\n",
              "      <td>NaN</td>\n",
              "      <td>2015-12-28 09:31:45</td>\n",
              "      <td>2015-12-29 09:55:49</td>\n",
              "      <td>2015-12-30 10:32:25</td>\n",
              "      <td>2015-12-31 09:27:20</td>\n",
              "    </tr>\n",
              "    <tr>\n",
              "      <th>2</th>\n",
              "      <td>3</td>\n",
              "      <td>NaN</td>\n",
              "      <td>2015-01-02 10:17:41</td>\n",
              "      <td>2015-01-05 09:50:50</td>\n",
              "      <td>2015-01-06 10:14:13</td>\n",
              "      <td>2015-01-07 09:47:27</td>\n",
              "      <td>2015-01-08 10:03:40</td>\n",
              "      <td>2015-01-09 10:05:49</td>\n",
              "      <td>2015-01-12 10:03:47</td>\n",
              "      <td>2015-01-13 10:21:26</td>\n",
              "      <td>NaN</td>\n",
              "      <td>2015-01-15 09:55:11</td>\n",
              "      <td>2015-01-16 10:05:36</td>\n",
              "      <td>2015-01-19 09:47:53</td>\n",
              "      <td>2015-01-20 09:57:09</td>\n",
              "      <td>2015-01-21 10:29:40</td>\n",
              "      <td>2015-01-22 09:59:11</td>\n",
              "      <td>2015-01-23 10:16:34</td>\n",
              "      <td>NaN</td>\n",
              "      <td>2015-01-27 10:07:30</td>\n",
              "      <td>2015-01-28 10:05:43</td>\n",
              "      <td>2015-01-29 10:06:48</td>\n",
              "      <td>2015-01-30 10:14:36</td>\n",
              "      <td>2015-02-02 09:54:45</td>\n",
              "      <td>2015-02-03 09:27:11</td>\n",
              "      <td>2015-02-04 10:04:03</td>\n",
              "      <td>2015-02-05 10:08:11</td>\n",
              "      <td>2015-02-06 10:23:51</td>\n",
              "      <td>2015-02-09 10:08:43</td>\n",
              "      <td>2015-02-10 10:26:18</td>\n",
              "      <td>2015-02-11 10:02:13</td>\n",
              "      <td>2015-02-12 09:55:10</td>\n",
              "      <td>2015-02-13 10:32:34</td>\n",
              "      <td>2015-02-16 10:18:43</td>\n",
              "      <td>2015-02-17 10:04:54</td>\n",
              "      <td>2015-02-18 10:16:19</td>\n",
              "      <td>2015-02-19 09:47:19</td>\n",
              "      <td>2015-02-20 10:20:51</td>\n",
              "      <td>2015-02-23 10:14:02</td>\n",
              "      <td>2015-02-24 10:23:28</td>\n",
              "      <td>2015-02-25 09:59:06</td>\n",
              "      <td>2015-02-26 10:01:22</td>\n",
              "      <td>2015-02-27 09:57:26</td>\n",
              "      <td>2015-03-02 10:02:38</td>\n",
              "      <td>2015-03-03 10:07:45</td>\n",
              "      <td>2015-03-04 10:15:26</td>\n",
              "      <td>NaN</td>\n",
              "      <td>2015-03-06 09:48:49</td>\n",
              "      <td>2015-03-09 10:17:45</td>\n",
              "      <td>2015-03-10 09:46:10</td>\n",
              "      <td>...</td>\n",
              "      <td>2015-10-23 10:08:37</td>\n",
              "      <td>2015-10-26 10:29:26</td>\n",
              "      <td>2015-10-27 09:48:57</td>\n",
              "      <td>2015-10-28 09:54:52</td>\n",
              "      <td>2015-10-29 09:47:27</td>\n",
              "      <td>2015-10-30 09:51:47</td>\n",
              "      <td>2015-11-02 09:54:18</td>\n",
              "      <td>2015-11-03 09:52:40</td>\n",
              "      <td>2015-11-04 10:19:14</td>\n",
              "      <td>2015-11-05 10:23:27</td>\n",
              "      <td>2015-11-06 10:06:29</td>\n",
              "      <td>NaN</td>\n",
              "      <td>NaN</td>\n",
              "      <td>NaN</td>\n",
              "      <td>2015-11-12 10:14:47</td>\n",
              "      <td>2015-11-13 09:43:37</td>\n",
              "      <td>2015-11-16 10:02:56</td>\n",
              "      <td>2015-11-17 09:51:38</td>\n",
              "      <td>2015-11-18 10:12:13</td>\n",
              "      <td>2015-11-19 10:08:46</td>\n",
              "      <td>2015-11-20 10:06:39</td>\n",
              "      <td>2015-11-23 10:02:01</td>\n",
              "      <td>2015-11-24 09:53:52</td>\n",
              "      <td>2015-11-25 10:16:19</td>\n",
              "      <td>2015-11-26 10:07:02</td>\n",
              "      <td>NaN</td>\n",
              "      <td>2015-11-30 10:01:33</td>\n",
              "      <td>2015-12-01 10:02:52</td>\n",
              "      <td>2015-12-02 10:10:34</td>\n",
              "      <td>2015-12-03 10:18:25</td>\n",
              "      <td>2015-12-04 10:06:40</td>\n",
              "      <td>2015-12-07 10:21:09</td>\n",
              "      <td>2015-12-08 09:59:19</td>\n",
              "      <td>2015-12-09 10:17:28</td>\n",
              "      <td>NaN</td>\n",
              "      <td>2015-12-11 09:49:55</td>\n",
              "      <td>2015-12-14 09:42:31</td>\n",
              "      <td>2015-12-15 09:54:48</td>\n",
              "      <td>2015-12-16 09:48:34</td>\n",
              "      <td>2015-12-17 09:53:17</td>\n",
              "      <td>2015-12-18 10:15:14</td>\n",
              "      <td>2015-12-21 10:10:28</td>\n",
              "      <td>2015-12-22 09:44:44</td>\n",
              "      <td>2015-12-23 10:15:54</td>\n",
              "      <td>2015-12-24 10:07:26</td>\n",
              "      <td>NaN</td>\n",
              "      <td>2015-12-28 09:42:05</td>\n",
              "      <td>2015-12-29 09:43:36</td>\n",
              "      <td>2015-12-30 09:34:05</td>\n",
              "      <td>2015-12-31 10:28:39</td>\n",
              "    </tr>\n",
              "    <tr>\n",
              "      <th>3</th>\n",
              "      <td>4</td>\n",
              "      <td>NaN</td>\n",
              "      <td>2015-01-02 10:05:06</td>\n",
              "      <td>2015-01-05 09:56:32</td>\n",
              "      <td>2015-01-06 10:11:07</td>\n",
              "      <td>2015-01-07 09:37:30</td>\n",
              "      <td>2015-01-08 10:02:08</td>\n",
              "      <td>2015-01-09 10:08:12</td>\n",
              "      <td>2015-01-12 10:13:42</td>\n",
              "      <td>2015-01-13 09:53:22</td>\n",
              "      <td>NaN</td>\n",
              "      <td>2015-01-15 10:00:50</td>\n",
              "      <td>2015-01-16 09:58:06</td>\n",
              "      <td>2015-01-19 09:43:11</td>\n",
              "      <td>2015-01-20 10:29:06</td>\n",
              "      <td>2015-01-21 10:04:33</td>\n",
              "      <td>2015-01-22 09:51:07</td>\n",
              "      <td>2015-01-23 09:56:56</td>\n",
              "      <td>NaN</td>\n",
              "      <td>2015-01-27 09:48:31</td>\n",
              "      <td>2015-01-28 10:00:39</td>\n",
              "      <td>2015-01-29 09:49:28</td>\n",
              "      <td>2015-01-30 09:56:31</td>\n",
              "      <td>2015-02-02 10:14:08</td>\n",
              "      <td>2015-02-03 10:01:31</td>\n",
              "      <td>2015-02-04 10:31:44</td>\n",
              "      <td>2015-02-05 10:02:39</td>\n",
              "      <td>2015-02-06 09:24:21</td>\n",
              "      <td>2015-02-09 09:56:27</td>\n",
              "      <td>NaN</td>\n",
              "      <td>2015-02-11 10:00:32</td>\n",
              "      <td>2015-02-12 10:01:48</td>\n",
              "      <td>2015-02-13 10:14:10</td>\n",
              "      <td>2015-02-16 09:50:27</td>\n",
              "      <td>2015-02-17 09:52:42</td>\n",
              "      <td>2015-02-18 09:39:22</td>\n",
              "      <td>2015-02-19 09:43:55</td>\n",
              "      <td>2015-02-20 10:01:49</td>\n",
              "      <td>2015-02-23 09:33:30</td>\n",
              "      <td>2015-02-24 10:27:00</td>\n",
              "      <td>2015-02-25 09:45:59</td>\n",
              "      <td>2015-02-26 09:48:05</td>\n",
              "      <td>2015-02-27 09:43:15</td>\n",
              "      <td>NaN</td>\n",
              "      <td>2015-03-03 10:15:24</td>\n",
              "      <td>2015-03-04 09:59:04</td>\n",
              "      <td>NaN</td>\n",
              "      <td>NaN</td>\n",
              "      <td>2015-03-09 10:05:52</td>\n",
              "      <td>2015-03-10 09:29:22</td>\n",
              "      <td>...</td>\n",
              "      <td>2015-10-23 09:31:09</td>\n",
              "      <td>2015-10-26 09:59:23</td>\n",
              "      <td>2015-10-27 09:41:26</td>\n",
              "      <td>2015-10-28 09:38:11</td>\n",
              "      <td>2015-10-29 09:53:39</td>\n",
              "      <td>NaN</td>\n",
              "      <td>2015-11-02 10:00:05</td>\n",
              "      <td>2015-11-03 10:29:56</td>\n",
              "      <td>2015-11-04 10:12:46</td>\n",
              "      <td>2015-11-05 10:08:09</td>\n",
              "      <td>NaN</td>\n",
              "      <td>NaN</td>\n",
              "      <td>NaN</td>\n",
              "      <td>NaN</td>\n",
              "      <td>2015-11-12 10:08:26</td>\n",
              "      <td>2015-11-13 09:37:08</td>\n",
              "      <td>2015-11-16 09:42:23</td>\n",
              "      <td>2015-11-17 10:20:38</td>\n",
              "      <td>2015-11-18 10:02:33</td>\n",
              "      <td>2015-11-19 10:27:15</td>\n",
              "      <td>2015-11-20 10:01:14</td>\n",
              "      <td>2015-11-23 09:55:40</td>\n",
              "      <td>2015-11-24 10:00:46</td>\n",
              "      <td>2015-11-25 09:33:48</td>\n",
              "      <td>2015-11-26 10:24:11</td>\n",
              "      <td>2015-11-27 10:09:17</td>\n",
              "      <td>2015-11-30 09:50:21</td>\n",
              "      <td>2015-12-01 09:52:48</td>\n",
              "      <td>2015-12-02 10:09:28</td>\n",
              "      <td>2015-12-03 09:24:05</td>\n",
              "      <td>2015-12-04 09:52:37</td>\n",
              "      <td>2015-12-07 10:00:22</td>\n",
              "      <td>2015-12-08 10:04:10</td>\n",
              "      <td>2015-12-09 10:25:19</td>\n",
              "      <td>2015-12-10 09:39:15</td>\n",
              "      <td>2015-12-11 09:46:02</td>\n",
              "      <td>2015-12-14 10:20:36</td>\n",
              "      <td>2015-12-15 09:37:17</td>\n",
              "      <td>2015-12-16 10:22:09</td>\n",
              "      <td>2015-12-17 09:54:36</td>\n",
              "      <td>2015-12-18 10:17:38</td>\n",
              "      <td>2015-12-21 09:58:21</td>\n",
              "      <td>2015-12-22 10:04:25</td>\n",
              "      <td>2015-12-23 10:11:46</td>\n",
              "      <td>2015-12-24 09:43:15</td>\n",
              "      <td>NaN</td>\n",
              "      <td>2015-12-28 09:52:44</td>\n",
              "      <td>2015-12-29 09:33:16</td>\n",
              "      <td>2015-12-30 10:18:12</td>\n",
              "      <td>2015-12-31 10:01:15</td>\n",
              "    </tr>\n",
              "    <tr>\n",
              "      <th>4</th>\n",
              "      <td>5</td>\n",
              "      <td>NaN</td>\n",
              "      <td>2015-01-02 10:28:17</td>\n",
              "      <td>2015-01-05 09:49:58</td>\n",
              "      <td>2015-01-06 09:45:28</td>\n",
              "      <td>2015-01-07 09:49:37</td>\n",
              "      <td>2015-01-08 10:19:44</td>\n",
              "      <td>2015-01-09 10:00:50</td>\n",
              "      <td>2015-01-12 10:29:27</td>\n",
              "      <td>2015-01-13 09:59:32</td>\n",
              "      <td>NaN</td>\n",
              "      <td>2015-01-15 10:06:12</td>\n",
              "      <td>2015-01-16 10:03:50</td>\n",
              "      <td>NaN</td>\n",
              "      <td>2015-01-20 10:10:29</td>\n",
              "      <td>2015-01-21 10:28:15</td>\n",
              "      <td>2015-01-22 10:10:10</td>\n",
              "      <td>2015-01-23 09:34:34</td>\n",
              "      <td>NaN</td>\n",
              "      <td>2015-01-27 09:56:59</td>\n",
              "      <td>2015-01-28 09:45:03</td>\n",
              "      <td>2015-01-29 10:11:41</td>\n",
              "      <td>2015-01-30 10:24:50</td>\n",
              "      <td>2015-02-02 09:43:27</td>\n",
              "      <td>2015-02-03 09:55:59</td>\n",
              "      <td>2015-02-04 10:03:25</td>\n",
              "      <td>2015-02-05 10:02:17</td>\n",
              "      <td>2015-02-06 09:55:43</td>\n",
              "      <td>2015-02-09 10:15:16</td>\n",
              "      <td>2015-02-10 09:43:48</td>\n",
              "      <td>2015-02-11 10:03:36</td>\n",
              "      <td>2015-02-12 10:02:17</td>\n",
              "      <td>2015-02-13 09:44:55</td>\n",
              "      <td>2015-02-16 09:55:58</td>\n",
              "      <td>2015-02-17 10:09:22</td>\n",
              "      <td>2015-02-18 09:37:58</td>\n",
              "      <td>2015-02-19 09:38:21</td>\n",
              "      <td>2015-02-20 10:02:12</td>\n",
              "      <td>2015-02-23 10:25:42</td>\n",
              "      <td>2015-02-24 09:51:00</td>\n",
              "      <td>2015-02-25 09:55:22</td>\n",
              "      <td>2015-02-26 09:58:05</td>\n",
              "      <td>2015-02-27 10:07:47</td>\n",
              "      <td>2015-03-02 09:59:53</td>\n",
              "      <td>2015-03-03 09:42:11</td>\n",
              "      <td>2015-03-04 10:00:32</td>\n",
              "      <td>NaN</td>\n",
              "      <td>2015-03-06 09:53:21</td>\n",
              "      <td>2015-03-09 09:56:58</td>\n",
              "      <td>2015-03-10 10:02:48</td>\n",
              "      <td>...</td>\n",
              "      <td>2015-10-23 10:20:46</td>\n",
              "      <td>2015-10-26 09:26:54</td>\n",
              "      <td>2015-10-27 09:52:14</td>\n",
              "      <td>2015-10-28 10:05:45</td>\n",
              "      <td>2015-10-29 10:47:48</td>\n",
              "      <td>2015-10-30 09:54:08</td>\n",
              "      <td>2015-11-02 10:21:24</td>\n",
              "      <td>2015-11-03 10:14:29</td>\n",
              "      <td>2015-11-04 10:05:50</td>\n",
              "      <td>2015-11-05 10:14:59</td>\n",
              "      <td>2015-11-06 09:56:52</td>\n",
              "      <td>NaN</td>\n",
              "      <td>NaN</td>\n",
              "      <td>NaN</td>\n",
              "      <td>2015-11-12 09:40:29</td>\n",
              "      <td>2015-11-13 09:55:12</td>\n",
              "      <td>2015-11-16 10:15:51</td>\n",
              "      <td>2015-11-17 09:31:09</td>\n",
              "      <td>2015-11-18 10:05:50</td>\n",
              "      <td>2015-11-19 10:07:44</td>\n",
              "      <td>2015-11-20 09:58:14</td>\n",
              "      <td>2015-11-23 10:12:11</td>\n",
              "      <td>2015-11-24 09:56:16</td>\n",
              "      <td>2015-11-25 10:02:15</td>\n",
              "      <td>2015-11-26 09:54:51</td>\n",
              "      <td>2015-11-27 09:50:48</td>\n",
              "      <td>2015-11-30 10:00:02</td>\n",
              "      <td>2015-12-01 10:13:08</td>\n",
              "      <td>2015-12-02 09:38:52</td>\n",
              "      <td>2015-12-03 09:48:57</td>\n",
              "      <td>2015-12-04 09:55:11</td>\n",
              "      <td>2015-12-07 10:01:34</td>\n",
              "      <td>2015-12-08 09:18:02</td>\n",
              "      <td>2015-12-09 10:02:29</td>\n",
              "      <td>2015-12-10 10:18:53</td>\n",
              "      <td>2015-12-11 10:26:26</td>\n",
              "      <td>2015-12-14 10:20:18</td>\n",
              "      <td>2015-12-15 09:55:55</td>\n",
              "      <td>2015-12-16 10:09:25</td>\n",
              "      <td>2015-12-17 09:46:35</td>\n",
              "      <td>2015-12-18 09:58:35</td>\n",
              "      <td>2015-12-21 10:03:41</td>\n",
              "      <td>2015-12-22 10:10:30</td>\n",
              "      <td>2015-12-23 10:13:36</td>\n",
              "      <td>2015-12-24 09:44:24</td>\n",
              "      <td>NaN</td>\n",
              "      <td>2015-12-28 10:05:15</td>\n",
              "      <td>2015-12-29 10:30:53</td>\n",
              "      <td>2015-12-30 09:18:21</td>\n",
              "      <td>2015-12-31 09:41:09</td>\n",
              "    </tr>\n",
              "  </tbody>\n",
              "</table>\n",
              "<p>5 rows × 262 columns</p>\n",
              "</div>"
            ],
            "text/plain": [
              "   Unnamed: 0  2015-01-01           2015-01-02           2015-01-05  \\\n",
              "0           1         NaN  2015-01-02 09:43:45  2015-01-05 10:08:48   \n",
              "1           2         NaN  2015-01-02 10:15:44  2015-01-05 10:21:05   \n",
              "2           3         NaN  2015-01-02 10:17:41  2015-01-05 09:50:50   \n",
              "3           4         NaN  2015-01-02 10:05:06  2015-01-05 09:56:32   \n",
              "4           5         NaN  2015-01-02 10:28:17  2015-01-05 09:49:58   \n",
              "\n",
              "            2015-01-06           2015-01-07           2015-01-08  \\\n",
              "0  2015-01-06 09:54:26  2015-01-07 09:34:31  2015-01-08 09:51:09   \n",
              "1                  NaN  2015-01-07 09:45:17  2015-01-08 10:09:04   \n",
              "2  2015-01-06 10:14:13  2015-01-07 09:47:27  2015-01-08 10:03:40   \n",
              "3  2015-01-06 10:11:07  2015-01-07 09:37:30  2015-01-08 10:02:08   \n",
              "4  2015-01-06 09:45:28  2015-01-07 09:49:37  2015-01-08 10:19:44   \n",
              "\n",
              "            2015-01-09           2015-01-12           2015-01-13  2015-01-14  \\\n",
              "0  2015-01-09 10:09:25  2015-01-12 09:42:53  2015-01-13 10:13:06         NaN   \n",
              "1  2015-01-09 09:43:26  2015-01-12 10:00:07  2015-01-13 10:43:29         NaN   \n",
              "2  2015-01-09 10:05:49  2015-01-12 10:03:47  2015-01-13 10:21:26         NaN   \n",
              "3  2015-01-09 10:08:12  2015-01-12 10:13:42  2015-01-13 09:53:22         NaN   \n",
              "4  2015-01-09 10:00:50  2015-01-12 10:29:27  2015-01-13 09:59:32         NaN   \n",
              "\n",
              "            2015-01-15           2015-01-16           2015-01-19  \\\n",
              "0  2015-01-15 10:01:24  2015-01-16 10:19:08                  NaN   \n",
              "1  2015-01-15 09:37:57  2015-01-16 09:57:18  2015-01-19 10:23:43   \n",
              "2  2015-01-15 09:55:11  2015-01-16 10:05:36  2015-01-19 09:47:53   \n",
              "3  2015-01-15 10:00:50  2015-01-16 09:58:06  2015-01-19 09:43:11   \n",
              "4  2015-01-15 10:06:12  2015-01-16 10:03:50                  NaN   \n",
              "\n",
              "            2015-01-20           2015-01-21           2015-01-22  \\\n",
              "0  2015-01-20 09:50:34  2015-01-21 09:49:42  2015-01-22 09:47:45   \n",
              "1  2015-01-20 09:29:03  2015-01-21 09:46:45  2015-01-22 10:03:51   \n",
              "2  2015-01-20 09:57:09  2015-01-21 10:29:40  2015-01-22 09:59:11   \n",
              "3  2015-01-20 10:29:06  2015-01-21 10:04:33  2015-01-22 09:51:07   \n",
              "4  2015-01-20 10:10:29  2015-01-21 10:28:15  2015-01-22 10:10:10   \n",
              "\n",
              "            2015-01-23  2015-01-26           2015-01-27           2015-01-28  \\\n",
              "0  2015-01-23 09:23:44         NaN  2015-01-27 09:50:37  2015-01-28 09:56:13   \n",
              "1  2015-01-23 09:20:06         NaN  2015-01-27 10:07:48  2015-01-28 10:08:25   \n",
              "2  2015-01-23 10:16:34         NaN  2015-01-27 10:07:30  2015-01-28 10:05:43   \n",
              "3  2015-01-23 09:56:56         NaN  2015-01-27 09:48:31  2015-01-28 10:00:39   \n",
              "4  2015-01-23 09:34:34         NaN  2015-01-27 09:56:59  2015-01-28 09:45:03   \n",
              "\n",
              "            2015-01-29           2015-01-30           2015-02-02  \\\n",
              "0  2015-01-29 09:53:47  2015-01-30 10:09:26  2015-02-02 09:38:43   \n",
              "1  2015-01-29 09:52:04  2015-01-30 09:49:49  2015-02-02 10:07:26   \n",
              "2  2015-01-29 10:06:48  2015-01-30 10:14:36  2015-02-02 09:54:45   \n",
              "3  2015-01-29 09:49:28  2015-01-30 09:56:31  2015-02-02 10:14:08   \n",
              "4  2015-01-29 10:11:41  2015-01-30 10:24:50  2015-02-02 09:43:27   \n",
              "\n",
              "            2015-02-03           2015-02-04           2015-02-05  \\\n",
              "0  2015-02-03 10:23:38  2015-02-04 09:48:37  2015-02-05 09:52:36   \n",
              "1  2015-02-03 09:55:45  2015-02-04 10:25:41  2015-02-05 10:05:11   \n",
              "2  2015-02-03 09:27:11  2015-02-04 10:04:03  2015-02-05 10:08:11   \n",
              "3  2015-02-03 10:01:31  2015-02-04 10:31:44  2015-02-05 10:02:39   \n",
              "4  2015-02-03 09:55:59  2015-02-04 10:03:25  2015-02-05 10:02:17   \n",
              "\n",
              "            2015-02-06           2015-02-09           2015-02-10  \\\n",
              "0  2015-02-06 09:53:23  2015-02-09 10:01:45  2015-02-10 10:14:18   \n",
              "1  2015-02-06 09:12:39                  NaN  2015-02-10 10:10:13   \n",
              "2  2015-02-06 10:23:51  2015-02-09 10:08:43  2015-02-10 10:26:18   \n",
              "3  2015-02-06 09:24:21  2015-02-09 09:56:27                  NaN   \n",
              "4  2015-02-06 09:55:43  2015-02-09 10:15:16  2015-02-10 09:43:48   \n",
              "\n",
              "            2015-02-11           2015-02-12           2015-02-13  \\\n",
              "0  2015-02-11 10:18:44  2015-02-12 10:10:35  2015-02-13 09:13:07   \n",
              "1  2015-02-11 09:40:20  2015-02-12 10:10:09  2015-02-13 09:35:25   \n",
              "2  2015-02-11 10:02:13  2015-02-12 09:55:10  2015-02-13 10:32:34   \n",
              "3  2015-02-11 10:00:32  2015-02-12 10:01:48  2015-02-13 10:14:10   \n",
              "4  2015-02-11 10:03:36  2015-02-12 10:02:17  2015-02-13 09:44:55   \n",
              "\n",
              "            2015-02-16           2015-02-17           2015-02-18  \\\n",
              "0  2015-02-16 10:14:02  2015-02-17 10:03:08  2015-02-18 10:23:06   \n",
              "1  2015-02-16 10:04:12  2015-02-17 09:45:05  2015-02-18 09:54:42   \n",
              "2  2015-02-16 10:18:43  2015-02-17 10:04:54  2015-02-18 10:16:19   \n",
              "3  2015-02-16 09:50:27  2015-02-17 09:52:42  2015-02-18 09:39:22   \n",
              "4  2015-02-16 09:55:58  2015-02-17 10:09:22  2015-02-18 09:37:58   \n",
              "\n",
              "            2015-02-19           2015-02-20           2015-02-23  \\\n",
              "0                  NaN  2015-02-20 09:54:56  2015-02-23 09:46:59   \n",
              "1  2015-02-19 10:11:49  2015-02-20 10:06:18  2015-02-23 09:41:58   \n",
              "2  2015-02-19 09:47:19  2015-02-20 10:20:51  2015-02-23 10:14:02   \n",
              "3  2015-02-19 09:43:55  2015-02-20 10:01:49  2015-02-23 09:33:30   \n",
              "4  2015-02-19 09:38:21  2015-02-20 10:02:12  2015-02-23 10:25:42   \n",
              "\n",
              "            2015-02-24           2015-02-25           2015-02-26  \\\n",
              "0  2015-02-24 10:11:18  2015-02-25 09:52:36  2015-02-26 09:56:33   \n",
              "1  2015-02-24 09:44:22  2015-02-25 09:58:39  2015-02-26 09:59:07   \n",
              "2  2015-02-24 10:23:28  2015-02-25 09:59:06  2015-02-26 10:01:22   \n",
              "3  2015-02-24 10:27:00  2015-02-25 09:45:59  2015-02-26 09:48:05   \n",
              "4  2015-02-24 09:51:00  2015-02-25 09:55:22  2015-02-26 09:58:05   \n",
              "\n",
              "            2015-02-27           2015-03-02           2015-03-03  \\\n",
              "0  2015-02-27 09:58:46  2015-03-02 10:19:43  2015-03-03 10:08:37   \n",
              "1  2015-02-27 10:31:41  2015-03-02 09:55:43  2015-03-03 10:31:20   \n",
              "2  2015-02-27 09:57:26  2015-03-02 10:02:38  2015-03-03 10:07:45   \n",
              "3  2015-02-27 09:43:15                  NaN  2015-03-03 10:15:24   \n",
              "4  2015-02-27 10:07:47  2015-03-02 09:59:53  2015-03-03 09:42:11   \n",
              "\n",
              "            2015-03-04  2015-03-05           2015-03-06           2015-03-09  \\\n",
              "0  2015-03-04 10:05:38         NaN  2015-03-06 09:55:53  2015-03-09 10:28:34   \n",
              "1  2015-03-04 09:56:59         NaN  2015-03-06 10:01:10  2015-03-09 10:02:33   \n",
              "2  2015-03-04 10:15:26         NaN  2015-03-06 09:48:49  2015-03-09 10:17:45   \n",
              "3  2015-03-04 09:59:04         NaN                  NaN  2015-03-09 10:05:52   \n",
              "4  2015-03-04 10:00:32         NaN  2015-03-06 09:53:21  2015-03-09 09:56:58   \n",
              "\n",
              "            2015-03-10  ...           2015-10-23           2015-10-26  \\\n",
              "0  2015-03-10 09:47:30  ...  2015-10-23 10:03:33  2015-10-26 09:51:07   \n",
              "1  2015-03-10 09:32:40  ...  2015-10-23 09:53:38  2015-10-26 09:49:43   \n",
              "2  2015-03-10 09:46:10  ...  2015-10-23 10:08:37  2015-10-26 10:29:26   \n",
              "3  2015-03-10 09:29:22  ...  2015-10-23 09:31:09  2015-10-26 09:59:23   \n",
              "4  2015-03-10 10:02:48  ...  2015-10-23 10:20:46  2015-10-26 09:26:54   \n",
              "\n",
              "            2015-10-27           2015-10-28           2015-10-29  \\\n",
              "0  2015-10-27 09:25:10  2015-10-28 09:50:30  2015-10-29 09:50:22   \n",
              "1  2015-10-27 10:29:20  2015-10-28 09:47:39  2015-10-29 09:52:02   \n",
              "2  2015-10-27 09:48:57  2015-10-28 09:54:52  2015-10-29 09:47:27   \n",
              "3  2015-10-27 09:41:26  2015-10-28 09:38:11  2015-10-29 09:53:39   \n",
              "4  2015-10-27 09:52:14  2015-10-28 10:05:45  2015-10-29 10:47:48   \n",
              "\n",
              "            2015-10-30           2015-11-02           2015-11-03  \\\n",
              "0  2015-10-30 09:51:07  2015-11-02 10:01:58  2015-11-03 10:28:53   \n",
              "1  2015-10-30 09:47:37  2015-11-02 10:04:45  2015-11-03 09:36:03   \n",
              "2  2015-10-30 09:51:47  2015-11-02 09:54:18  2015-11-03 09:52:40   \n",
              "3                  NaN  2015-11-02 10:00:05  2015-11-03 10:29:56   \n",
              "4  2015-10-30 09:54:08  2015-11-02 10:21:24  2015-11-03 10:14:29   \n",
              "\n",
              "            2015-11-04           2015-11-05           2015-11-06 2015-11-09  \\\n",
              "0  2015-11-04 09:47:00  2015-11-05 10:24:57  2015-11-06 10:15:27        NaN   \n",
              "1  2015-11-04 09:58:34  2015-11-05 09:50:08  2015-11-06 10:02:38        NaN   \n",
              "2  2015-11-04 10:19:14  2015-11-05 10:23:27  2015-11-06 10:06:29        NaN   \n",
              "3  2015-11-04 10:12:46  2015-11-05 10:08:09                  NaN        NaN   \n",
              "4  2015-11-04 10:05:50  2015-11-05 10:14:59  2015-11-06 09:56:52        NaN   \n",
              "\n",
              "  2015-11-10 2015-11-11           2015-11-12           2015-11-13  \\\n",
              "0        NaN        NaN  2015-11-12 10:02:34  2015-11-13 09:29:49   \n",
              "1        NaN        NaN  2015-11-12 09:54:47  2015-11-13 09:26:10   \n",
              "2        NaN        NaN  2015-11-12 10:14:47  2015-11-13 09:43:37   \n",
              "3        NaN        NaN  2015-11-12 10:08:26  2015-11-13 09:37:08   \n",
              "4        NaN        NaN  2015-11-12 09:40:29  2015-11-13 09:55:12   \n",
              "\n",
              "            2015-11-16           2015-11-17           2015-11-18  \\\n",
              "0  2015-11-16 10:16:02  2015-11-17 09:57:23  2015-11-18 10:13:24   \n",
              "1  2015-11-16 10:22:00  2015-11-17 09:26:04  2015-11-18 10:10:39   \n",
              "2  2015-11-16 10:02:56  2015-11-17 09:51:38  2015-11-18 10:12:13   \n",
              "3  2015-11-16 09:42:23  2015-11-17 10:20:38  2015-11-18 10:02:33   \n",
              "4  2015-11-16 10:15:51  2015-11-17 09:31:09  2015-11-18 10:05:50   \n",
              "\n",
              "            2015-11-19           2015-11-20           2015-11-23  \\\n",
              "0  2015-11-19 09:46:48  2015-11-20 10:09:35  2015-11-23 09:54:17   \n",
              "1                  NaN  2015-11-20 10:01:09  2015-11-23 09:51:11   \n",
              "2  2015-11-19 10:08:46  2015-11-20 10:06:39  2015-11-23 10:02:01   \n",
              "3  2015-11-19 10:27:15  2015-11-20 10:01:14  2015-11-23 09:55:40   \n",
              "4  2015-11-19 10:07:44  2015-11-20 09:58:14  2015-11-23 10:12:11   \n",
              "\n",
              "            2015-11-24           2015-11-25           2015-11-26  \\\n",
              "0  2015-11-24 10:02:07  2015-11-25 10:01:51  2015-11-26 10:18:45   \n",
              "1  2015-11-24 09:19:04  2015-11-25 09:43:44  2015-11-26 10:34:30   \n",
              "2  2015-11-24 09:53:52  2015-11-25 10:16:19  2015-11-26 10:07:02   \n",
              "3  2015-11-24 10:00:46  2015-11-25 09:33:48  2015-11-26 10:24:11   \n",
              "4  2015-11-24 09:56:16  2015-11-25 10:02:15  2015-11-26 09:54:51   \n",
              "\n",
              "            2015-11-27           2015-11-30           2015-12-01  \\\n",
              "0  2015-11-27 10:24:49  2015-11-30 10:04:24  2015-12-01 09:31:27   \n",
              "1  2015-11-27 10:15:10  2015-11-30 09:46:46  2015-12-01 09:56:22   \n",
              "2                  NaN  2015-11-30 10:01:33  2015-12-01 10:02:52   \n",
              "3  2015-11-27 10:09:17  2015-11-30 09:50:21  2015-12-01 09:52:48   \n",
              "4  2015-11-27 09:50:48  2015-11-30 10:00:02  2015-12-01 10:13:08   \n",
              "\n",
              "            2015-12-02           2015-12-03           2015-12-04  \\\n",
              "0  2015-12-02 09:57:52  2015-12-03 10:05:55  2015-12-04 09:55:09   \n",
              "1  2015-12-02 09:55:43  2015-12-03 10:05:37  2015-12-04 10:02:05   \n",
              "2  2015-12-02 10:10:34  2015-12-03 10:18:25  2015-12-04 10:06:40   \n",
              "3  2015-12-02 10:09:28  2015-12-03 09:24:05  2015-12-04 09:52:37   \n",
              "4  2015-12-02 09:38:52  2015-12-03 09:48:57  2015-12-04 09:55:11   \n",
              "\n",
              "            2015-12-07           2015-12-08           2015-12-09  \\\n",
              "0  2015-12-07 09:28:15  2015-12-08 09:54:56  2015-12-09 09:51:52   \n",
              "1  2015-12-07 09:36:05  2015-12-08 10:01:21  2015-12-09 09:49:23   \n",
              "2  2015-12-07 10:21:09  2015-12-08 09:59:19  2015-12-09 10:17:28   \n",
              "3  2015-12-07 10:00:22  2015-12-08 10:04:10  2015-12-09 10:25:19   \n",
              "4  2015-12-07 10:01:34  2015-12-08 09:18:02  2015-12-09 10:02:29   \n",
              "\n",
              "            2015-12-10           2015-12-11           2015-12-14  \\\n",
              "0  2015-12-10 09:40:25  2015-12-11 09:46:49  2015-12-14 10:03:33   \n",
              "1  2015-12-10 10:06:05  2015-12-11 10:15:18  2015-12-14 10:00:01   \n",
              "2                  NaN  2015-12-11 09:49:55  2015-12-14 09:42:31   \n",
              "3  2015-12-10 09:39:15  2015-12-11 09:46:02  2015-12-14 10:20:36   \n",
              "4  2015-12-10 10:18:53  2015-12-11 10:26:26  2015-12-14 10:20:18   \n",
              "\n",
              "            2015-12-15           2015-12-16           2015-12-17  \\\n",
              "0                  NaN  2015-12-16 10:21:19                  NaN   \n",
              "1  2015-12-15 10:30:18  2015-12-16 10:01:18  2015-12-17 09:15:08   \n",
              "2  2015-12-15 09:54:48  2015-12-16 09:48:34  2015-12-17 09:53:17   \n",
              "3  2015-12-15 09:37:17  2015-12-16 10:22:09  2015-12-17 09:54:36   \n",
              "4  2015-12-15 09:55:55  2015-12-16 10:09:25  2015-12-17 09:46:35   \n",
              "\n",
              "            2015-12-18           2015-12-21           2015-12-22  \\\n",
              "0                  NaN  2015-12-21 09:55:29  2015-12-22 10:04:06   \n",
              "1  2015-12-18 10:37:17  2015-12-21 09:49:02  2015-12-22 10:33:51   \n",
              "2  2015-12-18 10:15:14  2015-12-21 10:10:28  2015-12-22 09:44:44   \n",
              "3  2015-12-18 10:17:38  2015-12-21 09:58:21  2015-12-22 10:04:25   \n",
              "4  2015-12-18 09:58:35  2015-12-21 10:03:41  2015-12-22 10:10:30   \n",
              "\n",
              "            2015-12-23           2015-12-24 2015-12-25           2015-12-28  \\\n",
              "0  2015-12-23 10:14:27  2015-12-24 10:11:35        NaN  2015-12-28 10:13:41   \n",
              "1  2015-12-23 10:12:10                  NaN        NaN  2015-12-28 09:31:45   \n",
              "2  2015-12-23 10:15:54  2015-12-24 10:07:26        NaN  2015-12-28 09:42:05   \n",
              "3  2015-12-23 10:11:46  2015-12-24 09:43:15        NaN  2015-12-28 09:52:44   \n",
              "4  2015-12-23 10:13:36  2015-12-24 09:44:24        NaN  2015-12-28 10:05:15   \n",
              "\n",
              "            2015-12-29           2015-12-30           2015-12-31  \n",
              "0  2015-12-29 10:03:36  2015-12-30 09:54:12  2015-12-31 10:12:44  \n",
              "1  2015-12-29 09:55:49  2015-12-30 10:32:25  2015-12-31 09:27:20  \n",
              "2  2015-12-29 09:43:36  2015-12-30 09:34:05  2015-12-31 10:28:39  \n",
              "3  2015-12-29 09:33:16  2015-12-30 10:18:12  2015-12-31 10:01:15  \n",
              "4  2015-12-29 10:30:53  2015-12-30 09:18:21  2015-12-31 09:41:09  \n",
              "\n",
              "[5 rows x 262 columns]"
            ]
          },
          "metadata": {
            "tags": []
          },
          "execution_count": 12
        }
      ]
    },
    {
      "cell_type": "code",
      "metadata": {
        "id": "SYWE8Kj9E2pd",
        "colab_type": "code",
        "outputId": "5392fb32-8e4c-42b9-c356-c2578808a60c",
        "colab": {
          "base_uri": "https://localhost:8080/",
          "height": 440
        }
      },
      "source": [
        "out_time.head()"
      ],
      "execution_count": 13,
      "outputs": [
        {
          "output_type": "execute_result",
          "data": {
            "text/html": [
              "<div>\n",
              "<style scoped>\n",
              "    .dataframe tbody tr th:only-of-type {\n",
              "        vertical-align: middle;\n",
              "    }\n",
              "\n",
              "    .dataframe tbody tr th {\n",
              "        vertical-align: top;\n",
              "    }\n",
              "\n",
              "    .dataframe thead th {\n",
              "        text-align: right;\n",
              "    }\n",
              "</style>\n",
              "<table border=\"1\" class=\"dataframe\">\n",
              "  <thead>\n",
              "    <tr style=\"text-align: right;\">\n",
              "      <th></th>\n",
              "      <th>Unnamed: 0</th>\n",
              "      <th>2015-01-01</th>\n",
              "      <th>2015-01-02</th>\n",
              "      <th>2015-01-05</th>\n",
              "      <th>2015-01-06</th>\n",
              "      <th>2015-01-07</th>\n",
              "      <th>2015-01-08</th>\n",
              "      <th>2015-01-09</th>\n",
              "      <th>2015-01-12</th>\n",
              "      <th>2015-01-13</th>\n",
              "      <th>2015-01-14</th>\n",
              "      <th>2015-01-15</th>\n",
              "      <th>2015-01-16</th>\n",
              "      <th>2015-01-19</th>\n",
              "      <th>2015-01-20</th>\n",
              "      <th>2015-01-21</th>\n",
              "      <th>2015-01-22</th>\n",
              "      <th>2015-01-23</th>\n",
              "      <th>2015-01-26</th>\n",
              "      <th>2015-01-27</th>\n",
              "      <th>2015-01-28</th>\n",
              "      <th>2015-01-29</th>\n",
              "      <th>2015-01-30</th>\n",
              "      <th>2015-02-02</th>\n",
              "      <th>2015-02-03</th>\n",
              "      <th>2015-02-04</th>\n",
              "      <th>2015-02-05</th>\n",
              "      <th>2015-02-06</th>\n",
              "      <th>2015-02-09</th>\n",
              "      <th>2015-02-10</th>\n",
              "      <th>2015-02-11</th>\n",
              "      <th>2015-02-12</th>\n",
              "      <th>2015-02-13</th>\n",
              "      <th>2015-02-16</th>\n",
              "      <th>2015-02-17</th>\n",
              "      <th>2015-02-18</th>\n",
              "      <th>2015-02-19</th>\n",
              "      <th>2015-02-20</th>\n",
              "      <th>2015-02-23</th>\n",
              "      <th>2015-02-24</th>\n",
              "      <th>2015-02-25</th>\n",
              "      <th>2015-02-26</th>\n",
              "      <th>2015-02-27</th>\n",
              "      <th>2015-03-02</th>\n",
              "      <th>2015-03-03</th>\n",
              "      <th>2015-03-04</th>\n",
              "      <th>2015-03-05</th>\n",
              "      <th>2015-03-06</th>\n",
              "      <th>2015-03-09</th>\n",
              "      <th>2015-03-10</th>\n",
              "      <th>...</th>\n",
              "      <th>2015-10-23</th>\n",
              "      <th>2015-10-26</th>\n",
              "      <th>2015-10-27</th>\n",
              "      <th>2015-10-28</th>\n",
              "      <th>2015-10-29</th>\n",
              "      <th>2015-10-30</th>\n",
              "      <th>2015-11-02</th>\n",
              "      <th>2015-11-03</th>\n",
              "      <th>2015-11-04</th>\n",
              "      <th>2015-11-05</th>\n",
              "      <th>2015-11-06</th>\n",
              "      <th>2015-11-09</th>\n",
              "      <th>2015-11-10</th>\n",
              "      <th>2015-11-11</th>\n",
              "      <th>2015-11-12</th>\n",
              "      <th>2015-11-13</th>\n",
              "      <th>2015-11-16</th>\n",
              "      <th>2015-11-17</th>\n",
              "      <th>2015-11-18</th>\n",
              "      <th>2015-11-19</th>\n",
              "      <th>2015-11-20</th>\n",
              "      <th>2015-11-23</th>\n",
              "      <th>2015-11-24</th>\n",
              "      <th>2015-11-25</th>\n",
              "      <th>2015-11-26</th>\n",
              "      <th>2015-11-27</th>\n",
              "      <th>2015-11-30</th>\n",
              "      <th>2015-12-01</th>\n",
              "      <th>2015-12-02</th>\n",
              "      <th>2015-12-03</th>\n",
              "      <th>2015-12-04</th>\n",
              "      <th>2015-12-07</th>\n",
              "      <th>2015-12-08</th>\n",
              "      <th>2015-12-09</th>\n",
              "      <th>2015-12-10</th>\n",
              "      <th>2015-12-11</th>\n",
              "      <th>2015-12-14</th>\n",
              "      <th>2015-12-15</th>\n",
              "      <th>2015-12-16</th>\n",
              "      <th>2015-12-17</th>\n",
              "      <th>2015-12-18</th>\n",
              "      <th>2015-12-21</th>\n",
              "      <th>2015-12-22</th>\n",
              "      <th>2015-12-23</th>\n",
              "      <th>2015-12-24</th>\n",
              "      <th>2015-12-25</th>\n",
              "      <th>2015-12-28</th>\n",
              "      <th>2015-12-29</th>\n",
              "      <th>2015-12-30</th>\n",
              "      <th>2015-12-31</th>\n",
              "    </tr>\n",
              "  </thead>\n",
              "  <tbody>\n",
              "    <tr>\n",
              "      <th>0</th>\n",
              "      <td>1</td>\n",
              "      <td>NaN</td>\n",
              "      <td>2015-01-02 16:56:15</td>\n",
              "      <td>2015-01-05 17:20:11</td>\n",
              "      <td>2015-01-06 17:19:05</td>\n",
              "      <td>2015-01-07 16:34:55</td>\n",
              "      <td>2015-01-08 17:08:32</td>\n",
              "      <td>2015-01-09 17:38:29</td>\n",
              "      <td>2015-01-12 16:58:39</td>\n",
              "      <td>2015-01-13 18:02:58</td>\n",
              "      <td>NaN</td>\n",
              "      <td>2015-01-15 17:22:13</td>\n",
              "      <td>2015-01-16 17:35:11</td>\n",
              "      <td>NaN</td>\n",
              "      <td>2015-01-20 16:37:07</td>\n",
              "      <td>2015-01-21 16:55:24</td>\n",
              "      <td>2015-01-22 16:50:47</td>\n",
              "      <td>2015-01-23 17:00:01</td>\n",
              "      <td>NaN</td>\n",
              "      <td>2015-01-27 17:28:22</td>\n",
              "      <td>2015-01-28 17:03:21</td>\n",
              "      <td>2015-01-29 17:18:36</td>\n",
              "      <td>2015-01-30 17:00:25</td>\n",
              "      <td>2015-02-02 16:32:49</td>\n",
              "      <td>2015-02-03 17:35:49</td>\n",
              "      <td>2015-02-04 17:24:56</td>\n",
              "      <td>2015-02-05 17:26:31</td>\n",
              "      <td>2015-02-06 17:21:35</td>\n",
              "      <td>2015-02-09 17:37:50</td>\n",
              "      <td>2015-02-10 17:30:20</td>\n",
              "      <td>2015-02-11 17:30:19</td>\n",
              "      <td>2015-02-12 17:36:42</td>\n",
              "      <td>2015-02-13 16:25:26</td>\n",
              "      <td>2015-02-16 17:50:23</td>\n",
              "      <td>2015-02-17 17:28:06</td>\n",
              "      <td>2015-02-18 18:13:29</td>\n",
              "      <td>NaN</td>\n",
              "      <td>2015-02-20 17:44:52</td>\n",
              "      <td>2015-02-23 17:13:27</td>\n",
              "      <td>2015-02-24 17:24:48</td>\n",
              "      <td>2015-02-25 17:27:37</td>\n",
              "      <td>2015-02-26 17:08:36</td>\n",
              "      <td>2015-02-27 17:21:55</td>\n",
              "      <td>2015-03-02 17:29:08</td>\n",
              "      <td>2015-03-03 16:54:12</td>\n",
              "      <td>2015-03-04 17:50:18</td>\n",
              "      <td>NaN</td>\n",
              "      <td>2015-03-06 17:44:47</td>\n",
              "      <td>2015-03-09 17:53:05</td>\n",
              "      <td>2015-03-10 16:42:53</td>\n",
              "      <td>...</td>\n",
              "      <td>2015-10-23 17:13:46</td>\n",
              "      <td>2015-10-26 17:35:53</td>\n",
              "      <td>2015-10-27 16:28:13</td>\n",
              "      <td>2015-10-28 17:32:42</td>\n",
              "      <td>2015-10-29 16:57:29</td>\n",
              "      <td>2015-10-30 17:09:54</td>\n",
              "      <td>2015-11-02 16:53:43</td>\n",
              "      <td>2015-11-03 18:04:34</td>\n",
              "      <td>2015-11-04 16:43:40</td>\n",
              "      <td>2015-11-05 18:03:15</td>\n",
              "      <td>2015-11-06 17:15:12</td>\n",
              "      <td>NaN</td>\n",
              "      <td>NaN</td>\n",
              "      <td>NaN</td>\n",
              "      <td>2015-11-12 17:13:17</td>\n",
              "      <td>2015-11-13 16:49:27</td>\n",
              "      <td>2015-11-16 18:03:08</td>\n",
              "      <td>2015-11-17 17:03:06</td>\n",
              "      <td>2015-11-18 17:38:02</td>\n",
              "      <td>2015-11-19 16:46:27</td>\n",
              "      <td>2015-11-20 17:58:40</td>\n",
              "      <td>2015-11-23 17:13:22</td>\n",
              "      <td>2015-11-24 17:37:21</td>\n",
              "      <td>2015-11-25 17:26:51</td>\n",
              "      <td>2015-11-26 17:44:49</td>\n",
              "      <td>2015-11-27 17:30:02</td>\n",
              "      <td>2015-11-30 17:05:11</td>\n",
              "      <td>2015-12-01 16:53:21</td>\n",
              "      <td>2015-12-02 17:32:24</td>\n",
              "      <td>2015-12-03 17:40:59</td>\n",
              "      <td>2015-12-04 17:02:22</td>\n",
              "      <td>2015-12-07 16:21:37</td>\n",
              "      <td>2015-12-08 17:51:23</td>\n",
              "      <td>2015-12-09 17:48:46</td>\n",
              "      <td>2015-12-10 16:52:14</td>\n",
              "      <td>2015-12-11 17:25:56</td>\n",
              "      <td>2015-12-14 17:35:53</td>\n",
              "      <td>NaN</td>\n",
              "      <td>2015-12-16 17:54:26</td>\n",
              "      <td>NaN</td>\n",
              "      <td>NaN</td>\n",
              "      <td>2015-12-21 17:15:50</td>\n",
              "      <td>2015-12-22 17:27:51</td>\n",
              "      <td>2015-12-23 16:44:44</td>\n",
              "      <td>2015-12-24 17:47:22</td>\n",
              "      <td>NaN</td>\n",
              "      <td>2015-12-28 18:00:07</td>\n",
              "      <td>2015-12-29 17:22:30</td>\n",
              "      <td>2015-12-30 17:40:56</td>\n",
              "      <td>2015-12-31 17:17:33</td>\n",
              "    </tr>\n",
              "    <tr>\n",
              "      <th>1</th>\n",
              "      <td>2</td>\n",
              "      <td>NaN</td>\n",
              "      <td>2015-01-02 18:22:17</td>\n",
              "      <td>2015-01-05 17:48:22</td>\n",
              "      <td>NaN</td>\n",
              "      <td>2015-01-07 17:09:06</td>\n",
              "      <td>2015-01-08 17:34:04</td>\n",
              "      <td>2015-01-09 16:52:29</td>\n",
              "      <td>2015-01-12 17:36:48</td>\n",
              "      <td>2015-01-13 18:00:13</td>\n",
              "      <td>NaN</td>\n",
              "      <td>2015-01-15 17:14:44</td>\n",
              "      <td>2015-01-16 17:40:57</td>\n",
              "      <td>2015-01-19 17:58:22</td>\n",
              "      <td>2015-01-20 17:05:13</td>\n",
              "      <td>2015-01-21 17:41:05</td>\n",
              "      <td>2015-01-22 17:26:26</td>\n",
              "      <td>2015-01-23 17:06:50</td>\n",
              "      <td>NaN</td>\n",
              "      <td>2015-01-27 17:35:50</td>\n",
              "      <td>2015-01-28 17:19:48</td>\n",
              "      <td>2015-01-29 17:07:38</td>\n",
              "      <td>2015-01-30 16:53:22</td>\n",
              "      <td>2015-02-02 17:45:18</td>\n",
              "      <td>2015-02-03 17:33:42</td>\n",
              "      <td>2015-02-04 18:04:20</td>\n",
              "      <td>2015-02-05 17:43:25</td>\n",
              "      <td>2015-02-06 17:06:42</td>\n",
              "      <td>NaN</td>\n",
              "      <td>2015-02-10 18:12:17</td>\n",
              "      <td>2015-02-11 17:18:36</td>\n",
              "      <td>2015-02-12 18:08:01</td>\n",
              "      <td>2015-02-13 17:19:25</td>\n",
              "      <td>2015-02-16 17:46:09</td>\n",
              "      <td>2015-02-17 17:09:30</td>\n",
              "      <td>2015-02-18 17:48:56</td>\n",
              "      <td>2015-02-19 18:06:35</td>\n",
              "      <td>2015-02-20 17:31:45</td>\n",
              "      <td>2015-02-23 17:57:18</td>\n",
              "      <td>2015-02-24 17:32:22</td>\n",
              "      <td>2015-02-25 17:43:47</td>\n",
              "      <td>2015-02-26 17:49:55</td>\n",
              "      <td>2015-02-27 18:38:54</td>\n",
              "      <td>2015-03-02 17:36:37</td>\n",
              "      <td>2015-03-03 18:12:57</td>\n",
              "      <td>2015-03-04 17:52:38</td>\n",
              "      <td>NaN</td>\n",
              "      <td>2015-03-06 17:21:33</td>\n",
              "      <td>2015-03-09 18:10:21</td>\n",
              "      <td>2015-03-10 17:14:06</td>\n",
              "      <td>...</td>\n",
              "      <td>2015-10-23 16:37:09</td>\n",
              "      <td>2015-10-26 17:58:41</td>\n",
              "      <td>2015-10-27 18:23:56</td>\n",
              "      <td>2015-10-28 17:20:29</td>\n",
              "      <td>2015-10-29 17:44:08</td>\n",
              "      <td>2015-10-30 17:32:48</td>\n",
              "      <td>2015-11-02 17:29:17</td>\n",
              "      <td>2015-11-03 17:18:27</td>\n",
              "      <td>2015-11-04 17:54:32</td>\n",
              "      <td>2015-11-05 17:11:57</td>\n",
              "      <td>2015-11-06 17:28:38</td>\n",
              "      <td>NaN</td>\n",
              "      <td>NaN</td>\n",
              "      <td>NaN</td>\n",
              "      <td>2015-11-12 17:34:03</td>\n",
              "      <td>2015-11-13 17:38:25</td>\n",
              "      <td>2015-11-16 18:37:03</td>\n",
              "      <td>2015-11-17 17:26:09</td>\n",
              "      <td>2015-11-18 18:06:23</td>\n",
              "      <td>NaN</td>\n",
              "      <td>2015-11-20 17:52:48</td>\n",
              "      <td>2015-11-23 17:32:43</td>\n",
              "      <td>2015-11-24 17:01:00</td>\n",
              "      <td>2015-11-25 17:14:56</td>\n",
              "      <td>2015-11-26 18:28:44</td>\n",
              "      <td>2015-11-27 18:12:27</td>\n",
              "      <td>2015-11-30 17:18:40</td>\n",
              "      <td>2015-12-01 17:21:07</td>\n",
              "      <td>2015-12-02 18:02:46</td>\n",
              "      <td>2015-12-03 18:08:00</td>\n",
              "      <td>2015-12-04 18:01:03</td>\n",
              "      <td>2015-12-07 17:06:37</td>\n",
              "      <td>2015-12-08 17:44:18</td>\n",
              "      <td>2015-12-09 17:47:47</td>\n",
              "      <td>2015-12-10 17:55:23</td>\n",
              "      <td>2015-12-11 17:42:47</td>\n",
              "      <td>2015-12-14 17:32:11</td>\n",
              "      <td>2015-12-15 17:56:25</td>\n",
              "      <td>2015-12-16 18:16:37</td>\n",
              "      <td>2015-12-17 17:10:50</td>\n",
              "      <td>2015-12-18 18:31:28</td>\n",
              "      <td>2015-12-21 17:34:16</td>\n",
              "      <td>2015-12-22 18:16:35</td>\n",
              "      <td>2015-12-23 17:38:18</td>\n",
              "      <td>NaN</td>\n",
              "      <td>NaN</td>\n",
              "      <td>2015-12-28 17:08:38</td>\n",
              "      <td>2015-12-29 17:54:46</td>\n",
              "      <td>2015-12-30 18:31:35</td>\n",
              "      <td>2015-12-31 17:40:58</td>\n",
              "    </tr>\n",
              "    <tr>\n",
              "      <th>2</th>\n",
              "      <td>3</td>\n",
              "      <td>NaN</td>\n",
              "      <td>2015-01-02 16:59:14</td>\n",
              "      <td>2015-01-05 17:06:46</td>\n",
              "      <td>2015-01-06 16:38:32</td>\n",
              "      <td>2015-01-07 16:33:21</td>\n",
              "      <td>2015-01-08 17:24:22</td>\n",
              "      <td>2015-01-09 16:57:30</td>\n",
              "      <td>2015-01-12 17:28:54</td>\n",
              "      <td>2015-01-13 17:21:25</td>\n",
              "      <td>NaN</td>\n",
              "      <td>2015-01-15 17:21:29</td>\n",
              "      <td>2015-01-16 17:18:13</td>\n",
              "      <td>2015-01-19 16:52:13</td>\n",
              "      <td>2015-01-20 16:52:23</td>\n",
              "      <td>2015-01-21 17:17:50</td>\n",
              "      <td>2015-01-22 17:27:54</td>\n",
              "      <td>2015-01-23 17:11:52</td>\n",
              "      <td>NaN</td>\n",
              "      <td>2015-01-27 17:22:27</td>\n",
              "      <td>2015-01-28 16:24:04</td>\n",
              "      <td>2015-01-29 17:20:07</td>\n",
              "      <td>2015-01-30 17:16:03</td>\n",
              "      <td>2015-02-02 16:59:01</td>\n",
              "      <td>2015-02-03 15:58:24</td>\n",
              "      <td>2015-02-04 17:25:54</td>\n",
              "      <td>2015-02-05 16:29:41</td>\n",
              "      <td>2015-02-06 17:18:15</td>\n",
              "      <td>2015-02-09 16:48:18</td>\n",
              "      <td>2015-02-10 17:15:49</td>\n",
              "      <td>2015-02-11 16:49:22</td>\n",
              "      <td>2015-02-12 16:22:31</td>\n",
              "      <td>2015-02-13 17:41:15</td>\n",
              "      <td>2015-02-16 17:20:05</td>\n",
              "      <td>2015-02-17 16:46:01</td>\n",
              "      <td>2015-02-18 17:19:08</td>\n",
              "      <td>2015-02-19 16:44:56</td>\n",
              "      <td>2015-02-20 17:14:02</td>\n",
              "      <td>2015-02-23 17:59:19</td>\n",
              "      <td>2015-02-24 17:08:34</td>\n",
              "      <td>2015-02-25 16:55:31</td>\n",
              "      <td>2015-02-26 17:34:33</td>\n",
              "      <td>2015-02-27 16:48:44</td>\n",
              "      <td>2015-03-02 17:32:13</td>\n",
              "      <td>2015-03-03 17:11:01</td>\n",
              "      <td>2015-03-04 17:26:45</td>\n",
              "      <td>NaN</td>\n",
              "      <td>2015-03-06 16:35:05</td>\n",
              "      <td>2015-03-09 17:08:34</td>\n",
              "      <td>2015-03-10 16:38:33</td>\n",
              "      <td>...</td>\n",
              "      <td>2015-10-23 17:00:44</td>\n",
              "      <td>2015-10-26 17:44:21</td>\n",
              "      <td>2015-10-27 17:20:34</td>\n",
              "      <td>2015-10-28 16:22:30</td>\n",
              "      <td>2015-10-29 16:35:41</td>\n",
              "      <td>2015-10-30 16:29:34</td>\n",
              "      <td>2015-11-02 17:35:43</td>\n",
              "      <td>2015-11-03 16:55:12</td>\n",
              "      <td>2015-11-04 17:01:26</td>\n",
              "      <td>2015-11-05 17:04:42</td>\n",
              "      <td>2015-11-06 16:39:49</td>\n",
              "      <td>NaN</td>\n",
              "      <td>NaN</td>\n",
              "      <td>NaN</td>\n",
              "      <td>2015-11-12 17:36:44</td>\n",
              "      <td>2015-11-13 16:43:22</td>\n",
              "      <td>2015-11-16 16:51:03</td>\n",
              "      <td>2015-11-17 17:09:13</td>\n",
              "      <td>2015-11-18 17:28:22</td>\n",
              "      <td>2015-11-19 16:20:40</td>\n",
              "      <td>2015-11-20 17:40:18</td>\n",
              "      <td>2015-11-23 16:58:39</td>\n",
              "      <td>2015-11-24 16:33:43</td>\n",
              "      <td>2015-11-25 17:20:08</td>\n",
              "      <td>2015-11-26 17:34:28</td>\n",
              "      <td>NaN</td>\n",
              "      <td>2015-11-30 17:00:13</td>\n",
              "      <td>2015-12-01 16:59:05</td>\n",
              "      <td>2015-12-02 16:54:49</td>\n",
              "      <td>2015-12-03 17:04:26</td>\n",
              "      <td>2015-12-04 17:10:47</td>\n",
              "      <td>2015-12-07 17:09:04</td>\n",
              "      <td>2015-12-08 17:28:44</td>\n",
              "      <td>2015-12-09 17:49:34</td>\n",
              "      <td>NaN</td>\n",
              "      <td>2015-12-11 17:01:53</td>\n",
              "      <td>2015-12-14 16:48:18</td>\n",
              "      <td>2015-12-15 16:39:52</td>\n",
              "      <td>2015-12-16 16:42:44</td>\n",
              "      <td>2015-12-17 17:06:23</td>\n",
              "      <td>2015-12-18 17:02:23</td>\n",
              "      <td>2015-12-21 17:20:17</td>\n",
              "      <td>2015-12-22 16:32:50</td>\n",
              "      <td>2015-12-23 16:59:43</td>\n",
              "      <td>2015-12-24 16:58:25</td>\n",
              "      <td>NaN</td>\n",
              "      <td>2015-12-28 16:43:31</td>\n",
              "      <td>2015-12-29 17:09:56</td>\n",
              "      <td>2015-12-30 17:06:25</td>\n",
              "      <td>2015-12-31 17:15:50</td>\n",
              "    </tr>\n",
              "    <tr>\n",
              "      <th>3</th>\n",
              "      <td>4</td>\n",
              "      <td>NaN</td>\n",
              "      <td>2015-01-02 17:25:24</td>\n",
              "      <td>2015-01-05 17:14:03</td>\n",
              "      <td>2015-01-06 17:07:42</td>\n",
              "      <td>2015-01-07 16:32:40</td>\n",
              "      <td>2015-01-08 16:53:11</td>\n",
              "      <td>2015-01-09 17:19:47</td>\n",
              "      <td>2015-01-12 17:13:37</td>\n",
              "      <td>2015-01-13 17:11:45</td>\n",
              "      <td>NaN</td>\n",
              "      <td>2015-01-15 16:53:26</td>\n",
              "      <td>2015-01-16 16:52:34</td>\n",
              "      <td>2015-01-19 16:14:18</td>\n",
              "      <td>2015-01-20 17:39:50</td>\n",
              "      <td>2015-01-21 16:46:51</td>\n",
              "      <td>2015-01-22 16:51:48</td>\n",
              "      <td>2015-01-23 17:05:41</td>\n",
              "      <td>NaN</td>\n",
              "      <td>2015-01-27 17:03:48</td>\n",
              "      <td>2015-01-28 17:33:22</td>\n",
              "      <td>2015-01-29 16:44:01</td>\n",
              "      <td>2015-01-30 17:09:42</td>\n",
              "      <td>2015-02-02 17:18:12</td>\n",
              "      <td>2015-02-03 17:27:41</td>\n",
              "      <td>2015-02-04 17:30:22</td>\n",
              "      <td>2015-02-05 17:11:44</td>\n",
              "      <td>2015-02-06 16:33:04</td>\n",
              "      <td>2015-02-09 17:16:29</td>\n",
              "      <td>NaN</td>\n",
              "      <td>2015-02-11 17:04:11</td>\n",
              "      <td>2015-02-12 17:22:16</td>\n",
              "      <td>2015-02-13 17:22:54</td>\n",
              "      <td>2015-02-16 17:11:28</td>\n",
              "      <td>2015-02-17 16:59:20</td>\n",
              "      <td>2015-02-18 16:31:43</td>\n",
              "      <td>2015-02-19 17:15:20</td>\n",
              "      <td>2015-02-20 16:43:41</td>\n",
              "      <td>2015-02-23 16:44:17</td>\n",
              "      <td>2015-02-24 17:30:51</td>\n",
              "      <td>2015-02-25 16:02:49</td>\n",
              "      <td>2015-02-26 17:09:34</td>\n",
              "      <td>2015-02-27 16:59:05</td>\n",
              "      <td>NaN</td>\n",
              "      <td>2015-03-03 17:39:36</td>\n",
              "      <td>2015-03-04 16:26:53</td>\n",
              "      <td>NaN</td>\n",
              "      <td>NaN</td>\n",
              "      <td>2015-03-09 17:15:18</td>\n",
              "      <td>2015-03-10 16:53:12</td>\n",
              "      <td>...</td>\n",
              "      <td>2015-10-23 17:01:41</td>\n",
              "      <td>2015-10-26 17:25:23</td>\n",
              "      <td>2015-10-27 16:35:01</td>\n",
              "      <td>2015-10-28 16:42:00</td>\n",
              "      <td>2015-10-29 16:57:12</td>\n",
              "      <td>NaN</td>\n",
              "      <td>2015-11-02 17:04:40</td>\n",
              "      <td>2015-11-03 17:44:36</td>\n",
              "      <td>2015-11-04 17:02:18</td>\n",
              "      <td>2015-11-05 17:38:56</td>\n",
              "      <td>NaN</td>\n",
              "      <td>NaN</td>\n",
              "      <td>NaN</td>\n",
              "      <td>NaN</td>\n",
              "      <td>2015-11-12 17:44:45</td>\n",
              "      <td>2015-11-13 16:21:17</td>\n",
              "      <td>2015-11-16 16:43:22</td>\n",
              "      <td>2015-11-17 16:56:08</td>\n",
              "      <td>2015-11-18 17:19:37</td>\n",
              "      <td>2015-11-19 18:03:01</td>\n",
              "      <td>2015-11-20 17:33:33</td>\n",
              "      <td>2015-11-23 17:03:38</td>\n",
              "      <td>2015-11-24 17:49:18</td>\n",
              "      <td>2015-11-25 16:41:49</td>\n",
              "      <td>2015-11-26 17:18:08</td>\n",
              "      <td>2015-11-27 17:06:19</td>\n",
              "      <td>2015-11-30 17:08:57</td>\n",
              "      <td>2015-12-01 17:09:31</td>\n",
              "      <td>2015-12-02 17:13:35</td>\n",
              "      <td>2015-12-03 16:36:51</td>\n",
              "      <td>2015-12-04 16:47:21</td>\n",
              "      <td>2015-12-07 17:24:39</td>\n",
              "      <td>2015-12-08 17:21:05</td>\n",
              "      <td>2015-12-09 17:17:58</td>\n",
              "      <td>2015-12-10 17:10:02</td>\n",
              "      <td>2015-12-11 16:44:02</td>\n",
              "      <td>2015-12-14 17:23:57</td>\n",
              "      <td>2015-12-15 16:37:15</td>\n",
              "      <td>2015-12-16 17:40:56</td>\n",
              "      <td>2015-12-17 17:21:57</td>\n",
              "      <td>2015-12-18 17:55:23</td>\n",
              "      <td>2015-12-21 16:49:09</td>\n",
              "      <td>2015-12-22 17:24:00</td>\n",
              "      <td>2015-12-23 17:36:35</td>\n",
              "      <td>2015-12-24 16:48:21</td>\n",
              "      <td>NaN</td>\n",
              "      <td>2015-12-28 17:19:34</td>\n",
              "      <td>2015-12-29 16:58:16</td>\n",
              "      <td>2015-12-30 17:40:11</td>\n",
              "      <td>2015-12-31 17:09:14</td>\n",
              "    </tr>\n",
              "    <tr>\n",
              "      <th>4</th>\n",
              "      <td>5</td>\n",
              "      <td>NaN</td>\n",
              "      <td>2015-01-02 18:31:37</td>\n",
              "      <td>2015-01-05 17:49:15</td>\n",
              "      <td>2015-01-06 17:26:25</td>\n",
              "      <td>2015-01-07 17:37:59</td>\n",
              "      <td>2015-01-08 17:59:28</td>\n",
              "      <td>2015-01-09 17:44:08</td>\n",
              "      <td>2015-01-12 18:51:21</td>\n",
              "      <td>2015-01-13 18:14:58</td>\n",
              "      <td>NaN</td>\n",
              "      <td>2015-01-15 18:21:48</td>\n",
              "      <td>2015-01-16 18:28:03</td>\n",
              "      <td>NaN</td>\n",
              "      <td>2015-01-20 17:59:24</td>\n",
              "      <td>2015-01-21 18:41:38</td>\n",
              "      <td>2015-01-22 18:27:37</td>\n",
              "      <td>2015-01-23 16:53:11</td>\n",
              "      <td>NaN</td>\n",
              "      <td>2015-01-27 17:52:43</td>\n",
              "      <td>2015-01-28 17:40:46</td>\n",
              "      <td>2015-01-29 18:16:26</td>\n",
              "      <td>2015-01-30 18:26:33</td>\n",
              "      <td>2015-02-02 17:53:21</td>\n",
              "      <td>2015-02-03 17:57:43</td>\n",
              "      <td>2015-02-04 18:03:13</td>\n",
              "      <td>2015-02-05 18:07:43</td>\n",
              "      <td>2015-02-06 17:38:14</td>\n",
              "      <td>2015-02-09 18:26:28</td>\n",
              "      <td>2015-02-10 17:24:32</td>\n",
              "      <td>2015-02-11 18:01:25</td>\n",
              "      <td>2015-02-12 17:42:32</td>\n",
              "      <td>2015-02-13 18:28:09</td>\n",
              "      <td>2015-02-16 17:51:18</td>\n",
              "      <td>2015-02-17 18:03:31</td>\n",
              "      <td>2015-02-18 17:43:37</td>\n",
              "      <td>2015-02-19 17:29:07</td>\n",
              "      <td>2015-02-20 18:16:03</td>\n",
              "      <td>2015-02-23 18:13:52</td>\n",
              "      <td>2015-02-24 17:58:08</td>\n",
              "      <td>2015-02-25 17:57:18</td>\n",
              "      <td>2015-02-26 17:40:40</td>\n",
              "      <td>2015-02-27 18:05:49</td>\n",
              "      <td>2015-03-02 18:41:28</td>\n",
              "      <td>2015-03-03 17:39:12</td>\n",
              "      <td>2015-03-04 18:04:54</td>\n",
              "      <td>NaN</td>\n",
              "      <td>2015-03-06 18:04:19</td>\n",
              "      <td>2015-03-09 18:18:21</td>\n",
              "      <td>2015-03-10 18:06:41</td>\n",
              "      <td>...</td>\n",
              "      <td>2015-10-23 18:26:48</td>\n",
              "      <td>2015-10-26 17:42:45</td>\n",
              "      <td>2015-10-27 18:11:11</td>\n",
              "      <td>2015-10-28 18:04:54</td>\n",
              "      <td>2015-10-29 18:52:40</td>\n",
              "      <td>2015-10-30 17:29:23</td>\n",
              "      <td>2015-11-02 18:45:59</td>\n",
              "      <td>2015-11-03 17:45:51</td>\n",
              "      <td>2015-11-04 18:12:50</td>\n",
              "      <td>2015-11-05 18:22:40</td>\n",
              "      <td>2015-11-06 18:09:24</td>\n",
              "      <td>NaN</td>\n",
              "      <td>NaN</td>\n",
              "      <td>NaN</td>\n",
              "      <td>2015-11-12 18:01:24</td>\n",
              "      <td>2015-11-13 17:47:07</td>\n",
              "      <td>2015-11-16 18:13:04</td>\n",
              "      <td>2015-11-17 17:25:29</td>\n",
              "      <td>2015-11-18 18:02:00</td>\n",
              "      <td>2015-11-19 17:43:56</td>\n",
              "      <td>2015-11-20 18:32:04</td>\n",
              "      <td>2015-11-23 18:38:54</td>\n",
              "      <td>2015-11-24 18:28:51</td>\n",
              "      <td>2015-11-25 17:55:41</td>\n",
              "      <td>2015-11-26 17:32:31</td>\n",
              "      <td>2015-11-27 17:58:08</td>\n",
              "      <td>2015-11-30 18:26:15</td>\n",
              "      <td>2015-12-01 18:07:48</td>\n",
              "      <td>2015-12-02 17:02:52</td>\n",
              "      <td>2015-12-03 17:28:55</td>\n",
              "      <td>2015-12-04 17:47:17</td>\n",
              "      <td>2015-12-07 18:07:48</td>\n",
              "      <td>2015-12-08 17:50:08</td>\n",
              "      <td>2015-12-09 17:53:44</td>\n",
              "      <td>2015-12-10 18:14:09</td>\n",
              "      <td>2015-12-11 19:08:11</td>\n",
              "      <td>2015-12-14 17:55:40</td>\n",
              "      <td>2015-12-15 18:07:30</td>\n",
              "      <td>2015-12-16 18:17:11</td>\n",
              "      <td>2015-12-17 18:05:47</td>\n",
              "      <td>2015-12-18 17:52:48</td>\n",
              "      <td>2015-12-21 17:43:35</td>\n",
              "      <td>2015-12-22 18:07:57</td>\n",
              "      <td>2015-12-23 18:00:49</td>\n",
              "      <td>2015-12-24 17:59:22</td>\n",
              "      <td>NaN</td>\n",
              "      <td>2015-12-28 17:44:59</td>\n",
              "      <td>2015-12-29 18:47:00</td>\n",
              "      <td>2015-12-30 17:15:33</td>\n",
              "      <td>2015-12-31 17:42:14</td>\n",
              "    </tr>\n",
              "  </tbody>\n",
              "</table>\n",
              "<p>5 rows × 262 columns</p>\n",
              "</div>"
            ],
            "text/plain": [
              "   Unnamed: 0  2015-01-01           2015-01-02           2015-01-05  \\\n",
              "0           1         NaN  2015-01-02 16:56:15  2015-01-05 17:20:11   \n",
              "1           2         NaN  2015-01-02 18:22:17  2015-01-05 17:48:22   \n",
              "2           3         NaN  2015-01-02 16:59:14  2015-01-05 17:06:46   \n",
              "3           4         NaN  2015-01-02 17:25:24  2015-01-05 17:14:03   \n",
              "4           5         NaN  2015-01-02 18:31:37  2015-01-05 17:49:15   \n",
              "\n",
              "            2015-01-06           2015-01-07           2015-01-08  \\\n",
              "0  2015-01-06 17:19:05  2015-01-07 16:34:55  2015-01-08 17:08:32   \n",
              "1                  NaN  2015-01-07 17:09:06  2015-01-08 17:34:04   \n",
              "2  2015-01-06 16:38:32  2015-01-07 16:33:21  2015-01-08 17:24:22   \n",
              "3  2015-01-06 17:07:42  2015-01-07 16:32:40  2015-01-08 16:53:11   \n",
              "4  2015-01-06 17:26:25  2015-01-07 17:37:59  2015-01-08 17:59:28   \n",
              "\n",
              "            2015-01-09           2015-01-12           2015-01-13  2015-01-14  \\\n",
              "0  2015-01-09 17:38:29  2015-01-12 16:58:39  2015-01-13 18:02:58         NaN   \n",
              "1  2015-01-09 16:52:29  2015-01-12 17:36:48  2015-01-13 18:00:13         NaN   \n",
              "2  2015-01-09 16:57:30  2015-01-12 17:28:54  2015-01-13 17:21:25         NaN   \n",
              "3  2015-01-09 17:19:47  2015-01-12 17:13:37  2015-01-13 17:11:45         NaN   \n",
              "4  2015-01-09 17:44:08  2015-01-12 18:51:21  2015-01-13 18:14:58         NaN   \n",
              "\n",
              "            2015-01-15           2015-01-16           2015-01-19  \\\n",
              "0  2015-01-15 17:22:13  2015-01-16 17:35:11                  NaN   \n",
              "1  2015-01-15 17:14:44  2015-01-16 17:40:57  2015-01-19 17:58:22   \n",
              "2  2015-01-15 17:21:29  2015-01-16 17:18:13  2015-01-19 16:52:13   \n",
              "3  2015-01-15 16:53:26  2015-01-16 16:52:34  2015-01-19 16:14:18   \n",
              "4  2015-01-15 18:21:48  2015-01-16 18:28:03                  NaN   \n",
              "\n",
              "            2015-01-20           2015-01-21           2015-01-22  \\\n",
              "0  2015-01-20 16:37:07  2015-01-21 16:55:24  2015-01-22 16:50:47   \n",
              "1  2015-01-20 17:05:13  2015-01-21 17:41:05  2015-01-22 17:26:26   \n",
              "2  2015-01-20 16:52:23  2015-01-21 17:17:50  2015-01-22 17:27:54   \n",
              "3  2015-01-20 17:39:50  2015-01-21 16:46:51  2015-01-22 16:51:48   \n",
              "4  2015-01-20 17:59:24  2015-01-21 18:41:38  2015-01-22 18:27:37   \n",
              "\n",
              "            2015-01-23  2015-01-26           2015-01-27           2015-01-28  \\\n",
              "0  2015-01-23 17:00:01         NaN  2015-01-27 17:28:22  2015-01-28 17:03:21   \n",
              "1  2015-01-23 17:06:50         NaN  2015-01-27 17:35:50  2015-01-28 17:19:48   \n",
              "2  2015-01-23 17:11:52         NaN  2015-01-27 17:22:27  2015-01-28 16:24:04   \n",
              "3  2015-01-23 17:05:41         NaN  2015-01-27 17:03:48  2015-01-28 17:33:22   \n",
              "4  2015-01-23 16:53:11         NaN  2015-01-27 17:52:43  2015-01-28 17:40:46   \n",
              "\n",
              "            2015-01-29           2015-01-30           2015-02-02  \\\n",
              "0  2015-01-29 17:18:36  2015-01-30 17:00:25  2015-02-02 16:32:49   \n",
              "1  2015-01-29 17:07:38  2015-01-30 16:53:22  2015-02-02 17:45:18   \n",
              "2  2015-01-29 17:20:07  2015-01-30 17:16:03  2015-02-02 16:59:01   \n",
              "3  2015-01-29 16:44:01  2015-01-30 17:09:42  2015-02-02 17:18:12   \n",
              "4  2015-01-29 18:16:26  2015-01-30 18:26:33  2015-02-02 17:53:21   \n",
              "\n",
              "            2015-02-03           2015-02-04           2015-02-05  \\\n",
              "0  2015-02-03 17:35:49  2015-02-04 17:24:56  2015-02-05 17:26:31   \n",
              "1  2015-02-03 17:33:42  2015-02-04 18:04:20  2015-02-05 17:43:25   \n",
              "2  2015-02-03 15:58:24  2015-02-04 17:25:54  2015-02-05 16:29:41   \n",
              "3  2015-02-03 17:27:41  2015-02-04 17:30:22  2015-02-05 17:11:44   \n",
              "4  2015-02-03 17:57:43  2015-02-04 18:03:13  2015-02-05 18:07:43   \n",
              "\n",
              "            2015-02-06           2015-02-09           2015-02-10  \\\n",
              "0  2015-02-06 17:21:35  2015-02-09 17:37:50  2015-02-10 17:30:20   \n",
              "1  2015-02-06 17:06:42                  NaN  2015-02-10 18:12:17   \n",
              "2  2015-02-06 17:18:15  2015-02-09 16:48:18  2015-02-10 17:15:49   \n",
              "3  2015-02-06 16:33:04  2015-02-09 17:16:29                  NaN   \n",
              "4  2015-02-06 17:38:14  2015-02-09 18:26:28  2015-02-10 17:24:32   \n",
              "\n",
              "            2015-02-11           2015-02-12           2015-02-13  \\\n",
              "0  2015-02-11 17:30:19  2015-02-12 17:36:42  2015-02-13 16:25:26   \n",
              "1  2015-02-11 17:18:36  2015-02-12 18:08:01  2015-02-13 17:19:25   \n",
              "2  2015-02-11 16:49:22  2015-02-12 16:22:31  2015-02-13 17:41:15   \n",
              "3  2015-02-11 17:04:11  2015-02-12 17:22:16  2015-02-13 17:22:54   \n",
              "4  2015-02-11 18:01:25  2015-02-12 17:42:32  2015-02-13 18:28:09   \n",
              "\n",
              "            2015-02-16           2015-02-17           2015-02-18  \\\n",
              "0  2015-02-16 17:50:23  2015-02-17 17:28:06  2015-02-18 18:13:29   \n",
              "1  2015-02-16 17:46:09  2015-02-17 17:09:30  2015-02-18 17:48:56   \n",
              "2  2015-02-16 17:20:05  2015-02-17 16:46:01  2015-02-18 17:19:08   \n",
              "3  2015-02-16 17:11:28  2015-02-17 16:59:20  2015-02-18 16:31:43   \n",
              "4  2015-02-16 17:51:18  2015-02-17 18:03:31  2015-02-18 17:43:37   \n",
              "\n",
              "            2015-02-19           2015-02-20           2015-02-23  \\\n",
              "0                  NaN  2015-02-20 17:44:52  2015-02-23 17:13:27   \n",
              "1  2015-02-19 18:06:35  2015-02-20 17:31:45  2015-02-23 17:57:18   \n",
              "2  2015-02-19 16:44:56  2015-02-20 17:14:02  2015-02-23 17:59:19   \n",
              "3  2015-02-19 17:15:20  2015-02-20 16:43:41  2015-02-23 16:44:17   \n",
              "4  2015-02-19 17:29:07  2015-02-20 18:16:03  2015-02-23 18:13:52   \n",
              "\n",
              "            2015-02-24           2015-02-25           2015-02-26  \\\n",
              "0  2015-02-24 17:24:48  2015-02-25 17:27:37  2015-02-26 17:08:36   \n",
              "1  2015-02-24 17:32:22  2015-02-25 17:43:47  2015-02-26 17:49:55   \n",
              "2  2015-02-24 17:08:34  2015-02-25 16:55:31  2015-02-26 17:34:33   \n",
              "3  2015-02-24 17:30:51  2015-02-25 16:02:49  2015-02-26 17:09:34   \n",
              "4  2015-02-24 17:58:08  2015-02-25 17:57:18  2015-02-26 17:40:40   \n",
              "\n",
              "            2015-02-27           2015-03-02           2015-03-03  \\\n",
              "0  2015-02-27 17:21:55  2015-03-02 17:29:08  2015-03-03 16:54:12   \n",
              "1  2015-02-27 18:38:54  2015-03-02 17:36:37  2015-03-03 18:12:57   \n",
              "2  2015-02-27 16:48:44  2015-03-02 17:32:13  2015-03-03 17:11:01   \n",
              "3  2015-02-27 16:59:05                  NaN  2015-03-03 17:39:36   \n",
              "4  2015-02-27 18:05:49  2015-03-02 18:41:28  2015-03-03 17:39:12   \n",
              "\n",
              "            2015-03-04  2015-03-05           2015-03-06           2015-03-09  \\\n",
              "0  2015-03-04 17:50:18         NaN  2015-03-06 17:44:47  2015-03-09 17:53:05   \n",
              "1  2015-03-04 17:52:38         NaN  2015-03-06 17:21:33  2015-03-09 18:10:21   \n",
              "2  2015-03-04 17:26:45         NaN  2015-03-06 16:35:05  2015-03-09 17:08:34   \n",
              "3  2015-03-04 16:26:53         NaN                  NaN  2015-03-09 17:15:18   \n",
              "4  2015-03-04 18:04:54         NaN  2015-03-06 18:04:19  2015-03-09 18:18:21   \n",
              "\n",
              "            2015-03-10  ...           2015-10-23           2015-10-26  \\\n",
              "0  2015-03-10 16:42:53  ...  2015-10-23 17:13:46  2015-10-26 17:35:53   \n",
              "1  2015-03-10 17:14:06  ...  2015-10-23 16:37:09  2015-10-26 17:58:41   \n",
              "2  2015-03-10 16:38:33  ...  2015-10-23 17:00:44  2015-10-26 17:44:21   \n",
              "3  2015-03-10 16:53:12  ...  2015-10-23 17:01:41  2015-10-26 17:25:23   \n",
              "4  2015-03-10 18:06:41  ...  2015-10-23 18:26:48  2015-10-26 17:42:45   \n",
              "\n",
              "            2015-10-27           2015-10-28           2015-10-29  \\\n",
              "0  2015-10-27 16:28:13  2015-10-28 17:32:42  2015-10-29 16:57:29   \n",
              "1  2015-10-27 18:23:56  2015-10-28 17:20:29  2015-10-29 17:44:08   \n",
              "2  2015-10-27 17:20:34  2015-10-28 16:22:30  2015-10-29 16:35:41   \n",
              "3  2015-10-27 16:35:01  2015-10-28 16:42:00  2015-10-29 16:57:12   \n",
              "4  2015-10-27 18:11:11  2015-10-28 18:04:54  2015-10-29 18:52:40   \n",
              "\n",
              "            2015-10-30           2015-11-02           2015-11-03  \\\n",
              "0  2015-10-30 17:09:54  2015-11-02 16:53:43  2015-11-03 18:04:34   \n",
              "1  2015-10-30 17:32:48  2015-11-02 17:29:17  2015-11-03 17:18:27   \n",
              "2  2015-10-30 16:29:34  2015-11-02 17:35:43  2015-11-03 16:55:12   \n",
              "3                  NaN  2015-11-02 17:04:40  2015-11-03 17:44:36   \n",
              "4  2015-10-30 17:29:23  2015-11-02 18:45:59  2015-11-03 17:45:51   \n",
              "\n",
              "            2015-11-04           2015-11-05           2015-11-06 2015-11-09  \\\n",
              "0  2015-11-04 16:43:40  2015-11-05 18:03:15  2015-11-06 17:15:12        NaN   \n",
              "1  2015-11-04 17:54:32  2015-11-05 17:11:57  2015-11-06 17:28:38        NaN   \n",
              "2  2015-11-04 17:01:26  2015-11-05 17:04:42  2015-11-06 16:39:49        NaN   \n",
              "3  2015-11-04 17:02:18  2015-11-05 17:38:56                  NaN        NaN   \n",
              "4  2015-11-04 18:12:50  2015-11-05 18:22:40  2015-11-06 18:09:24        NaN   \n",
              "\n",
              "  2015-11-10 2015-11-11           2015-11-12           2015-11-13  \\\n",
              "0        NaN        NaN  2015-11-12 17:13:17  2015-11-13 16:49:27   \n",
              "1        NaN        NaN  2015-11-12 17:34:03  2015-11-13 17:38:25   \n",
              "2        NaN        NaN  2015-11-12 17:36:44  2015-11-13 16:43:22   \n",
              "3        NaN        NaN  2015-11-12 17:44:45  2015-11-13 16:21:17   \n",
              "4        NaN        NaN  2015-11-12 18:01:24  2015-11-13 17:47:07   \n",
              "\n",
              "            2015-11-16           2015-11-17           2015-11-18  \\\n",
              "0  2015-11-16 18:03:08  2015-11-17 17:03:06  2015-11-18 17:38:02   \n",
              "1  2015-11-16 18:37:03  2015-11-17 17:26:09  2015-11-18 18:06:23   \n",
              "2  2015-11-16 16:51:03  2015-11-17 17:09:13  2015-11-18 17:28:22   \n",
              "3  2015-11-16 16:43:22  2015-11-17 16:56:08  2015-11-18 17:19:37   \n",
              "4  2015-11-16 18:13:04  2015-11-17 17:25:29  2015-11-18 18:02:00   \n",
              "\n",
              "            2015-11-19           2015-11-20           2015-11-23  \\\n",
              "0  2015-11-19 16:46:27  2015-11-20 17:58:40  2015-11-23 17:13:22   \n",
              "1                  NaN  2015-11-20 17:52:48  2015-11-23 17:32:43   \n",
              "2  2015-11-19 16:20:40  2015-11-20 17:40:18  2015-11-23 16:58:39   \n",
              "3  2015-11-19 18:03:01  2015-11-20 17:33:33  2015-11-23 17:03:38   \n",
              "4  2015-11-19 17:43:56  2015-11-20 18:32:04  2015-11-23 18:38:54   \n",
              "\n",
              "            2015-11-24           2015-11-25           2015-11-26  \\\n",
              "0  2015-11-24 17:37:21  2015-11-25 17:26:51  2015-11-26 17:44:49   \n",
              "1  2015-11-24 17:01:00  2015-11-25 17:14:56  2015-11-26 18:28:44   \n",
              "2  2015-11-24 16:33:43  2015-11-25 17:20:08  2015-11-26 17:34:28   \n",
              "3  2015-11-24 17:49:18  2015-11-25 16:41:49  2015-11-26 17:18:08   \n",
              "4  2015-11-24 18:28:51  2015-11-25 17:55:41  2015-11-26 17:32:31   \n",
              "\n",
              "            2015-11-27           2015-11-30           2015-12-01  \\\n",
              "0  2015-11-27 17:30:02  2015-11-30 17:05:11  2015-12-01 16:53:21   \n",
              "1  2015-11-27 18:12:27  2015-11-30 17:18:40  2015-12-01 17:21:07   \n",
              "2                  NaN  2015-11-30 17:00:13  2015-12-01 16:59:05   \n",
              "3  2015-11-27 17:06:19  2015-11-30 17:08:57  2015-12-01 17:09:31   \n",
              "4  2015-11-27 17:58:08  2015-11-30 18:26:15  2015-12-01 18:07:48   \n",
              "\n",
              "            2015-12-02           2015-12-03           2015-12-04  \\\n",
              "0  2015-12-02 17:32:24  2015-12-03 17:40:59  2015-12-04 17:02:22   \n",
              "1  2015-12-02 18:02:46  2015-12-03 18:08:00  2015-12-04 18:01:03   \n",
              "2  2015-12-02 16:54:49  2015-12-03 17:04:26  2015-12-04 17:10:47   \n",
              "3  2015-12-02 17:13:35  2015-12-03 16:36:51  2015-12-04 16:47:21   \n",
              "4  2015-12-02 17:02:52  2015-12-03 17:28:55  2015-12-04 17:47:17   \n",
              "\n",
              "            2015-12-07           2015-12-08           2015-12-09  \\\n",
              "0  2015-12-07 16:21:37  2015-12-08 17:51:23  2015-12-09 17:48:46   \n",
              "1  2015-12-07 17:06:37  2015-12-08 17:44:18  2015-12-09 17:47:47   \n",
              "2  2015-12-07 17:09:04  2015-12-08 17:28:44  2015-12-09 17:49:34   \n",
              "3  2015-12-07 17:24:39  2015-12-08 17:21:05  2015-12-09 17:17:58   \n",
              "4  2015-12-07 18:07:48  2015-12-08 17:50:08  2015-12-09 17:53:44   \n",
              "\n",
              "            2015-12-10           2015-12-11           2015-12-14  \\\n",
              "0  2015-12-10 16:52:14  2015-12-11 17:25:56  2015-12-14 17:35:53   \n",
              "1  2015-12-10 17:55:23  2015-12-11 17:42:47  2015-12-14 17:32:11   \n",
              "2                  NaN  2015-12-11 17:01:53  2015-12-14 16:48:18   \n",
              "3  2015-12-10 17:10:02  2015-12-11 16:44:02  2015-12-14 17:23:57   \n",
              "4  2015-12-10 18:14:09  2015-12-11 19:08:11  2015-12-14 17:55:40   \n",
              "\n",
              "            2015-12-15           2015-12-16           2015-12-17  \\\n",
              "0                  NaN  2015-12-16 17:54:26                  NaN   \n",
              "1  2015-12-15 17:56:25  2015-12-16 18:16:37  2015-12-17 17:10:50   \n",
              "2  2015-12-15 16:39:52  2015-12-16 16:42:44  2015-12-17 17:06:23   \n",
              "3  2015-12-15 16:37:15  2015-12-16 17:40:56  2015-12-17 17:21:57   \n",
              "4  2015-12-15 18:07:30  2015-12-16 18:17:11  2015-12-17 18:05:47   \n",
              "\n",
              "            2015-12-18           2015-12-21           2015-12-22  \\\n",
              "0                  NaN  2015-12-21 17:15:50  2015-12-22 17:27:51   \n",
              "1  2015-12-18 18:31:28  2015-12-21 17:34:16  2015-12-22 18:16:35   \n",
              "2  2015-12-18 17:02:23  2015-12-21 17:20:17  2015-12-22 16:32:50   \n",
              "3  2015-12-18 17:55:23  2015-12-21 16:49:09  2015-12-22 17:24:00   \n",
              "4  2015-12-18 17:52:48  2015-12-21 17:43:35  2015-12-22 18:07:57   \n",
              "\n",
              "            2015-12-23           2015-12-24 2015-12-25           2015-12-28  \\\n",
              "0  2015-12-23 16:44:44  2015-12-24 17:47:22        NaN  2015-12-28 18:00:07   \n",
              "1  2015-12-23 17:38:18                  NaN        NaN  2015-12-28 17:08:38   \n",
              "2  2015-12-23 16:59:43  2015-12-24 16:58:25        NaN  2015-12-28 16:43:31   \n",
              "3  2015-12-23 17:36:35  2015-12-24 16:48:21        NaN  2015-12-28 17:19:34   \n",
              "4  2015-12-23 18:00:49  2015-12-24 17:59:22        NaN  2015-12-28 17:44:59   \n",
              "\n",
              "            2015-12-29           2015-12-30           2015-12-31  \n",
              "0  2015-12-29 17:22:30  2015-12-30 17:40:56  2015-12-31 17:17:33  \n",
              "1  2015-12-29 17:54:46  2015-12-30 18:31:35  2015-12-31 17:40:58  \n",
              "2  2015-12-29 17:09:56  2015-12-30 17:06:25  2015-12-31 17:15:50  \n",
              "3  2015-12-29 16:58:16  2015-12-30 17:40:11  2015-12-31 17:09:14  \n",
              "4  2015-12-29 18:47:00  2015-12-30 17:15:33  2015-12-31 17:42:14  \n",
              "\n",
              "[5 rows x 262 columns]"
            ]
          },
          "metadata": {
            "tags": []
          },
          "execution_count": 13
        }
      ]
    },
    {
      "cell_type": "code",
      "metadata": {
        "id": "b9FLpNmpE2ph",
        "colab_type": "code",
        "outputId": "a7653142-c628-4cb4-eaab-1c26f3c07aa8",
        "colab": {
          "base_uri": "https://localhost:8080/",
          "height": 204
        }
      },
      "source": [
        "manager_survey_data.head()"
      ],
      "execution_count": 14,
      "outputs": [
        {
          "output_type": "execute_result",
          "data": {
            "text/html": [
              "<div>\n",
              "<style scoped>\n",
              "    .dataframe tbody tr th:only-of-type {\n",
              "        vertical-align: middle;\n",
              "    }\n",
              "\n",
              "    .dataframe tbody tr th {\n",
              "        vertical-align: top;\n",
              "    }\n",
              "\n",
              "    .dataframe thead th {\n",
              "        text-align: right;\n",
              "    }\n",
              "</style>\n",
              "<table border=\"1\" class=\"dataframe\">\n",
              "  <thead>\n",
              "    <tr style=\"text-align: right;\">\n",
              "      <th></th>\n",
              "      <th>EmployeeID</th>\n",
              "      <th>JobInvolvement</th>\n",
              "      <th>PerformanceRating</th>\n",
              "    </tr>\n",
              "  </thead>\n",
              "  <tbody>\n",
              "    <tr>\n",
              "      <th>0</th>\n",
              "      <td>1</td>\n",
              "      <td>3</td>\n",
              "      <td>3</td>\n",
              "    </tr>\n",
              "    <tr>\n",
              "      <th>1</th>\n",
              "      <td>2</td>\n",
              "      <td>2</td>\n",
              "      <td>4</td>\n",
              "    </tr>\n",
              "    <tr>\n",
              "      <th>2</th>\n",
              "      <td>3</td>\n",
              "      <td>3</td>\n",
              "      <td>3</td>\n",
              "    </tr>\n",
              "    <tr>\n",
              "      <th>3</th>\n",
              "      <td>4</td>\n",
              "      <td>2</td>\n",
              "      <td>3</td>\n",
              "    </tr>\n",
              "    <tr>\n",
              "      <th>4</th>\n",
              "      <td>5</td>\n",
              "      <td>3</td>\n",
              "      <td>3</td>\n",
              "    </tr>\n",
              "  </tbody>\n",
              "</table>\n",
              "</div>"
            ],
            "text/plain": [
              "   EmployeeID  JobInvolvement  PerformanceRating\n",
              "0           1               3                  3\n",
              "1           2               2                  4\n",
              "2           3               3                  3\n",
              "3           4               2                  3\n",
              "4           5               3                  3"
            ]
          },
          "metadata": {
            "tags": []
          },
          "execution_count": 14
        }
      ]
    },
    {
      "cell_type": "code",
      "metadata": {
        "id": "xCoYD4ZnE2pp",
        "colab_type": "code",
        "outputId": "5a042bda-c0ce-4fd9-c044-115eef0697e8",
        "colab": {
          "base_uri": "https://localhost:8080/",
          "height": 221
        }
      },
      "source": [
        "print('''<b>The shapes of our data files are as follows :</b> \n",
        "        \\nemployee_survey_data : {}\n",
        "        \\ngeneral_data : {}\n",
        "        \\nmanager_survey_data : {}\n",
        "        \\nin_time : {}\n",
        "        \\nout_time : {}\n",
        "      '''.format(employee_survey_data.shape, \n",
        "                 general_data.shape,\n",
        "                 manager_survey_data.shape, \n",
        "                 in_time.shape, \n",
        "                 out_time.shape))"
      ],
      "execution_count": 15,
      "outputs": [
        {
          "output_type": "stream",
          "text": [
            "<b>The shapes of our data files are as follows :</b> \n",
            "        \n",
            "employee_survey_data : (4410, 4)\n",
            "        \n",
            "general_data : (4410, 24)\n",
            "        \n",
            "manager_survey_data : (4410, 3)\n",
            "        \n",
            "in_time : (4410, 262)\n",
            "        \n",
            "out_time : (4410, 262)\n",
            "      \n"
          ],
          "name": "stdout"
        }
      ]
    },
    {
      "cell_type": "markdown",
      "metadata": {
        "id": "iU0TngfYE2ps",
        "colab_type": "text"
      },
      "source": [
        "## Merging our datasets together."
      ]
    },
    {
      "cell_type": "code",
      "metadata": {
        "id": "EOAsQJSxT9Zl",
        "colab_type": "code",
        "outputId": "b47c4070-4fb3-4d0e-bf2c-ae5de9eb4bb7",
        "colab": {
          "base_uri": "https://localhost:8080/",
          "height": 0
        }
      },
      "source": [
        "data = employee_survey_data.merge(general_data.merge(manager_survey_data, on='EmployeeID'), on='EmployeeID')\n",
        "# setting the EmployeeID as the index for our dataset\n",
        "data.set_index('EmployeeID', inplace=True)\n",
        "print(data.shape)"
      ],
      "execution_count": 16,
      "outputs": [
        {
          "output_type": "stream",
          "text": [
            "(4410, 28)\n"
          ],
          "name": "stdout"
        }
      ]
    },
    {
      "cell_type": "code",
      "metadata": {
        "id": "8hytMEHMZgML",
        "colab_type": "code",
        "outputId": "bc442e08-d687-41a1-80cf-5e90be567620",
        "colab": {
          "base_uri": "https://localhost:8080/",
          "height": 0
        }
      },
      "source": [
        "data.head()"
      ],
      "execution_count": 17,
      "outputs": [
        {
          "output_type": "execute_result",
          "data": {
            "text/html": [
              "<div>\n",
              "<style scoped>\n",
              "    .dataframe tbody tr th:only-of-type {\n",
              "        vertical-align: middle;\n",
              "    }\n",
              "\n",
              "    .dataframe tbody tr th {\n",
              "        vertical-align: top;\n",
              "    }\n",
              "\n",
              "    .dataframe thead th {\n",
              "        text-align: right;\n",
              "    }\n",
              "</style>\n",
              "<table border=\"1\" class=\"dataframe\">\n",
              "  <thead>\n",
              "    <tr style=\"text-align: right;\">\n",
              "      <th></th>\n",
              "      <th>EnvironmentSatisfaction</th>\n",
              "      <th>JobSatisfaction</th>\n",
              "      <th>WorkLifeBalance</th>\n",
              "      <th>Age</th>\n",
              "      <th>Attrition</th>\n",
              "      <th>BusinessTravel</th>\n",
              "      <th>Department</th>\n",
              "      <th>DistanceFromHome</th>\n",
              "      <th>Education</th>\n",
              "      <th>EducationField</th>\n",
              "      <th>EmployeeCount</th>\n",
              "      <th>Gender</th>\n",
              "      <th>JobLevel</th>\n",
              "      <th>JobRole</th>\n",
              "      <th>MaritalStatus</th>\n",
              "      <th>MonthlyIncome</th>\n",
              "      <th>NumCompaniesWorked</th>\n",
              "      <th>Over18</th>\n",
              "      <th>PercentSalaryHike</th>\n",
              "      <th>StandardHours</th>\n",
              "      <th>StockOptionLevel</th>\n",
              "      <th>TotalWorkingYears</th>\n",
              "      <th>TrainingTimesLastYear</th>\n",
              "      <th>YearsAtCompany</th>\n",
              "      <th>YearsSinceLastPromotion</th>\n",
              "      <th>YearsWithCurrManager</th>\n",
              "      <th>JobInvolvement</th>\n",
              "      <th>PerformanceRating</th>\n",
              "    </tr>\n",
              "    <tr>\n",
              "      <th>EmployeeID</th>\n",
              "      <th></th>\n",
              "      <th></th>\n",
              "      <th></th>\n",
              "      <th></th>\n",
              "      <th></th>\n",
              "      <th></th>\n",
              "      <th></th>\n",
              "      <th></th>\n",
              "      <th></th>\n",
              "      <th></th>\n",
              "      <th></th>\n",
              "      <th></th>\n",
              "      <th></th>\n",
              "      <th></th>\n",
              "      <th></th>\n",
              "      <th></th>\n",
              "      <th></th>\n",
              "      <th></th>\n",
              "      <th></th>\n",
              "      <th></th>\n",
              "      <th></th>\n",
              "      <th></th>\n",
              "      <th></th>\n",
              "      <th></th>\n",
              "      <th></th>\n",
              "      <th></th>\n",
              "      <th></th>\n",
              "      <th></th>\n",
              "    </tr>\n",
              "  </thead>\n",
              "  <tbody>\n",
              "    <tr>\n",
              "      <th>1</th>\n",
              "      <td>3.0</td>\n",
              "      <td>4.0</td>\n",
              "      <td>2.0</td>\n",
              "      <td>51</td>\n",
              "      <td>No</td>\n",
              "      <td>Travel_Rarely</td>\n",
              "      <td>Sales</td>\n",
              "      <td>6</td>\n",
              "      <td>2</td>\n",
              "      <td>Life Sciences</td>\n",
              "      <td>1</td>\n",
              "      <td>Female</td>\n",
              "      <td>1</td>\n",
              "      <td>Healthcare Representative</td>\n",
              "      <td>Married</td>\n",
              "      <td>131160</td>\n",
              "      <td>1.0</td>\n",
              "      <td>Y</td>\n",
              "      <td>11</td>\n",
              "      <td>8</td>\n",
              "      <td>0</td>\n",
              "      <td>1.0</td>\n",
              "      <td>6</td>\n",
              "      <td>1</td>\n",
              "      <td>0</td>\n",
              "      <td>0</td>\n",
              "      <td>3</td>\n",
              "      <td>3</td>\n",
              "    </tr>\n",
              "    <tr>\n",
              "      <th>2</th>\n",
              "      <td>3.0</td>\n",
              "      <td>2.0</td>\n",
              "      <td>4.0</td>\n",
              "      <td>31</td>\n",
              "      <td>Yes</td>\n",
              "      <td>Travel_Frequently</td>\n",
              "      <td>Research &amp; Development</td>\n",
              "      <td>10</td>\n",
              "      <td>1</td>\n",
              "      <td>Life Sciences</td>\n",
              "      <td>1</td>\n",
              "      <td>Female</td>\n",
              "      <td>1</td>\n",
              "      <td>Research Scientist</td>\n",
              "      <td>Single</td>\n",
              "      <td>41890</td>\n",
              "      <td>0.0</td>\n",
              "      <td>Y</td>\n",
              "      <td>23</td>\n",
              "      <td>8</td>\n",
              "      <td>1</td>\n",
              "      <td>6.0</td>\n",
              "      <td>3</td>\n",
              "      <td>5</td>\n",
              "      <td>1</td>\n",
              "      <td>4</td>\n",
              "      <td>2</td>\n",
              "      <td>4</td>\n",
              "    </tr>\n",
              "    <tr>\n",
              "      <th>3</th>\n",
              "      <td>2.0</td>\n",
              "      <td>2.0</td>\n",
              "      <td>1.0</td>\n",
              "      <td>32</td>\n",
              "      <td>No</td>\n",
              "      <td>Travel_Frequently</td>\n",
              "      <td>Research &amp; Development</td>\n",
              "      <td>17</td>\n",
              "      <td>4</td>\n",
              "      <td>Other</td>\n",
              "      <td>1</td>\n",
              "      <td>Male</td>\n",
              "      <td>4</td>\n",
              "      <td>Sales Executive</td>\n",
              "      <td>Married</td>\n",
              "      <td>193280</td>\n",
              "      <td>1.0</td>\n",
              "      <td>Y</td>\n",
              "      <td>15</td>\n",
              "      <td>8</td>\n",
              "      <td>3</td>\n",
              "      <td>5.0</td>\n",
              "      <td>2</td>\n",
              "      <td>5</td>\n",
              "      <td>0</td>\n",
              "      <td>3</td>\n",
              "      <td>3</td>\n",
              "      <td>3</td>\n",
              "    </tr>\n",
              "    <tr>\n",
              "      <th>4</th>\n",
              "      <td>4.0</td>\n",
              "      <td>4.0</td>\n",
              "      <td>3.0</td>\n",
              "      <td>38</td>\n",
              "      <td>No</td>\n",
              "      <td>Non-Travel</td>\n",
              "      <td>Research &amp; Development</td>\n",
              "      <td>2</td>\n",
              "      <td>5</td>\n",
              "      <td>Life Sciences</td>\n",
              "      <td>1</td>\n",
              "      <td>Male</td>\n",
              "      <td>3</td>\n",
              "      <td>Human Resources</td>\n",
              "      <td>Married</td>\n",
              "      <td>83210</td>\n",
              "      <td>3.0</td>\n",
              "      <td>Y</td>\n",
              "      <td>11</td>\n",
              "      <td>8</td>\n",
              "      <td>3</td>\n",
              "      <td>13.0</td>\n",
              "      <td>5</td>\n",
              "      <td>8</td>\n",
              "      <td>7</td>\n",
              "      <td>5</td>\n",
              "      <td>2</td>\n",
              "      <td>3</td>\n",
              "    </tr>\n",
              "    <tr>\n",
              "      <th>5</th>\n",
              "      <td>4.0</td>\n",
              "      <td>1.0</td>\n",
              "      <td>3.0</td>\n",
              "      <td>32</td>\n",
              "      <td>No</td>\n",
              "      <td>Travel_Rarely</td>\n",
              "      <td>Research &amp; Development</td>\n",
              "      <td>10</td>\n",
              "      <td>1</td>\n",
              "      <td>Medical</td>\n",
              "      <td>1</td>\n",
              "      <td>Male</td>\n",
              "      <td>1</td>\n",
              "      <td>Sales Executive</td>\n",
              "      <td>Single</td>\n",
              "      <td>23420</td>\n",
              "      <td>4.0</td>\n",
              "      <td>Y</td>\n",
              "      <td>12</td>\n",
              "      <td>8</td>\n",
              "      <td>2</td>\n",
              "      <td>9.0</td>\n",
              "      <td>2</td>\n",
              "      <td>6</td>\n",
              "      <td>0</td>\n",
              "      <td>4</td>\n",
              "      <td>3</td>\n",
              "      <td>3</td>\n",
              "    </tr>\n",
              "  </tbody>\n",
              "</table>\n",
              "</div>"
            ],
            "text/plain": [
              "            EnvironmentSatisfaction  JobSatisfaction  WorkLifeBalance  Age  \\\n",
              "EmployeeID                                                                   \n",
              "1                               3.0              4.0              2.0   51   \n",
              "2                               3.0              2.0              4.0   31   \n",
              "3                               2.0              2.0              1.0   32   \n",
              "4                               4.0              4.0              3.0   38   \n",
              "5                               4.0              1.0              3.0   32   \n",
              "\n",
              "           Attrition     BusinessTravel              Department  \\\n",
              "EmployeeID                                                        \n",
              "1                 No      Travel_Rarely                   Sales   \n",
              "2                Yes  Travel_Frequently  Research & Development   \n",
              "3                 No  Travel_Frequently  Research & Development   \n",
              "4                 No         Non-Travel  Research & Development   \n",
              "5                 No      Travel_Rarely  Research & Development   \n",
              "\n",
              "            DistanceFromHome  Education EducationField  EmployeeCount  Gender  \\\n",
              "EmployeeID                                                                      \n",
              "1                          6          2  Life Sciences              1  Female   \n",
              "2                         10          1  Life Sciences              1  Female   \n",
              "3                         17          4          Other              1    Male   \n",
              "4                          2          5  Life Sciences              1    Male   \n",
              "5                         10          1        Medical              1    Male   \n",
              "\n",
              "            JobLevel                    JobRole MaritalStatus  MonthlyIncome  \\\n",
              "EmployeeID                                                                     \n",
              "1                  1  Healthcare Representative       Married         131160   \n",
              "2                  1         Research Scientist        Single          41890   \n",
              "3                  4            Sales Executive       Married         193280   \n",
              "4                  3            Human Resources       Married          83210   \n",
              "5                  1            Sales Executive        Single          23420   \n",
              "\n",
              "            NumCompaniesWorked Over18  PercentSalaryHike  StandardHours  \\\n",
              "EmployeeID                                                                \n",
              "1                          1.0      Y                 11              8   \n",
              "2                          0.0      Y                 23              8   \n",
              "3                          1.0      Y                 15              8   \n",
              "4                          3.0      Y                 11              8   \n",
              "5                          4.0      Y                 12              8   \n",
              "\n",
              "            StockOptionLevel  TotalWorkingYears  TrainingTimesLastYear  \\\n",
              "EmployeeID                                                               \n",
              "1                          0                1.0                      6   \n",
              "2                          1                6.0                      3   \n",
              "3                          3                5.0                      2   \n",
              "4                          3               13.0                      5   \n",
              "5                          2                9.0                      2   \n",
              "\n",
              "            YearsAtCompany  YearsSinceLastPromotion  YearsWithCurrManager  \\\n",
              "EmployeeID                                                                  \n",
              "1                        1                        0                     0   \n",
              "2                        5                        1                     4   \n",
              "3                        5                        0                     3   \n",
              "4                        8                        7                     5   \n",
              "5                        6                        0                     4   \n",
              "\n",
              "            JobInvolvement  PerformanceRating  \n",
              "EmployeeID                                     \n",
              "1                        3                  3  \n",
              "2                        2                  4  \n",
              "3                        3                  3  \n",
              "4                        2                  3  \n",
              "5                        3                  3  "
            ]
          },
          "metadata": {
            "tags": []
          },
          "execution_count": 17
        }
      ]
    },
    {
      "cell_type": "markdown",
      "metadata": {
        "id": "nd7TEwD5Xppw",
        "colab_type": "text"
      },
      "source": [
        "# Exploing the datasets 'in_time' and 'out_time'.\n",
        "\n",
        "**The datasets 'in_tine' and 'out_time' are the employee login and logout times respectively, on the working dates in the year of 2015.**  \n",
        "**The column 'Unnamed: 0' in both of the above mentioned datasets, refer to the employee ID of an employee.**  \n",
        "**Renaming the 'Unnamed: 0' column in the datasets 'in_time' and 'out_time', to match the other datasets.**"
      ]
    },
    {
      "cell_type": "code",
      "metadata": {
        "id": "LNgRFN7zsUoR",
        "colab_type": "code",
        "colab": {}
      },
      "source": [
        "in_time.rename(columns={'Unnamed: 0':'EmployeeID'}, inplace=True)\n",
        "out_time.rename(columns={'Unnamed: 0':'EmployeeID'}, inplace=True)"
      ],
      "execution_count": 0,
      "outputs": []
    },
    {
      "cell_type": "markdown",
      "metadata": {
        "id": "yLpJWH-tkRLA",
        "colab_type": "text"
      },
      "source": [
        "**Let's check the value representation in these two datasets.**"
      ]
    },
    {
      "cell_type": "code",
      "metadata": {
        "id": "lJTvHK8Ttn0u",
        "colab_type": "code",
        "outputId": "9a4b60da-9e35-46fd-fee1-e325c68a7084",
        "colab": {
          "base_uri": "https://localhost:8080/",
          "height": 68
        }
      },
      "source": [
        "print('''The login time for the employee with ID 465 on {} is : {}. \n",
        "        \\nThe logout time for the employee with ID 465 on {} is : {}'''.format((list(in_time.columns))[35], in_time.iloc[465, 35],\n",
        "                                                                               (list(out_time.columns))[35], out_time.iloc[465, 35]))"
      ],
      "execution_count": 19,
      "outputs": [
        {
          "output_type": "stream",
          "text": [
            "The login time for the employee with ID 465 on 2015-02-18 is : 2015-02-18 10:04:44. \n",
            "        \n",
            "The logout time for the employee with ID 465 on 2015-02-18 is : 2015-02-18 16:46:19\n"
          ],
          "name": "stdout"
        }
      ]
    },
    {
      "cell_type": "markdown",
      "metadata": {
        "id": "ljZBGeLD2axI",
        "colab_type": "text"
      },
      "source": [
        "**Setting the column of 'EmployeeID' in these two datasets, in order to prevent any kind of opertion or transformation effecting them.**"
      ]
    },
    {
      "cell_type": "code",
      "metadata": {
        "id": "ElpmN0gBWG79",
        "colab_type": "code",
        "colab": {}
      },
      "source": [
        "in_time.set_index('EmployeeID', inplace=True)\n",
        "out_time.set_index('EmployeeID', inplace=True)\n",
        "# Convertig the values in in_time and out_time to datetime\n",
        "in_time = in_time.apply(pd.to_datetime)\n",
        "out_time = out_time.apply(pd.to_datetime)"
      ],
      "execution_count": 0,
      "outputs": []
    },
    {
      "cell_type": "markdown",
      "metadata": {
        "id": "ex-vbM_1fzL5",
        "colab_type": "text"
      },
      "source": [
        "## Feature engineering of the in_time and out_time datasets in order to produce the following featues - \n",
        "\n",
        "* mean_login_time : mean login time of an employee through the year\n",
        "* mean_logout_time : mean logout time of an employee through the year\n",
        "* std_login_time : standard deviation of login time of an employee though the year\n",
        "* std_logout_time : standard deviation of logout time of an employee through the year\n",
        "* tot_working_time : total amount of hours worked by an employee through the year\n",
        "* avg_working_time_per_day : average hours worked per day for an employee\n",
        "* overtime (assuming it is a 8 hours/day shift) : total hours of overtime by an employee through the year"
      ]
    },
    {
      "cell_type": "markdown",
      "metadata": {
        "id": "7inUvZN53edj",
        "colab_type": "text"
      },
      "source": [
        "**Let's compute the total logged hours worked by an employee through the year on a monthly basis.**"
      ]
    },
    {
      "cell_type": "code",
      "metadata": {
        "id": "1TE8WvT-WGoM",
        "colab_type": "code",
        "colab": {}
      },
      "source": [
        "# hours worked on a daily basis\n",
        "working_time = out_time - in_time"
      ],
      "execution_count": 0,
      "outputs": []
    },
    {
      "cell_type": "code",
      "metadata": {
        "id": "vHWjRrX4WVoB",
        "colab_type": "code",
        "outputId": "ce089587-67f6-4256-812e-97622c384034",
        "colab": {
          "base_uri": "https://localhost:8080/",
          "height": 301
        }
      },
      "source": [
        "working_time.head()"
      ],
      "execution_count": 22,
      "outputs": [
        {
          "output_type": "execute_result",
          "data": {
            "text/html": [
              "<div>\n",
              "<style scoped>\n",
              "    .dataframe tbody tr th:only-of-type {\n",
              "        vertical-align: middle;\n",
              "    }\n",
              "\n",
              "    .dataframe tbody tr th {\n",
              "        vertical-align: top;\n",
              "    }\n",
              "\n",
              "    .dataframe thead th {\n",
              "        text-align: right;\n",
              "    }\n",
              "</style>\n",
              "<table border=\"1\" class=\"dataframe\">\n",
              "  <thead>\n",
              "    <tr style=\"text-align: right;\">\n",
              "      <th></th>\n",
              "      <th>2015-01-01</th>\n",
              "      <th>2015-01-02</th>\n",
              "      <th>2015-01-05</th>\n",
              "      <th>2015-01-06</th>\n",
              "      <th>2015-01-07</th>\n",
              "      <th>2015-01-08</th>\n",
              "      <th>2015-01-09</th>\n",
              "      <th>2015-01-12</th>\n",
              "      <th>2015-01-13</th>\n",
              "      <th>2015-01-14</th>\n",
              "      <th>2015-01-15</th>\n",
              "      <th>2015-01-16</th>\n",
              "      <th>2015-01-19</th>\n",
              "      <th>2015-01-20</th>\n",
              "      <th>2015-01-21</th>\n",
              "      <th>2015-01-22</th>\n",
              "      <th>2015-01-23</th>\n",
              "      <th>2015-01-26</th>\n",
              "      <th>2015-01-27</th>\n",
              "      <th>2015-01-28</th>\n",
              "      <th>2015-01-29</th>\n",
              "      <th>2015-01-30</th>\n",
              "      <th>2015-02-02</th>\n",
              "      <th>2015-02-03</th>\n",
              "      <th>2015-02-04</th>\n",
              "      <th>2015-02-05</th>\n",
              "      <th>2015-02-06</th>\n",
              "      <th>2015-02-09</th>\n",
              "      <th>2015-02-10</th>\n",
              "      <th>2015-02-11</th>\n",
              "      <th>2015-02-12</th>\n",
              "      <th>2015-02-13</th>\n",
              "      <th>2015-02-16</th>\n",
              "      <th>2015-02-17</th>\n",
              "      <th>2015-02-18</th>\n",
              "      <th>2015-02-19</th>\n",
              "      <th>2015-02-20</th>\n",
              "      <th>2015-02-23</th>\n",
              "      <th>2015-02-24</th>\n",
              "      <th>2015-02-25</th>\n",
              "      <th>2015-02-26</th>\n",
              "      <th>2015-02-27</th>\n",
              "      <th>2015-03-02</th>\n",
              "      <th>2015-03-03</th>\n",
              "      <th>2015-03-04</th>\n",
              "      <th>2015-03-05</th>\n",
              "      <th>2015-03-06</th>\n",
              "      <th>2015-03-09</th>\n",
              "      <th>2015-03-10</th>\n",
              "      <th>2015-03-11</th>\n",
              "      <th>...</th>\n",
              "      <th>2015-10-23</th>\n",
              "      <th>2015-10-26</th>\n",
              "      <th>2015-10-27</th>\n",
              "      <th>2015-10-28</th>\n",
              "      <th>2015-10-29</th>\n",
              "      <th>2015-10-30</th>\n",
              "      <th>2015-11-02</th>\n",
              "      <th>2015-11-03</th>\n",
              "      <th>2015-11-04</th>\n",
              "      <th>2015-11-05</th>\n",
              "      <th>2015-11-06</th>\n",
              "      <th>2015-11-09</th>\n",
              "      <th>2015-11-10</th>\n",
              "      <th>2015-11-11</th>\n",
              "      <th>2015-11-12</th>\n",
              "      <th>2015-11-13</th>\n",
              "      <th>2015-11-16</th>\n",
              "      <th>2015-11-17</th>\n",
              "      <th>2015-11-18</th>\n",
              "      <th>2015-11-19</th>\n",
              "      <th>2015-11-20</th>\n",
              "      <th>2015-11-23</th>\n",
              "      <th>2015-11-24</th>\n",
              "      <th>2015-11-25</th>\n",
              "      <th>2015-11-26</th>\n",
              "      <th>2015-11-27</th>\n",
              "      <th>2015-11-30</th>\n",
              "      <th>2015-12-01</th>\n",
              "      <th>2015-12-02</th>\n",
              "      <th>2015-12-03</th>\n",
              "      <th>2015-12-04</th>\n",
              "      <th>2015-12-07</th>\n",
              "      <th>2015-12-08</th>\n",
              "      <th>2015-12-09</th>\n",
              "      <th>2015-12-10</th>\n",
              "      <th>2015-12-11</th>\n",
              "      <th>2015-12-14</th>\n",
              "      <th>2015-12-15</th>\n",
              "      <th>2015-12-16</th>\n",
              "      <th>2015-12-17</th>\n",
              "      <th>2015-12-18</th>\n",
              "      <th>2015-12-21</th>\n",
              "      <th>2015-12-22</th>\n",
              "      <th>2015-12-23</th>\n",
              "      <th>2015-12-24</th>\n",
              "      <th>2015-12-25</th>\n",
              "      <th>2015-12-28</th>\n",
              "      <th>2015-12-29</th>\n",
              "      <th>2015-12-30</th>\n",
              "      <th>2015-12-31</th>\n",
              "    </tr>\n",
              "    <tr>\n",
              "      <th>EmployeeID</th>\n",
              "      <th></th>\n",
              "      <th></th>\n",
              "      <th></th>\n",
              "      <th></th>\n",
              "      <th></th>\n",
              "      <th></th>\n",
              "      <th></th>\n",
              "      <th></th>\n",
              "      <th></th>\n",
              "      <th></th>\n",
              "      <th></th>\n",
              "      <th></th>\n",
              "      <th></th>\n",
              "      <th></th>\n",
              "      <th></th>\n",
              "      <th></th>\n",
              "      <th></th>\n",
              "      <th></th>\n",
              "      <th></th>\n",
              "      <th></th>\n",
              "      <th></th>\n",
              "      <th></th>\n",
              "      <th></th>\n",
              "      <th></th>\n",
              "      <th></th>\n",
              "      <th></th>\n",
              "      <th></th>\n",
              "      <th></th>\n",
              "      <th></th>\n",
              "      <th></th>\n",
              "      <th></th>\n",
              "      <th></th>\n",
              "      <th></th>\n",
              "      <th></th>\n",
              "      <th></th>\n",
              "      <th></th>\n",
              "      <th></th>\n",
              "      <th></th>\n",
              "      <th></th>\n",
              "      <th></th>\n",
              "      <th></th>\n",
              "      <th></th>\n",
              "      <th></th>\n",
              "      <th></th>\n",
              "      <th></th>\n",
              "      <th></th>\n",
              "      <th></th>\n",
              "      <th></th>\n",
              "      <th></th>\n",
              "      <th></th>\n",
              "      <th></th>\n",
              "      <th></th>\n",
              "      <th></th>\n",
              "      <th></th>\n",
              "      <th></th>\n",
              "      <th></th>\n",
              "      <th></th>\n",
              "      <th></th>\n",
              "      <th></th>\n",
              "      <th></th>\n",
              "      <th></th>\n",
              "      <th></th>\n",
              "      <th></th>\n",
              "      <th></th>\n",
              "      <th></th>\n",
              "      <th></th>\n",
              "      <th></th>\n",
              "      <th></th>\n",
              "      <th></th>\n",
              "      <th></th>\n",
              "      <th></th>\n",
              "      <th></th>\n",
              "      <th></th>\n",
              "      <th></th>\n",
              "      <th></th>\n",
              "      <th></th>\n",
              "      <th></th>\n",
              "      <th></th>\n",
              "      <th></th>\n",
              "      <th></th>\n",
              "      <th></th>\n",
              "      <th></th>\n",
              "      <th></th>\n",
              "      <th></th>\n",
              "      <th></th>\n",
              "      <th></th>\n",
              "      <th></th>\n",
              "      <th></th>\n",
              "      <th></th>\n",
              "      <th></th>\n",
              "      <th></th>\n",
              "      <th></th>\n",
              "      <th></th>\n",
              "      <th></th>\n",
              "      <th></th>\n",
              "      <th></th>\n",
              "      <th></th>\n",
              "      <th></th>\n",
              "      <th></th>\n",
              "      <th></th>\n",
              "      <th></th>\n",
              "    </tr>\n",
              "  </thead>\n",
              "  <tbody>\n",
              "    <tr>\n",
              "      <th>1</th>\n",
              "      <td>NaT</td>\n",
              "      <td>07:12:30</td>\n",
              "      <td>07:11:23</td>\n",
              "      <td>07:24:39</td>\n",
              "      <td>07:00:24</td>\n",
              "      <td>07:17:23</td>\n",
              "      <td>07:29:04</td>\n",
              "      <td>07:15:46</td>\n",
              "      <td>07:49:52</td>\n",
              "      <td>NaT</td>\n",
              "      <td>07:20:49</td>\n",
              "      <td>07:16:03</td>\n",
              "      <td>NaT</td>\n",
              "      <td>06:46:33</td>\n",
              "      <td>07:05:42</td>\n",
              "      <td>07:03:02</td>\n",
              "      <td>07:36:17</td>\n",
              "      <td>NaT</td>\n",
              "      <td>07:37:45</td>\n",
              "      <td>07:07:08</td>\n",
              "      <td>07:24:49</td>\n",
              "      <td>06:50:59</td>\n",
              "      <td>06:54:06</td>\n",
              "      <td>07:12:11</td>\n",
              "      <td>07:36:19</td>\n",
              "      <td>07:33:55</td>\n",
              "      <td>07:28:12</td>\n",
              "      <td>07:36:05</td>\n",
              "      <td>07:16:02</td>\n",
              "      <td>07:11:35</td>\n",
              "      <td>07:26:07</td>\n",
              "      <td>07:12:19</td>\n",
              "      <td>07:36:21</td>\n",
              "      <td>07:24:58</td>\n",
              "      <td>07:50:23</td>\n",
              "      <td>NaT</td>\n",
              "      <td>07:49:56</td>\n",
              "      <td>07:26:28</td>\n",
              "      <td>07:13:30</td>\n",
              "      <td>07:35:01</td>\n",
              "      <td>07:12:03</td>\n",
              "      <td>07:23:09</td>\n",
              "      <td>07:09:25</td>\n",
              "      <td>06:45:35</td>\n",
              "      <td>07:44:40</td>\n",
              "      <td>NaT</td>\n",
              "      <td>07:48:54</td>\n",
              "      <td>07:24:31</td>\n",
              "      <td>06:55:23</td>\n",
              "      <td>07:09:40</td>\n",
              "      <td>...</td>\n",
              "      <td>07:10:13</td>\n",
              "      <td>07:44:46</td>\n",
              "      <td>07:03:03</td>\n",
              "      <td>07:42:12</td>\n",
              "      <td>07:07:07</td>\n",
              "      <td>07:18:47</td>\n",
              "      <td>06:51:45</td>\n",
              "      <td>07:35:41</td>\n",
              "      <td>06:56:40</td>\n",
              "      <td>07:38:18</td>\n",
              "      <td>06:59:45</td>\n",
              "      <td>NaT</td>\n",
              "      <td>NaT</td>\n",
              "      <td>NaT</td>\n",
              "      <td>07:10:43</td>\n",
              "      <td>07:19:38</td>\n",
              "      <td>07:47:06</td>\n",
              "      <td>07:05:43</td>\n",
              "      <td>07:24:38</td>\n",
              "      <td>06:59:39</td>\n",
              "      <td>07:49:05</td>\n",
              "      <td>07:19:05</td>\n",
              "      <td>07:35:14</td>\n",
              "      <td>07:25:00</td>\n",
              "      <td>07:26:04</td>\n",
              "      <td>07:05:13</td>\n",
              "      <td>07:00:47</td>\n",
              "      <td>07:21:54</td>\n",
              "      <td>07:34:32</td>\n",
              "      <td>07:35:04</td>\n",
              "      <td>07:07:13</td>\n",
              "      <td>06:53:22</td>\n",
              "      <td>07:56:27</td>\n",
              "      <td>07:56:54</td>\n",
              "      <td>07:11:49</td>\n",
              "      <td>07:39:07</td>\n",
              "      <td>07:32:20</td>\n",
              "      <td>NaT</td>\n",
              "      <td>07:33:07</td>\n",
              "      <td>NaT</td>\n",
              "      <td>NaT</td>\n",
              "      <td>07:20:21</td>\n",
              "      <td>07:23:45</td>\n",
              "      <td>06:30:17</td>\n",
              "      <td>07:35:47</td>\n",
              "      <td>NaT</td>\n",
              "      <td>07:46:26</td>\n",
              "      <td>07:18:54</td>\n",
              "      <td>07:46:44</td>\n",
              "      <td>07:04:49</td>\n",
              "    </tr>\n",
              "    <tr>\n",
              "      <th>2</th>\n",
              "      <td>NaT</td>\n",
              "      <td>08:06:33</td>\n",
              "      <td>07:27:17</td>\n",
              "      <td>NaT</td>\n",
              "      <td>07:23:49</td>\n",
              "      <td>07:25:00</td>\n",
              "      <td>07:09:03</td>\n",
              "      <td>07:36:41</td>\n",
              "      <td>07:16:44</td>\n",
              "      <td>NaT</td>\n",
              "      <td>07:36:47</td>\n",
              "      <td>07:43:39</td>\n",
              "      <td>07:34:39</td>\n",
              "      <td>07:36:10</td>\n",
              "      <td>07:54:20</td>\n",
              "      <td>07:22:35</td>\n",
              "      <td>07:46:44</td>\n",
              "      <td>NaT</td>\n",
              "      <td>07:28:02</td>\n",
              "      <td>07:11:23</td>\n",
              "      <td>07:15:34</td>\n",
              "      <td>07:03:33</td>\n",
              "      <td>07:37:52</td>\n",
              "      <td>07:37:57</td>\n",
              "      <td>07:38:39</td>\n",
              "      <td>07:38:14</td>\n",
              "      <td>07:54:03</td>\n",
              "      <td>NaT</td>\n",
              "      <td>08:02:04</td>\n",
              "      <td>07:38:16</td>\n",
              "      <td>07:57:52</td>\n",
              "      <td>07:44:00</td>\n",
              "      <td>07:41:57</td>\n",
              "      <td>07:24:25</td>\n",
              "      <td>07:54:14</td>\n",
              "      <td>07:54:46</td>\n",
              "      <td>07:25:27</td>\n",
              "      <td>08:15:20</td>\n",
              "      <td>07:48:00</td>\n",
              "      <td>07:45:08</td>\n",
              "      <td>07:50:48</td>\n",
              "      <td>08:07:13</td>\n",
              "      <td>07:40:54</td>\n",
              "      <td>07:41:37</td>\n",
              "      <td>07:55:39</td>\n",
              "      <td>NaT</td>\n",
              "      <td>07:20:23</td>\n",
              "      <td>08:07:48</td>\n",
              "      <td>07:41:26</td>\n",
              "      <td>07:59:12</td>\n",
              "      <td>...</td>\n",
              "      <td>06:43:31</td>\n",
              "      <td>08:08:58</td>\n",
              "      <td>07:54:36</td>\n",
              "      <td>07:32:50</td>\n",
              "      <td>07:52:06</td>\n",
              "      <td>07:45:11</td>\n",
              "      <td>07:24:32</td>\n",
              "      <td>07:42:24</td>\n",
              "      <td>07:55:58</td>\n",
              "      <td>07:21:49</td>\n",
              "      <td>07:26:00</td>\n",
              "      <td>NaT</td>\n",
              "      <td>NaT</td>\n",
              "      <td>NaT</td>\n",
              "      <td>07:39:16</td>\n",
              "      <td>08:12:15</td>\n",
              "      <td>08:15:03</td>\n",
              "      <td>08:00:05</td>\n",
              "      <td>07:55:44</td>\n",
              "      <td>NaT</td>\n",
              "      <td>07:51:39</td>\n",
              "      <td>07:41:32</td>\n",
              "      <td>07:41:56</td>\n",
              "      <td>07:31:12</td>\n",
              "      <td>07:54:14</td>\n",
              "      <td>07:57:17</td>\n",
              "      <td>07:31:54</td>\n",
              "      <td>07:24:45</td>\n",
              "      <td>08:07:03</td>\n",
              "      <td>08:02:23</td>\n",
              "      <td>07:58:58</td>\n",
              "      <td>07:30:32</td>\n",
              "      <td>07:42:57</td>\n",
              "      <td>07:58:24</td>\n",
              "      <td>07:49:18</td>\n",
              "      <td>07:27:29</td>\n",
              "      <td>07:32:10</td>\n",
              "      <td>07:26:07</td>\n",
              "      <td>08:15:19</td>\n",
              "      <td>07:55:42</td>\n",
              "      <td>07:54:11</td>\n",
              "      <td>07:45:14</td>\n",
              "      <td>07:42:44</td>\n",
              "      <td>07:26:08</td>\n",
              "      <td>NaT</td>\n",
              "      <td>NaT</td>\n",
              "      <td>07:36:53</td>\n",
              "      <td>07:58:57</td>\n",
              "      <td>07:59:10</td>\n",
              "      <td>08:13:38</td>\n",
              "    </tr>\n",
              "    <tr>\n",
              "      <th>3</th>\n",
              "      <td>NaT</td>\n",
              "      <td>06:41:33</td>\n",
              "      <td>07:15:56</td>\n",
              "      <td>06:24:19</td>\n",
              "      <td>06:45:54</td>\n",
              "      <td>07:20:42</td>\n",
              "      <td>06:51:41</td>\n",
              "      <td>07:25:07</td>\n",
              "      <td>06:59:59</td>\n",
              "      <td>NaT</td>\n",
              "      <td>07:26:18</td>\n",
              "      <td>07:12:37</td>\n",
              "      <td>07:04:20</td>\n",
              "      <td>06:55:14</td>\n",
              "      <td>06:48:10</td>\n",
              "      <td>07:28:43</td>\n",
              "      <td>06:55:18</td>\n",
              "      <td>NaT</td>\n",
              "      <td>07:14:57</td>\n",
              "      <td>06:18:21</td>\n",
              "      <td>07:13:19</td>\n",
              "      <td>07:01:27</td>\n",
              "      <td>07:04:16</td>\n",
              "      <td>06:31:13</td>\n",
              "      <td>07:21:51</td>\n",
              "      <td>06:21:30</td>\n",
              "      <td>06:54:24</td>\n",
              "      <td>06:39:35</td>\n",
              "      <td>06:49:31</td>\n",
              "      <td>06:47:09</td>\n",
              "      <td>06:27:21</td>\n",
              "      <td>07:08:41</td>\n",
              "      <td>07:01:22</td>\n",
              "      <td>06:41:07</td>\n",
              "      <td>07:02:49</td>\n",
              "      <td>06:57:37</td>\n",
              "      <td>06:53:11</td>\n",
              "      <td>07:45:17</td>\n",
              "      <td>06:45:06</td>\n",
              "      <td>06:56:25</td>\n",
              "      <td>07:33:11</td>\n",
              "      <td>06:51:18</td>\n",
              "      <td>07:29:35</td>\n",
              "      <td>07:03:16</td>\n",
              "      <td>07:11:19</td>\n",
              "      <td>NaT</td>\n",
              "      <td>06:46:16</td>\n",
              "      <td>06:50:49</td>\n",
              "      <td>06:52:23</td>\n",
              "      <td>07:04:47</td>\n",
              "      <td>...</td>\n",
              "      <td>06:52:07</td>\n",
              "      <td>07:14:55</td>\n",
              "      <td>07:31:37</td>\n",
              "      <td>06:27:38</td>\n",
              "      <td>06:48:14</td>\n",
              "      <td>06:37:47</td>\n",
              "      <td>07:41:25</td>\n",
              "      <td>07:02:32</td>\n",
              "      <td>06:42:12</td>\n",
              "      <td>06:41:15</td>\n",
              "      <td>06:33:20</td>\n",
              "      <td>NaT</td>\n",
              "      <td>NaT</td>\n",
              "      <td>NaT</td>\n",
              "      <td>07:21:57</td>\n",
              "      <td>06:59:45</td>\n",
              "      <td>06:48:07</td>\n",
              "      <td>07:17:35</td>\n",
              "      <td>07:16:09</td>\n",
              "      <td>06:11:54</td>\n",
              "      <td>07:33:39</td>\n",
              "      <td>06:56:38</td>\n",
              "      <td>06:39:51</td>\n",
              "      <td>07:03:49</td>\n",
              "      <td>07:27:26</td>\n",
              "      <td>NaT</td>\n",
              "      <td>06:58:40</td>\n",
              "      <td>06:56:13</td>\n",
              "      <td>06:44:15</td>\n",
              "      <td>06:46:01</td>\n",
              "      <td>07:04:07</td>\n",
              "      <td>06:47:55</td>\n",
              "      <td>07:29:25</td>\n",
              "      <td>07:32:06</td>\n",
              "      <td>NaT</td>\n",
              "      <td>07:11:58</td>\n",
              "      <td>07:05:47</td>\n",
              "      <td>06:45:04</td>\n",
              "      <td>06:54:10</td>\n",
              "      <td>07:13:06</td>\n",
              "      <td>06:47:09</td>\n",
              "      <td>07:09:49</td>\n",
              "      <td>06:48:06</td>\n",
              "      <td>06:43:49</td>\n",
              "      <td>06:50:59</td>\n",
              "      <td>NaT</td>\n",
              "      <td>07:01:26</td>\n",
              "      <td>07:26:20</td>\n",
              "      <td>07:32:20</td>\n",
              "      <td>06:47:11</td>\n",
              "    </tr>\n",
              "    <tr>\n",
              "      <th>4</th>\n",
              "      <td>NaT</td>\n",
              "      <td>07:20:18</td>\n",
              "      <td>07:17:31</td>\n",
              "      <td>06:56:35</td>\n",
              "      <td>06:55:10</td>\n",
              "      <td>06:51:03</td>\n",
              "      <td>07:11:35</td>\n",
              "      <td>06:59:55</td>\n",
              "      <td>07:18:23</td>\n",
              "      <td>NaT</td>\n",
              "      <td>06:52:36</td>\n",
              "      <td>06:54:28</td>\n",
              "      <td>06:31:07</td>\n",
              "      <td>07:10:44</td>\n",
              "      <td>06:42:18</td>\n",
              "      <td>07:00:41</td>\n",
              "      <td>07:08:45</td>\n",
              "      <td>NaT</td>\n",
              "      <td>07:15:17</td>\n",
              "      <td>07:32:43</td>\n",
              "      <td>06:54:33</td>\n",
              "      <td>07:13:11</td>\n",
              "      <td>07:04:04</td>\n",
              "      <td>07:26:10</td>\n",
              "      <td>06:58:38</td>\n",
              "      <td>07:09:05</td>\n",
              "      <td>07:08:43</td>\n",
              "      <td>07:20:02</td>\n",
              "      <td>NaT</td>\n",
              "      <td>07:03:39</td>\n",
              "      <td>07:20:28</td>\n",
              "      <td>07:08:44</td>\n",
              "      <td>07:21:01</td>\n",
              "      <td>07:06:38</td>\n",
              "      <td>06:52:21</td>\n",
              "      <td>07:31:25</td>\n",
              "      <td>06:41:52</td>\n",
              "      <td>07:10:47</td>\n",
              "      <td>07:03:51</td>\n",
              "      <td>06:16:50</td>\n",
              "      <td>07:21:29</td>\n",
              "      <td>07:15:50</td>\n",
              "      <td>NaT</td>\n",
              "      <td>07:24:12</td>\n",
              "      <td>06:27:49</td>\n",
              "      <td>NaT</td>\n",
              "      <td>NaT</td>\n",
              "      <td>07:09:26</td>\n",
              "      <td>07:23:50</td>\n",
              "      <td>07:29:36</td>\n",
              "      <td>...</td>\n",
              "      <td>07:30:32</td>\n",
              "      <td>07:26:00</td>\n",
              "      <td>06:53:35</td>\n",
              "      <td>07:03:49</td>\n",
              "      <td>07:03:33</td>\n",
              "      <td>NaT</td>\n",
              "      <td>07:04:35</td>\n",
              "      <td>07:14:40</td>\n",
              "      <td>06:49:32</td>\n",
              "      <td>07:30:47</td>\n",
              "      <td>NaT</td>\n",
              "      <td>NaT</td>\n",
              "      <td>NaT</td>\n",
              "      <td>NaT</td>\n",
              "      <td>07:36:19</td>\n",
              "      <td>06:44:09</td>\n",
              "      <td>07:00:59</td>\n",
              "      <td>06:35:30</td>\n",
              "      <td>07:17:04</td>\n",
              "      <td>07:35:46</td>\n",
              "      <td>07:32:19</td>\n",
              "      <td>07:07:58</td>\n",
              "      <td>07:48:32</td>\n",
              "      <td>07:08:01</td>\n",
              "      <td>06:53:57</td>\n",
              "      <td>06:57:02</td>\n",
              "      <td>07:18:36</td>\n",
              "      <td>07:16:43</td>\n",
              "      <td>07:04:07</td>\n",
              "      <td>07:12:46</td>\n",
              "      <td>06:54:44</td>\n",
              "      <td>07:24:17</td>\n",
              "      <td>07:16:55</td>\n",
              "      <td>06:52:39</td>\n",
              "      <td>07:30:47</td>\n",
              "      <td>06:58:00</td>\n",
              "      <td>07:03:21</td>\n",
              "      <td>06:59:58</td>\n",
              "      <td>07:18:47</td>\n",
              "      <td>07:27:21</td>\n",
              "      <td>07:37:45</td>\n",
              "      <td>06:50:48</td>\n",
              "      <td>07:19:35</td>\n",
              "      <td>07:24:49</td>\n",
              "      <td>07:05:06</td>\n",
              "      <td>NaT</td>\n",
              "      <td>07:26:50</td>\n",
              "      <td>07:25:00</td>\n",
              "      <td>07:21:59</td>\n",
              "      <td>07:07:59</td>\n",
              "    </tr>\n",
              "    <tr>\n",
              "      <th>5</th>\n",
              "      <td>NaT</td>\n",
              "      <td>08:03:20</td>\n",
              "      <td>07:59:17</td>\n",
              "      <td>07:40:57</td>\n",
              "      <td>07:48:22</td>\n",
              "      <td>07:39:44</td>\n",
              "      <td>07:43:18</td>\n",
              "      <td>08:21:54</td>\n",
              "      <td>08:15:26</td>\n",
              "      <td>NaT</td>\n",
              "      <td>08:15:36</td>\n",
              "      <td>08:24:13</td>\n",
              "      <td>NaT</td>\n",
              "      <td>07:48:55</td>\n",
              "      <td>08:13:23</td>\n",
              "      <td>08:17:27</td>\n",
              "      <td>07:18:37</td>\n",
              "      <td>NaT</td>\n",
              "      <td>07:55:44</td>\n",
              "      <td>07:55:43</td>\n",
              "      <td>08:04:45</td>\n",
              "      <td>08:01:43</td>\n",
              "      <td>08:09:54</td>\n",
              "      <td>08:01:44</td>\n",
              "      <td>07:59:48</td>\n",
              "      <td>08:05:26</td>\n",
              "      <td>07:42:31</td>\n",
              "      <td>08:11:12</td>\n",
              "      <td>07:40:44</td>\n",
              "      <td>07:57:49</td>\n",
              "      <td>07:40:15</td>\n",
              "      <td>08:43:14</td>\n",
              "      <td>07:55:20</td>\n",
              "      <td>07:54:09</td>\n",
              "      <td>08:05:39</td>\n",
              "      <td>07:50:46</td>\n",
              "      <td>08:13:51</td>\n",
              "      <td>07:48:10</td>\n",
              "      <td>08:07:08</td>\n",
              "      <td>08:01:56</td>\n",
              "      <td>07:42:35</td>\n",
              "      <td>07:58:02</td>\n",
              "      <td>08:41:35</td>\n",
              "      <td>07:57:01</td>\n",
              "      <td>08:04:22</td>\n",
              "      <td>NaT</td>\n",
              "      <td>08:10:58</td>\n",
              "      <td>08:21:23</td>\n",
              "      <td>08:03:53</td>\n",
              "      <td>08:08:37</td>\n",
              "      <td>...</td>\n",
              "      <td>08:06:02</td>\n",
              "      <td>08:15:51</td>\n",
              "      <td>08:18:57</td>\n",
              "      <td>07:59:09</td>\n",
              "      <td>08:04:52</td>\n",
              "      <td>07:35:15</td>\n",
              "      <td>08:24:35</td>\n",
              "      <td>07:31:22</td>\n",
              "      <td>08:07:00</td>\n",
              "      <td>08:07:41</td>\n",
              "      <td>08:12:32</td>\n",
              "      <td>NaT</td>\n",
              "      <td>NaT</td>\n",
              "      <td>NaT</td>\n",
              "      <td>08:20:55</td>\n",
              "      <td>07:51:55</td>\n",
              "      <td>07:57:13</td>\n",
              "      <td>07:54:20</td>\n",
              "      <td>07:56:10</td>\n",
              "      <td>07:36:12</td>\n",
              "      <td>08:33:50</td>\n",
              "      <td>08:26:43</td>\n",
              "      <td>08:32:35</td>\n",
              "      <td>07:53:26</td>\n",
              "      <td>07:37:40</td>\n",
              "      <td>08:07:20</td>\n",
              "      <td>08:26:13</td>\n",
              "      <td>07:54:40</td>\n",
              "      <td>07:24:00</td>\n",
              "      <td>07:39:58</td>\n",
              "      <td>07:52:06</td>\n",
              "      <td>08:06:14</td>\n",
              "      <td>08:32:06</td>\n",
              "      <td>07:51:15</td>\n",
              "      <td>07:55:16</td>\n",
              "      <td>08:41:45</td>\n",
              "      <td>07:35:22</td>\n",
              "      <td>08:11:35</td>\n",
              "      <td>08:07:46</td>\n",
              "      <td>08:19:12</td>\n",
              "      <td>07:54:13</td>\n",
              "      <td>07:39:54</td>\n",
              "      <td>07:57:27</td>\n",
              "      <td>07:47:13</td>\n",
              "      <td>08:14:58</td>\n",
              "      <td>NaT</td>\n",
              "      <td>07:39:44</td>\n",
              "      <td>08:16:07</td>\n",
              "      <td>07:57:12</td>\n",
              "      <td>08:01:05</td>\n",
              "    </tr>\n",
              "  </tbody>\n",
              "</table>\n",
              "<p>5 rows × 261 columns</p>\n",
              "</div>"
            ],
            "text/plain": [
              "           2015-01-01 2015-01-02 2015-01-05 2015-01-06 2015-01-07 2015-01-08  \\\n",
              "EmployeeID                                                                     \n",
              "1                 NaT   07:12:30   07:11:23   07:24:39   07:00:24   07:17:23   \n",
              "2                 NaT   08:06:33   07:27:17        NaT   07:23:49   07:25:00   \n",
              "3                 NaT   06:41:33   07:15:56   06:24:19   06:45:54   07:20:42   \n",
              "4                 NaT   07:20:18   07:17:31   06:56:35   06:55:10   06:51:03   \n",
              "5                 NaT   08:03:20   07:59:17   07:40:57   07:48:22   07:39:44   \n",
              "\n",
              "           2015-01-09 2015-01-12 2015-01-13 2015-01-14 2015-01-15 2015-01-16  \\\n",
              "EmployeeID                                                                     \n",
              "1            07:29:04   07:15:46   07:49:52        NaT   07:20:49   07:16:03   \n",
              "2            07:09:03   07:36:41   07:16:44        NaT   07:36:47   07:43:39   \n",
              "3            06:51:41   07:25:07   06:59:59        NaT   07:26:18   07:12:37   \n",
              "4            07:11:35   06:59:55   07:18:23        NaT   06:52:36   06:54:28   \n",
              "5            07:43:18   08:21:54   08:15:26        NaT   08:15:36   08:24:13   \n",
              "\n",
              "           2015-01-19 2015-01-20 2015-01-21 2015-01-22 2015-01-23 2015-01-26  \\\n",
              "EmployeeID                                                                     \n",
              "1                 NaT   06:46:33   07:05:42   07:03:02   07:36:17        NaT   \n",
              "2            07:34:39   07:36:10   07:54:20   07:22:35   07:46:44        NaT   \n",
              "3            07:04:20   06:55:14   06:48:10   07:28:43   06:55:18        NaT   \n",
              "4            06:31:07   07:10:44   06:42:18   07:00:41   07:08:45        NaT   \n",
              "5                 NaT   07:48:55   08:13:23   08:17:27   07:18:37        NaT   \n",
              "\n",
              "           2015-01-27 2015-01-28 2015-01-29 2015-01-30 2015-02-02 2015-02-03  \\\n",
              "EmployeeID                                                                     \n",
              "1            07:37:45   07:07:08   07:24:49   06:50:59   06:54:06   07:12:11   \n",
              "2            07:28:02   07:11:23   07:15:34   07:03:33   07:37:52   07:37:57   \n",
              "3            07:14:57   06:18:21   07:13:19   07:01:27   07:04:16   06:31:13   \n",
              "4            07:15:17   07:32:43   06:54:33   07:13:11   07:04:04   07:26:10   \n",
              "5            07:55:44   07:55:43   08:04:45   08:01:43   08:09:54   08:01:44   \n",
              "\n",
              "           2015-02-04 2015-02-05 2015-02-06 2015-02-09 2015-02-10 2015-02-11  \\\n",
              "EmployeeID                                                                     \n",
              "1            07:36:19   07:33:55   07:28:12   07:36:05   07:16:02   07:11:35   \n",
              "2            07:38:39   07:38:14   07:54:03        NaT   08:02:04   07:38:16   \n",
              "3            07:21:51   06:21:30   06:54:24   06:39:35   06:49:31   06:47:09   \n",
              "4            06:58:38   07:09:05   07:08:43   07:20:02        NaT   07:03:39   \n",
              "5            07:59:48   08:05:26   07:42:31   08:11:12   07:40:44   07:57:49   \n",
              "\n",
              "           2015-02-12 2015-02-13 2015-02-16 2015-02-17 2015-02-18 2015-02-19  \\\n",
              "EmployeeID                                                                     \n",
              "1            07:26:07   07:12:19   07:36:21   07:24:58   07:50:23        NaT   \n",
              "2            07:57:52   07:44:00   07:41:57   07:24:25   07:54:14   07:54:46   \n",
              "3            06:27:21   07:08:41   07:01:22   06:41:07   07:02:49   06:57:37   \n",
              "4            07:20:28   07:08:44   07:21:01   07:06:38   06:52:21   07:31:25   \n",
              "5            07:40:15   08:43:14   07:55:20   07:54:09   08:05:39   07:50:46   \n",
              "\n",
              "           2015-02-20 2015-02-23 2015-02-24 2015-02-25 2015-02-26 2015-02-27  \\\n",
              "EmployeeID                                                                     \n",
              "1            07:49:56   07:26:28   07:13:30   07:35:01   07:12:03   07:23:09   \n",
              "2            07:25:27   08:15:20   07:48:00   07:45:08   07:50:48   08:07:13   \n",
              "3            06:53:11   07:45:17   06:45:06   06:56:25   07:33:11   06:51:18   \n",
              "4            06:41:52   07:10:47   07:03:51   06:16:50   07:21:29   07:15:50   \n",
              "5            08:13:51   07:48:10   08:07:08   08:01:56   07:42:35   07:58:02   \n",
              "\n",
              "           2015-03-02 2015-03-03 2015-03-04 2015-03-05 2015-03-06 2015-03-09  \\\n",
              "EmployeeID                                                                     \n",
              "1            07:09:25   06:45:35   07:44:40        NaT   07:48:54   07:24:31   \n",
              "2            07:40:54   07:41:37   07:55:39        NaT   07:20:23   08:07:48   \n",
              "3            07:29:35   07:03:16   07:11:19        NaT   06:46:16   06:50:49   \n",
              "4                 NaT   07:24:12   06:27:49        NaT        NaT   07:09:26   \n",
              "5            08:41:35   07:57:01   08:04:22        NaT   08:10:58   08:21:23   \n",
              "\n",
              "           2015-03-10 2015-03-11  ... 2015-10-23 2015-10-26 2015-10-27  \\\n",
              "EmployeeID                        ...                                    \n",
              "1            06:55:23   07:09:40  ...   07:10:13   07:44:46   07:03:03   \n",
              "2            07:41:26   07:59:12  ...   06:43:31   08:08:58   07:54:36   \n",
              "3            06:52:23   07:04:47  ...   06:52:07   07:14:55   07:31:37   \n",
              "4            07:23:50   07:29:36  ...   07:30:32   07:26:00   06:53:35   \n",
              "5            08:03:53   08:08:37  ...   08:06:02   08:15:51   08:18:57   \n",
              "\n",
              "           2015-10-28 2015-10-29 2015-10-30 2015-11-02 2015-11-03 2015-11-04  \\\n",
              "EmployeeID                                                                     \n",
              "1            07:42:12   07:07:07   07:18:47   06:51:45   07:35:41   06:56:40   \n",
              "2            07:32:50   07:52:06   07:45:11   07:24:32   07:42:24   07:55:58   \n",
              "3            06:27:38   06:48:14   06:37:47   07:41:25   07:02:32   06:42:12   \n",
              "4            07:03:49   07:03:33        NaT   07:04:35   07:14:40   06:49:32   \n",
              "5            07:59:09   08:04:52   07:35:15   08:24:35   07:31:22   08:07:00   \n",
              "\n",
              "           2015-11-05 2015-11-06 2015-11-09 2015-11-10 2015-11-11 2015-11-12  \\\n",
              "EmployeeID                                                                     \n",
              "1            07:38:18   06:59:45        NaT        NaT        NaT   07:10:43   \n",
              "2            07:21:49   07:26:00        NaT        NaT        NaT   07:39:16   \n",
              "3            06:41:15   06:33:20        NaT        NaT        NaT   07:21:57   \n",
              "4            07:30:47        NaT        NaT        NaT        NaT   07:36:19   \n",
              "5            08:07:41   08:12:32        NaT        NaT        NaT   08:20:55   \n",
              "\n",
              "           2015-11-13 2015-11-16 2015-11-17 2015-11-18 2015-11-19 2015-11-20  \\\n",
              "EmployeeID                                                                     \n",
              "1            07:19:38   07:47:06   07:05:43   07:24:38   06:59:39   07:49:05   \n",
              "2            08:12:15   08:15:03   08:00:05   07:55:44        NaT   07:51:39   \n",
              "3            06:59:45   06:48:07   07:17:35   07:16:09   06:11:54   07:33:39   \n",
              "4            06:44:09   07:00:59   06:35:30   07:17:04   07:35:46   07:32:19   \n",
              "5            07:51:55   07:57:13   07:54:20   07:56:10   07:36:12   08:33:50   \n",
              "\n",
              "           2015-11-23 2015-11-24 2015-11-25 2015-11-26 2015-11-27 2015-11-30  \\\n",
              "EmployeeID                                                                     \n",
              "1            07:19:05   07:35:14   07:25:00   07:26:04   07:05:13   07:00:47   \n",
              "2            07:41:32   07:41:56   07:31:12   07:54:14   07:57:17   07:31:54   \n",
              "3            06:56:38   06:39:51   07:03:49   07:27:26        NaT   06:58:40   \n",
              "4            07:07:58   07:48:32   07:08:01   06:53:57   06:57:02   07:18:36   \n",
              "5            08:26:43   08:32:35   07:53:26   07:37:40   08:07:20   08:26:13   \n",
              "\n",
              "           2015-12-01 2015-12-02 2015-12-03 2015-12-04 2015-12-07 2015-12-08  \\\n",
              "EmployeeID                                                                     \n",
              "1            07:21:54   07:34:32   07:35:04   07:07:13   06:53:22   07:56:27   \n",
              "2            07:24:45   08:07:03   08:02:23   07:58:58   07:30:32   07:42:57   \n",
              "3            06:56:13   06:44:15   06:46:01   07:04:07   06:47:55   07:29:25   \n",
              "4            07:16:43   07:04:07   07:12:46   06:54:44   07:24:17   07:16:55   \n",
              "5            07:54:40   07:24:00   07:39:58   07:52:06   08:06:14   08:32:06   \n",
              "\n",
              "           2015-12-09 2015-12-10 2015-12-11 2015-12-14 2015-12-15 2015-12-16  \\\n",
              "EmployeeID                                                                     \n",
              "1            07:56:54   07:11:49   07:39:07   07:32:20        NaT   07:33:07   \n",
              "2            07:58:24   07:49:18   07:27:29   07:32:10   07:26:07   08:15:19   \n",
              "3            07:32:06        NaT   07:11:58   07:05:47   06:45:04   06:54:10   \n",
              "4            06:52:39   07:30:47   06:58:00   07:03:21   06:59:58   07:18:47   \n",
              "5            07:51:15   07:55:16   08:41:45   07:35:22   08:11:35   08:07:46   \n",
              "\n",
              "           2015-12-17 2015-12-18 2015-12-21 2015-12-22 2015-12-23 2015-12-24  \\\n",
              "EmployeeID                                                                     \n",
              "1                 NaT        NaT   07:20:21   07:23:45   06:30:17   07:35:47   \n",
              "2            07:55:42   07:54:11   07:45:14   07:42:44   07:26:08        NaT   \n",
              "3            07:13:06   06:47:09   07:09:49   06:48:06   06:43:49   06:50:59   \n",
              "4            07:27:21   07:37:45   06:50:48   07:19:35   07:24:49   07:05:06   \n",
              "5            08:19:12   07:54:13   07:39:54   07:57:27   07:47:13   08:14:58   \n",
              "\n",
              "           2015-12-25 2015-12-28 2015-12-29 2015-12-30 2015-12-31  \n",
              "EmployeeID                                                         \n",
              "1                 NaT   07:46:26   07:18:54   07:46:44   07:04:49  \n",
              "2                 NaT   07:36:53   07:58:57   07:59:10   08:13:38  \n",
              "3                 NaT   07:01:26   07:26:20   07:32:20   06:47:11  \n",
              "4                 NaT   07:26:50   07:25:00   07:21:59   07:07:59  \n",
              "5                 NaT   07:39:44   08:16:07   07:57:12   08:01:05  \n",
              "\n",
              "[5 rows x 261 columns]"
            ]
          },
          "metadata": {
            "tags": []
          },
          "execution_count": 22
        }
      ]
    },
    {
      "cell_type": "code",
      "metadata": {
        "id": "kg1FkNJ6386X",
        "colab_type": "code",
        "outputId": "59f42d86-6197-4b4c-e04d-37db5affa1ff",
        "colab": {
          "base_uri": "https://localhost:8080/",
          "height": 34
        }
      },
      "source": [
        "# the number of working days are\n",
        "working_time.shape[1]"
      ],
      "execution_count": 23,
      "outputs": [
        {
          "output_type": "execute_result",
          "data": {
            "text/plain": [
              "261"
            ]
          },
          "metadata": {
            "tags": []
          },
          "execution_count": 23
        }
      ]
    },
    {
      "cell_type": "code",
      "metadata": {
        "id": "BAXGSiMqTlj6",
        "colab_type": "code",
        "colab": {}
      },
      "source": [
        "# transforming the values in 'working_time' in hours and rounding them up to 2 decimal places.\n",
        "for c in range(0, ((working_time.shape)[1])) : \n",
        "  for r in range (0, ((working_time.shape)[0])) :\n",
        "    working_time.iloc[r, c] = round(((working_time.iloc[r, c])/pd.Timedelta('1 hour')), 2)"
      ],
      "execution_count": 0,
      "outputs": []
    },
    {
      "cell_type": "code",
      "metadata": {
        "id": "DULjfDIiblKf",
        "colab_type": "code",
        "colab": {}
      },
      "source": [
        "# total mount of hours worked by an employee through the year\n",
        "data['tot_working_time'] = working_time.sum(axis=1)"
      ],
      "execution_count": 0,
      "outputs": []
    },
    {
      "cell_type": "code",
      "metadata": {
        "id": "qUp7bt5AT9V2",
        "colab_type": "code",
        "colab": {}
      },
      "source": [
        "# average amount of hours worked by an employee through the year\n",
        "data['avg_working_time'] = data['tot_working_time'] / working_time.shape[1]\n",
        "# rounding up to 2 decimal places\n",
        "data['avg_working_time'] = data['avg_working_time'].apply(lambda x: round(x, 2))"
      ],
      "execution_count": 0,
      "outputs": []
    },
    {
      "cell_type": "code",
      "metadata": {
        "id": "yG3HWTylUAVX",
        "colab_type": "code",
        "outputId": "23c21059-7fc2-47db-dd21-d322d09570b0",
        "colab": {
          "base_uri": "https://localhost:8080/",
          "height": 102
        }
      },
      "source": [
        "# total hours of overtime by an employee through the year\n",
        "working_time['tot_overtime'] = \"\"\n",
        "for wt in range(1, (len(working_time) + 1)) :\n",
        "  diff = (data['tot_working_time'][wt]) - 2088  # 8 hrs a shift per day for 261 working days = 2088 hours\n",
        "  if diff > 0 :\n",
        "    working_time.iloc[wt, 261] = diff\n",
        "  else : \n",
        "    working_time['tot_overtime'][wt] = 0\n",
        "\n",
        "data['tot_overtime'] = working_time['tot_overtime']"
      ],
      "execution_count": 27,
      "outputs": [
        {
          "output_type": "stream",
          "text": [
            "/usr/local/lib/python3.6/dist-packages/ipykernel_launcher.py:8: SettingWithCopyWarning: \n",
            "A value is trying to be set on a copy of a slice from a DataFrame\n",
            "\n",
            "See the caveats in the documentation: https://pandas.pydata.org/pandas-docs/stable/user_guide/indexing.html#returning-a-view-versus-a-copy\n",
            "  \n"
          ],
          "name": "stderr"
        }
      ]
    },
    {
      "cell_type": "code",
      "metadata": {
        "id": "ZJDCYF1nV6jC",
        "colab_type": "code",
        "colab": {}
      },
      "source": [
        "# transforming the values in 'in_time' and 'out_time' in hours and rounding them up to 2 decimal places.\n",
        "in_time = in_time.applymap(lambda x : round((x.hour + x.minute/60 + x.second/3600), 2))\n",
        "out_time = out_time.applymap(lambda x : round((x.hour + x.minute/60 + x.second/3600), 2))"
      ],
      "execution_count": 0,
      "outputs": []
    },
    {
      "cell_type": "code",
      "metadata": {
        "id": "gr3jD_iRYZuA",
        "colab_type": "code",
        "colab": {}
      },
      "source": [
        "# Computing average login and logout time of employees in hours\n",
        "data['avg_login_time'] = in_time.mean(axis=1)\n",
        "data['avg_logout_time'] = out_time.mean(axis=1)\n",
        "# Computing standard deviation of login and logout time of employees in hours\n",
        "data['std_login_time'] = in_time.std(axis=1)\n",
        "data['std_logout_time'] = out_time.std(axis=1)\n",
        "# rounding up these above features to 2 decimal places\n",
        "data['avg_login_time'] = data['avg_login_time'].apply(lambda x: round(x, 2))\n",
        "data['avg_logout_time'] = data['avg_logout_time'].apply(lambda x: round(x, 2))\n",
        "data['std_login_time'] = data['std_login_time'].apply(lambda x: round(x, 2))\n",
        "data['std_logout_time'] = data['std_logout_time'].apply(lambda x: round(x, 2))"
      ],
      "execution_count": 0,
      "outputs": []
    },
    {
      "cell_type": "code",
      "metadata": {
        "id": "i7k44LnScjvr",
        "colab_type": "code",
        "outputId": "1a26104c-8d72-4e08-b156-14df43044105",
        "colab": {
          "base_uri": "https://localhost:8080/",
          "height": 340
        }
      },
      "source": [
        "data.head()"
      ],
      "execution_count": 30,
      "outputs": [
        {
          "output_type": "execute_result",
          "data": {
            "text/html": [
              "<div>\n",
              "<style scoped>\n",
              "    .dataframe tbody tr th:only-of-type {\n",
              "        vertical-align: middle;\n",
              "    }\n",
              "\n",
              "    .dataframe tbody tr th {\n",
              "        vertical-align: top;\n",
              "    }\n",
              "\n",
              "    .dataframe thead th {\n",
              "        text-align: right;\n",
              "    }\n",
              "</style>\n",
              "<table border=\"1\" class=\"dataframe\">\n",
              "  <thead>\n",
              "    <tr style=\"text-align: right;\">\n",
              "      <th></th>\n",
              "      <th>EnvironmentSatisfaction</th>\n",
              "      <th>JobSatisfaction</th>\n",
              "      <th>WorkLifeBalance</th>\n",
              "      <th>Age</th>\n",
              "      <th>Attrition</th>\n",
              "      <th>BusinessTravel</th>\n",
              "      <th>Department</th>\n",
              "      <th>DistanceFromHome</th>\n",
              "      <th>Education</th>\n",
              "      <th>EducationField</th>\n",
              "      <th>EmployeeCount</th>\n",
              "      <th>Gender</th>\n",
              "      <th>JobLevel</th>\n",
              "      <th>JobRole</th>\n",
              "      <th>MaritalStatus</th>\n",
              "      <th>MonthlyIncome</th>\n",
              "      <th>NumCompaniesWorked</th>\n",
              "      <th>Over18</th>\n",
              "      <th>PercentSalaryHike</th>\n",
              "      <th>StandardHours</th>\n",
              "      <th>StockOptionLevel</th>\n",
              "      <th>TotalWorkingYears</th>\n",
              "      <th>TrainingTimesLastYear</th>\n",
              "      <th>YearsAtCompany</th>\n",
              "      <th>YearsSinceLastPromotion</th>\n",
              "      <th>YearsWithCurrManager</th>\n",
              "      <th>JobInvolvement</th>\n",
              "      <th>PerformanceRating</th>\n",
              "      <th>tot_working_time</th>\n",
              "      <th>avg_working_time</th>\n",
              "      <th>tot_overtime</th>\n",
              "      <th>avg_login_time</th>\n",
              "      <th>avg_logout_time</th>\n",
              "      <th>std_login_time</th>\n",
              "      <th>std_logout_time</th>\n",
              "    </tr>\n",
              "    <tr>\n",
              "      <th>EmployeeID</th>\n",
              "      <th></th>\n",
              "      <th></th>\n",
              "      <th></th>\n",
              "      <th></th>\n",
              "      <th></th>\n",
              "      <th></th>\n",
              "      <th></th>\n",
              "      <th></th>\n",
              "      <th></th>\n",
              "      <th></th>\n",
              "      <th></th>\n",
              "      <th></th>\n",
              "      <th></th>\n",
              "      <th></th>\n",
              "      <th></th>\n",
              "      <th></th>\n",
              "      <th></th>\n",
              "      <th></th>\n",
              "      <th></th>\n",
              "      <th></th>\n",
              "      <th></th>\n",
              "      <th></th>\n",
              "      <th></th>\n",
              "      <th></th>\n",
              "      <th></th>\n",
              "      <th></th>\n",
              "      <th></th>\n",
              "      <th></th>\n",
              "      <th></th>\n",
              "      <th></th>\n",
              "      <th></th>\n",
              "      <th></th>\n",
              "      <th></th>\n",
              "      <th></th>\n",
              "      <th></th>\n",
              "    </tr>\n",
              "  </thead>\n",
              "  <tbody>\n",
              "    <tr>\n",
              "      <th>1</th>\n",
              "      <td>3.0</td>\n",
              "      <td>4.0</td>\n",
              "      <td>2.0</td>\n",
              "      <td>51</td>\n",
              "      <td>No</td>\n",
              "      <td>Travel_Rarely</td>\n",
              "      <td>Sales</td>\n",
              "      <td>6</td>\n",
              "      <td>2</td>\n",
              "      <td>Life Sciences</td>\n",
              "      <td>1</td>\n",
              "      <td>Female</td>\n",
              "      <td>1</td>\n",
              "      <td>Healthcare Representative</td>\n",
              "      <td>Married</td>\n",
              "      <td>131160</td>\n",
              "      <td>1.0</td>\n",
              "      <td>Y</td>\n",
              "      <td>11</td>\n",
              "      <td>8</td>\n",
              "      <td>0</td>\n",
              "      <td>1.0</td>\n",
              "      <td>6</td>\n",
              "      <td>1</td>\n",
              "      <td>0</td>\n",
              "      <td>0</td>\n",
              "      <td>3</td>\n",
              "      <td>3</td>\n",
              "      <td>1710.74</td>\n",
              "      <td>6.55</td>\n",
              "      <td>0</td>\n",
              "      <td>10.00</td>\n",
              "      <td>17.37</td>\n",
              "      <td>0.26</td>\n",
              "      <td>0.37</td>\n",
              "    </tr>\n",
              "    <tr>\n",
              "      <th>2</th>\n",
              "      <td>3.0</td>\n",
              "      <td>2.0</td>\n",
              "      <td>4.0</td>\n",
              "      <td>31</td>\n",
              "      <td>Yes</td>\n",
              "      <td>Travel_Frequently</td>\n",
              "      <td>Research &amp; Development</td>\n",
              "      <td>10</td>\n",
              "      <td>1</td>\n",
              "      <td>Life Sciences</td>\n",
              "      <td>1</td>\n",
              "      <td>Female</td>\n",
              "      <td>1</td>\n",
              "      <td>Research Scientist</td>\n",
              "      <td>Single</td>\n",
              "      <td>41890</td>\n",
              "      <td>0.0</td>\n",
              "      <td>Y</td>\n",
              "      <td>23</td>\n",
              "      <td>8</td>\n",
              "      <td>1</td>\n",
              "      <td>6.0</td>\n",
              "      <td>3</td>\n",
              "      <td>5</td>\n",
              "      <td>1</td>\n",
              "      <td>4</td>\n",
              "      <td>2</td>\n",
              "      <td>4</td>\n",
              "      <td>1821.63</td>\n",
              "      <td>6.98</td>\n",
              "      <td>0</td>\n",
              "      <td>9.99</td>\n",
              "      <td>17.71</td>\n",
              "      <td>0.29</td>\n",
              "      <td>0.42</td>\n",
              "    </tr>\n",
              "    <tr>\n",
              "      <th>3</th>\n",
              "      <td>2.0</td>\n",
              "      <td>2.0</td>\n",
              "      <td>1.0</td>\n",
              "      <td>32</td>\n",
              "      <td>No</td>\n",
              "      <td>Travel_Frequently</td>\n",
              "      <td>Research &amp; Development</td>\n",
              "      <td>17</td>\n",
              "      <td>4</td>\n",
              "      <td>Other</td>\n",
              "      <td>1</td>\n",
              "      <td>Male</td>\n",
              "      <td>4</td>\n",
              "      <td>Sales Executive</td>\n",
              "      <td>Married</td>\n",
              "      <td>193280</td>\n",
              "      <td>1.0</td>\n",
              "      <td>Y</td>\n",
              "      <td>15</td>\n",
              "      <td>8</td>\n",
              "      <td>3</td>\n",
              "      <td>5.0</td>\n",
              "      <td>2</td>\n",
              "      <td>5</td>\n",
              "      <td>0</td>\n",
              "      <td>3</td>\n",
              "      <td>3</td>\n",
              "      <td>3</td>\n",
              "      <td>1697.22</td>\n",
              "      <td>6.50</td>\n",
              "      <td>0</td>\n",
              "      <td>10.03</td>\n",
              "      <td>17.04</td>\n",
              "      <td>0.27</td>\n",
              "      <td>0.39</td>\n",
              "    </tr>\n",
              "    <tr>\n",
              "      <th>4</th>\n",
              "      <td>4.0</td>\n",
              "      <td>4.0</td>\n",
              "      <td>3.0</td>\n",
              "      <td>38</td>\n",
              "      <td>No</td>\n",
              "      <td>Non-Travel</td>\n",
              "      <td>Research &amp; Development</td>\n",
              "      <td>2</td>\n",
              "      <td>5</td>\n",
              "      <td>Life Sciences</td>\n",
              "      <td>1</td>\n",
              "      <td>Male</td>\n",
              "      <td>3</td>\n",
              "      <td>Human Resources</td>\n",
              "      <td>Married</td>\n",
              "      <td>83210</td>\n",
              "      <td>3.0</td>\n",
              "      <td>Y</td>\n",
              "      <td>11</td>\n",
              "      <td>8</td>\n",
              "      <td>3</td>\n",
              "      <td>13.0</td>\n",
              "      <td>5</td>\n",
              "      <td>8</td>\n",
              "      <td>7</td>\n",
              "      <td>5</td>\n",
              "      <td>2</td>\n",
              "      <td>3</td>\n",
              "      <td>1690.49</td>\n",
              "      <td>6.48</td>\n",
              "      <td>0</td>\n",
              "      <td>9.98</td>\n",
              "      <td>17.18</td>\n",
              "      <td>0.28</td>\n",
              "      <td>0.41</td>\n",
              "    </tr>\n",
              "    <tr>\n",
              "      <th>5</th>\n",
              "      <td>4.0</td>\n",
              "      <td>1.0</td>\n",
              "      <td>3.0</td>\n",
              "      <td>32</td>\n",
              "      <td>No</td>\n",
              "      <td>Travel_Rarely</td>\n",
              "      <td>Research &amp; Development</td>\n",
              "      <td>10</td>\n",
              "      <td>1</td>\n",
              "      <td>Medical</td>\n",
              "      <td>1</td>\n",
              "      <td>Male</td>\n",
              "      <td>1</td>\n",
              "      <td>Sales Executive</td>\n",
              "      <td>Single</td>\n",
              "      <td>23420</td>\n",
              "      <td>4.0</td>\n",
              "      <td>Y</td>\n",
              "      <td>12</td>\n",
              "      <td>8</td>\n",
              "      <td>2</td>\n",
              "      <td>9.0</td>\n",
              "      <td>2</td>\n",
              "      <td>6</td>\n",
              "      <td>0</td>\n",
              "      <td>4</td>\n",
              "      <td>3</td>\n",
              "      <td>3</td>\n",
              "      <td>1961.56</td>\n",
              "      <td>7.52</td>\n",
              "      <td>0</td>\n",
              "      <td>10.00</td>\n",
              "      <td>18.00</td>\n",
              "      <td>0.27</td>\n",
              "      <td>0.41</td>\n",
              "    </tr>\n",
              "  </tbody>\n",
              "</table>\n",
              "</div>"
            ],
            "text/plain": [
              "            EnvironmentSatisfaction  JobSatisfaction  WorkLifeBalance  Age  \\\n",
              "EmployeeID                                                                   \n",
              "1                               3.0              4.0              2.0   51   \n",
              "2                               3.0              2.0              4.0   31   \n",
              "3                               2.0              2.0              1.0   32   \n",
              "4                               4.0              4.0              3.0   38   \n",
              "5                               4.0              1.0              3.0   32   \n",
              "\n",
              "           Attrition     BusinessTravel              Department  \\\n",
              "EmployeeID                                                        \n",
              "1                 No      Travel_Rarely                   Sales   \n",
              "2                Yes  Travel_Frequently  Research & Development   \n",
              "3                 No  Travel_Frequently  Research & Development   \n",
              "4                 No         Non-Travel  Research & Development   \n",
              "5                 No      Travel_Rarely  Research & Development   \n",
              "\n",
              "            DistanceFromHome  Education EducationField  EmployeeCount  Gender  \\\n",
              "EmployeeID                                                                      \n",
              "1                          6          2  Life Sciences              1  Female   \n",
              "2                         10          1  Life Sciences              1  Female   \n",
              "3                         17          4          Other              1    Male   \n",
              "4                          2          5  Life Sciences              1    Male   \n",
              "5                         10          1        Medical              1    Male   \n",
              "\n",
              "            JobLevel                    JobRole MaritalStatus  MonthlyIncome  \\\n",
              "EmployeeID                                                                     \n",
              "1                  1  Healthcare Representative       Married         131160   \n",
              "2                  1         Research Scientist        Single          41890   \n",
              "3                  4            Sales Executive       Married         193280   \n",
              "4                  3            Human Resources       Married          83210   \n",
              "5                  1            Sales Executive        Single          23420   \n",
              "\n",
              "            NumCompaniesWorked Over18  PercentSalaryHike  StandardHours  \\\n",
              "EmployeeID                                                                \n",
              "1                          1.0      Y                 11              8   \n",
              "2                          0.0      Y                 23              8   \n",
              "3                          1.0      Y                 15              8   \n",
              "4                          3.0      Y                 11              8   \n",
              "5                          4.0      Y                 12              8   \n",
              "\n",
              "            StockOptionLevel  TotalWorkingYears  TrainingTimesLastYear  \\\n",
              "EmployeeID                                                               \n",
              "1                          0                1.0                      6   \n",
              "2                          1                6.0                      3   \n",
              "3                          3                5.0                      2   \n",
              "4                          3               13.0                      5   \n",
              "5                          2                9.0                      2   \n",
              "\n",
              "            YearsAtCompany  YearsSinceLastPromotion  YearsWithCurrManager  \\\n",
              "EmployeeID                                                                  \n",
              "1                        1                        0                     0   \n",
              "2                        5                        1                     4   \n",
              "3                        5                        0                     3   \n",
              "4                        8                        7                     5   \n",
              "5                        6                        0                     4   \n",
              "\n",
              "            JobInvolvement  PerformanceRating  tot_working_time  \\\n",
              "EmployeeID                                                        \n",
              "1                        3                  3           1710.74   \n",
              "2                        2                  4           1821.63   \n",
              "3                        3                  3           1697.22   \n",
              "4                        2                  3           1690.49   \n",
              "5                        3                  3           1961.56   \n",
              "\n",
              "            avg_working_time tot_overtime  avg_login_time  avg_logout_time  \\\n",
              "EmployeeID                                                                   \n",
              "1                       6.55            0           10.00            17.37   \n",
              "2                       6.98            0            9.99            17.71   \n",
              "3                       6.50            0           10.03            17.04   \n",
              "4                       6.48            0            9.98            17.18   \n",
              "5                       7.52            0           10.00            18.00   \n",
              "\n",
              "            std_login_time  std_logout_time  \n",
              "EmployeeID                                   \n",
              "1                     0.26             0.37  \n",
              "2                     0.29             0.42  \n",
              "3                     0.27             0.39  \n",
              "4                     0.28             0.41  \n",
              "5                     0.27             0.41  "
            ]
          },
          "metadata": {
            "tags": []
          },
          "execution_count": 30
        }
      ]
    },
    {
      "cell_type": "markdown",
      "metadata": {
        "id": "N-7nbsUvJkjH",
        "colab_type": "text"
      },
      "source": [
        "# Droping the unnecessary features from out dataset, for the purpose of our analysis."
      ]
    },
    {
      "cell_type": "code",
      "metadata": {
        "id": "ktorWxsYJhcY",
        "colab_type": "code",
        "colab": {}
      },
      "source": [
        "data.drop('EmployeeCount', axis=1, inplace=True)\n",
        "data.drop('Over18', axis=1, inplace=True)\n",
        "data.drop('StandardHours', axis=1, inplace=True)"
      ],
      "execution_count": 0,
      "outputs": []
    },
    {
      "cell_type": "markdown",
      "metadata": {
        "id": "9ObouVTuB9pJ",
        "colab_type": "text"
      },
      "source": [
        "# Handling missing values."
      ]
    },
    {
      "cell_type": "code",
      "metadata": {
        "id": "IgW42JhNID6H",
        "colab_type": "code",
        "outputId": "eb9e1e26-1617-489c-83a1-6215ce45c4f0",
        "colab": {
          "base_uri": "https://localhost:8080/",
          "height": 723
        }
      },
      "source": [
        "(data.isnull().sum()).plot.bar(figsize=(20,10))"
      ],
      "execution_count": 32,
      "outputs": [
        {
          "output_type": "execute_result",
          "data": {
            "text/plain": [
              "<matplotlib.axes._subplots.AxesSubplot at 0x7f03e14feef0>"
            ]
          },
          "metadata": {
            "tags": []
          },
          "execution_count": 32
        },
        {
          "output_type": "display_data",
          "data": {
            "image/png": "[encoded data removed]",
            "text/plain": [
              "<Figure size 1440x720 with 1 Axes>"
            ]
          },
          "metadata": {
            "tags": [],
            "needs_background": "light"
          }
        }
      ]
    },
    {
      "cell_type": "markdown",
      "metadata": {
        "id": "Cs4gYkPaLNi6",
        "colab_type": "text"
      },
      "source": [
        "**As we can observe from the graph above, missing values exists in the following features in the dataset :**  "
      ]
    },
    {
      "cell_type": "code",
      "metadata": {
        "id": "SHrLmBMkLQBL",
        "colab_type": "code",
        "outputId": "f4934f89-56ed-4e8b-d81f-7573bc498a51",
        "colab": {
          "base_uri": "https://localhost:8080/",
          "height": 119
        }
      },
      "source": [
        "null_containing_features = data.columns[data.isnull().any()]\n",
        "data[null_containing_features].isnull().sum()"
      ],
      "execution_count": 33,
      "outputs": [
        {
          "output_type": "execute_result",
          "data": {
            "text/plain": [
              "EnvironmentSatisfaction    25\n",
              "JobSatisfaction            20\n",
              "WorkLifeBalance            38\n",
              "NumCompaniesWorked         19\n",
              "TotalWorkingYears           9\n",
              "dtype: int64"
            ]
          },
          "metadata": {
            "tags": []
          },
          "execution_count": 33
        }
      ]
    },
    {
      "cell_type": "markdown",
      "metadata": {
        "id": "GYMg9WepLPuF",
        "colab_type": "text"
      },
      "source": [
        "**Imoutation of the missing values in our dataset.**"
      ]
    },
    {
      "cell_type": "code",
      "metadata": {
        "id": "NRO4wC2wTFzA",
        "colab_type": "code",
        "outputId": "334a2b6f-c7fd-417f-88e9-4ae99f178290",
        "colab": {
          "base_uri": "https://localhost:8080/",
          "height": 170
        }
      },
      "source": [
        "# let's see the range of the features 'NumCompaniesWorked' and 'TotalWorkingYers'\n",
        "print(data[['NumCompaniesWorked','TotalWorkingYears']].describe())"
      ],
      "execution_count": 34,
      "outputs": [
        {
          "output_type": "stream",
          "text": [
            "       NumCompaniesWorked  TotalWorkingYears\n",
            "count         4391.000000        4401.000000\n",
            "mean             2.694830          11.279936\n",
            "std              2.498887           7.782222\n",
            "min              0.000000           0.000000\n",
            "25%              1.000000           6.000000\n",
            "50%              2.000000          10.000000\n",
            "75%              4.000000          15.000000\n",
            "max              9.000000          40.000000\n"
          ],
          "name": "stdout"
        }
      ]
    },
    {
      "cell_type": "code",
      "metadata": {
        "id": "0NK8dqMYLPUP",
        "colab_type": "code",
        "colab": {}
      },
      "source": [
        "'''\n",
        "For the cases of the features : \n",
        "NumCompaniesWorked and TotalWorkingYears,\n",
        "we are going to use the KNNImputer from sklearn,\n",
        "to impute the missing values in these features,\n",
        "as these as primarily numerical features,\n",
        "representing the experience quotient of an employee,\n",
        "for which we can produce a higher order approximation,\n",
        "with insignificant bias introduced to the data.\n",
        "'''\n",
        "from sklearn.impute import KNNImputer\n",
        "# n_neighbors = 5 because of the range of values from (0,9)\n",
        "data['NumCompaniesWorked'] = KNNImputer(n_neighbors = 5).fit_transform(data['NumCompaniesWorked'].values.reshape(-1,1))\n",
        "# n_neighbors = 10 because of the range of values from (0,40)\n",
        "data['TotalWorkingYears'] = KNNImputer(n_neighbors = 10).fit_transform(data['TotalWorkingYears'].values.reshape(-1,1))"
      ],
      "execution_count": 0,
      "outputs": []
    },
    {
      "cell_type": "code",
      "metadata": {
        "id": "SnldPreQT_EE",
        "colab_type": "code",
        "colab": {}
      },
      "source": [
        "'''\n",
        "For the cases of the features :\n",
        "EnvironmentSatisfaction, JobSatisfaction and WorkLifeBalance;\n",
        "we are going to drop the rows containing the null-values in these features,\n",
        "primarily because these features reflect a qualitative asspect of the employee, represented by numbers;\n",
        "and if we use any kind of imputation strategies to replace the null-values with some close approximation then,\n",
        "we won't be able to reflect the qualitative aspect of that feature for that employee,\n",
        "so it will be a case of miss-representation,\n",
        "which will inturn introduce unwanted bias in our data, which can lead to a poorer model.\n",
        "'''\n",
        "# droping all the rows containing null-values, because at this point on the above mentioned features contain null-values, so the operationwould only impact them\n",
        "data.dropna(inplace=True)"
      ],
      "execution_count": 0,
      "outputs": []
    },
    {
      "cell_type": "code",
      "metadata": {
        "id": "P8NK2u4gUna_",
        "colab_type": "code",
        "outputId": "d1770e98-fa08-44fa-e798-0fdef17d6ee2",
        "colab": {
          "base_uri": "https://localhost:8080/",
          "height": 644
        }
      },
      "source": [
        "# visealizing the data after handling the missing values.\n",
        "import missingno as msno\n",
        "msno.matrix(data)"
      ],
      "execution_count": 37,
      "outputs": [
        {
          "output_type": "execute_result",
          "data": {
            "text/plain": [
              "<matplotlib.axes._subplots.AxesSubplot at 0x7f03dd2569b0>"
            ]
          },
          "metadata": {
            "tags": []
          },
          "execution_count": 37
        },
        {
          "output_type": "display_data",
          "data": {
            "image/png": "[encoded data removed]",
            "text/plain": [
              "<Figure size 1800x720 with 2 Axes>"
            ]
          },
          "metadata": {
            "tags": [],
            "needs_background": "light"
          }
        }
      ]
    },
    {
      "cell_type": "markdown",
      "metadata": {
        "id": "hyEST6vrVygq",
        "colab_type": "text"
      },
      "source": [
        "**As we can see, the data is no more fragmented due to the presence of missing values.**"
      ]
    },
    {
      "cell_type": "markdown",
      "metadata": {
        "id": "kIii-yxZvj72",
        "colab_type": "text"
      },
      "source": [
        "# Feature exploration and analysis, by utilizing visualizations."
      ]
    },
    {
      "cell_type": "code",
      "metadata": {
        "id": "BP5daw5EvkhC",
        "colab_type": "code",
        "outputId": "72eb20ae-426c-4e04-c58d-07ae77bc1545",
        "colab": {
          "base_uri": "https://localhost:8080/",
          "height": 337
        }
      },
      "source": [
        "# EnvironmentSatisfaction with Attrition\n",
        "sns.catplot(x='Attrition', col='EnvironmentSatisfaction', data=data, kind='count')"
      ],
      "execution_count": 38,
      "outputs": [
        {
          "output_type": "execute_result",
          "data": {
            "text/plain": [
              "<seaborn.axisgrid.FacetGrid at 0x7f03da93e080>"
            ]
          },
          "metadata": {
            "tags": []
          },
          "execution_count": 38
        },
        {
          "output_type": "display_data",
          "data": {
            "image/png": "[encoded data removed]",
            "text/plain": [
              "<Figure size 1440x360 with 4 Axes>"
            ]
          },
          "metadata": {
            "tags": [],
            "needs_background": "light"
          }
        }
      ]
    },
    {
      "cell_type": "markdown",
      "metadata": {
        "id": "tlEwYesnvk7-",
        "colab_type": "text"
      },
      "source": [
        "**We can clearly observe from the above plot that employees who have relatively less work environment satisfaction Level, show a higher level of attrition.**"
      ]
    },
    {
      "cell_type": "code",
      "metadata": {
        "id": "dgpPHG_qvlbH",
        "colab_type": "code",
        "outputId": "4dd284f4-eca9-420a-cc3d-c003ebc17d1e",
        "colab": {
          "base_uri": "https://localhost:8080/",
          "height": 318
        }
      },
      "source": [
        "# JobSatisfaction, WorklifeBalance and Attirtion\n",
        "sns.catplot(x='Attrition', hue='WorkLifeBalance', col='JobSatisfaction', data=data, kind='count')"
      ],
      "execution_count": 39,
      "outputs": [
        {
          "output_type": "execute_result",
          "data": {
            "text/plain": [
              "<seaborn.axisgrid.FacetGrid at 0x7f03d908ca58>"
            ]
          },
          "metadata": {
            "tags": []
          },
          "execution_count": 39
        },
        {
          "output_type": "display_data",
          "data": {
            "image/png": "[encoded data removed]",
            "text/plain": [
              "<Figure size 1531.25x360 with 4 Axes>"
            ]
          },
          "metadata": {
            "tags": [],
            "needs_background": "light"
          }
        }
      ]
    },
    {
      "cell_type": "markdown",
      "metadata": {
        "id": "fq7fhIyT9dks",
        "colab_type": "text"
      },
      "source": [
        "**We can clearly observe from the above plot that employees with lower job satisfaction and worklife balance levels, show a higher level of attrition.**  \n",
        "**And employees with higher job satisfaction levels and with a worklife balance score of 3 shower lowest levels of attrition.**"
      ]
    },
    {
      "cell_type": "code",
      "metadata": {
        "id": "68ElBl2bvl3y",
        "colab_type": "code",
        "outputId": "ec73e7ab-79b0-4a53-881b-3d4470b2b941",
        "colab": {
          "base_uri": "https://localhost:8080/",
          "height": 711
        }
      },
      "source": [
        "# Age, Businesstravel and Attrition\n",
        "sns.catplot(x='Attrition', hue = 'Age', col='BusinessTravel', data=data, kind='count')"
      ],
      "execution_count": 40,
      "outputs": [
        {
          "output_type": "execute_result",
          "data": {
            "text/plain": [
              "<seaborn.axisgrid.FacetGrid at 0x7f03d90100b8>"
            ]
          },
          "metadata": {
            "tags": []
          },
          "execution_count": 40
        },
        {
          "output_type": "display_data",
          "data": {
            "image/png": "[encoded data removed]",
            "text/plain": [
              "<Figure size 1128.75x360 with 3 Axes>"
            ]
          },
          "metadata": {
            "tags": [],
            "needs_background": "light"
          }
        }
      ]
    },
    {
      "cell_type": "markdown",
      "metadata": {
        "id": "-LLl31_5-4mB",
        "colab_type": "text"
      },
      "source": [
        "**We can clearly observe from the above plot that :**  \n",
        "* employees in the age group of 25 to 35, who travel rarely for business purposes show higher attrition.\n",
        "* employees in the age group of 25 to 30, who travel frequently for business purposes show relatively higher attrition.\n",
        "* Attrition in employees who do not travel for business purposes, is almost independent of the age group of those employees, and even so they independently show significantly lower attrition levels. "
      ]
    },
    {
      "cell_type": "code",
      "metadata": {
        "id": "Jy9V12CZvmJf",
        "colab_type": "code",
        "outputId": "7f2cd5ba-bc0c-4b7f-9201-ff3886a56123",
        "colab": {
          "base_uri": "https://localhost:8080/",
          "height": 386
        }
      },
      "source": [
        "# Department, Gender and Attrition\n",
        "sns.catplot(x='Attrition', hue= 'Department', col='Gender', data=data, kind='count')"
      ],
      "execution_count": 41,
      "outputs": [
        {
          "output_type": "execute_result",
          "data": {
            "text/plain": [
              "<seaborn.axisgrid.FacetGrid at 0x7f03d8db5cc0>"
            ]
          },
          "metadata": {
            "tags": []
          },
          "execution_count": 41
        },
        {
          "output_type": "display_data",
          "data": {
            "image/png": "[encoded data removed]",
            "text/plain": [
              "<Figure size 882.875x360 with 2 Axes>"
            ]
          },
          "metadata": {
            "tags": [],
            "needs_background": "light"
          }
        }
      ]
    },
    {
      "cell_type": "markdown",
      "metadata": {
        "id": "U0UmBiN3A0NY",
        "colab_type": "text"
      },
      "source": [
        "**We can clearly infer from the above plot that employees, in the Research & Development for both the cases of the genders, show a relatively higher level of attrition, than the other departments in the company.**  \n",
        "**In the case of the Sales and Human Resources departments, male employees show a higher attition level than female employees.**"
      ]
    },
    {
      "cell_type": "code",
      "metadata": {
        "id": "o5H5g4zLvmey",
        "colab_type": "code",
        "outputId": "1ed47ea6-77b4-4f0d-c354-9b75ca1c455b",
        "colab": {
          "base_uri": "https://localhost:8080/",
          "height": 260
        }
      },
      "source": [
        "# Education, EducatoinField and Attrition\n",
        "sns.catplot(x='Attrition', hue= 'EducationField', col='Education', data=data, kind='count')"
      ],
      "execution_count": 42,
      "outputs": [
        {
          "output_type": "execute_result",
          "data": {
            "text/plain": [
              "<seaborn.axisgrid.FacetGrid at 0x7f03d8a72278>"
            ]
          },
          "metadata": {
            "tags": []
          },
          "execution_count": 42
        },
        {
          "output_type": "display_data",
          "data": {
            "image/png": "[encoded data removed]",
            "text/plain": [
              "<Figure size 1926x360 with 5 Axes>"
            ]
          },
          "metadata": {
            "tags": [],
            "needs_background": "light"
          }
        }
      ]
    },
    {
      "cell_type": "markdown",
      "metadata": {
        "id": "EBcLYgivHjjJ",
        "colab_type": "text"
      },
      "source": [
        "**We can infer from the above plot that employees with an education of type 4, in the field of LIfe Sciences, show the relatively higher levels of attition.**\n",
        "**We can also see that emplyees with an education type of 3, in the field of Life Sciences and Medical, also show simialar high levels of attrition among their peers.** "
      ]
    },
    {
      "cell_type": "code",
      "metadata": {
        "id": "CEeBufKYvmzs",
        "colab_type": "code",
        "outputId": "ae2fb796-34b8-4ad8-fd55-c4ba42ce7f71",
        "colab": {
          "base_uri": "https://localhost:8080/",
          "height": 255
        }
      },
      "source": [
        "# JobLevel JobRole\n",
        "sns.catplot(x='Attrition', hue= 'JobRole', col='JobLevel', data=data, kind='count')"
      ],
      "execution_count": 43,
      "outputs": [
        {
          "output_type": "execute_result",
          "data": {
            "text/plain": [
              "<seaborn.axisgrid.FacetGrid at 0x7f03d863a7b8>"
            ]
          },
          "metadata": {
            "tags": []
          },
          "execution_count": 43
        },
        {
          "output_type": "display_data",
          "data": {
            "image/png": "[encoded data removed]",
            "text/plain": [
              "<Figure size 1968.88x360 with 5 Axes>"
            ]
          },
          "metadata": {
            "tags": [],
            "needs_background": "light"
          }
        }
      ]
    },
    {
      "cell_type": "markdown",
      "metadata": {
        "id": "MPMcUJNbIOij",
        "colab_type": "text"
      },
      "source": [
        "**We can infer from the above plot that employees in the job level category 1 and 2, with a role of Sales Executive and Research Scientist, show the relatively highest levels of attrition.**  \n",
        "**There is also a significant level of attirtion by the employees with a role of Laboratory Technicians in the job level category 1, 2 and 4.**"
      ]
    },
    {
      "cell_type": "code",
      "metadata": {
        "id": "RNSfxM1Dvm9E",
        "colab_type": "code",
        "outputId": "2304d999-4d0b-47ae-82ee-21951cb2c60b",
        "colab": {
          "base_uri": "https://localhost:8080/",
          "height": 501
        }
      },
      "source": [
        "# DistanceFromHome Gender\n",
        "sns.catplot(x='Attrition', hue= 'DistanceFromHome', col='Gender', data=data, kind='count')"
      ],
      "execution_count": 44,
      "outputs": [
        {
          "output_type": "execute_result",
          "data": {
            "text/plain": [
              "<seaborn.axisgrid.FacetGrid at 0x7f03d8557e10>"
            ]
          },
          "metadata": {
            "tags": []
          },
          "execution_count": 44
        },
        {
          "output_type": "display_data",
          "data": {
            "image/png": "[encoded data removed]",
            "text/plain": [
              "<Figure size 825.625x360 with 2 Axes>"
            ]
          },
          "metadata": {
            "tags": [],
            "needs_background": "light"
          }
        }
      ]
    },
    {
      "cell_type": "markdown",
      "metadata": {
        "id": "S9ornHbeJdow",
        "colab_type": "text"
      },
      "source": [
        "**We can clearly observe from the above plot that, the attrition level for boht male and female employees are relatively higher in the cases where the distance to the office from their homes are smaller; and as the distance of the office from their homes increases, we can observe a decrease in the levels of attrition in them.**"
      ]
    },
    {
      "cell_type": "code",
      "metadata": {
        "id": "n9iSYXOKvnMr",
        "colab_type": "code",
        "outputId": "b382e797-7ec1-40c7-8a30-71a316891bdc",
        "colab": {
          "base_uri": "https://localhost:8080/",
          "height": 296
        }
      },
      "source": [
        "# MaritalStatus and Attrition\n",
        "sns.countplot(x='Attrition', hue= 'MaritalStatus', data=data)"
      ],
      "execution_count": 45,
      "outputs": [
        {
          "output_type": "execute_result",
          "data": {
            "text/plain": [
              "<matplotlib.axes._subplots.AxesSubplot at 0x7f03d824db70>"
            ]
          },
          "metadata": {
            "tags": []
          },
          "execution_count": 45
        },
        {
          "output_type": "display_data",
          "data": {
            "image/png": "[encoded data removed]",
            "text/plain": [
              "<Figure size 432x288 with 1 Axes>"
            ]
          },
          "metadata": {
            "tags": [],
            "needs_background": "light"
          }
        }
      ]
    },
    {
      "cell_type": "markdown",
      "metadata": {
        "id": "NrRoXN9xLEkj",
        "colab_type": "text"
      },
      "source": [
        "**we can clearly observe from the above pot that the attrition level is relatively high in the employees with a marital status of Single, following that are the employees with marital status of Married; and the employees with the reltively lowest level of attrition are the ones with a marital status of Divorced.**"
      ]
    },
    {
      "cell_type": "code",
      "metadata": {
        "id": "UVphCXpJLud7",
        "colab_type": "code",
        "outputId": "fee46135-cda6-4726-b34a-15fe5c2d95d0",
        "colab": {
          "base_uri": "https://localhost:8080/",
          "height": 296
        }
      },
      "source": [
        "# MonthlyIncome and Attrition\n",
        "sns.swarmplot(x='MonthlyIncome', y= 'Attrition', data=data)"
      ],
      "execution_count": 46,
      "outputs": [
        {
          "output_type": "execute_result",
          "data": {
            "text/plain": [
              "<matplotlib.axes._subplots.AxesSubplot at 0x7f03d80e12e8>"
            ]
          },
          "metadata": {
            "tags": []
          },
          "execution_count": 46
        },
        {
          "output_type": "display_data",
          "data": {
            "image/png": "[encoded data removed]",
            "text/plain": [
              "<Figure size 432x288 with 1 Axes>"
            ]
          },
          "metadata": {
            "tags": [],
            "needs_background": "light"
          }
        }
      ]
    },
    {
      "cell_type": "markdown",
      "metadata": {
        "id": "kl4srioRLt_a",
        "colab_type": "text"
      },
      "source": [
        "**We can clearly observe from the above plot that a lot of attritions happening in the workforce of the company is related to the employees with income ranging from 25000 to 75000 rupeesper month.**"
      ]
    },
    {
      "cell_type": "code",
      "metadata": {
        "id": "jo4pW9HcvnVw",
        "colab_type": "code",
        "outputId": "a7e6b101-184c-432f-c7d1-60a482bc08e8",
        "colab": {
          "base_uri": "https://localhost:8080/",
          "height": 296
        }
      },
      "source": [
        "# PercentSalaryHike and Attrition\n",
        "sns.countplot(x='Attrition', hue= 'PercentSalaryHike', data=data)\n",
        "plt.legend(bbox_to_anchor=(1.2,1.), loc=\"upper right\")"
      ],
      "execution_count": 47,
      "outputs": [
        {
          "output_type": "execute_result",
          "data": {
            "text/plain": [
              "<matplotlib.legend.Legend at 0x7f03d8099710>"
            ]
          },
          "metadata": {
            "tags": []
          },
          "execution_count": 47
        },
        {
          "output_type": "display_data",
          "data": {
            "image/png": "[encoded data removed]",
            "text/plain": [
              "<Figure size 432x288 with 1 Axes>"
            ]
          },
          "metadata": {
            "tags": [],
            "needs_background": "light"
          }
        }
      ]
    },
    {
      "cell_type": "markdown",
      "metadata": {
        "id": "q99JrE-lRsYC",
        "colab_type": "text"
      },
      "source": [
        "**We can observe from the above plot that employees who received a salary hike of precentages ranging from 11% to 15%, show a relatively higher attrition.**  \n",
        "**On the other side, as we observe percentage of salary hike increasing, we see a decrease in the attition of those employees.**"
      ]
    },
    {
      "cell_type": "code",
      "metadata": {
        "id": "woIZhSdvKzX5",
        "colab_type": "code",
        "outputId": "b86bb155-c91a-466f-af1e-d2b24526db4e",
        "colab": {
          "base_uri": "https://localhost:8080/",
          "height": 297
        }
      },
      "source": [
        "# StockOptionLevel and Attrition\n",
        "sns.countplot(x='Attrition', hue= 'StockOptionLevel', data=data)"
      ],
      "execution_count": 48,
      "outputs": [
        {
          "output_type": "execute_result",
          "data": {
            "text/plain": [
              "<matplotlib.axes._subplots.AxesSubplot at 0x7f03d7fe1470>"
            ]
          },
          "metadata": {
            "tags": []
          },
          "execution_count": 48
        },
        {
          "output_type": "display_data",
          "data": {
            "image/png": "[encoded data removed]",
            "text/plain": [
              "<Figure size 432x288 with 1 Axes>"
            ]
          },
          "metadata": {
            "tags": [],
            "needs_background": "light"
          }
        }
      ]
    },
    {
      "cell_type": "markdown",
      "metadata": {
        "id": "wHOso1-USXeB",
        "colab_type": "text"
      },
      "source": [
        "**We can clearly see from the above plot that the level of stock options with the employees and the attrition level of the employees is inversely proportionate; i.e. as the stock option level with an employee rises, they start showing lower levels of attirion.**"
      ]
    },
    {
      "cell_type": "code",
      "metadata": {
        "id": "rkxigr5HvjED",
        "colab_type": "code",
        "outputId": "65271f55-e247-4139-8f0c-d64904efc4c0",
        "colab": {
          "base_uri": "https://localhost:8080/",
          "height": 296
        }
      },
      "source": [
        "# NumCompaniesWorked and Attrition\n",
        "sns.countplot(x='Attrition', hue= 'NumCompaniesWorked', data=data)\n",
        "plt.legend(bbox_to_anchor=(1.5,1), loc=\"upper right\")"
      ],
      "execution_count": 49,
      "outputs": [
        {
          "output_type": "execute_result",
          "data": {
            "text/plain": [
              "<matplotlib.legend.Legend at 0x7f03d7f11f28>"
            ]
          },
          "metadata": {
            "tags": []
          },
          "execution_count": 49
        },
        {
          "output_type": "display_data",
          "data": {
            "image/png": "[encoded data removed]",
            "text/plain": [
              "<Figure size 432x288 with 1 Axes>"
            ]
          },
          "metadata": {
            "tags": [],
            "needs_background": "light"
          }
        }
      ]
    },
    {
      "cell_type": "markdown",
      "metadata": {
        "id": "QSXNhWTdTM-y",
        "colab_type": "text"
      },
      "source": [
        "**We can clearly infer from the above plot that employees who have worked with only 1 company show the highest attirition behaviour than the rest of the employees who have worked with more than 1 companies.**"
      ]
    },
    {
      "cell_type": "code",
      "metadata": {
        "id": "wv_uG6G5S3AI",
        "colab_type": "code",
        "outputId": "b629178f-bb7b-488c-f17d-3c8baa359cc8",
        "colab": {
          "base_uri": "https://localhost:8080/",
          "height": 671
        }
      },
      "source": [
        "# TotalWorkingYears and Attrition\n",
        "sns.countplot(x='Attrition', hue= 'TotalWorkingYears', data=data)\n",
        "plt.legend(bbox_to_anchor=(1.5,1), loc=\"upper right\")"
      ],
      "execution_count": 50,
      "outputs": [
        {
          "output_type": "execute_result",
          "data": {
            "text/plain": [
              "<matplotlib.legend.Legend at 0x7f03d7e9b1d0>"
            ]
          },
          "metadata": {
            "tags": []
          },
          "execution_count": 50
        },
        {
          "output_type": "display_data",
          "data": {
            "image/png": "[encoded data removed]",
            "text/plain": [
              "<Figure size 432x288 with 1 Axes>"
            ]
          },
          "metadata": {
            "tags": [],
            "needs_background": "light"
          }
        }
      ]
    },
    {
      "cell_type": "markdown",
      "metadata": {
        "id": "QM_HbUi6T9xo",
        "colab_type": "text"
      },
      "source": [
        "**We can infer from the above plot that as the experience of the employees increase, the attrition levels drop in the company; and specially the employees with an experience in the ranges of 0 to 2 years and 10 to 11 years show relatively higher attrition levels than ther peers.**"
      ]
    },
    {
      "cell_type": "code",
      "metadata": {
        "id": "JRlrxqlK3sYJ",
        "colab_type": "code",
        "outputId": "39165994-9fa9-40d6-e3c5-50c351b9b641",
        "colab": {
          "base_uri": "https://localhost:8080/",
          "height": 296
        }
      },
      "source": [
        "# TrainingTimesLastYear and Attrition\n",
        "sns.countplot(x='Attrition', hue= 'TrainingTimesLastYear', data=data)\n",
        "plt.legend(bbox_to_anchor=(1.5,1), loc=\"upper right\")"
      ],
      "execution_count": 51,
      "outputs": [
        {
          "output_type": "execute_result",
          "data": {
            "text/plain": [
              "<matplotlib.legend.Legend at 0x7f03d7e9b940>"
            ]
          },
          "metadata": {
            "tags": []
          },
          "execution_count": 51
        },
        {
          "output_type": "display_data",
          "data": {
            "image/png": "[encoded data removed]",
            "text/plain": [
              "<Figure size 432x288 with 1 Axes>"
            ]
          },
          "metadata": {
            "tags": [],
            "needs_background": "light"
          }
        }
      ]
    },
    {
      "cell_type": "markdown",
      "metadata": {
        "id": "LJ6sDY-oSoF0",
        "colab_type": "text"
      },
      "source": [
        "**We can clearly see from the above plot that employees who got 2 and 3 times training last year show the most attrition behaviour among their peers.** "
      ]
    },
    {
      "cell_type": "code",
      "metadata": {
        "id": "lQUdr8AkSVv1",
        "colab_type": "code",
        "colab": {
          "base_uri": "https://localhost:8080/",
          "height": 611
        },
        "outputId": "828afa52-5a14-4954-b7f5-a87b25e90437"
      },
      "source": [
        "# YearsAtCompany and Attrition\n",
        "sns.countplot(x='Attrition', hue= 'YearsAtCompany', data=data)\n",
        "plt.legend(bbox_to_anchor=(1.5,1), loc=\"upper right\")"
      ],
      "execution_count": 52,
      "outputs": [
        {
          "output_type": "execute_result",
          "data": {
            "text/plain": [
              "<matplotlib.legend.Legend at 0x7f03d7bc0080>"
            ]
          },
          "metadata": {
            "tags": []
          },
          "execution_count": 52
        },
        {
          "output_type": "display_data",
          "data": {
            "image/png": "[encoded data removed]",
            "text/plain": [
              "<Figure size 432x288 with 1 Axes>"
            ]
          },
          "metadata": {
            "tags": [],
            "needs_background": "light"
          }
        }
      ]
    },
    {
      "cell_type": "markdown",
      "metadata": {
        "id": "j9Ya99-MSsxk",
        "colab_type": "text"
      },
      "source": [
        "**We can clearly observe from the above plot that newer employees show higher attrition behaviour, and as the employees get more seasoned in the company they show lower attrition behaviour.**"
      ]
    },
    {
      "cell_type": "code",
      "metadata": {
        "id": "geFPoMc13sLC",
        "colab_type": "code",
        "outputId": "859f575d-3a26-47c7-e156-f00a7829ce25",
        "colab": {
          "base_uri": "https://localhost:8080/",
          "height": 296
        }
      },
      "source": [
        "# YearsSinceLastPromotion and Attrition \n",
        "sns.countplot(x='Attrition', hue= 'YearsSinceLastPromotion', data=data)\n",
        "plt.legend(bbox_to_anchor=(1.5,1), loc=\"upper right\")"
      ],
      "execution_count": 53,
      "outputs": [
        {
          "output_type": "execute_result",
          "data": {
            "text/plain": [
              "<matplotlib.legend.Legend at 0x7f03d7b41940>"
            ]
          },
          "metadata": {
            "tags": []
          },
          "execution_count": 53
        },
        {
          "output_type": "display_data",
          "data": {
            "image/png": "[encoded data removed]",
            "text/plain": [
              "<Figure size 432x288 with 1 Axes>"
            ]
          },
          "metadata": {
            "tags": [],
            "needs_background": "light"
          }
        }
      ]
    },
    {
      "cell_type": "markdown",
      "metadata": {
        "id": "sTmw5doOS7wa",
        "colab_type": "text"
      },
      "source": [
        "**We can clearly see from the above plot that employees with a recent promotion in the company show higher attrition behaviour than the employees who received their current promotion relatively earlier than their peers.**"
      ]
    },
    {
      "cell_type": "code",
      "metadata": {
        "id": "E_-V0VIjS8fU",
        "colab_type": "code",
        "colab": {
          "base_uri": "https://localhost:8080/",
          "height": 326
        },
        "outputId": "6114cebf-9f99-475b-c72b-ef6f4788ae09"
      },
      "source": [
        "# YearsWithCurrManager and Attrition\n",
        "sns.countplot(x='Attrition', hue= 'YearsWithCurrManager', data=data)\n",
        "plt.legend(bbox_to_anchor=(1.5,1), loc=\"upper right\")"
      ],
      "execution_count": 54,
      "outputs": [
        {
          "output_type": "execute_result",
          "data": {
            "text/plain": [
              "<matplotlib.legend.Legend at 0x7f03d7984f98>"
            ]
          },
          "metadata": {
            "tags": []
          },
          "execution_count": 54
        },
        {
          "output_type": "display_data",
          "data": {
            "image/png": "[encoded data removed]",
            "text/plain": [
              "<Figure size 432x288 with 1 Axes>"
            ]
          },
          "metadata": {
            "tags": [],
            "needs_background": "light"
          }
        }
      ]
    },
    {
      "cell_type": "markdown",
      "metadata": {
        "id": "JR2tJiUgTPCi",
        "colab_type": "text"
      },
      "source": [
        "**We can clearly observe from the above plot that employees that are with their current manager for higher number of years show higher attrition behaviour than their peers, and the attrition behaviour decreases as the employees stay with their current managers for longre periods of time.**"
      ]
    },
    {
      "cell_type": "code",
      "metadata": {
        "id": "U0LsLJne3r7u",
        "colab_type": "code",
        "outputId": "cb3e95f2-900d-4498-85a9-d77ee532233a",
        "colab": {
          "base_uri": "https://localhost:8080/",
          "height": 386
        }
      },
      "source": [
        "# JobInvolvement PerformanceRating\n",
        "sns.catplot(x='Attrition', hue= 'JobInvolvement', col='PerformanceRating', data=data, kind='count')"
      ],
      "execution_count": 55,
      "outputs": [
        {
          "output_type": "execute_result",
          "data": {
            "text/plain": [
              "<seaborn.axisgrid.FacetGrid at 0x7f03d7984e80>"
            ]
          },
          "metadata": {
            "tags": []
          },
          "execution_count": 55
        },
        {
          "output_type": "display_data",
          "data": {
            "image/png": "[encoded data removed]",
            "text/plain": [
              "<Figure size 805.125x360 with 2 Axes>"
            ]
          },
          "metadata": {
            "tags": [],
            "needs_background": "light"
          }
        }
      ]
    },
    {
      "cell_type": "markdown",
      "metadata": {
        "id": "O6f9G9h13r0O",
        "colab_type": "text"
      },
      "source": [
        "**We can clearly observe from the above plot that employees with a performance rating of 3 and a job involvement score of 3 show the relatively highest attrition among their peers.**  \n",
        "**This is also applicable for employees with a performance rating of 4 and job involvement score of 3, i.e. they also show a relatively higher attrition, but not the highet among their peers.**"
      ]
    },
    {
      "cell_type": "code",
      "metadata": {
        "id": "CVhs5iHy3riW",
        "colab_type": "code",
        "colab": {}
      },
      "source": [
        ""
      ],
      "execution_count": 0,
      "outputs": []
    },
    {
      "cell_type": "markdown",
      "metadata": {
        "id": "UzhevTVrL22E",
        "colab_type": "text"
      },
      "source": [
        "# Feature encoding and scalling."
      ]
    },
    {
      "cell_type": "code",
      "metadata": {
        "id": "5PDEhEiGha4U",
        "colab_type": "code",
        "colab": {}
      },
      "source": [
        "from sklearn.preprocessing import (KBinsDiscretizer,\n",
        "                                   Binarizer,\n",
        "                                   MinMaxScaler,\n",
        "                                   LabelEncoder,\n",
        "                                   OrdinalEncoder,\n",
        "                                   OneHotEncoder)"
      ],
      "execution_count": 0,
      "outputs": []
    },
    {
      "cell_type": "code",
      "metadata": {
        "id": "ROzSE66UiAdB",
        "colab_type": "code",
        "colab": {}
      },
      "source": [
        "# Ordinal encoding the feature 'tot_working_time' into discreete 10 bins using the 'quantile' strategy.\n",
        "data['tot_working_time'] = KBinsDiscretizer(n_bins=10, encode='ordinal', strategy='quantile').fit_transform(data['tot_working_time'].values.reshape(-1,1))\n",
        "# Scalling the feature classes in the range of (0, 1)\n",
        "data['tot_working_time'] = MinMaxScaler().fit_transform(data['tot_working_time'].values.reshape(-1, 1))"
      ],
      "execution_count": 0,
      "outputs": []
    },
    {
      "cell_type": "code",
      "metadata": {
        "id": "FyOfSXVyid92",
        "colab_type": "code",
        "colab": {}
      },
      "source": [
        "'''\n",
        "Binary encoding the features 'avg_login_time' and 'avg_logout_time', mapping to the following :\n",
        "\n",
        "***'avg_login_time'***\n",
        "  0 > denoting EARLY and ON-TIME average login time of the employee through the year\n",
        "  1 > denoting LATE average login time of the employee through the year\n",
        "\n",
        "***'avg_logout_time'***\n",
        "  0 > denoting EARLY average logout time of the employee throught the year\n",
        "  1 > denoting ON-TIME and OVER-TIME average logout time of the employee through the year\n",
        "'''\n",
        "data['avg_login_time'] = Binarizer(threshold=10.00).fit_transform(data['avg_login_time'].values.reshape(-1,1))\n",
        "data['avg_logout_time'] = Binarizer(threshold=17.99).fit_transform(data['avg_logout_time'].values.reshape(-1,1))"
      ],
      "execution_count": 0,
      "outputs": []
    },
    {
      "cell_type": "code",
      "metadata": {
        "id": "4jQpBkC4ix_X",
        "colab_type": "code",
        "colab": {}
      },
      "source": [
        "# Scalling the feature 'avg_working_time' in the range of (0, 1)\n",
        "data['avg_working_time'] = MinMaxScaler().fit_transform(data['avg_working_time'].values.reshape(-1, 1))"
      ],
      "execution_count": 0,
      "outputs": []
    },
    {
      "cell_type": "markdown",
      "metadata": {
        "id": "SuxbgeaDhgQj",
        "colab_type": "text"
      },
      "source": [
        "**Let's visualize the class counts in the features of our data.**"
      ]
    },
    {
      "cell_type": "code",
      "metadata": {
        "id": "5shRxaPEiEC-",
        "colab_type": "code",
        "colab": {}
      },
      "source": [
        "# classes = pd.DataFrame()\n",
        "# temp_drop_col = ['MonthlyIncome','avg_working_time', 'tot_overtime']\n",
        "# temp_data = data.drop(temp_drop_col, axis=1, inplace=False)\n",
        "# for col in data.columns:\n",
        "#   classes.loc[0, col] = len(temp_data[col].value_counts())\n",
        "# classes = classes.T\n",
        "# # print(classes.shape, type(classes), classes.columns)\n",
        "# classes.rename(columns={0:'n_classes'}, inplace=True)\n",
        "# # print(classes.columns)\n",
        "# # classes['n_classes'] = MinMaxScaler().fit_transform(classes['n_classes'].values.reshape(-1,1))\n",
        "# classes.plot.bar(figsize=(20,10))"
      ],
      "execution_count": 0,
      "outputs": []
    },
    {
      "cell_type": "code",
      "metadata": {
        "id": "RA1abI_Vi_2u",
        "colab_type": "code",
        "colab": {}
      },
      "source": [
        ""
      ],
      "execution_count": 0,
      "outputs": []
    }
  ]
}