{
 "cells": [
  {
   "cell_type": "markdown",
   "metadata": {
    "colab_type": "text",
    "id": "si0yjMizE2o5"
   },
   "source": [
    "# Project Desription\n",
    "<u>**PROBLEM STATEMENT**</u> <i>(according to the data provider on Kaggle)</i>     \n",
    "\n",
    "\"A large company named XYZ, employs, at any given point of time, around 4000 employees. However, every year, around 15% of its employees leave the company and need to be replaced with the talent pool available in the job market. The management believes that this level of attrition (employees leaving, either on their own or because they got fired) is bad for the company, because of the following reasons -  \n",
    "\n",
    "* The former employees’ projects get delayed, which makes it difficult to meet timelines, resulting in a reputation loss among consumers and partners.  \n",
    "* A sizeable department has to be maintained, for the purposes of recruiting new talent.  \n",
    "* More often than not, the new employees have to be trained for the job and/or given time to acclimatise themselves to the company.  \n",
    "\n",
    "Hence, the management has contracted an HR analytics firm to understand what factors they should focus on, in order to curb attrition. In other words, they want to know what changes they should make to their workplace, in order to get most of their employees to stay. Also, they want to know which of these variables is most important and needs to be addressed right away.\"  \n",
    "\n",
    "<u>**GOAL OF THE PROJECT**</u>    \n",
    "\n",
    "We are required to model the probability of attrition. The results thus obtained will be used by the management to understand what changes they should make to their workplace, in order to get most of their employees to stay.  \n",
    "\n",
    "<u>**DATA SOURCE**</u>  \n",
    "\n",
    "* FROM Kaggle - https://www.kaggle.com/vjchoudhary7/hr-analytics-case-study\n",
    "\n"
   ]
  },
  {
   "cell_type": "markdown",
   "metadata": {
    "colab_type": "text",
    "id": "ozMyK1v3E2o8"
   },
   "source": [
    "# Importing libraries\n",
    "**Okay so prima facie, lets import some of the libraries we will be needing for this project.**  \n",
    "(even if we are missing out on some library, we can always import it later on in the project.)"
   ]
  },
  {
   "cell_type": "code",
   "execution_count": 1,
   "metadata": {
    "colab": {
     "base_uri": "https://localhost:8080/"
    },
    "colab_type": "code",
    "id": "hvR1IqOhE2o-",
    "outputId": "82157f5e-8d58-4127-a59f-ad93b59a42e1"
   },
   "outputs": [],
   "source": [
    "import sys\n",
    "\n",
    "# library to handle vectorized data \n",
    "import numpy as np \n",
    "# library for data analsysis and manupulation\n",
    "import pandas as pd \n",
    "# so that the output is not trunacated by pandas when we actually want to see it \n",
    "# pd.set_option('display.max_columns', 100)\n",
    "# pd.set_option('display.max_rows', 1000)\n",
    "\n",
    "# for visualisations\n",
    "import seaborn as sns\n",
    "\n",
    "%matplotlib inline \n",
    "import matplotlib as mpl\n",
    "import matplotlib.pyplot as plt\n"
   ]
  },
  {
   "cell_type": "markdown",
   "metadata": {
    "colab_type": "text",
    "id": "dJVCBJCpE2pI"
   },
   "source": [
    "# Loading the data : \n",
    "\n",
    "The data that we have for this project is as follows :\n",
    "(for the features see the included data dictionary).\n",
    "\n",
    "* **employee_survey_data** - This file conatins the survey results of the employees on the following features.\n",
    "* **general_data** - This file contain general data about employees.\n",
    "* **in_time** - This file contains employee login time details.\n",
    "* **out_time** - This file contains employees logout time details.\n",
    "* **manager_survey_data** - This file contains employees feedback survey about their managers."
   ]
  },
  {
   "cell_type": "code",
   "execution_count": 2,
   "metadata": {
    "colab": {},
    "colab_type": "code",
    "id": "cKnXE9YvE2pI"
   },
   "outputs": [],
   "source": [
    "employee_survey_data = pd.read_csv('data_files/employee_survey_data.csv')\n",
    "general_data = pd.read_csv('data_files/general_data.csv')\n",
    "in_time = pd.read_csv('data_files/in_time.csv')\n",
    "out_time = pd.read_csv('data_files/out_time.csv')\n",
    "manager_survey_data = pd.read_csv('data_files/manager_survey_data.csv')"
   ]
  },
  {
   "cell_type": "code",
   "execution_count": 3,
   "metadata": {
    "colab": {
     "base_uri": "https://localhost:8080/",
     "height": 204
    },
    "colab_type": "code",
    "id": "6TTERrePE2pP",
    "outputId": "53f7c471-9324-4176-e72c-0f64828c2a66"
   },
   "outputs": [
    {
     "data": {
      "text/html": [
       "<div>\n",
       "<style scoped>\n",
       "    .dataframe tbody tr th:only-of-type {\n",
       "        vertical-align: middle;\n",
       "    }\n",
       "\n",
       "    .dataframe tbody tr th {\n",
       "        vertical-align: top;\n",
       "    }\n",
       "\n",
       "    .dataframe thead th {\n",
       "        text-align: right;\n",
       "    }\n",
       "</style>\n",
       "<table border=\"1\" class=\"dataframe\">\n",
       "  <thead>\n",
       "    <tr style=\"text-align: right;\">\n",
       "      <th></th>\n",
       "      <th>EmployeeID</th>\n",
       "      <th>EnvironmentSatisfaction</th>\n",
       "      <th>JobSatisfaction</th>\n",
       "      <th>WorkLifeBalance</th>\n",
       "    </tr>\n",
       "  </thead>\n",
       "  <tbody>\n",
       "    <tr>\n",
       "      <th>0</th>\n",
       "      <td>1</td>\n",
       "      <td>3.0</td>\n",
       "      <td>4.0</td>\n",
       "      <td>2.0</td>\n",
       "    </tr>\n",
       "    <tr>\n",
       "      <th>1</th>\n",
       "      <td>2</td>\n",
       "      <td>3.0</td>\n",
       "      <td>2.0</td>\n",
       "      <td>4.0</td>\n",
       "    </tr>\n",
       "    <tr>\n",
       "      <th>2</th>\n",
       "      <td>3</td>\n",
       "      <td>2.0</td>\n",
       "      <td>2.0</td>\n",
       "      <td>1.0</td>\n",
       "    </tr>\n",
       "    <tr>\n",
       "      <th>3</th>\n",
       "      <td>4</td>\n",
       "      <td>4.0</td>\n",
       "      <td>4.0</td>\n",
       "      <td>3.0</td>\n",
       "    </tr>\n",
       "    <tr>\n",
       "      <th>4</th>\n",
       "      <td>5</td>\n",
       "      <td>4.0</td>\n",
       "      <td>1.0</td>\n",
       "      <td>3.0</td>\n",
       "    </tr>\n",
       "  </tbody>\n",
       "</table>\n",
       "</div>"
      ],
      "text/plain": [
       "   EmployeeID  EnvironmentSatisfaction  JobSatisfaction  WorkLifeBalance\n",
       "0           1                      3.0              4.0              2.0\n",
       "1           2                      3.0              2.0              4.0\n",
       "2           3                      2.0              2.0              1.0\n",
       "3           4                      4.0              4.0              3.0\n",
       "4           5                      4.0              1.0              3.0"
      ]
     },
     "execution_count": 3,
     "metadata": {},
     "output_type": "execute_result"
    }
   ],
   "source": [
    "employee_survey_data.head()"
   ]
  },
  {
   "cell_type": "code",
   "execution_count": 4,
   "metadata": {
    "colab": {
     "base_uri": "https://localhost:8080/",
     "height": 309
    },
    "colab_type": "code",
    "id": "GTG2XNMaE2pV",
    "outputId": "58ed04b5-911d-4fb5-bc7b-c6f5973d137b"
   },
   "outputs": [
    {
     "data": {
      "text/html": [
       "<div>\n",
       "<style scoped>\n",
       "    .dataframe tbody tr th:only-of-type {\n",
       "        vertical-align: middle;\n",
       "    }\n",
       "\n",
       "    .dataframe tbody tr th {\n",
       "        vertical-align: top;\n",
       "    }\n",
       "\n",
       "    .dataframe thead th {\n",
       "        text-align: right;\n",
       "    }\n",
       "</style>\n",
       "<table border=\"1\" class=\"dataframe\">\n",
       "  <thead>\n",
       "    <tr style=\"text-align: right;\">\n",
       "      <th></th>\n",
       "      <th>Age</th>\n",
       "      <th>Attrition</th>\n",
       "      <th>BusinessTravel</th>\n",
       "      <th>Department</th>\n",
       "      <th>DistanceFromHome</th>\n",
       "      <th>Education</th>\n",
       "      <th>EducationField</th>\n",
       "      <th>EmployeeCount</th>\n",
       "      <th>EmployeeID</th>\n",
       "      <th>Gender</th>\n",
       "      <th>...</th>\n",
       "      <th>NumCompaniesWorked</th>\n",
       "      <th>Over18</th>\n",
       "      <th>PercentSalaryHike</th>\n",
       "      <th>StandardHours</th>\n",
       "      <th>StockOptionLevel</th>\n",
       "      <th>TotalWorkingYears</th>\n",
       "      <th>TrainingTimesLastYear</th>\n",
       "      <th>YearsAtCompany</th>\n",
       "      <th>YearsSinceLastPromotion</th>\n",
       "      <th>YearsWithCurrManager</th>\n",
       "    </tr>\n",
       "  </thead>\n",
       "  <tbody>\n",
       "    <tr>\n",
       "      <th>0</th>\n",
       "      <td>51</td>\n",
       "      <td>No</td>\n",
       "      <td>Travel_Rarely</td>\n",
       "      <td>Sales</td>\n",
       "      <td>6</td>\n",
       "      <td>2</td>\n",
       "      <td>Life Sciences</td>\n",
       "      <td>1</td>\n",
       "      <td>1</td>\n",
       "      <td>Female</td>\n",
       "      <td>...</td>\n",
       "      <td>1.0</td>\n",
       "      <td>Y</td>\n",
       "      <td>11</td>\n",
       "      <td>8</td>\n",
       "      <td>0</td>\n",
       "      <td>1.0</td>\n",
       "      <td>6</td>\n",
       "      <td>1</td>\n",
       "      <td>0</td>\n",
       "      <td>0</td>\n",
       "    </tr>\n",
       "    <tr>\n",
       "      <th>1</th>\n",
       "      <td>31</td>\n",
       "      <td>Yes</td>\n",
       "      <td>Travel_Frequently</td>\n",
       "      <td>Research &amp; Development</td>\n",
       "      <td>10</td>\n",
       "      <td>1</td>\n",
       "      <td>Life Sciences</td>\n",
       "      <td>1</td>\n",
       "      <td>2</td>\n",
       "      <td>Female</td>\n",
       "      <td>...</td>\n",
       "      <td>0.0</td>\n",
       "      <td>Y</td>\n",
       "      <td>23</td>\n",
       "      <td>8</td>\n",
       "      <td>1</td>\n",
       "      <td>6.0</td>\n",
       "      <td>3</td>\n",
       "      <td>5</td>\n",
       "      <td>1</td>\n",
       "      <td>4</td>\n",
       "    </tr>\n",
       "    <tr>\n",
       "      <th>2</th>\n",
       "      <td>32</td>\n",
       "      <td>No</td>\n",
       "      <td>Travel_Frequently</td>\n",
       "      <td>Research &amp; Development</td>\n",
       "      <td>17</td>\n",
       "      <td>4</td>\n",
       "      <td>Other</td>\n",
       "      <td>1</td>\n",
       "      <td>3</td>\n",
       "      <td>Male</td>\n",
       "      <td>...</td>\n",
       "      <td>1.0</td>\n",
       "      <td>Y</td>\n",
       "      <td>15</td>\n",
       "      <td>8</td>\n",
       "      <td>3</td>\n",
       "      <td>5.0</td>\n",
       "      <td>2</td>\n",
       "      <td>5</td>\n",
       "      <td>0</td>\n",
       "      <td>3</td>\n",
       "    </tr>\n",
       "    <tr>\n",
       "      <th>3</th>\n",
       "      <td>38</td>\n",
       "      <td>No</td>\n",
       "      <td>Non-Travel</td>\n",
       "      <td>Research &amp; Development</td>\n",
       "      <td>2</td>\n",
       "      <td>5</td>\n",
       "      <td>Life Sciences</td>\n",
       "      <td>1</td>\n",
       "      <td>4</td>\n",
       "      <td>Male</td>\n",
       "      <td>...</td>\n",
       "      <td>3.0</td>\n",
       "      <td>Y</td>\n",
       "      <td>11</td>\n",
       "      <td>8</td>\n",
       "      <td>3</td>\n",
       "      <td>13.0</td>\n",
       "      <td>5</td>\n",
       "      <td>8</td>\n",
       "      <td>7</td>\n",
       "      <td>5</td>\n",
       "    </tr>\n",
       "    <tr>\n",
       "      <th>4</th>\n",
       "      <td>32</td>\n",
       "      <td>No</td>\n",
       "      <td>Travel_Rarely</td>\n",
       "      <td>Research &amp; Development</td>\n",
       "      <td>10</td>\n",
       "      <td>1</td>\n",
       "      <td>Medical</td>\n",
       "      <td>1</td>\n",
       "      <td>5</td>\n",
       "      <td>Male</td>\n",
       "      <td>...</td>\n",
       "      <td>4.0</td>\n",
       "      <td>Y</td>\n",
       "      <td>12</td>\n",
       "      <td>8</td>\n",
       "      <td>2</td>\n",
       "      <td>9.0</td>\n",
       "      <td>2</td>\n",
       "      <td>6</td>\n",
       "      <td>0</td>\n",
       "      <td>4</td>\n",
       "    </tr>\n",
       "  </tbody>\n",
       "</table>\n",
       "<p>5 rows × 24 columns</p>\n",
       "</div>"
      ],
      "text/plain": [
       "   Age Attrition     BusinessTravel              Department  DistanceFromHome  \\\n",
       "0   51        No      Travel_Rarely                   Sales                 6   \n",
       "1   31       Yes  Travel_Frequently  Research & Development                10   \n",
       "2   32        No  Travel_Frequently  Research & Development                17   \n",
       "3   38        No         Non-Travel  Research & Development                 2   \n",
       "4   32        No      Travel_Rarely  Research & Development                10   \n",
       "\n",
       "   Education EducationField  EmployeeCount  EmployeeID  Gender  ...  \\\n",
       "0          2  Life Sciences              1           1  Female  ...   \n",
       "1          1  Life Sciences              1           2  Female  ...   \n",
       "2          4          Other              1           3    Male  ...   \n",
       "3          5  Life Sciences              1           4    Male  ...   \n",
       "4          1        Medical              1           5    Male  ...   \n",
       "\n",
       "   NumCompaniesWorked Over18 PercentSalaryHike  StandardHours  \\\n",
       "0                 1.0      Y                11              8   \n",
       "1                 0.0      Y                23              8   \n",
       "2                 1.0      Y                15              8   \n",
       "3                 3.0      Y                11              8   \n",
       "4                 4.0      Y                12              8   \n",
       "\n",
       "   StockOptionLevel TotalWorkingYears  TrainingTimesLastYear  YearsAtCompany  \\\n",
       "0                 0               1.0                      6               1   \n",
       "1                 1               6.0                      3               5   \n",
       "2                 3               5.0                      2               5   \n",
       "3                 3              13.0                      5               8   \n",
       "4                 2               9.0                      2               6   \n",
       "\n",
       "   YearsSinceLastPromotion  YearsWithCurrManager  \n",
       "0                        0                     0  \n",
       "1                        1                     4  \n",
       "2                        0                     3  \n",
       "3                        7                     5  \n",
       "4                        0                     4  \n",
       "\n",
       "[5 rows x 24 columns]"
      ]
     },
     "execution_count": 4,
     "metadata": {},
     "output_type": "execute_result"
    }
   ],
   "source": [
    "general_data.head()"
   ]
  },
  {
   "cell_type": "code",
   "execution_count": 5,
   "metadata": {
    "colab": {
     "base_uri": "https://localhost:8080/",
     "height": 440
    },
    "colab_type": "code",
    "id": "b1IblxEhE2pZ",
    "outputId": "6e19912c-0064-42f8-d1f2-7885c85cc1ac"
   },
   "outputs": [
    {
     "data": {
      "text/html": [
       "<div>\n",
       "<style scoped>\n",
       "    .dataframe tbody tr th:only-of-type {\n",
       "        vertical-align: middle;\n",
       "    }\n",
       "\n",
       "    .dataframe tbody tr th {\n",
       "        vertical-align: top;\n",
       "    }\n",
       "\n",
       "    .dataframe thead th {\n",
       "        text-align: right;\n",
       "    }\n",
       "</style>\n",
       "<table border=\"1\" class=\"dataframe\">\n",
       "  <thead>\n",
       "    <tr style=\"text-align: right;\">\n",
       "      <th></th>\n",
       "      <th>Unnamed: 0</th>\n",
       "      <th>2015-01-01</th>\n",
       "      <th>2015-01-02</th>\n",
       "      <th>2015-01-05</th>\n",
       "      <th>2015-01-06</th>\n",
       "      <th>2015-01-07</th>\n",
       "      <th>2015-01-08</th>\n",
       "      <th>2015-01-09</th>\n",
       "      <th>2015-01-12</th>\n",
       "      <th>2015-01-13</th>\n",
       "      <th>...</th>\n",
       "      <th>2015-12-18</th>\n",
       "      <th>2015-12-21</th>\n",
       "      <th>2015-12-22</th>\n",
       "      <th>2015-12-23</th>\n",
       "      <th>2015-12-24</th>\n",
       "      <th>2015-12-25</th>\n",
       "      <th>2015-12-28</th>\n",
       "      <th>2015-12-29</th>\n",
       "      <th>2015-12-30</th>\n",
       "      <th>2015-12-31</th>\n",
       "    </tr>\n",
       "  </thead>\n",
       "  <tbody>\n",
       "    <tr>\n",
       "      <th>0</th>\n",
       "      <td>1</td>\n",
       "      <td>NaN</td>\n",
       "      <td>2015-01-02 09:43:45</td>\n",
       "      <td>2015-01-05 10:08:48</td>\n",
       "      <td>2015-01-06 09:54:26</td>\n",
       "      <td>2015-01-07 09:34:31</td>\n",
       "      <td>2015-01-08 09:51:09</td>\n",
       "      <td>2015-01-09 10:09:25</td>\n",
       "      <td>2015-01-12 09:42:53</td>\n",
       "      <td>2015-01-13 10:13:06</td>\n",
       "      <td>...</td>\n",
       "      <td>NaN</td>\n",
       "      <td>2015-12-21 09:55:29</td>\n",
       "      <td>2015-12-22 10:04:06</td>\n",
       "      <td>2015-12-23 10:14:27</td>\n",
       "      <td>2015-12-24 10:11:35</td>\n",
       "      <td>NaN</td>\n",
       "      <td>2015-12-28 10:13:41</td>\n",
       "      <td>2015-12-29 10:03:36</td>\n",
       "      <td>2015-12-30 09:54:12</td>\n",
       "      <td>2015-12-31 10:12:44</td>\n",
       "    </tr>\n",
       "    <tr>\n",
       "      <th>1</th>\n",
       "      <td>2</td>\n",
       "      <td>NaN</td>\n",
       "      <td>2015-01-02 10:15:44</td>\n",
       "      <td>2015-01-05 10:21:05</td>\n",
       "      <td>NaN</td>\n",
       "      <td>2015-01-07 09:45:17</td>\n",
       "      <td>2015-01-08 10:09:04</td>\n",
       "      <td>2015-01-09 09:43:26</td>\n",
       "      <td>2015-01-12 10:00:07</td>\n",
       "      <td>2015-01-13 10:43:29</td>\n",
       "      <td>...</td>\n",
       "      <td>2015-12-18 10:37:17</td>\n",
       "      <td>2015-12-21 09:49:02</td>\n",
       "      <td>2015-12-22 10:33:51</td>\n",
       "      <td>2015-12-23 10:12:10</td>\n",
       "      <td>NaN</td>\n",
       "      <td>NaN</td>\n",
       "      <td>2015-12-28 09:31:45</td>\n",
       "      <td>2015-12-29 09:55:49</td>\n",
       "      <td>2015-12-30 10:32:25</td>\n",
       "      <td>2015-12-31 09:27:20</td>\n",
       "    </tr>\n",
       "    <tr>\n",
       "      <th>2</th>\n",
       "      <td>3</td>\n",
       "      <td>NaN</td>\n",
       "      <td>2015-01-02 10:17:41</td>\n",
       "      <td>2015-01-05 09:50:50</td>\n",
       "      <td>2015-01-06 10:14:13</td>\n",
       "      <td>2015-01-07 09:47:27</td>\n",
       "      <td>2015-01-08 10:03:40</td>\n",
       "      <td>2015-01-09 10:05:49</td>\n",
       "      <td>2015-01-12 10:03:47</td>\n",
       "      <td>2015-01-13 10:21:26</td>\n",
       "      <td>...</td>\n",
       "      <td>2015-12-18 10:15:14</td>\n",
       "      <td>2015-12-21 10:10:28</td>\n",
       "      <td>2015-12-22 09:44:44</td>\n",
       "      <td>2015-12-23 10:15:54</td>\n",
       "      <td>2015-12-24 10:07:26</td>\n",
       "      <td>NaN</td>\n",
       "      <td>2015-12-28 09:42:05</td>\n",
       "      <td>2015-12-29 09:43:36</td>\n",
       "      <td>2015-12-30 09:34:05</td>\n",
       "      <td>2015-12-31 10:28:39</td>\n",
       "    </tr>\n",
       "    <tr>\n",
       "      <th>3</th>\n",
       "      <td>4</td>\n",
       "      <td>NaN</td>\n",
       "      <td>2015-01-02 10:05:06</td>\n",
       "      <td>2015-01-05 09:56:32</td>\n",
       "      <td>2015-01-06 10:11:07</td>\n",
       "      <td>2015-01-07 09:37:30</td>\n",
       "      <td>2015-01-08 10:02:08</td>\n",
       "      <td>2015-01-09 10:08:12</td>\n",
       "      <td>2015-01-12 10:13:42</td>\n",
       "      <td>2015-01-13 09:53:22</td>\n",
       "      <td>...</td>\n",
       "      <td>2015-12-18 10:17:38</td>\n",
       "      <td>2015-12-21 09:58:21</td>\n",
       "      <td>2015-12-22 10:04:25</td>\n",
       "      <td>2015-12-23 10:11:46</td>\n",
       "      <td>2015-12-24 09:43:15</td>\n",
       "      <td>NaN</td>\n",
       "      <td>2015-12-28 09:52:44</td>\n",
       "      <td>2015-12-29 09:33:16</td>\n",
       "      <td>2015-12-30 10:18:12</td>\n",
       "      <td>2015-12-31 10:01:15</td>\n",
       "    </tr>\n",
       "    <tr>\n",
       "      <th>4</th>\n",
       "      <td>5</td>\n",
       "      <td>NaN</td>\n",
       "      <td>2015-01-02 10:28:17</td>\n",
       "      <td>2015-01-05 09:49:58</td>\n",
       "      <td>2015-01-06 09:45:28</td>\n",
       "      <td>2015-01-07 09:49:37</td>\n",
       "      <td>2015-01-08 10:19:44</td>\n",
       "      <td>2015-01-09 10:00:50</td>\n",
       "      <td>2015-01-12 10:29:27</td>\n",
       "      <td>2015-01-13 09:59:32</td>\n",
       "      <td>...</td>\n",
       "      <td>2015-12-18 09:58:35</td>\n",
       "      <td>2015-12-21 10:03:41</td>\n",
       "      <td>2015-12-22 10:10:30</td>\n",
       "      <td>2015-12-23 10:13:36</td>\n",
       "      <td>2015-12-24 09:44:24</td>\n",
       "      <td>NaN</td>\n",
       "      <td>2015-12-28 10:05:15</td>\n",
       "      <td>2015-12-29 10:30:53</td>\n",
       "      <td>2015-12-30 09:18:21</td>\n",
       "      <td>2015-12-31 09:41:09</td>\n",
       "    </tr>\n",
       "  </tbody>\n",
       "</table>\n",
       "<p>5 rows × 262 columns</p>\n",
       "</div>"
      ],
      "text/plain": [
       "   Unnamed: 0  2015-01-01           2015-01-02           2015-01-05  \\\n",
       "0           1         NaN  2015-01-02 09:43:45  2015-01-05 10:08:48   \n",
       "1           2         NaN  2015-01-02 10:15:44  2015-01-05 10:21:05   \n",
       "2           3         NaN  2015-01-02 10:17:41  2015-01-05 09:50:50   \n",
       "3           4         NaN  2015-01-02 10:05:06  2015-01-05 09:56:32   \n",
       "4           5         NaN  2015-01-02 10:28:17  2015-01-05 09:49:58   \n",
       "\n",
       "            2015-01-06           2015-01-07           2015-01-08  \\\n",
       "0  2015-01-06 09:54:26  2015-01-07 09:34:31  2015-01-08 09:51:09   \n",
       "1                  NaN  2015-01-07 09:45:17  2015-01-08 10:09:04   \n",
       "2  2015-01-06 10:14:13  2015-01-07 09:47:27  2015-01-08 10:03:40   \n",
       "3  2015-01-06 10:11:07  2015-01-07 09:37:30  2015-01-08 10:02:08   \n",
       "4  2015-01-06 09:45:28  2015-01-07 09:49:37  2015-01-08 10:19:44   \n",
       "\n",
       "            2015-01-09           2015-01-12           2015-01-13  ...  \\\n",
       "0  2015-01-09 10:09:25  2015-01-12 09:42:53  2015-01-13 10:13:06  ...   \n",
       "1  2015-01-09 09:43:26  2015-01-12 10:00:07  2015-01-13 10:43:29  ...   \n",
       "2  2015-01-09 10:05:49  2015-01-12 10:03:47  2015-01-13 10:21:26  ...   \n",
       "3  2015-01-09 10:08:12  2015-01-12 10:13:42  2015-01-13 09:53:22  ...   \n",
       "4  2015-01-09 10:00:50  2015-01-12 10:29:27  2015-01-13 09:59:32  ...   \n",
       "\n",
       "            2015-12-18           2015-12-21           2015-12-22  \\\n",
       "0                  NaN  2015-12-21 09:55:29  2015-12-22 10:04:06   \n",
       "1  2015-12-18 10:37:17  2015-12-21 09:49:02  2015-12-22 10:33:51   \n",
       "2  2015-12-18 10:15:14  2015-12-21 10:10:28  2015-12-22 09:44:44   \n",
       "3  2015-12-18 10:17:38  2015-12-21 09:58:21  2015-12-22 10:04:25   \n",
       "4  2015-12-18 09:58:35  2015-12-21 10:03:41  2015-12-22 10:10:30   \n",
       "\n",
       "            2015-12-23           2015-12-24 2015-12-25           2015-12-28  \\\n",
       "0  2015-12-23 10:14:27  2015-12-24 10:11:35        NaN  2015-12-28 10:13:41   \n",
       "1  2015-12-23 10:12:10                  NaN        NaN  2015-12-28 09:31:45   \n",
       "2  2015-12-23 10:15:54  2015-12-24 10:07:26        NaN  2015-12-28 09:42:05   \n",
       "3  2015-12-23 10:11:46  2015-12-24 09:43:15        NaN  2015-12-28 09:52:44   \n",
       "4  2015-12-23 10:13:36  2015-12-24 09:44:24        NaN  2015-12-28 10:05:15   \n",
       "\n",
       "            2015-12-29           2015-12-30           2015-12-31  \n",
       "0  2015-12-29 10:03:36  2015-12-30 09:54:12  2015-12-31 10:12:44  \n",
       "1  2015-12-29 09:55:49  2015-12-30 10:32:25  2015-12-31 09:27:20  \n",
       "2  2015-12-29 09:43:36  2015-12-30 09:34:05  2015-12-31 10:28:39  \n",
       "3  2015-12-29 09:33:16  2015-12-30 10:18:12  2015-12-31 10:01:15  \n",
       "4  2015-12-29 10:30:53  2015-12-30 09:18:21  2015-12-31 09:41:09  \n",
       "\n",
       "[5 rows x 262 columns]"
      ]
     },
     "execution_count": 5,
     "metadata": {},
     "output_type": "execute_result"
    }
   ],
   "source": [
    "in_time.head()"
   ]
  },
  {
   "cell_type": "code",
   "execution_count": 6,
   "metadata": {
    "colab": {
     "base_uri": "https://localhost:8080/",
     "height": 440
    },
    "colab_type": "code",
    "id": "SYWE8Kj9E2pd",
    "outputId": "15f9bff5-d8ce-49b3-91ee-7d8c936cacf5"
   },
   "outputs": [
    {
     "data": {
      "text/html": [
       "<div>\n",
       "<style scoped>\n",
       "    .dataframe tbody tr th:only-of-type {\n",
       "        vertical-align: middle;\n",
       "    }\n",
       "\n",
       "    .dataframe tbody tr th {\n",
       "        vertical-align: top;\n",
       "    }\n",
       "\n",
       "    .dataframe thead th {\n",
       "        text-align: right;\n",
       "    }\n",
       "</style>\n",
       "<table border=\"1\" class=\"dataframe\">\n",
       "  <thead>\n",
       "    <tr style=\"text-align: right;\">\n",
       "      <th></th>\n",
       "      <th>Unnamed: 0</th>\n",
       "      <th>2015-01-01</th>\n",
       "      <th>2015-01-02</th>\n",
       "      <th>2015-01-05</th>\n",
       "      <th>2015-01-06</th>\n",
       "      <th>2015-01-07</th>\n",
       "      <th>2015-01-08</th>\n",
       "      <th>2015-01-09</th>\n",
       "      <th>2015-01-12</th>\n",
       "      <th>2015-01-13</th>\n",
       "      <th>...</th>\n",
       "      <th>2015-12-18</th>\n",
       "      <th>2015-12-21</th>\n",
       "      <th>2015-12-22</th>\n",
       "      <th>2015-12-23</th>\n",
       "      <th>2015-12-24</th>\n",
       "      <th>2015-12-25</th>\n",
       "      <th>2015-12-28</th>\n",
       "      <th>2015-12-29</th>\n",
       "      <th>2015-12-30</th>\n",
       "      <th>2015-12-31</th>\n",
       "    </tr>\n",
       "  </thead>\n",
       "  <tbody>\n",
       "    <tr>\n",
       "      <th>0</th>\n",
       "      <td>1</td>\n",
       "      <td>NaN</td>\n",
       "      <td>2015-01-02 16:56:15</td>\n",
       "      <td>2015-01-05 17:20:11</td>\n",
       "      <td>2015-01-06 17:19:05</td>\n",
       "      <td>2015-01-07 16:34:55</td>\n",
       "      <td>2015-01-08 17:08:32</td>\n",
       "      <td>2015-01-09 17:38:29</td>\n",
       "      <td>2015-01-12 16:58:39</td>\n",
       "      <td>2015-01-13 18:02:58</td>\n",
       "      <td>...</td>\n",
       "      <td>NaN</td>\n",
       "      <td>2015-12-21 17:15:50</td>\n",
       "      <td>2015-12-22 17:27:51</td>\n",
       "      <td>2015-12-23 16:44:44</td>\n",
       "      <td>2015-12-24 17:47:22</td>\n",
       "      <td>NaN</td>\n",
       "      <td>2015-12-28 18:00:07</td>\n",
       "      <td>2015-12-29 17:22:30</td>\n",
       "      <td>2015-12-30 17:40:56</td>\n",
       "      <td>2015-12-31 17:17:33</td>\n",
       "    </tr>\n",
       "    <tr>\n",
       "      <th>1</th>\n",
       "      <td>2</td>\n",
       "      <td>NaN</td>\n",
       "      <td>2015-01-02 18:22:17</td>\n",
       "      <td>2015-01-05 17:48:22</td>\n",
       "      <td>NaN</td>\n",
       "      <td>2015-01-07 17:09:06</td>\n",
       "      <td>2015-01-08 17:34:04</td>\n",
       "      <td>2015-01-09 16:52:29</td>\n",
       "      <td>2015-01-12 17:36:48</td>\n",
       "      <td>2015-01-13 18:00:13</td>\n",
       "      <td>...</td>\n",
       "      <td>2015-12-18 18:31:28</td>\n",
       "      <td>2015-12-21 17:34:16</td>\n",
       "      <td>2015-12-22 18:16:35</td>\n",
       "      <td>2015-12-23 17:38:18</td>\n",
       "      <td>NaN</td>\n",
       "      <td>NaN</td>\n",
       "      <td>2015-12-28 17:08:38</td>\n",
       "      <td>2015-12-29 17:54:46</td>\n",
       "      <td>2015-12-30 18:31:35</td>\n",
       "      <td>2015-12-31 17:40:58</td>\n",
       "    </tr>\n",
       "    <tr>\n",
       "      <th>2</th>\n",
       "      <td>3</td>\n",
       "      <td>NaN</td>\n",
       "      <td>2015-01-02 16:59:14</td>\n",
       "      <td>2015-01-05 17:06:46</td>\n",
       "      <td>2015-01-06 16:38:32</td>\n",
       "      <td>2015-01-07 16:33:21</td>\n",
       "      <td>2015-01-08 17:24:22</td>\n",
       "      <td>2015-01-09 16:57:30</td>\n",
       "      <td>2015-01-12 17:28:54</td>\n",
       "      <td>2015-01-13 17:21:25</td>\n",
       "      <td>...</td>\n",
       "      <td>2015-12-18 17:02:23</td>\n",
       "      <td>2015-12-21 17:20:17</td>\n",
       "      <td>2015-12-22 16:32:50</td>\n",
       "      <td>2015-12-23 16:59:43</td>\n",
       "      <td>2015-12-24 16:58:25</td>\n",
       "      <td>NaN</td>\n",
       "      <td>2015-12-28 16:43:31</td>\n",
       "      <td>2015-12-29 17:09:56</td>\n",
       "      <td>2015-12-30 17:06:25</td>\n",
       "      <td>2015-12-31 17:15:50</td>\n",
       "    </tr>\n",
       "    <tr>\n",
       "      <th>3</th>\n",
       "      <td>4</td>\n",
       "      <td>NaN</td>\n",
       "      <td>2015-01-02 17:25:24</td>\n",
       "      <td>2015-01-05 17:14:03</td>\n",
       "      <td>2015-01-06 17:07:42</td>\n",
       "      <td>2015-01-07 16:32:40</td>\n",
       "      <td>2015-01-08 16:53:11</td>\n",
       "      <td>2015-01-09 17:19:47</td>\n",
       "      <td>2015-01-12 17:13:37</td>\n",
       "      <td>2015-01-13 17:11:45</td>\n",
       "      <td>...</td>\n",
       "      <td>2015-12-18 17:55:23</td>\n",
       "      <td>2015-12-21 16:49:09</td>\n",
       "      <td>2015-12-22 17:24:00</td>\n",
       "      <td>2015-12-23 17:36:35</td>\n",
       "      <td>2015-12-24 16:48:21</td>\n",
       "      <td>NaN</td>\n",
       "      <td>2015-12-28 17:19:34</td>\n",
       "      <td>2015-12-29 16:58:16</td>\n",
       "      <td>2015-12-30 17:40:11</td>\n",
       "      <td>2015-12-31 17:09:14</td>\n",
       "    </tr>\n",
       "    <tr>\n",
       "      <th>4</th>\n",
       "      <td>5</td>\n",
       "      <td>NaN</td>\n",
       "      <td>2015-01-02 18:31:37</td>\n",
       "      <td>2015-01-05 17:49:15</td>\n",
       "      <td>2015-01-06 17:26:25</td>\n",
       "      <td>2015-01-07 17:37:59</td>\n",
       "      <td>2015-01-08 17:59:28</td>\n",
       "      <td>2015-01-09 17:44:08</td>\n",
       "      <td>2015-01-12 18:51:21</td>\n",
       "      <td>2015-01-13 18:14:58</td>\n",
       "      <td>...</td>\n",
       "      <td>2015-12-18 17:52:48</td>\n",
       "      <td>2015-12-21 17:43:35</td>\n",
       "      <td>2015-12-22 18:07:57</td>\n",
       "      <td>2015-12-23 18:00:49</td>\n",
       "      <td>2015-12-24 17:59:22</td>\n",
       "      <td>NaN</td>\n",
       "      <td>2015-12-28 17:44:59</td>\n",
       "      <td>2015-12-29 18:47:00</td>\n",
       "      <td>2015-12-30 17:15:33</td>\n",
       "      <td>2015-12-31 17:42:14</td>\n",
       "    </tr>\n",
       "  </tbody>\n",
       "</table>\n",
       "<p>5 rows × 262 columns</p>\n",
       "</div>"
      ],
      "text/plain": [
       "   Unnamed: 0  2015-01-01           2015-01-02           2015-01-05  \\\n",
       "0           1         NaN  2015-01-02 16:56:15  2015-01-05 17:20:11   \n",
       "1           2         NaN  2015-01-02 18:22:17  2015-01-05 17:48:22   \n",
       "2           3         NaN  2015-01-02 16:59:14  2015-01-05 17:06:46   \n",
       "3           4         NaN  2015-01-02 17:25:24  2015-01-05 17:14:03   \n",
       "4           5         NaN  2015-01-02 18:31:37  2015-01-05 17:49:15   \n",
       "\n",
       "            2015-01-06           2015-01-07           2015-01-08  \\\n",
       "0  2015-01-06 17:19:05  2015-01-07 16:34:55  2015-01-08 17:08:32   \n",
       "1                  NaN  2015-01-07 17:09:06  2015-01-08 17:34:04   \n",
       "2  2015-01-06 16:38:32  2015-01-07 16:33:21  2015-01-08 17:24:22   \n",
       "3  2015-01-06 17:07:42  2015-01-07 16:32:40  2015-01-08 16:53:11   \n",
       "4  2015-01-06 17:26:25  2015-01-07 17:37:59  2015-01-08 17:59:28   \n",
       "\n",
       "            2015-01-09           2015-01-12           2015-01-13  ...  \\\n",
       "0  2015-01-09 17:38:29  2015-01-12 16:58:39  2015-01-13 18:02:58  ...   \n",
       "1  2015-01-09 16:52:29  2015-01-12 17:36:48  2015-01-13 18:00:13  ...   \n",
       "2  2015-01-09 16:57:30  2015-01-12 17:28:54  2015-01-13 17:21:25  ...   \n",
       "3  2015-01-09 17:19:47  2015-01-12 17:13:37  2015-01-13 17:11:45  ...   \n",
       "4  2015-01-09 17:44:08  2015-01-12 18:51:21  2015-01-13 18:14:58  ...   \n",
       "\n",
       "            2015-12-18           2015-12-21           2015-12-22  \\\n",
       "0                  NaN  2015-12-21 17:15:50  2015-12-22 17:27:51   \n",
       "1  2015-12-18 18:31:28  2015-12-21 17:34:16  2015-12-22 18:16:35   \n",
       "2  2015-12-18 17:02:23  2015-12-21 17:20:17  2015-12-22 16:32:50   \n",
       "3  2015-12-18 17:55:23  2015-12-21 16:49:09  2015-12-22 17:24:00   \n",
       "4  2015-12-18 17:52:48  2015-12-21 17:43:35  2015-12-22 18:07:57   \n",
       "\n",
       "            2015-12-23           2015-12-24 2015-12-25           2015-12-28  \\\n",
       "0  2015-12-23 16:44:44  2015-12-24 17:47:22        NaN  2015-12-28 18:00:07   \n",
       "1  2015-12-23 17:38:18                  NaN        NaN  2015-12-28 17:08:38   \n",
       "2  2015-12-23 16:59:43  2015-12-24 16:58:25        NaN  2015-12-28 16:43:31   \n",
       "3  2015-12-23 17:36:35  2015-12-24 16:48:21        NaN  2015-12-28 17:19:34   \n",
       "4  2015-12-23 18:00:49  2015-12-24 17:59:22        NaN  2015-12-28 17:44:59   \n",
       "\n",
       "            2015-12-29           2015-12-30           2015-12-31  \n",
       "0  2015-12-29 17:22:30  2015-12-30 17:40:56  2015-12-31 17:17:33  \n",
       "1  2015-12-29 17:54:46  2015-12-30 18:31:35  2015-12-31 17:40:58  \n",
       "2  2015-12-29 17:09:56  2015-12-30 17:06:25  2015-12-31 17:15:50  \n",
       "3  2015-12-29 16:58:16  2015-12-30 17:40:11  2015-12-31 17:09:14  \n",
       "4  2015-12-29 18:47:00  2015-12-30 17:15:33  2015-12-31 17:42:14  \n",
       "\n",
       "[5 rows x 262 columns]"
      ]
     },
     "execution_count": 6,
     "metadata": {},
     "output_type": "execute_result"
    }
   ],
   "source": [
    "out_time.head()"
   ]
  },
  {
   "cell_type": "code",
   "execution_count": 7,
   "metadata": {
    "colab": {
     "base_uri": "https://localhost:8080/",
     "height": 204
    },
    "colab_type": "code",
    "id": "b9FLpNmpE2ph",
    "outputId": "346ef540-3661-4609-ffa1-a849d075654f"
   },
   "outputs": [
    {
     "data": {
      "text/html": [
       "<div>\n",
       "<style scoped>\n",
       "    .dataframe tbody tr th:only-of-type {\n",
       "        vertical-align: middle;\n",
       "    }\n",
       "\n",
       "    .dataframe tbody tr th {\n",
       "        vertical-align: top;\n",
       "    }\n",
       "\n",
       "    .dataframe thead th {\n",
       "        text-align: right;\n",
       "    }\n",
       "</style>\n",
       "<table border=\"1\" class=\"dataframe\">\n",
       "  <thead>\n",
       "    <tr style=\"text-align: right;\">\n",
       "      <th></th>\n",
       "      <th>EmployeeID</th>\n",
       "      <th>JobInvolvement</th>\n",
       "      <th>PerformanceRating</th>\n",
       "    </tr>\n",
       "  </thead>\n",
       "  <tbody>\n",
       "    <tr>\n",
       "      <th>0</th>\n",
       "      <td>1</td>\n",
       "      <td>3</td>\n",
       "      <td>3</td>\n",
       "    </tr>\n",
       "    <tr>\n",
       "      <th>1</th>\n",
       "      <td>2</td>\n",
       "      <td>2</td>\n",
       "      <td>4</td>\n",
       "    </tr>\n",
       "    <tr>\n",
       "      <th>2</th>\n",
       "      <td>3</td>\n",
       "      <td>3</td>\n",
       "      <td>3</td>\n",
       "    </tr>\n",
       "    <tr>\n",
       "      <th>3</th>\n",
       "      <td>4</td>\n",
       "      <td>2</td>\n",
       "      <td>3</td>\n",
       "    </tr>\n",
       "    <tr>\n",
       "      <th>4</th>\n",
       "      <td>5</td>\n",
       "      <td>3</td>\n",
       "      <td>3</td>\n",
       "    </tr>\n",
       "  </tbody>\n",
       "</table>\n",
       "</div>"
      ],
      "text/plain": [
       "   EmployeeID  JobInvolvement  PerformanceRating\n",
       "0           1               3                  3\n",
       "1           2               2                  4\n",
       "2           3               3                  3\n",
       "3           4               2                  3\n",
       "4           5               3                  3"
      ]
     },
     "execution_count": 7,
     "metadata": {},
     "output_type": "execute_result"
    }
   ],
   "source": [
    "manager_survey_data.head()"
   ]
  },
  {
   "cell_type": "code",
   "execution_count": 8,
   "metadata": {
    "colab": {
     "base_uri": "https://localhost:8080/",
     "height": 221
    },
    "colab_type": "code",
    "id": "xCoYD4ZnE2pp",
    "outputId": "1862c013-765d-43da-9fb3-e4d7cddeef3d"
   },
   "outputs": [
    {
     "name": "stdout",
     "output_type": "stream",
     "text": [
      "<b>The shapes of our data files are as follows :</b> \n",
      "        \n",
      "employee_survey_data : (4410, 4)\n",
      "        \n",
      "general_data : (4410, 24)\n",
      "        \n",
      "manager_survey_data : (4410, 3)\n",
      "        \n",
      "in_time : (4410, 262)\n",
      "        \n",
      "out_time : (4410, 262)\n",
      "      \n"
     ]
    }
   ],
   "source": [
    "print('''<b>The shapes of our data files are as follows :</b> \n",
    "        \\nemployee_survey_data : {}\n",
    "        \\ngeneral_data : {}\n",
    "        \\nmanager_survey_data : {}\n",
    "        \\nin_time : {}\n",
    "        \\nout_time : {}\n",
    "      '''.format(employee_survey_data.shape, \n",
    "                 general_data.shape,\n",
    "                 manager_survey_data.shape, \n",
    "                 in_time.shape, \n",
    "                 out_time.shape))"
   ]
  },
  {
   "cell_type": "markdown",
   "metadata": {
    "colab_type": "text",
    "id": "iU0TngfYE2ps"
   },
   "source": [
    "## Merging our datasets together."
   ]
  },
  {
   "cell_type": "code",
   "execution_count": 9,
   "metadata": {
    "colab": {
     "base_uri": "https://localhost:8080/",
     "height": 0
    },
    "colab_type": "code",
    "id": "EOAsQJSxT9Zl",
    "outputId": "d41840f6-1d8d-48b2-c193-e98b7512a327"
   },
   "outputs": [
    {
     "name": "stdout",
     "output_type": "stream",
     "text": [
      "(4410, 28)\n"
     ]
    }
   ],
   "source": [
    "data = employee_survey_data.merge(general_data.merge(manager_survey_data, on='EmployeeID'), on='EmployeeID')\n",
    "# setting the EmployeeID as the index for our dataset\n",
    "data.set_index('EmployeeID', inplace=True)\n",
    "print(data.shape)"
   ]
  },
  {
   "cell_type": "code",
   "execution_count": 10,
   "metadata": {
    "colab": {
     "base_uri": "https://localhost:8080/",
     "height": 0
    },
    "colab_type": "code",
    "id": "8hytMEHMZgML",
    "outputId": "12b3884d-0e8e-4a93-927b-85166efd3251"
   },
   "outputs": [
    {
     "data": {
      "text/html": [
       "<div>\n",
       "<style scoped>\n",
       "    .dataframe tbody tr th:only-of-type {\n",
       "        vertical-align: middle;\n",
       "    }\n",
       "\n",
       "    .dataframe tbody tr th {\n",
       "        vertical-align: top;\n",
       "    }\n",
       "\n",
       "    .dataframe thead th {\n",
       "        text-align: right;\n",
       "    }\n",
       "</style>\n",
       "<table border=\"1\" class=\"dataframe\">\n",
       "  <thead>\n",
       "    <tr style=\"text-align: right;\">\n",
       "      <th></th>\n",
       "      <th>EnvironmentSatisfaction</th>\n",
       "      <th>JobSatisfaction</th>\n",
       "      <th>WorkLifeBalance</th>\n",
       "      <th>Age</th>\n",
       "      <th>Attrition</th>\n",
       "      <th>BusinessTravel</th>\n",
       "      <th>Department</th>\n",
       "      <th>DistanceFromHome</th>\n",
       "      <th>Education</th>\n",
       "      <th>EducationField</th>\n",
       "      <th>...</th>\n",
       "      <th>PercentSalaryHike</th>\n",
       "      <th>StandardHours</th>\n",
       "      <th>StockOptionLevel</th>\n",
       "      <th>TotalWorkingYears</th>\n",
       "      <th>TrainingTimesLastYear</th>\n",
       "      <th>YearsAtCompany</th>\n",
       "      <th>YearsSinceLastPromotion</th>\n",
       "      <th>YearsWithCurrManager</th>\n",
       "      <th>JobInvolvement</th>\n",
       "      <th>PerformanceRating</th>\n",
       "    </tr>\n",
       "    <tr>\n",
       "      <th>EmployeeID</th>\n",
       "      <th></th>\n",
       "      <th></th>\n",
       "      <th></th>\n",
       "      <th></th>\n",
       "      <th></th>\n",
       "      <th></th>\n",
       "      <th></th>\n",
       "      <th></th>\n",
       "      <th></th>\n",
       "      <th></th>\n",
       "      <th></th>\n",
       "      <th></th>\n",
       "      <th></th>\n",
       "      <th></th>\n",
       "      <th></th>\n",
       "      <th></th>\n",
       "      <th></th>\n",
       "      <th></th>\n",
       "      <th></th>\n",
       "      <th></th>\n",
       "      <th></th>\n",
       "    </tr>\n",
       "  </thead>\n",
       "  <tbody>\n",
       "    <tr>\n",
       "      <th>1</th>\n",
       "      <td>3.0</td>\n",
       "      <td>4.0</td>\n",
       "      <td>2.0</td>\n",
       "      <td>51</td>\n",
       "      <td>No</td>\n",
       "      <td>Travel_Rarely</td>\n",
       "      <td>Sales</td>\n",
       "      <td>6</td>\n",
       "      <td>2</td>\n",
       "      <td>Life Sciences</td>\n",
       "      <td>...</td>\n",
       "      <td>11</td>\n",
       "      <td>8</td>\n",
       "      <td>0</td>\n",
       "      <td>1.0</td>\n",
       "      <td>6</td>\n",
       "      <td>1</td>\n",
       "      <td>0</td>\n",
       "      <td>0</td>\n",
       "      <td>3</td>\n",
       "      <td>3</td>\n",
       "    </tr>\n",
       "    <tr>\n",
       "      <th>2</th>\n",
       "      <td>3.0</td>\n",
       "      <td>2.0</td>\n",
       "      <td>4.0</td>\n",
       "      <td>31</td>\n",
       "      <td>Yes</td>\n",
       "      <td>Travel_Frequently</td>\n",
       "      <td>Research &amp; Development</td>\n",
       "      <td>10</td>\n",
       "      <td>1</td>\n",
       "      <td>Life Sciences</td>\n",
       "      <td>...</td>\n",
       "      <td>23</td>\n",
       "      <td>8</td>\n",
       "      <td>1</td>\n",
       "      <td>6.0</td>\n",
       "      <td>3</td>\n",
       "      <td>5</td>\n",
       "      <td>1</td>\n",
       "      <td>4</td>\n",
       "      <td>2</td>\n",
       "      <td>4</td>\n",
       "    </tr>\n",
       "    <tr>\n",
       "      <th>3</th>\n",
       "      <td>2.0</td>\n",
       "      <td>2.0</td>\n",
       "      <td>1.0</td>\n",
       "      <td>32</td>\n",
       "      <td>No</td>\n",
       "      <td>Travel_Frequently</td>\n",
       "      <td>Research &amp; Development</td>\n",
       "      <td>17</td>\n",
       "      <td>4</td>\n",
       "      <td>Other</td>\n",
       "      <td>...</td>\n",
       "      <td>15</td>\n",
       "      <td>8</td>\n",
       "      <td>3</td>\n",
       "      <td>5.0</td>\n",
       "      <td>2</td>\n",
       "      <td>5</td>\n",
       "      <td>0</td>\n",
       "      <td>3</td>\n",
       "      <td>3</td>\n",
       "      <td>3</td>\n",
       "    </tr>\n",
       "    <tr>\n",
       "      <th>4</th>\n",
       "      <td>4.0</td>\n",
       "      <td>4.0</td>\n",
       "      <td>3.0</td>\n",
       "      <td>38</td>\n",
       "      <td>No</td>\n",
       "      <td>Non-Travel</td>\n",
       "      <td>Research &amp; Development</td>\n",
       "      <td>2</td>\n",
       "      <td>5</td>\n",
       "      <td>Life Sciences</td>\n",
       "      <td>...</td>\n",
       "      <td>11</td>\n",
       "      <td>8</td>\n",
       "      <td>3</td>\n",
       "      <td>13.0</td>\n",
       "      <td>5</td>\n",
       "      <td>8</td>\n",
       "      <td>7</td>\n",
       "      <td>5</td>\n",
       "      <td>2</td>\n",
       "      <td>3</td>\n",
       "    </tr>\n",
       "    <tr>\n",
       "      <th>5</th>\n",
       "      <td>4.0</td>\n",
       "      <td>1.0</td>\n",
       "      <td>3.0</td>\n",
       "      <td>32</td>\n",
       "      <td>No</td>\n",
       "      <td>Travel_Rarely</td>\n",
       "      <td>Research &amp; Development</td>\n",
       "      <td>10</td>\n",
       "      <td>1</td>\n",
       "      <td>Medical</td>\n",
       "      <td>...</td>\n",
       "      <td>12</td>\n",
       "      <td>8</td>\n",
       "      <td>2</td>\n",
       "      <td>9.0</td>\n",
       "      <td>2</td>\n",
       "      <td>6</td>\n",
       "      <td>0</td>\n",
       "      <td>4</td>\n",
       "      <td>3</td>\n",
       "      <td>3</td>\n",
       "    </tr>\n",
       "  </tbody>\n",
       "</table>\n",
       "<p>5 rows × 28 columns</p>\n",
       "</div>"
      ],
      "text/plain": [
       "            EnvironmentSatisfaction  JobSatisfaction  WorkLifeBalance  Age  \\\n",
       "EmployeeID                                                                   \n",
       "1                               3.0              4.0              2.0   51   \n",
       "2                               3.0              2.0              4.0   31   \n",
       "3                               2.0              2.0              1.0   32   \n",
       "4                               4.0              4.0              3.0   38   \n",
       "5                               4.0              1.0              3.0   32   \n",
       "\n",
       "           Attrition     BusinessTravel              Department  \\\n",
       "EmployeeID                                                        \n",
       "1                 No      Travel_Rarely                   Sales   \n",
       "2                Yes  Travel_Frequently  Research & Development   \n",
       "3                 No  Travel_Frequently  Research & Development   \n",
       "4                 No         Non-Travel  Research & Development   \n",
       "5                 No      Travel_Rarely  Research & Development   \n",
       "\n",
       "            DistanceFromHome  Education EducationField  ...  \\\n",
       "EmployeeID                                              ...   \n",
       "1                          6          2  Life Sciences  ...   \n",
       "2                         10          1  Life Sciences  ...   \n",
       "3                         17          4          Other  ...   \n",
       "4                          2          5  Life Sciences  ...   \n",
       "5                         10          1        Medical  ...   \n",
       "\n",
       "            PercentSalaryHike StandardHours  StockOptionLevel  \\\n",
       "EmployeeID                                                      \n",
       "1                          11             8                 0   \n",
       "2                          23             8                 1   \n",
       "3                          15             8                 3   \n",
       "4                          11             8                 3   \n",
       "5                          12             8                 2   \n",
       "\n",
       "           TotalWorkingYears TrainingTimesLastYear  YearsAtCompany  \\\n",
       "EmployeeID                                                           \n",
       "1                        1.0                     6               1   \n",
       "2                        6.0                     3               5   \n",
       "3                        5.0                     2               5   \n",
       "4                       13.0                     5               8   \n",
       "5                        9.0                     2               6   \n",
       "\n",
       "            YearsSinceLastPromotion YearsWithCurrManager  JobInvolvement  \\\n",
       "EmployeeID                                                                 \n",
       "1                                 0                    0               3   \n",
       "2                                 1                    4               2   \n",
       "3                                 0                    3               3   \n",
       "4                                 7                    5               2   \n",
       "5                                 0                    4               3   \n",
       "\n",
       "            PerformanceRating  \n",
       "EmployeeID                     \n",
       "1                           3  \n",
       "2                           4  \n",
       "3                           3  \n",
       "4                           3  \n",
       "5                           3  \n",
       "\n",
       "[5 rows x 28 columns]"
      ]
     },
     "execution_count": 10,
     "metadata": {},
     "output_type": "execute_result"
    }
   ],
   "source": [
    "data.head()"
   ]
  },
  {
   "cell_type": "markdown",
   "metadata": {
    "colab_type": "text",
    "id": "nd7TEwD5Xppw"
   },
   "source": [
    "# EDA and data cleaning.\n",
    "\n",
    "**The datasets 'in_tine' and 'out_time' are the employee login and logout times respectively, on the working dates in the year of 2015.**  \n",
    "**The column 'Unnamed: 0' in both of the above mentioned datasets, refer to the employee ID of an employee.**  \n",
    "**Renaming the 'Unnamed: 0' column in the datasets 'in_time' and 'out_time', to match the other datasets.**"
   ]
  },
  {
   "cell_type": "code",
   "execution_count": 11,
   "metadata": {
    "colab": {},
    "colab_type": "code",
    "id": "LNgRFN7zsUoR"
   },
   "outputs": [],
   "source": [
    "in_time.rename(columns={'Unnamed: 0':'EmployeeID'}, inplace=True)\n",
    "out_time.rename(columns={'Unnamed: 0':'EmployeeID'}, inplace=True)"
   ]
  },
  {
   "cell_type": "markdown",
   "metadata": {
    "colab_type": "text",
    "id": "yLpJWH-tkRLA"
   },
   "source": [
    "**Let's check the value representation in these two datasets.**"
   ]
  },
  {
   "cell_type": "code",
   "execution_count": 12,
   "metadata": {
    "colab": {
     "base_uri": "https://localhost:8080/",
     "height": 0
    },
    "colab_type": "code",
    "id": "lJTvHK8Ttn0u",
    "outputId": "cd2ed12f-d348-4fc9-ea7b-ac2054353c74"
   },
   "outputs": [
    {
     "name": "stdout",
     "output_type": "stream",
     "text": [
      "The login time for the employee with ID 465 on 2015-02-18 is : 2015-02-18 10:04:44. \n",
      "        \n",
      "The logout time for the employee with ID 465 on 2015-02-18 is : 2015-02-18 16:46:19\n"
     ]
    }
   ],
   "source": [
    "print('''The login time for the employee with ID 465 on {} is : {}. \n",
    "        \\nThe logout time for the employee with ID 465 on {} is : {}'''.format((list(in_time.columns))[35], in_time.iloc[465, 35],\n",
    "                                                                               (list(out_time.columns))[35], out_time.iloc[465, 35]))"
   ]
  },
  {
   "cell_type": "markdown",
   "metadata": {
    "colab_type": "text",
    "id": "ljZBGeLD2axI"
   },
   "source": [
    "**Setting the column of 'EmployeeID' in these two datasets, in order to prevent any kind of opertion or transformation effecting them.**"
   ]
  },
  {
   "cell_type": "code",
   "execution_count": 13,
   "metadata": {
    "colab": {},
    "colab_type": "code",
    "id": "ElpmN0gBWG79"
   },
   "outputs": [],
   "source": [
    "in_time.set_index('EmployeeID', inplace=True)\n",
    "out_time.set_index('EmployeeID', inplace=True)\n",
    "# Convertig the values in in_time and out_time to datetime\n",
    "in_time = in_time.apply(pd.to_datetime)\n",
    "out_time = out_time.apply(pd.to_datetime)"
   ]
  },
  {
   "cell_type": "markdown",
   "metadata": {
    "colab_type": "text",
    "id": "ex-vbM_1fzL5"
   },
   "source": [
    "## Feature engineering of the in_time and out_time datasets in order to produce the following featues - \n",
    "\n",
    "* mean_login_time : mean login time of an employee through the year\n",
    "* mean_logout_time : mean logout time of an employee through the year\n",
    "* std_login_time : standard deviation of login time of an employee though the year\n",
    "* std_logout_time : standard deviation of logout time of an employee through the year\n",
    "* tot_working_time : total amount of hours worked by an employee through the year\n",
    "* avg_working_time_per_day : average hours worked per day for an employee\n",
    "* overtime (assuming it is a 8 hours/day shift) : total hours of overtime by an employee through the year"
   ]
  },
  {
   "cell_type": "markdown",
   "metadata": {
    "colab_type": "text",
    "id": "7inUvZN53edj"
   },
   "source": [
    "**Let's compute the total logged hours worked by an employee through the year on a monthly basis.**"
   ]
  },
  {
   "cell_type": "code",
   "execution_count": 14,
   "metadata": {
    "colab": {},
    "colab_type": "code",
    "id": "1TE8WvT-WGoM"
   },
   "outputs": [],
   "source": [
    "# hours worked on a daily basis\n",
    "working_time = out_time - in_time"
   ]
  },
  {
   "cell_type": "code",
   "execution_count": 15,
   "metadata": {
    "colab": {
     "base_uri": "https://localhost:8080/",
     "height": 0
    },
    "colab_type": "code",
    "id": "vHWjRrX4WVoB",
    "outputId": "bc979689-d68e-4925-e971-f3378ab38f87"
   },
   "outputs": [
    {
     "data": {
      "text/html": [
       "<div>\n",
       "<style scoped>\n",
       "    .dataframe tbody tr th:only-of-type {\n",
       "        vertical-align: middle;\n",
       "    }\n",
       "\n",
       "    .dataframe tbody tr th {\n",
       "        vertical-align: top;\n",
       "    }\n",
       "\n",
       "    .dataframe thead th {\n",
       "        text-align: right;\n",
       "    }\n",
       "</style>\n",
       "<table border=\"1\" class=\"dataframe\">\n",
       "  <thead>\n",
       "    <tr style=\"text-align: right;\">\n",
       "      <th></th>\n",
       "      <th>2015-01-01</th>\n",
       "      <th>2015-01-02</th>\n",
       "      <th>2015-01-05</th>\n",
       "      <th>2015-01-06</th>\n",
       "      <th>2015-01-07</th>\n",
       "      <th>2015-01-08</th>\n",
       "      <th>2015-01-09</th>\n",
       "      <th>2015-01-12</th>\n",
       "      <th>2015-01-13</th>\n",
       "      <th>2015-01-14</th>\n",
       "      <th>...</th>\n",
       "      <th>2015-12-18</th>\n",
       "      <th>2015-12-21</th>\n",
       "      <th>2015-12-22</th>\n",
       "      <th>2015-12-23</th>\n",
       "      <th>2015-12-24</th>\n",
       "      <th>2015-12-25</th>\n",
       "      <th>2015-12-28</th>\n",
       "      <th>2015-12-29</th>\n",
       "      <th>2015-12-30</th>\n",
       "      <th>2015-12-31</th>\n",
       "    </tr>\n",
       "    <tr>\n",
       "      <th>EmployeeID</th>\n",
       "      <th></th>\n",
       "      <th></th>\n",
       "      <th></th>\n",
       "      <th></th>\n",
       "      <th></th>\n",
       "      <th></th>\n",
       "      <th></th>\n",
       "      <th></th>\n",
       "      <th></th>\n",
       "      <th></th>\n",
       "      <th></th>\n",
       "      <th></th>\n",
       "      <th></th>\n",
       "      <th></th>\n",
       "      <th></th>\n",
       "      <th></th>\n",
       "      <th></th>\n",
       "      <th></th>\n",
       "      <th></th>\n",
       "      <th></th>\n",
       "      <th></th>\n",
       "    </tr>\n",
       "  </thead>\n",
       "  <tbody>\n",
       "    <tr>\n",
       "      <th>1</th>\n",
       "      <td>NaT</td>\n",
       "      <td>07:12:30</td>\n",
       "      <td>07:11:23</td>\n",
       "      <td>07:24:39</td>\n",
       "      <td>07:00:24</td>\n",
       "      <td>07:17:23</td>\n",
       "      <td>07:29:04</td>\n",
       "      <td>07:15:46</td>\n",
       "      <td>07:49:52</td>\n",
       "      <td>NaT</td>\n",
       "      <td>...</td>\n",
       "      <td>NaT</td>\n",
       "      <td>07:20:21</td>\n",
       "      <td>07:23:45</td>\n",
       "      <td>06:30:17</td>\n",
       "      <td>07:35:47</td>\n",
       "      <td>NaT</td>\n",
       "      <td>07:46:26</td>\n",
       "      <td>07:18:54</td>\n",
       "      <td>07:46:44</td>\n",
       "      <td>07:04:49</td>\n",
       "    </tr>\n",
       "    <tr>\n",
       "      <th>2</th>\n",
       "      <td>NaT</td>\n",
       "      <td>08:06:33</td>\n",
       "      <td>07:27:17</td>\n",
       "      <td>NaT</td>\n",
       "      <td>07:23:49</td>\n",
       "      <td>07:25:00</td>\n",
       "      <td>07:09:03</td>\n",
       "      <td>07:36:41</td>\n",
       "      <td>07:16:44</td>\n",
       "      <td>NaT</td>\n",
       "      <td>...</td>\n",
       "      <td>07:54:11</td>\n",
       "      <td>07:45:14</td>\n",
       "      <td>07:42:44</td>\n",
       "      <td>07:26:08</td>\n",
       "      <td>NaT</td>\n",
       "      <td>NaT</td>\n",
       "      <td>07:36:53</td>\n",
       "      <td>07:58:57</td>\n",
       "      <td>07:59:10</td>\n",
       "      <td>08:13:38</td>\n",
       "    </tr>\n",
       "    <tr>\n",
       "      <th>3</th>\n",
       "      <td>NaT</td>\n",
       "      <td>06:41:33</td>\n",
       "      <td>07:15:56</td>\n",
       "      <td>06:24:19</td>\n",
       "      <td>06:45:54</td>\n",
       "      <td>07:20:42</td>\n",
       "      <td>06:51:41</td>\n",
       "      <td>07:25:07</td>\n",
       "      <td>06:59:59</td>\n",
       "      <td>NaT</td>\n",
       "      <td>...</td>\n",
       "      <td>06:47:09</td>\n",
       "      <td>07:09:49</td>\n",
       "      <td>06:48:06</td>\n",
       "      <td>06:43:49</td>\n",
       "      <td>06:50:59</td>\n",
       "      <td>NaT</td>\n",
       "      <td>07:01:26</td>\n",
       "      <td>07:26:20</td>\n",
       "      <td>07:32:20</td>\n",
       "      <td>06:47:11</td>\n",
       "    </tr>\n",
       "    <tr>\n",
       "      <th>4</th>\n",
       "      <td>NaT</td>\n",
       "      <td>07:20:18</td>\n",
       "      <td>07:17:31</td>\n",
       "      <td>06:56:35</td>\n",
       "      <td>06:55:10</td>\n",
       "      <td>06:51:03</td>\n",
       "      <td>07:11:35</td>\n",
       "      <td>06:59:55</td>\n",
       "      <td>07:18:23</td>\n",
       "      <td>NaT</td>\n",
       "      <td>...</td>\n",
       "      <td>07:37:45</td>\n",
       "      <td>06:50:48</td>\n",
       "      <td>07:19:35</td>\n",
       "      <td>07:24:49</td>\n",
       "      <td>07:05:06</td>\n",
       "      <td>NaT</td>\n",
       "      <td>07:26:50</td>\n",
       "      <td>07:25:00</td>\n",
       "      <td>07:21:59</td>\n",
       "      <td>07:07:59</td>\n",
       "    </tr>\n",
       "    <tr>\n",
       "      <th>5</th>\n",
       "      <td>NaT</td>\n",
       "      <td>08:03:20</td>\n",
       "      <td>07:59:17</td>\n",
       "      <td>07:40:57</td>\n",
       "      <td>07:48:22</td>\n",
       "      <td>07:39:44</td>\n",
       "      <td>07:43:18</td>\n",
       "      <td>08:21:54</td>\n",
       "      <td>08:15:26</td>\n",
       "      <td>NaT</td>\n",
       "      <td>...</td>\n",
       "      <td>07:54:13</td>\n",
       "      <td>07:39:54</td>\n",
       "      <td>07:57:27</td>\n",
       "      <td>07:47:13</td>\n",
       "      <td>08:14:58</td>\n",
       "      <td>NaT</td>\n",
       "      <td>07:39:44</td>\n",
       "      <td>08:16:07</td>\n",
       "      <td>07:57:12</td>\n",
       "      <td>08:01:05</td>\n",
       "    </tr>\n",
       "  </tbody>\n",
       "</table>\n",
       "<p>5 rows × 261 columns</p>\n",
       "</div>"
      ],
      "text/plain": [
       "           2015-01-01 2015-01-02 2015-01-05 2015-01-06 2015-01-07 2015-01-08  \\\n",
       "EmployeeID                                                                     \n",
       "1                 NaT   07:12:30   07:11:23   07:24:39   07:00:24   07:17:23   \n",
       "2                 NaT   08:06:33   07:27:17        NaT   07:23:49   07:25:00   \n",
       "3                 NaT   06:41:33   07:15:56   06:24:19   06:45:54   07:20:42   \n",
       "4                 NaT   07:20:18   07:17:31   06:56:35   06:55:10   06:51:03   \n",
       "5                 NaT   08:03:20   07:59:17   07:40:57   07:48:22   07:39:44   \n",
       "\n",
       "           2015-01-09 2015-01-12 2015-01-13 2015-01-14  ... 2015-12-18  \\\n",
       "EmployeeID                                              ...              \n",
       "1            07:29:04   07:15:46   07:49:52        NaT  ...        NaT   \n",
       "2            07:09:03   07:36:41   07:16:44        NaT  ...   07:54:11   \n",
       "3            06:51:41   07:25:07   06:59:59        NaT  ...   06:47:09   \n",
       "4            07:11:35   06:59:55   07:18:23        NaT  ...   07:37:45   \n",
       "5            07:43:18   08:21:54   08:15:26        NaT  ...   07:54:13   \n",
       "\n",
       "           2015-12-21 2015-12-22 2015-12-23 2015-12-24 2015-12-25 2015-12-28  \\\n",
       "EmployeeID                                                                     \n",
       "1            07:20:21   07:23:45   06:30:17   07:35:47        NaT   07:46:26   \n",
       "2            07:45:14   07:42:44   07:26:08        NaT        NaT   07:36:53   \n",
       "3            07:09:49   06:48:06   06:43:49   06:50:59        NaT   07:01:26   \n",
       "4            06:50:48   07:19:35   07:24:49   07:05:06        NaT   07:26:50   \n",
       "5            07:39:54   07:57:27   07:47:13   08:14:58        NaT   07:39:44   \n",
       "\n",
       "           2015-12-29 2015-12-30 2015-12-31  \n",
       "EmployeeID                                   \n",
       "1            07:18:54   07:46:44   07:04:49  \n",
       "2            07:58:57   07:59:10   08:13:38  \n",
       "3            07:26:20   07:32:20   06:47:11  \n",
       "4            07:25:00   07:21:59   07:07:59  \n",
       "5            08:16:07   07:57:12   08:01:05  \n",
       "\n",
       "[5 rows x 261 columns]"
      ]
     },
     "execution_count": 15,
     "metadata": {},
     "output_type": "execute_result"
    }
   ],
   "source": [
    "working_time.head()"
   ]
  },
  {
   "cell_type": "code",
   "execution_count": 16,
   "metadata": {
    "colab": {
     "base_uri": "https://localhost:8080/",
     "height": 0
    },
    "colab_type": "code",
    "id": "kg1FkNJ6386X",
    "outputId": "c9dfa299-6f04-41ba-f325-448d72cf484e"
   },
   "outputs": [
    {
     "data": {
      "text/plain": [
       "261"
      ]
     },
     "execution_count": 16,
     "metadata": {},
     "output_type": "execute_result"
    }
   ],
   "source": [
    "# the number of working days are\n",
    "working_time.shape[1]"
   ]
  },
  {
   "cell_type": "code",
   "execution_count": 17,
   "metadata": {
    "colab": {},
    "colab_type": "code",
    "id": "BAXGSiMqTlj6"
   },
   "outputs": [],
   "source": [
    "# transforming the values in 'working_time' in hours and rounding them up to 2 decimal places.\n",
    "for c in range(0, ((working_time.shape)[1])) : \n",
    "    for r in range (0, ((working_time.shape)[0])) :\n",
    "        working_time.iloc[r, c] = round(((working_time.iloc[r, c])/pd.Timedelta('1 hour')), 2)"
   ]
  },
  {
   "cell_type": "code",
   "execution_count": 18,
   "metadata": {
    "colab": {},
    "colab_type": "code",
    "id": "DULjfDIiblKf"
   },
   "outputs": [],
   "source": [
    "# total amount of hours worked by an employee through the year\n",
    "data['tot_working_time'] = working_time.sum(axis=1)\n",
    "data['tot_working_time'] = data['tot_working_time'].apply(lambda x: round(x, 0))"
   ]
  },
  {
   "cell_type": "code",
   "execution_count": 19,
   "metadata": {
    "colab": {},
    "colab_type": "code",
    "id": "qUp7bt5AT9V2"
   },
   "outputs": [],
   "source": [
    "# average amount of hours worked by an employee through the year\n",
    "data['avg_working_time'] = data['tot_working_time'] / working_time.shape[1]\n",
    "# rounding up to 2 decimal places\n",
    "data['avg_working_time'] = data['avg_working_time'].apply(lambda x: round(x, 1))"
   ]
  },
  {
   "cell_type": "code",
   "execution_count": 20,
   "metadata": {
    "colab": {
     "base_uri": "https://localhost:8080/",
     "height": 0
    },
    "colab_type": "code",
    "id": "yG3HWTylUAVX",
    "outputId": "d4ba1cfd-1045-4006-f0fd-8c01b4effe63"
   },
   "outputs": [],
   "source": [
    "# total hours of overtime by an employee through the year\n",
    "# working_time['tot_overtime'] = \"\"\n",
    "for wt in range(1, (len(working_time) + 1)) :\n",
    "    diff = round(((data['tot_working_time'][wt]) - 2088), 2)  # 8 hrs a shift per day for 261 working days = 2088 hours\n",
    "    if diff > 0 :\n",
    "        data.loc[wt, 'overtime'] = 1\n",
    "    else : \n",
    "        data.loc[wt, 'overtime'] = 0\n",
    "\n",
    "# data['tot_overtime'] = working_time['tot_overtime']"
   ]
  },
  {
   "cell_type": "code",
   "execution_count": 21,
   "metadata": {
    "colab": {},
    "colab_type": "code",
    "id": "ZJDCYF1nV6jC"
   },
   "outputs": [],
   "source": [
    "# transforming the values in 'in_time' and 'out_time' in hours and rounding them up to 2 decimal places.\n",
    "in_time = in_time.applymap(lambda x : round((x.hour + x.minute/60 + x.second/3600), 2))\n",
    "out_time = out_time.applymap(lambda x : round((x.hour + x.minute/60 + x.second/3600), 2))"
   ]
  },
  {
   "cell_type": "code",
   "execution_count": 22,
   "metadata": {
    "colab": {},
    "colab_type": "code",
    "id": "gr3jD_iRYZuA"
   },
   "outputs": [],
   "source": [
    "# Computing average login and logout time of employees in hours\n",
    "data['avg_login_time'] = in_time.mean(axis=1)\n",
    "data['avg_logout_time'] = out_time.mean(axis=1)\n",
    "# rounding up these above features to 2 decimal places\n",
    "data['avg_login_time'] = data['avg_login_time'].apply(lambda x: round(x, 2))\n",
    "data['avg_logout_time'] = data['avg_logout_time'].apply(lambda x: round(x, 2))"
   ]
  },
  {
   "cell_type": "code",
   "execution_count": 23,
   "metadata": {
    "colab": {
     "base_uri": "https://localhost:8080/",
     "height": 0
    },
    "colab_type": "code",
    "id": "i7k44LnScjvr",
    "outputId": "df85e420-bef9-4396-f0a8-ba2bc52df6b5"
   },
   "outputs": [
    {
     "data": {
      "text/html": [
       "<div>\n",
       "<style scoped>\n",
       "    .dataframe tbody tr th:only-of-type {\n",
       "        vertical-align: middle;\n",
       "    }\n",
       "\n",
       "    .dataframe tbody tr th {\n",
       "        vertical-align: top;\n",
       "    }\n",
       "\n",
       "    .dataframe thead th {\n",
       "        text-align: right;\n",
       "    }\n",
       "</style>\n",
       "<table border=\"1\" class=\"dataframe\">\n",
       "  <thead>\n",
       "    <tr style=\"text-align: right;\">\n",
       "      <th></th>\n",
       "      <th>EnvironmentSatisfaction</th>\n",
       "      <th>JobSatisfaction</th>\n",
       "      <th>WorkLifeBalance</th>\n",
       "      <th>Age</th>\n",
       "      <th>Attrition</th>\n",
       "      <th>BusinessTravel</th>\n",
       "      <th>Department</th>\n",
       "      <th>DistanceFromHome</th>\n",
       "      <th>Education</th>\n",
       "      <th>EducationField</th>\n",
       "      <th>...</th>\n",
       "      <th>YearsAtCompany</th>\n",
       "      <th>YearsSinceLastPromotion</th>\n",
       "      <th>YearsWithCurrManager</th>\n",
       "      <th>JobInvolvement</th>\n",
       "      <th>PerformanceRating</th>\n",
       "      <th>tot_working_time</th>\n",
       "      <th>avg_working_time</th>\n",
       "      <th>overtime</th>\n",
       "      <th>avg_login_time</th>\n",
       "      <th>avg_logout_time</th>\n",
       "    </tr>\n",
       "    <tr>\n",
       "      <th>EmployeeID</th>\n",
       "      <th></th>\n",
       "      <th></th>\n",
       "      <th></th>\n",
       "      <th></th>\n",
       "      <th></th>\n",
       "      <th></th>\n",
       "      <th></th>\n",
       "      <th></th>\n",
       "      <th></th>\n",
       "      <th></th>\n",
       "      <th></th>\n",
       "      <th></th>\n",
       "      <th></th>\n",
       "      <th></th>\n",
       "      <th></th>\n",
       "      <th></th>\n",
       "      <th></th>\n",
       "      <th></th>\n",
       "      <th></th>\n",
       "      <th></th>\n",
       "      <th></th>\n",
       "    </tr>\n",
       "  </thead>\n",
       "  <tbody>\n",
       "    <tr>\n",
       "      <th>1</th>\n",
       "      <td>3.0</td>\n",
       "      <td>4.0</td>\n",
       "      <td>2.0</td>\n",
       "      <td>51</td>\n",
       "      <td>No</td>\n",
       "      <td>Travel_Rarely</td>\n",
       "      <td>Sales</td>\n",
       "      <td>6</td>\n",
       "      <td>2</td>\n",
       "      <td>Life Sciences</td>\n",
       "      <td>...</td>\n",
       "      <td>1</td>\n",
       "      <td>0</td>\n",
       "      <td>0</td>\n",
       "      <td>3</td>\n",
       "      <td>3</td>\n",
       "      <td>1711.0</td>\n",
       "      <td>6.6</td>\n",
       "      <td>0.0</td>\n",
       "      <td>10.00</td>\n",
       "      <td>17.37</td>\n",
       "    </tr>\n",
       "    <tr>\n",
       "      <th>2</th>\n",
       "      <td>3.0</td>\n",
       "      <td>2.0</td>\n",
       "      <td>4.0</td>\n",
       "      <td>31</td>\n",
       "      <td>Yes</td>\n",
       "      <td>Travel_Frequently</td>\n",
       "      <td>Research &amp; Development</td>\n",
       "      <td>10</td>\n",
       "      <td>1</td>\n",
       "      <td>Life Sciences</td>\n",
       "      <td>...</td>\n",
       "      <td>5</td>\n",
       "      <td>1</td>\n",
       "      <td>4</td>\n",
       "      <td>2</td>\n",
       "      <td>4</td>\n",
       "      <td>1822.0</td>\n",
       "      <td>7.0</td>\n",
       "      <td>0.0</td>\n",
       "      <td>9.99</td>\n",
       "      <td>17.71</td>\n",
       "    </tr>\n",
       "    <tr>\n",
       "      <th>3</th>\n",
       "      <td>2.0</td>\n",
       "      <td>2.0</td>\n",
       "      <td>1.0</td>\n",
       "      <td>32</td>\n",
       "      <td>No</td>\n",
       "      <td>Travel_Frequently</td>\n",
       "      <td>Research &amp; Development</td>\n",
       "      <td>17</td>\n",
       "      <td>4</td>\n",
       "      <td>Other</td>\n",
       "      <td>...</td>\n",
       "      <td>5</td>\n",
       "      <td>0</td>\n",
       "      <td>3</td>\n",
       "      <td>3</td>\n",
       "      <td>3</td>\n",
       "      <td>1697.0</td>\n",
       "      <td>6.5</td>\n",
       "      <td>0.0</td>\n",
       "      <td>10.03</td>\n",
       "      <td>17.04</td>\n",
       "    </tr>\n",
       "    <tr>\n",
       "      <th>4</th>\n",
       "      <td>4.0</td>\n",
       "      <td>4.0</td>\n",
       "      <td>3.0</td>\n",
       "      <td>38</td>\n",
       "      <td>No</td>\n",
       "      <td>Non-Travel</td>\n",
       "      <td>Research &amp; Development</td>\n",
       "      <td>2</td>\n",
       "      <td>5</td>\n",
       "      <td>Life Sciences</td>\n",
       "      <td>...</td>\n",
       "      <td>8</td>\n",
       "      <td>7</td>\n",
       "      <td>5</td>\n",
       "      <td>2</td>\n",
       "      <td>3</td>\n",
       "      <td>1690.0</td>\n",
       "      <td>6.5</td>\n",
       "      <td>0.0</td>\n",
       "      <td>9.98</td>\n",
       "      <td>17.18</td>\n",
       "    </tr>\n",
       "    <tr>\n",
       "      <th>5</th>\n",
       "      <td>4.0</td>\n",
       "      <td>1.0</td>\n",
       "      <td>3.0</td>\n",
       "      <td>32</td>\n",
       "      <td>No</td>\n",
       "      <td>Travel_Rarely</td>\n",
       "      <td>Research &amp; Development</td>\n",
       "      <td>10</td>\n",
       "      <td>1</td>\n",
       "      <td>Medical</td>\n",
       "      <td>...</td>\n",
       "      <td>6</td>\n",
       "      <td>0</td>\n",
       "      <td>4</td>\n",
       "      <td>3</td>\n",
       "      <td>3</td>\n",
       "      <td>1962.0</td>\n",
       "      <td>7.5</td>\n",
       "      <td>0.0</td>\n",
       "      <td>10.00</td>\n",
       "      <td>18.00</td>\n",
       "    </tr>\n",
       "  </tbody>\n",
       "</table>\n",
       "<p>5 rows × 33 columns</p>\n",
       "</div>"
      ],
      "text/plain": [
       "            EnvironmentSatisfaction  JobSatisfaction  WorkLifeBalance  Age  \\\n",
       "EmployeeID                                                                   \n",
       "1                               3.0              4.0              2.0   51   \n",
       "2                               3.0              2.0              4.0   31   \n",
       "3                               2.0              2.0              1.0   32   \n",
       "4                               4.0              4.0              3.0   38   \n",
       "5                               4.0              1.0              3.0   32   \n",
       "\n",
       "           Attrition     BusinessTravel              Department  \\\n",
       "EmployeeID                                                        \n",
       "1                 No      Travel_Rarely                   Sales   \n",
       "2                Yes  Travel_Frequently  Research & Development   \n",
       "3                 No  Travel_Frequently  Research & Development   \n",
       "4                 No         Non-Travel  Research & Development   \n",
       "5                 No      Travel_Rarely  Research & Development   \n",
       "\n",
       "            DistanceFromHome  Education EducationField  ...  YearsAtCompany  \\\n",
       "EmployeeID                                              ...                   \n",
       "1                          6          2  Life Sciences  ...               1   \n",
       "2                         10          1  Life Sciences  ...               5   \n",
       "3                         17          4          Other  ...               5   \n",
       "4                          2          5  Life Sciences  ...               8   \n",
       "5                         10          1        Medical  ...               6   \n",
       "\n",
       "           YearsSinceLastPromotion  YearsWithCurrManager JobInvolvement  \\\n",
       "EmployeeID                                                                \n",
       "1                                0                     0              3   \n",
       "2                                1                     4              2   \n",
       "3                                0                     3              3   \n",
       "4                                7                     5              2   \n",
       "5                                0                     4              3   \n",
       "\n",
       "           PerformanceRating  tot_working_time  avg_working_time overtime  \\\n",
       "EmployeeID                                                                  \n",
       "1                          3            1711.0               6.6      0.0   \n",
       "2                          4            1822.0               7.0      0.0   \n",
       "3                          3            1697.0               6.5      0.0   \n",
       "4                          3            1690.0               6.5      0.0   \n",
       "5                          3            1962.0               7.5      0.0   \n",
       "\n",
       "            avg_login_time  avg_logout_time  \n",
       "EmployeeID                                   \n",
       "1                    10.00            17.37  \n",
       "2                     9.99            17.71  \n",
       "3                    10.03            17.04  \n",
       "4                     9.98            17.18  \n",
       "5                    10.00            18.00  \n",
       "\n",
       "[5 rows x 33 columns]"
      ]
     },
     "execution_count": 23,
     "metadata": {},
     "output_type": "execute_result"
    }
   ],
   "source": [
    "data.head()"
   ]
  },
  {
   "cell_type": "markdown",
   "metadata": {
    "colab_type": "text",
    "id": "N-7nbsUvJkjH"
   },
   "source": [
    "# Droping the unnecessary features from out dataset, for the purpose of our analysis."
   ]
  },
  {
   "cell_type": "code",
   "execution_count": 24,
   "metadata": {
    "colab": {},
    "colab_type": "code",
    "id": "ktorWxsYJhcY"
   },
   "outputs": [],
   "source": [
    "data.drop('EmployeeCount', axis=1, inplace=True)\n",
    "data.drop('Over18', axis=1, inplace=True)\n",
    "data.drop('StandardHours', axis=1, inplace=True)"
   ]
  },
  {
   "cell_type": "markdown",
   "metadata": {
    "colab_type": "text",
    "id": "9ObouVTuB9pJ"
   },
   "source": [
    "# Handling missing values."
   ]
  },
  {
   "cell_type": "code",
   "execution_count": 25,
   "metadata": {
    "colab": {
     "base_uri": "https://localhost:8080/",
     "height": 0
    },
    "colab_type": "code",
    "id": "IgW42JhNID6H",
    "outputId": "fabd1b1f-2bfb-4800-e9f0-29507bbea9eb"
   },
   "outputs": [
    {
     "data": {
      "text/plain": [
       "<matplotlib.axes._subplots.AxesSubplot at 0x7f6cbc8d00d0>"
      ]
     },
     "execution_count": 25,
     "metadata": {},
     "output_type": "execute_result"
    },
    {
     "data": {
      "image/png": "[encoded data removed]",
      "text/plain": [
       "<Figure size 1440x720 with 1 Axes>"
      ]
     },
     "metadata": {
      "needs_background": "light"
     },
     "output_type": "display_data"
    }
   ],
   "source": [
    "(data.isnull().sum()).plot.bar(figsize=(20,10))"
   ]
  },
  {
   "cell_type": "markdown",
   "metadata": {
    "colab_type": "text",
    "id": "Cs4gYkPaLNi6"
   },
   "source": [
    "**As we can observe from the graph above, missing values exists in the following features in the dataset :**  "
   ]
  },
  {
   "cell_type": "code",
   "execution_count": 26,
   "metadata": {
    "colab": {
     "base_uri": "https://localhost:8080/",
     "height": 0
    },
    "colab_type": "code",
    "id": "SHrLmBMkLQBL",
    "outputId": "d74131cb-12ca-4323-f535-057ccb232519"
   },
   "outputs": [
    {
     "data": {
      "text/plain": [
       "EnvironmentSatisfaction    25\n",
       "JobSatisfaction            20\n",
       "WorkLifeBalance            38\n",
       "NumCompaniesWorked         19\n",
       "TotalWorkingYears           9\n",
       "dtype: int64"
      ]
     },
     "execution_count": 26,
     "metadata": {},
     "output_type": "execute_result"
    }
   ],
   "source": [
    "null_containing_features = data.columns[data.isnull().any()]\n",
    "data[null_containing_features].isnull().sum()"
   ]
  },
  {
   "cell_type": "markdown",
   "metadata": {
    "colab_type": "text",
    "id": "GYMg9WepLPuF"
   },
   "source": [
    "**Imputation of the missing values in our dataset.**"
   ]
  },
  {
   "cell_type": "code",
   "execution_count": 27,
   "metadata": {
    "colab": {
     "base_uri": "https://localhost:8080/",
     "height": 0
    },
    "colab_type": "code",
    "id": "NRO4wC2wTFzA",
    "outputId": "785a67da-c775-492d-8746-03359fa5b3e9"
   },
   "outputs": [
    {
     "name": "stdout",
     "output_type": "stream",
     "text": [
      "       NumCompaniesWorked  TotalWorkingYears\n",
      "count         4391.000000        4401.000000\n",
      "mean             2.694830          11.279936\n",
      "std              2.498887           7.782222\n",
      "min              0.000000           0.000000\n",
      "25%              1.000000           6.000000\n",
      "50%              2.000000          10.000000\n",
      "75%              4.000000          15.000000\n",
      "max              9.000000          40.000000\n"
     ]
    }
   ],
   "source": [
    "# let's see the range of the features 'NumCompaniesWorked' and 'TotalWorkingYers'\n",
    "print(data[['NumCompaniesWorked','TotalWorkingYears']].describe())"
   ]
  },
  {
   "cell_type": "code",
   "execution_count": 28,
   "metadata": {
    "colab": {},
    "colab_type": "code",
    "id": "0NK8dqMYLPUP"
   },
   "outputs": [],
   "source": [
    "'''\n",
    "For the cases of the features : \n",
    "NumCompaniesWorked and TotalWorkingYears,\n",
    "we are going to use the KNNImputer from sklearn,\n",
    "to impute the missing values in these features,\n",
    "as these as primarily numerical features,\n",
    "representing the experience quotient of an employee,\n",
    "for which we can produce a higher order approximation,\n",
    "with insignificant bias introduced to the data.\n",
    "'''\n",
    "from sklearn.impute import KNNImputer\n",
    "# n_neighbors = 5 because of the range of values from (0,9)\n",
    "data['NumCompaniesWorked'] = KNNImputer(n_neighbors = 5).fit_transform(data['NumCompaniesWorked'].values.reshape(-1,1))\n",
    "# n_neighbors = 10 because of the range of values from (0,40)\n",
    "data['TotalWorkingYears'] = KNNImputer(n_neighbors = 10).fit_transform(data['TotalWorkingYears'].values.reshape(-1,1))"
   ]
  },
  {
   "cell_type": "code",
   "execution_count": 29,
   "metadata": {
    "colab": {},
    "colab_type": "code",
    "id": "SnldPreQT_EE"
   },
   "outputs": [],
   "source": [
    "'''\n",
    "For the cases of the features :\n",
    "EnvironmentSatisfaction, JobSatisfaction and WorkLifeBalance;\n",
    "we are going to drop the rows containing the null-values in these features,\n",
    "primarily because these features reflect a qualitative asspect of the employee, represented by numbers;\n",
    "and if we use any kind of imputation strategies to replace the null-values with some close approximation then,\n",
    "we won't be able to reflect the qualitative aspect of that feature for that employee,\n",
    "so it will be a case of miss-representation,\n",
    "which will inturn introduce unwanted bias in our data, which can lead to a poorer model.\n",
    "'''\n",
    "# droping all the rows containing null-values, because at this point on the above mentioned features contain null-values, so the operationwould only impact them\n",
    "data.dropna(inplace=True)"
   ]
  },
  {
   "cell_type": "code",
   "execution_count": 30,
   "metadata": {
    "colab": {
     "base_uri": "https://localhost:8080/",
     "height": 0
    },
    "colab_type": "code",
    "id": "P8NK2u4gUna_",
    "outputId": "8f4c465c-8d67-4a36-89b6-8a658006a947"
   },
   "outputs": [
    {
     "data": {
      "text/plain": [
       "<matplotlib.axes._subplots.AxesSubplot at 0x7f6cbc10c340>"
      ]
     },
     "execution_count": 30,
     "metadata": {},
     "output_type": "execute_result"
    },
    {
     "data": {
      "image/png": "[encoded data removed]",
      "text/plain": [
       "<Figure size 1800x720 with 2 Axes>"
      ]
     },
     "metadata": {
      "needs_background": "light"
     },
     "output_type": "display_data"
    }
   ],
   "source": [
    "# visealizing the data after handling the missing values.\n",
    "import missingno as msno\n",
    "msno.matrix(data)"
   ]
  },
  {
   "cell_type": "markdown",
   "metadata": {
    "colab_type": "text",
    "id": "hyEST6vrVygq"
   },
   "source": [
    "**As we can see, the data is no more fragmented due to the presence of missing values.**"
   ]
  },
  {
   "cell_type": "markdown",
   "metadata": {
    "colab_type": "text",
    "id": "kIii-yxZvj72"
   },
   "source": [
    "# Feature exploration and analysis, by utilizing visualizations."
   ]
  },
  {
   "cell_type": "code",
   "execution_count": 31,
   "metadata": {
    "colab": {
     "base_uri": "https://localhost:8080/",
     "height": 0
    },
    "colab_type": "code",
    "id": "BP5daw5EvkhC",
    "outputId": "de0d7c58-f3ae-46b0-a116-5a4833a78ddd"
   },
   "outputs": [
    {
     "data": {
      "text/plain": [
       "<seaborn.axisgrid.FacetGrid at 0x7f6cbe8647c0>"
      ]
     },
     "execution_count": 31,
     "metadata": {},
     "output_type": "execute_result"
    },
    {
     "data": {
      "image/png": "[encoded data removed]",
      "text/plain": [
       "<Figure size 1440x360 with 4 Axes>"
      ]
     },
     "metadata": {
      "needs_background": "light"
     },
     "output_type": "display_data"
    }
   ],
   "source": [
    "# EnvironmentSatisfaction with Attrition\n",
    "sns.catplot(x='Attrition', col='EnvironmentSatisfaction', data=data, kind='count')"
   ]
  },
  {
   "cell_type": "markdown",
   "metadata": {
    "colab_type": "text",
    "id": "tlEwYesnvk7-"
   },
   "source": [
    "**We can clearly observe from the above plot that employees who have relatively less work environment satisfaction Level, show a higher level of attrition.**"
   ]
  },
  {
   "cell_type": "code",
   "execution_count": 32,
   "metadata": {
    "colab": {
     "base_uri": "https://localhost:8080/",
     "height": 0
    },
    "colab_type": "code",
    "id": "dgpPHG_qvlbH",
    "outputId": "79af2573-1072-4833-a168-c13c3dc63d79"
   },
   "outputs": [
    {
     "data": {
      "text/plain": [
       "<seaborn.axisgrid.FacetGrid at 0x7f6cba7a2eb0>"
      ]
     },
     "execution_count": 32,
     "metadata": {},
     "output_type": "execute_result"
    },
    {
     "data": {
      "image/png": "[encoded data removed]",
      "text/plain": [
       "<Figure size 1531.25x360 with 4 Axes>"
      ]
     },
     "metadata": {
      "needs_background": "light"
     },
     "output_type": "display_data"
    }
   ],
   "source": [
    "# JobSatisfaction, WorklifeBalance and Attirtion\n",
    "sns.catplot(x='Attrition', hue='WorkLifeBalance', col='JobSatisfaction', data=data, kind='count')"
   ]
  },
  {
   "cell_type": "markdown",
   "metadata": {
    "colab_type": "text",
    "id": "fq7fhIyT9dks"
   },
   "source": [
    "**We can clearly observe from the above plot that employees with lower job satisfaction and worklife balance levels, show a higher level of attrition.**  \n",
    "**And employees with higher job satisfaction levels and with a worklife balance score of 3 shower lowest levels of attrition.**"
   ]
  },
  {
   "cell_type": "code",
   "execution_count": 33,
   "metadata": {
    "colab": {
     "base_uri": "https://localhost:8080/",
     "height": 0
    },
    "colab_type": "code",
    "id": "68ElBl2bvl3y",
    "outputId": "9c48c653-ce6d-40da-c515-220b32d5715d"
   },
   "outputs": [
    {
     "data": {
      "text/plain": [
       "<seaborn.axisgrid.FacetGrid at 0x7f6cba754d90>"
      ]
     },
     "execution_count": 33,
     "metadata": {},
     "output_type": "execute_result"
    },
    {
     "data": {
      "image/png": "[encoded data removed]",
      "text/plain": [
       "<Figure size 1128.75x360 with 3 Axes>"
      ]
     },
     "metadata": {
      "needs_background": "light"
     },
     "output_type": "display_data"
    }
   ],
   "source": [
    "# Age, Businesstravel and Attrition\n",
    "sns.catplot(x='Attrition', hue = 'Age', col='BusinessTravel', data=data, kind='count')"
   ]
  },
  {
   "cell_type": "markdown",
   "metadata": {
    "colab_type": "text",
    "id": "-LLl31_5-4mB"
   },
   "source": [
    "**We can clearly observe from the above plot that :**  \n",
    "* employees in the age group of 25 to 35, who travel rarely for business purposes show higher attrition.\n",
    "* employees in the age group of 25 to 30, who travel frequently for business purposes show relatively higher attrition.\n",
    "* Attrition in employees who do not travel for business purposes, is almost independent of the age group of those employees, and even so they independently show significantly lower attrition levels. "
   ]
  },
  {
   "cell_type": "code",
   "execution_count": 34,
   "metadata": {
    "colab": {
     "base_uri": "https://localhost:8080/",
     "height": 0
    },
    "colab_type": "code",
    "id": "Jy9V12CZvmJf",
    "outputId": "26c00ae0-7c7f-48d3-f1fd-caf877481e80"
   },
   "outputs": [
    {
     "data": {
      "text/plain": [
       "<seaborn.axisgrid.FacetGrid at 0x7f6cba692280>"
      ]
     },
     "execution_count": 34,
     "metadata": {},
     "output_type": "execute_result"
    },
    {
     "data": {
      "image/png": "[encoded data removed]",
      "text/plain": [
       "<Figure size 882.875x360 with 2 Axes>"
      ]
     },
     "metadata": {
      "needs_background": "light"
     },
     "output_type": "display_data"
    }
   ],
   "source": [
    "# Department, Gender and Attrition\n",
    "sns.catplot(x='Attrition', hue= 'Department', col='Gender', data=data, kind='count')"
   ]
  },
  {
   "cell_type": "markdown",
   "metadata": {
    "colab_type": "text",
    "id": "U0UmBiN3A0NY"
   },
   "source": [
    "**We can clearly infer from the above plot that employees, in the Research & Development for both the cases of the genders, show a relatively higher level of attrition, than the other departments in the company.**  \n",
    "**In the case of the Sales and Human Resources departments, male employees show a higher attition level than female employees.**"
   ]
  },
  {
   "cell_type": "code",
   "execution_count": 35,
   "metadata": {
    "colab": {
     "base_uri": "https://localhost:8080/",
     "height": 0
    },
    "colab_type": "code",
    "id": "o5H5g4zLvmey",
    "outputId": "2067e2f4-7d17-4e1c-f813-386a6e749cd6"
   },
   "outputs": [
    {
     "data": {
      "text/plain": [
       "<seaborn.axisgrid.FacetGrid at 0x7f6cba092fa0>"
      ]
     },
     "execution_count": 35,
     "metadata": {},
     "output_type": "execute_result"
    },
    {
     "data": {
      "image/png": "[encoded data removed]",
      "text/plain": [
       "<Figure size 1926x360 with 5 Axes>"
      ]
     },
     "metadata": {
      "needs_background": "light"
     },
     "output_type": "display_data"
    }
   ],
   "source": [
    "# Education, EducatoinField and Attrition\n",
    "sns.catplot(x='Attrition', hue= 'EducationField', col='Education', data=data, kind='count')"
   ]
  },
  {
   "cell_type": "markdown",
   "metadata": {
    "colab_type": "text",
    "id": "EBcLYgivHjjJ"
   },
   "source": [
    "**We can infer from the above plot that employees with an education of type 4, in the field of LIfe Sciences, show the relatively higher levels of attition.**\n",
    "**We can also see that emplyees with an education type of 3, in the field of Life Sciences and Medical, also show simialar high levels of attrition among their peers.** "
   ]
  },
  {
   "cell_type": "code",
   "execution_count": 36,
   "metadata": {
    "colab": {
     "base_uri": "https://localhost:8080/",
     "height": 0
    },
    "colab_type": "code",
    "id": "CEeBufKYvmzs",
    "outputId": "a25f366c-869b-45ed-d3b5-e7c039ad013c"
   },
   "outputs": [
    {
     "data": {
      "text/plain": [
       "<seaborn.axisgrid.FacetGrid at 0x7f6cb9d6b9a0>"
      ]
     },
     "execution_count": 36,
     "metadata": {},
     "output_type": "execute_result"
    },
    {
     "data": {
      "image/png": "[encoded data removed]",
      "text/plain": [
       "<Figure size 1968.88x360 with 5 Axes>"
      ]
     },
     "metadata": {
      "needs_background": "light"
     },
     "output_type": "display_data"
    }
   ],
   "source": [
    "# JobLevel JobRole\n",
    "sns.catplot(x='Attrition', hue= 'JobRole', col='JobLevel', data=data, kind='count')"
   ]
  },
  {
   "cell_type": "markdown",
   "metadata": {
    "colab_type": "text",
    "id": "MPMcUJNbIOij"
   },
   "source": [
    "**We can infer from the above plot that employees in the job level category 1 and 2, with a role of Sales Executive and Research Scientist, show the relatively highest levels of attrition.**  \n",
    "**There is also a significant level of attirtion by the employees with a role of Laboratory Technicians in the job level category 1, 2 and 4.**"
   ]
  },
  {
   "cell_type": "code",
   "execution_count": 37,
   "metadata": {
    "colab": {
     "base_uri": "https://localhost:8080/",
     "height": 0
    },
    "colab_type": "code",
    "id": "RNSfxM1Dvm9E",
    "outputId": "44e2af86-2bc7-4e4d-ef51-2933219f0643"
   },
   "outputs": [
    {
     "data": {
      "text/plain": [
       "<seaborn.axisgrid.FacetGrid at 0x7f6cba02ad30>"
      ]
     },
     "execution_count": 37,
     "metadata": {},
     "output_type": "execute_result"
    },
    {
     "data": {
      "image/png": "[encoded data removed]",
      "text/plain": [
       "<Figure size 825.625x360 with 2 Axes>"
      ]
     },
     "metadata": {
      "needs_background": "light"
     },
     "output_type": "display_data"
    }
   ],
   "source": [
    "# DistanceFromHome Gender\n",
    "sns.catplot(x='Attrition', hue= 'DistanceFromHome', col='Gender', data=data, kind='count')"
   ]
  },
  {
   "cell_type": "markdown",
   "metadata": {
    "colab_type": "text",
    "id": "S9ornHbeJdow"
   },
   "source": [
    "**We can clearly observe from the above plot that, the attrition level for boht male and female employees are relatively higher in the cases where the distance to the office from their homes are smaller; and as the distance of the office from their homes increases, we can observe a decrease in the levels of attrition in them.**"
   ]
  },
  {
   "cell_type": "code",
   "execution_count": 38,
   "metadata": {
    "colab": {
     "base_uri": "https://localhost:8080/",
     "height": 0
    },
    "colab_type": "code",
    "id": "n9iSYXOKvnMr",
    "outputId": "10f5474a-1f86-4250-9381-f0b612d775d5"
   },
   "outputs": [
    {
     "data": {
      "text/plain": [
       "<matplotlib.axes._subplots.AxesSubplot at 0x7f6cb998f0a0>"
      ]
     },
     "execution_count": 38,
     "metadata": {},
     "output_type": "execute_result"
    },
    {
     "data": {
      "image/png": "[encoded data removed]",
      "text/plain": [
       "<Figure size 432x288 with 1 Axes>"
      ]
     },
     "metadata": {
      "needs_background": "light"
     },
     "output_type": "display_data"
    }
   ],
   "source": [
    "# MaritalStatus and Attrition\n",
    "sns.countplot(x='Attrition', hue= 'MaritalStatus', data=data)"
   ]
  },
  {
   "cell_type": "markdown",
   "metadata": {
    "colab_type": "text",
    "id": "NrRoXN9xLEkj"
   },
   "source": [
    "**we can clearly observe from the above pot that the attrition level is relatively high in the employees with a marital status of Single, following that are the employees with marital status of Married; and the employees with the reltively lowest level of attrition are the ones with a marital status of Divorced.**"
   ]
  },
  {
   "cell_type": "code",
   "execution_count": 39,
   "metadata": {
    "colab": {
     "base_uri": "https://localhost:8080/",
     "height": 0
    },
    "colab_type": "code",
    "id": "UVphCXpJLud7",
    "outputId": "2baac4a9-c8df-424c-a739-e26455e302c8"
   },
   "outputs": [
    {
     "data": {
      "text/plain": [
       "<matplotlib.axes._subplots.AxesSubplot at 0x7f6cb9967820>"
      ]
     },
     "execution_count": 39,
     "metadata": {},
     "output_type": "execute_result"
    },
    {
     "data": {
      "image/png": "[encoded data removed]",
      "text/plain": [
       "<Figure size 432x288 with 1 Axes>"
      ]
     },
     "metadata": {
      "needs_background": "light"
     },
     "output_type": "display_data"
    }
   ],
   "source": [
    "# MonthlyIncome and Attrition\n",
    "sns.swarmplot(x='MonthlyIncome', y= 'Attrition', data=data)"
   ]
  },
  {
   "cell_type": "markdown",
   "metadata": {
    "colab_type": "text",
    "id": "kl4srioRLt_a"
   },
   "source": [
    "**We can clearly observe from the above plot that a lot of attritions happening in the workforce of the company is related to the employees with income ranging from 25000 to 75000 rupeesper month.**"
   ]
  },
  {
   "cell_type": "code",
   "execution_count": 40,
   "metadata": {
    "colab": {
     "base_uri": "https://localhost:8080/",
     "height": 0
    },
    "colab_type": "code",
    "id": "jo4pW9HcvnVw",
    "outputId": "a6c129e5-cea8-4b32-e783-74b458c6ad3c"
   },
   "outputs": [
    {
     "data": {
      "text/plain": [
       "<matplotlib.legend.Legend at 0x7f6cb995c5b0>"
      ]
     },
     "execution_count": 40,
     "metadata": {},
     "output_type": "execute_result"
    },
    {
     "data": {
      "image/png": "[encoded data removed]",
      "text/plain": [
       "<Figure size 432x288 with 1 Axes>"
      ]
     },
     "metadata": {
      "needs_background": "light"
     },
     "output_type": "display_data"
    }
   ],
   "source": [
    "# PercentSalaryHike and Attrition\n",
    "sns.countplot(x='Attrition', hue= 'PercentSalaryHike', data=data)\n",
    "plt.legend(bbox_to_anchor=(1.2,1.), loc=\"upper right\")"
   ]
  },
  {
   "cell_type": "markdown",
   "metadata": {
    "colab_type": "text",
    "id": "q99JrE-lRsYC"
   },
   "source": [
    "**We can observe from the above plot that employees who received a salary hike of precentages ranging from 11% to 15%, show a relatively higher attrition.**  \n",
    "**On the other side, as we observe percentage of salary hike increasing, we see a decrease in the attition of those employees.**"
   ]
  },
  {
   "cell_type": "code",
   "execution_count": 41,
   "metadata": {
    "colab": {
     "base_uri": "https://localhost:8080/",
     "height": 0
    },
    "colab_type": "code",
    "id": "woIZhSdvKzX5",
    "outputId": "ee0a46bf-46c8-4530-813e-9ecaae52978f"
   },
   "outputs": [
    {
     "data": {
      "text/plain": [
       "<matplotlib.axes._subplots.AxesSubplot at 0x7f6cb9858160>"
      ]
     },
     "execution_count": 41,
     "metadata": {},
     "output_type": "execute_result"
    },
    {
     "data": {
      "image/png": "[encoded data removed]",
      "text/plain": [
       "<Figure size 432x288 with 1 Axes>"
      ]
     },
     "metadata": {
      "needs_background": "light"
     },
     "output_type": "display_data"
    }
   ],
   "source": [
    "# StockOptionLevel and Attrition\n",
    "sns.countplot(x='Attrition', hue= 'StockOptionLevel', data=data)"
   ]
  },
  {
   "cell_type": "markdown",
   "metadata": {
    "colab_type": "text",
    "id": "wHOso1-USXeB"
   },
   "source": [
    "**We can clearly see from the above plot that the level of stock options with the employees and the attrition level of the employees is inversely proportionate; i.e. as the stock option level with an employee rises, they start showing lower levels of attirion.**"
   ]
  },
  {
   "cell_type": "code",
   "execution_count": 42,
   "metadata": {
    "colab": {
     "base_uri": "https://localhost:8080/",
     "height": 0
    },
    "colab_type": "code",
    "id": "rkxigr5HvjED",
    "outputId": "4e7fc98c-e4d3-4dd5-bc77-50d1555e97bf"
   },
   "outputs": [
    {
     "data": {
      "text/plain": [
       "<matplotlib.legend.Legend at 0x7f6cba12be80>"
      ]
     },
     "execution_count": 42,
     "metadata": {},
     "output_type": "execute_result"
    },
    {
     "data": {
      "image/png": "[encoded data removed]",
      "text/plain": [
       "<Figure size 432x288 with 1 Axes>"
      ]
     },
     "metadata": {
      "needs_background": "light"
     },
     "output_type": "display_data"
    }
   ],
   "source": [
    "# NumCompaniesWorked and Attrition\n",
    "sns.countplot(x='Attrition', hue= 'NumCompaniesWorked', data=data)\n",
    "plt.legend(bbox_to_anchor=(1.5,1), loc=\"upper right\")"
   ]
  },
  {
   "cell_type": "markdown",
   "metadata": {
    "colab_type": "text",
    "id": "QSXNhWTdTM-y"
   },
   "source": [
    "**We can clearly infer from the above plot that employees who have worked with only 1 company show the highest attirition behaviour than the rest of the employees who have worked with more than 1 companies.**"
   ]
  },
  {
   "cell_type": "code",
   "execution_count": 43,
   "metadata": {
    "colab": {
     "base_uri": "https://localhost:8080/",
     "height": 0
    },
    "colab_type": "code",
    "id": "wv_uG6G5S3AI",
    "outputId": "31b62f1b-457e-400d-aa9c-e6dd03ddb808"
   },
   "outputs": [
    {
     "data": {
      "text/plain": [
       "<matplotlib.legend.Legend at 0x7f6cb973db50>"
      ]
     },
     "execution_count": 43,
     "metadata": {},
     "output_type": "execute_result"
    },
    {
     "data": {
      "image/png": "[encoded data removed]",
      "text/plain": [
       "<Figure size 432x288 with 1 Axes>"
      ]
     },
     "metadata": {
      "needs_background": "light"
     },
     "output_type": "display_data"
    }
   ],
   "source": [
    "# TotalWorkingYears and Attrition\n",
    "sns.countplot(x='Attrition', hue= 'TotalWorkingYears', data=data)\n",
    "plt.legend(bbox_to_anchor=(1.5,1), loc=\"upper right\")"
   ]
  },
  {
   "cell_type": "markdown",
   "metadata": {
    "colab_type": "text",
    "id": "QM_HbUi6T9xo"
   },
   "source": [
    "**We can infer from the above plot that as the experience of the employees increase, the attrition levels drop in the company; and specially the employees with an experience in the ranges of 0 to 2 years and 10 to 11 years show relatively higher attrition levels than ther peers.**"
   ]
  },
  {
   "cell_type": "code",
   "execution_count": 44,
   "metadata": {
    "colab": {
     "base_uri": "https://localhost:8080/",
     "height": 0
    },
    "colab_type": "code",
    "id": "JRlrxqlK3sYJ",
    "outputId": "2d74ec14-1720-46b5-ff08-82170f2e599b"
   },
   "outputs": [
    {
     "data": {
      "text/plain": [
       "<matplotlib.legend.Legend at 0x7f6cb957f2e0>"
      ]
     },
     "execution_count": 44,
     "metadata": {},
     "output_type": "execute_result"
    },
    {
     "data": {
      "image/png": "[encoded data removed]",
      "text/plain": [
       "<Figure size 432x288 with 1 Axes>"
      ]
     },
     "metadata": {
      "needs_background": "light"
     },
     "output_type": "display_data"
    }
   ],
   "source": [
    "# TrainingTimesLastYear and Attrition\n",
    "sns.countplot(x='Attrition', hue= 'TrainingTimesLastYear', data=data)\n",
    "plt.legend(bbox_to_anchor=(1.5,1), loc=\"upper right\")"
   ]
  },
  {
   "cell_type": "markdown",
   "metadata": {
    "colab_type": "text",
    "id": "LJ6sDY-oSoF0"
   },
   "source": [
    "**We can clearly see from the above plot that employees who got 2 and 3 times training last year show the most attrition behaviour among their peers.** "
   ]
  },
  {
   "cell_type": "code",
   "execution_count": 45,
   "metadata": {
    "colab": {
     "base_uri": "https://localhost:8080/",
     "height": 0
    },
    "colab_type": "code",
    "id": "lQUdr8AkSVv1",
    "outputId": "e528f7e4-24af-4ff9-8d93-624c8d63f12e"
   },
   "outputs": [
    {
     "data": {
      "text/plain": [
       "<matplotlib.legend.Legend at 0x7f6cb950b460>"
      ]
     },
     "execution_count": 45,
     "metadata": {},
     "output_type": "execute_result"
    },
    {
     "data": {
      "image/png": "[encoded data removed]",
      "text/plain": [
       "<Figure size 432x288 with 1 Axes>"
      ]
     },
     "metadata": {
      "needs_background": "light"
     },
     "output_type": "display_data"
    }
   ],
   "source": [
    "# YearsAtCompany and Attrition\n",
    "sns.countplot(x='Attrition', hue= 'YearsAtCompany', data=data)\n",
    "plt.legend(bbox_to_anchor=(1.5,1), loc=\"upper right\")"
   ]
  },
  {
   "cell_type": "markdown",
   "metadata": {
    "colab_type": "text",
    "id": "j9Ya99-MSsxk"
   },
   "source": [
    "**We can clearly observe from the above plot that newer employees show higher attrition behaviour, and as the employees get more seasoned in the company they show lower attrition behaviour.**"
   ]
  },
  {
   "cell_type": "code",
   "execution_count": 46,
   "metadata": {
    "colab": {
     "base_uri": "https://localhost:8080/",
     "height": 0
    },
    "colab_type": "code",
    "id": "geFPoMc13sLC",
    "outputId": "2bdf3c93-29a5-419d-eba6-1c2363470159"
   },
   "outputs": [
    {
     "data": {
      "text/plain": [
       "<matplotlib.legend.Legend at 0x7f6cb950b490>"
      ]
     },
     "execution_count": 46,
     "metadata": {},
     "output_type": "execute_result"
    },
    {
     "data": {
      "image/png": "[encoded data removed]",
      "text/plain": [
       "<Figure size 432x288 with 1 Axes>"
      ]
     },
     "metadata": {
      "needs_background": "light"
     },
     "output_type": "display_data"
    }
   ],
   "source": [
    "# YearsSinceLastPromotion and Attrition \n",
    "sns.countplot(x='Attrition', hue= 'YearsSinceLastPromotion', data=data)\n",
    "plt.legend(bbox_to_anchor=(1.5,1), loc=\"upper right\")"
   ]
  },
  {
   "cell_type": "markdown",
   "metadata": {
    "colab_type": "text",
    "id": "sTmw5doOS7wa"
   },
   "source": [
    "**We can clearly see from the above plot that employees with a recent promotion in the company show higher attrition behaviour than the employees who received their current promotion relatively earlier than their peers.**"
   ]
  },
  {
   "cell_type": "code",
   "execution_count": 47,
   "metadata": {
    "colab": {
     "base_uri": "https://localhost:8080/",
     "height": 0
    },
    "colab_type": "code",
    "id": "E_-V0VIjS8fU",
    "outputId": "6e4634a3-c3da-48d8-94a1-9618d9dab6c8"
   },
   "outputs": [
    {
     "data": {
      "text/plain": [
       "<matplotlib.legend.Legend at 0x7f6cb9330d60>"
      ]
     },
     "execution_count": 47,
     "metadata": {},
     "output_type": "execute_result"
    },
    {
     "data": {
      "image/png": "[encoded data removed]",
      "text/plain": [
       "<Figure size 432x288 with 1 Axes>"
      ]
     },
     "metadata": {
      "needs_background": "light"
     },
     "output_type": "display_data"
    }
   ],
   "source": [
    "# YearsWithCurrManager and Attrition\n",
    "sns.countplot(x='Attrition', hue= 'YearsWithCurrManager', data=data)\n",
    "plt.legend(bbox_to_anchor=(1.5,1), loc=\"upper right\")"
   ]
  },
  {
   "cell_type": "markdown",
   "metadata": {
    "colab_type": "text",
    "id": "JR2tJiUgTPCi"
   },
   "source": [
    "**We can clearly observe from the above plot that employees that are with their current manager for higher number of years show higher attrition behaviour than their peers, and the attrition behaviour decreases as the employees stay with their current managers for longre periods of time.**"
   ]
  },
  {
   "cell_type": "code",
   "execution_count": 48,
   "metadata": {
    "colab": {
     "base_uri": "https://localhost:8080/",
     "height": 0
    },
    "colab_type": "code",
    "id": "U0LsLJne3r7u",
    "outputId": "90fdd340-d3e2-47ad-be64-848f5bf8aa2d"
   },
   "outputs": [
    {
     "data": {
      "text/plain": [
       "<seaborn.axisgrid.FacetGrid at 0x7f6cb9495430>"
      ]
     },
     "execution_count": 48,
     "metadata": {},
     "output_type": "execute_result"
    },
    {
     "data": {
      "image/png": "[encoded data removed]",
      "text/plain": [
       "<Figure size 805.125x360 with 2 Axes>"
      ]
     },
     "metadata": {
      "needs_background": "light"
     },
     "output_type": "display_data"
    }
   ],
   "source": [
    "# JobInvolvement PerformanceRating\n",
    "sns.catplot(x='Attrition', hue= 'JobInvolvement', col='PerformanceRating', data=data, kind='count')"
   ]
  },
  {
   "cell_type": "markdown",
   "metadata": {
    "colab_type": "text",
    "id": "O6f9G9h13r0O"
   },
   "source": [
    "**We can clearly observe from the above plot that employees with a performance rating of 3 and a job involvement score of 3 show the relatively highest attrition among their peers.**  \n",
    "**This is also applicable for employees with a performance rating of 4 and job involvement score of 3, i.e. they also show a relatively higher attrition, but not the highet among their peers.**"
   ]
  },
  {
   "cell_type": "markdown",
   "metadata": {
    "colab_type": "text",
    "id": "y6mTryuijWc7"
   },
   "source": [
    "# Feature Engineering."
   ]
  },
  {
   "cell_type": "markdown",
   "metadata": {
    "colab_type": "text",
    "id": "9iB-tyL-j_Fa"
   },
   "source": [
    "**From the datasets of manager_survey and employee_survey, we get the following features :**  \n",
    "* JobSatisfaction \n",
    "* WorkLifeBalance\n",
    "* JobInvolvement\n",
    "* PerformanceRating\n",
    "* EnvironmentsSatisfaction\n",
    "\n",
    "**Due to the fact that all of these fetures are ordinal scores ranging between 1 to 4, and the direction of ordinality is also the same, i.e. 4 being the best score; in order to prevent a dimensionaly explosoin during encoding these features we can transform these features into a single feature by adding up the scores across these five features for every employee.**"
   ]
  },
  {
   "cell_type": "code",
   "execution_count": 49,
   "metadata": {
    "colab": {},
    "colab_type": "code",
    "id": "z0iKLZj1jdqD"
   },
   "outputs": [],
   "source": [
    "# new feature : SueveyScore\n",
    "data['SurveyScore'] = data['JobSatisfaction'] + data['WorkLifeBalance'] + data['JobInvolvement'] + data['PerformanceRating'] + data['EnvironmentSatisfaction']\n",
    "# dropping the now redundent old individual features\n",
    "data.drop(['JobSatisfaction', 'WorkLifeBalance', 'JobInvolvement', 'PerformanceRating', 'EnvironmentSatisfaction'], axis = 1, inplace = True)"
   ]
  },
  {
   "cell_type": "markdown",
   "metadata": {
    "colab_type": "text",
    "id": "eZTImnCemRqJ"
   },
   "source": [
    "**Exploring the feature Age.**"
   ]
  },
  {
   "cell_type": "code",
   "execution_count": 50,
   "metadata": {
    "colab": {
     "base_uri": "https://localhost:8080/"
    },
    "colab_type": "code",
    "id": "f94njfeZfxBw",
    "outputId": "584da37a-08df-447b-cbf2-5a05e2ce50a3"
   },
   "outputs": [
    {
     "name": "stdout",
     "output_type": "stream",
     "text": [
      "The minimum age of the employees in our data is : 9.143345046885123\n",
      "      \n",
      "The maximum age of employees in our data is : 4327.0\n"
     ]
    }
   ],
   "source": [
    "print('''The minimum age of the employees in our data is : {}\n",
    "      \\nThe maximum age of employees in our data is : {}'''.format(data['Age'].describe().min(), data['Age'].describe().max()))"
   ]
  },
  {
   "cell_type": "markdown",
   "metadata": {
    "colab_type": "text",
    "id": "I0oeDsRAfxtf"
   },
   "source": [
    "**Okay so let's discretize the feature Age by binning it in 4 quatiles, in order to improve the signal-noise ratio.**"
   ]
  },
  {
   "cell_type": "code",
   "execution_count": 51,
   "metadata": {
    "colab": {},
    "colab_type": "code",
    "id": "vbL8lowXfx_S"
   },
   "outputs": [],
   "source": [
    "data['Age'] = pd.qcut(data['Age'], q=4, labels=False, precision=0)"
   ]
  },
  {
   "cell_type": "markdown",
   "metadata": {},
   "source": [
    "**Exploring the feature DistanceFromHome.**"
   ]
  },
  {
   "cell_type": "code",
   "execution_count": 52,
   "metadata": {
    "colab": {},
    "colab_type": "code",
    "id": "4xI2K7dhfyZQ"
   },
   "outputs": [
    {
     "data": {
      "text/plain": [
       "Int64Index([ 1,  2,  3,  4,  5,  6,  7,  8,  9, 10, 11, 12, 13, 14, 15, 16, 17,\n",
       "            18, 19, 20, 21, 22, 23, 24, 25, 26, 27, 28, 29],\n",
       "           dtype='int64')"
      ]
     },
     "execution_count": 52,
     "metadata": {},
     "output_type": "execute_result"
    }
   ],
   "source": [
    "# okay so let's check the value distribution of this feature.\n",
    "data['DistanceFromHome'].value_counts().index.sort_values(ascending=True)"
   ]
  },
  {
   "cell_type": "markdown",
   "metadata": {
    "colab": {},
    "colab_type": "code",
    "id": "Xg0yIPXhfymQ"
   },
   "source": [
    "**So we can see that the distances of employees from their office to their houses range from 1km upto 29km, and the data has been recorder with a 1km periodic interval.**  \n",
    "**In-order to improve the signal-noise ratio we will be discretizing the feature into 4 bins representing the following :**\n",
    "* bin 0 representing > 'short' distance between office and home \n",
    "* bin 1 representing > 'intermediate' distance between office and home\n",
    "* bin 2 representing > 'long' distance between office and home\n",
    "* bin 3 representing > 'very-long' distance between office and home"
   ]
  },
  {
   "cell_type": "code",
   "execution_count": 53,
   "metadata": {},
   "outputs": [],
   "source": [
    "data['DistanceFromHome'] = pd.cut(data['DistanceFromHome'], bins=4, labels=False)"
   ]
  },
  {
   "cell_type": "markdown",
   "metadata": {},
   "source": [
    "**Exploring the feature MonthlyIncome.**"
   ]
  },
  {
   "cell_type": "code",
   "execution_count": 54,
   "metadata": {},
   "outputs": [
    {
     "data": {
      "text/html": [
       "<div>\n",
       "<style scoped>\n",
       "    .dataframe tbody tr th:only-of-type {\n",
       "        vertical-align: middle;\n",
       "    }\n",
       "\n",
       "    .dataframe tbody tr th {\n",
       "        vertical-align: top;\n",
       "    }\n",
       "\n",
       "    .dataframe thead th {\n",
       "        text-align: right;\n",
       "    }\n",
       "</style>\n",
       "<table border=\"1\" class=\"dataframe\">\n",
       "  <thead>\n",
       "    <tr style=\"text-align: right;\">\n",
       "      <th></th>\n",
       "      <th>0</th>\n",
       "    </tr>\n",
       "  </thead>\n",
       "  <tbody>\n",
       "    <tr>\n",
       "      <th>count</th>\n",
       "      <td>1349.000000</td>\n",
       "    </tr>\n",
       "    <tr>\n",
       "      <th>mean</th>\n",
       "      <td>67144.647887</td>\n",
       "    </tr>\n",
       "    <tr>\n",
       "      <th>std</th>\n",
       "      <td>47988.375614</td>\n",
       "    </tr>\n",
       "    <tr>\n",
       "      <th>min</th>\n",
       "      <td>10090.000000</td>\n",
       "    </tr>\n",
       "    <tr>\n",
       "      <th>25%</th>\n",
       "      <td>30330.000000</td>\n",
       "    </tr>\n",
       "    <tr>\n",
       "      <th>50%</th>\n",
       "      <td>50710.000000</td>\n",
       "    </tr>\n",
       "    <tr>\n",
       "      <th>75%</th>\n",
       "      <td>88340.000000</td>\n",
       "    </tr>\n",
       "    <tr>\n",
       "      <th>max</th>\n",
       "      <td>199990.000000</td>\n",
       "    </tr>\n",
       "  </tbody>\n",
       "</table>\n",
       "</div>"
      ],
      "text/plain": [
       "                   0\n",
       "count    1349.000000\n",
       "mean    67144.647887\n",
       "std     47988.375614\n",
       "min     10090.000000\n",
       "25%     30330.000000\n",
       "50%     50710.000000\n",
       "75%     88340.000000\n",
       "max    199990.000000"
      ]
     },
     "execution_count": 54,
     "metadata": {},
     "output_type": "execute_result"
    }
   ],
   "source": [
    "pd.DataFrame(data['MonthlyIncome'].value_counts().index.sort_values(ascending=True)).describe()"
   ]
  },
  {
   "cell_type": "markdown",
   "metadata": {},
   "source": [
    "**So we can see that the monthly income of employees range from 10090 inr/mnth upto 199990 inr/mnth.**  \n",
    "**In-order to improve the signal-noise ratio we will be discretizing the feature into 4 bins according to the four quartiles of the feature value distribution; and in turn it would also maintiain a balance in the frequency of these four classes. The classes representing the following :**\n",
    "* bin 0 representing > 'low' income\n",
    "* bin 1 representing > 'intermediate' income\n",
    "* bin 2 representing > 'upper' income\n",
    "* bin 3 representing > 'high' income"
   ]
  },
  {
   "cell_type": "code",
   "execution_count": 55,
   "metadata": {},
   "outputs": [],
   "source": [
    "data['MonthlyIncome'] = pd.qcut(data['MonthlyIncome'], q=4, labels=False, precision=0)"
   ]
  },
  {
   "cell_type": "markdown",
   "metadata": {},
   "source": [
    "**Exploring the feature NumCompaniesWorked.**"
   ]
  },
  {
   "cell_type": "code",
   "execution_count": 56,
   "metadata": {},
   "outputs": [
    {
     "data": {
      "text/plain": [
       "Float64Index([0.0, 1.0, 2.0, 2.6948303347756775, 3.0, 4.0, 5.0, 6.0, 7.0, 8.0,\n",
       "              9.0],\n",
       "             dtype='float64')"
      ]
     },
     "execution_count": 56,
     "metadata": {},
     "output_type": "execute_result"
    }
   ],
   "source": [
    "data['NumCompaniesWorked'].value_counts().index.sort_values(ascending=True)"
   ]
  },
  {
   "cell_type": "markdown",
   "metadata": {},
   "source": [
    "**We can see that one of the values in this feature is represented in float, which is logically not possible given the nature of this feature, so first we will be converting the data-type to integer.**  \n",
    "**We can infer from above that the total number of companies the employees have worked with ranges from 0 to 9.**  \n",
    "**So after converting the data-type of this feature, we will be discretizing the feature into 3 bins; in order to improve the signal to noise ratio. The three bnis represent the following :** \n",
    "* bin 0 : representing experience of working with 0 to 3 companies\n",
    "* bin 1 : representing experience of working with 3 to 6 companies\n",
    "* bin 2 : representing experience of working with 6 to 10 companies"
   ]
  },
  {
   "cell_type": "code",
   "execution_count": 57,
   "metadata": {},
   "outputs": [],
   "source": [
    "# converting the data-type from float to integer for better value representation\n",
    "data['NumCompaniesWorked'] = data['NumCompaniesWorked'].astype(int)\n",
    "data['NumCompaniesWorked'] = pd.cut(data['NumCompaniesWorked'], bins=3, labels=False)"
   ]
  },
  {
   "cell_type": "markdown",
   "metadata": {},
   "source": [
    "**Exploring the feature PercentSalaryHike.**"
   ]
  },
  {
   "cell_type": "code",
   "execution_count": 58,
   "metadata": {},
   "outputs": [
    {
     "data": {
      "text/plain": [
       "Int64Index([11, 12, 13, 14, 15, 16, 17, 18, 19, 20, 21, 22, 23, 24, 25], dtype='int64')"
      ]
     },
     "execution_count": 58,
     "metadata": {},
     "output_type": "execute_result"
    }
   ],
   "source": [
    "data['PercentSalaryHike'].value_counts().index.sort_values(ascending=True)"
   ]
  },
  {
   "cell_type": "markdown",
   "metadata": {},
   "source": [
    "**Okay so we can see from above that the percentage of salary hike of the employees in the company ranges from 11% to 25%, with a periodic interval of 1%.** \n",
    "**So in order to improve the signal to noise ratio of the feature, we will be discreizing the feature into 3 bins, where the bins represent the following :**  \n",
    "* bin 0 : represent 'average' salary hike\n",
    "* bin 1 : represent 'above-average' salary hike\n",
    "* bin 2 : represent 'high' salary hike"
   ]
  },
  {
   "cell_type": "code",
   "execution_count": 59,
   "metadata": {},
   "outputs": [],
   "source": [
    "data['PercentSalaryHike'] =  pd.cut(data['PercentSalaryHike'], bins=3, labels=False)"
   ]
  },
  {
   "cell_type": "markdown",
   "metadata": {},
   "source": [
    "**Exploring the feature TotalWorkingYears.**"
   ]
  },
  {
   "cell_type": "code",
   "execution_count": 60,
   "metadata": {},
   "outputs": [
    {
     "data": {
      "text/plain": [
       "Float64Index([               0.0,                1.0,                2.0,\n",
       "                             3.0,                4.0,                5.0,\n",
       "                             6.0,                7.0,                8.0,\n",
       "                             9.0,               10.0,               11.0,\n",
       "              11.279936378095888,               12.0,               13.0,\n",
       "                            14.0,               15.0,               16.0,\n",
       "                            17.0,               18.0,               19.0,\n",
       "                            20.0,               21.0,               22.0,\n",
       "                            23.0,               24.0,               25.0,\n",
       "                            26.0,               27.0,               28.0,\n",
       "                            29.0,               30.0,               31.0,\n",
       "                            32.0,               33.0,               34.0,\n",
       "                            35.0,               36.0,               37.0,\n",
       "                            38.0,               40.0],\n",
       "             dtype='float64')"
      ]
     },
     "execution_count": 60,
     "metadata": {},
     "output_type": "execute_result"
    }
   ],
   "source": [
    "data['TotalWorkingYears'].value_counts().index.sort_values(ascending=True)"
   ]
  },
  {
   "cell_type": "markdown",
   "metadata": {},
   "source": [
    "**As we can see from above that one of the value in the feature is represented in decimal, where it is possible to represent number of years in float, we will be converting this feature into integer data-type; due to the fact that all other values are integers and also because of the reason that the extra decimal poins do ot add any value to our analysis.**  \n",
    "**We can also observe that values are represented in a range of 0 years to 40 years with a periodic interval of 1 year.**  \n",
    "**So in order to improve the signal to noise ratio of the feature, we will be discretizing the feature into 4 bins, where each bin represent experience of the employee in multiples of 8 years, representing the following :**  \n",
    "* bin 0 : representing 'low' experience\n",
    "* bin 1 : representing 'average' experience\n",
    "* bin 2 : representing 'above-average' experience\n",
    "* bin 3 : representing 'high' experience"
   ]
  },
  {
   "cell_type": "code",
   "execution_count": 61,
   "metadata": {},
   "outputs": [],
   "source": [
    "# converting the data-type from float to integer for better value representation\n",
    "data['TotalWorkingYears'] = data['TotalWorkingYears'].astype(int)\n",
    "data['TotalWorkingYears'] = pd.cut(data['TotalWorkingYears'], bins=4, labels=False)"
   ]
  },
  {
   "cell_type": "markdown",
   "metadata": {},
   "source": [
    "**Exploring the feature YearsAtCompany.**"
   ]
  },
  {
   "cell_type": "code",
   "execution_count": 62,
   "metadata": {},
   "outputs": [
    {
     "data": {
      "text/plain": [
       "Int64Index([ 0,  1,  2,  3,  4,  5,  6,  7,  8,  9, 10, 11, 12, 13, 14, 15, 16,\n",
       "            17, 18, 19, 20, 21, 22, 23, 24, 25, 26, 27, 29, 30, 31, 32, 33, 34,\n",
       "            36, 37, 40],\n",
       "           dtype='int64')"
      ]
     },
     "execution_count": 62,
     "metadata": {},
     "output_type": "execute_result"
    }
   ],
   "source": [
    "data['YearsAtCompany'].value_counts().index.sort_values(ascending=True)"
   ]
  },
  {
   "cell_type": "markdown",
   "metadata": {},
   "source": [
    "**We can observe from above that the years of employment of the employees in the company ranges from 0 years to 40 years, with a periodic interval of 1 year in our data.**  \n",
    "**So we will be dicretizing the feature into 3 bins in order to improve the signal to noise ratio, where the bins represent the following :** \n",
    "* bin 0 : representing 'relatively-newer' employee according to the organizational\n",
    "* bin 1 : representing 'relatively-older' employee according to the organizational\n",
    "* bin 2 : representing 'mature' employee according to the organizational"
   ]
  },
  {
   "cell_type": "code",
   "execution_count": 63,
   "metadata": {},
   "outputs": [],
   "source": [
    "data['YearsAtCompany'] = pd.cut(data['YearsAtCompany'], bins=[0,5,10,40], labels=False, include_lowest=True)"
   ]
  },
  {
   "cell_type": "markdown",
   "metadata": {},
   "source": [
    "**Exploring the feature YearsSinceLastPromotion.**"
   ]
  },
  {
   "cell_type": "code",
   "execution_count": 64,
   "metadata": {
    "scrolled": false
   },
   "outputs": [
    {
     "data": {
      "text/plain": [
       "Int64Index([0, 1, 2, 3, 4, 5, 6, 7, 8, 9, 10, 11, 12, 13, 14, 15], dtype='int64')"
      ]
     },
     "execution_count": 64,
     "metadata": {},
     "output_type": "execute_result"
    }
   ],
   "source": [
    "data['YearsSinceLastPromotion'].value_counts().index.sort_values(ascending=True)"
   ]
  },
  {
   "cell_type": "markdown",
   "metadata": {},
   "source": [
    "**We can observe from above that the number of years employees received the last promotion in the organization ranges from 0 years to 15.**  \n",
    "**So we will be discretizing the feature into 3 bins in order to improve the signal-noise ratio, where the bins represent the following :**\n",
    "* bin 0: representing time of last promotion in the period of 0-5 years ago\n",
    "* bin 1: representing time of last promotion in the period of 5-10 years ago\n",
    "* bin 2: representing time of last promotion in the period of 10-15 years ago"
   ]
  },
  {
   "cell_type": "code",
   "execution_count": 65,
   "metadata": {},
   "outputs": [],
   "source": [
    "data['YearsSinceLastPromotion'] = pd.cut(data['YearsSinceLastPromotion'], bins=[0,5,10,15], labels=False, include_lowest=True)"
   ]
  },
  {
   "cell_type": "markdown",
   "metadata": {},
   "source": [
    "**Exploring the feature YearsWithCurrManager.**"
   ]
  },
  {
   "cell_type": "code",
   "execution_count": 66,
   "metadata": {},
   "outputs": [
    {
     "data": {
      "text/plain": [
       "Int64Index([0, 1, 2, 3, 4, 5, 6, 7, 8, 9, 10, 11, 12, 13, 14, 15, 16, 17], dtype='int64')"
      ]
     },
     "execution_count": 66,
     "metadata": {},
     "output_type": "execute_result"
    }
   ],
   "source": [
    "data['YearsWithCurrManager'].value_counts().index.sort_values(ascending=True)"
   ]
  },
  {
   "cell_type": "markdown",
   "metadata": {},
   "source": [
    "**We can see from above that the number of years the emplyees are with the curent manager in the rganization ranges from 0 to 17 years.**  \n",
    "**So in order to improve the signal-noise ratio, we will be further discretizing the feature into 10 bins, where each bin will be representing increasing time periods of employees with their current manager.** "
   ]
  },
  {
   "cell_type": "code",
   "execution_count": 67,
   "metadata": {},
   "outputs": [],
   "source": [
    "data['YearsWithCurrManager'] = pd.cut(data['YearsWithCurrManager'], bins=10, labels=False, include_lowest=True)"
   ]
  },
  {
   "cell_type": "markdown",
   "metadata": {},
   "source": [
    "**Exploring the feature avg_working_time.**"
   ]
  },
  {
   "cell_type": "code",
   "execution_count": 68,
   "metadata": {},
   "outputs": [
    {
     "name": "stdout",
     "output_type": "stream",
     "text": [
      "IntervalIndex([(5.194, 6.24], (6.24, 7.28], (7.28, 8.32], (8.32, 9.36], (9.36, 10.4]],\n",
      "              closed='right',\n",
      "              dtype='interval[float64]')\n"
     ]
    }
   ],
   "source": [
    "print(data['avg_working_time'].value_counts(bins=5).index.sort_values(ascending=True))"
   ]
  },
  {
   "cell_type": "markdown",
   "metadata": {},
   "source": [
    "**We can see from above that the average working time of the employees in a day is ranging from 5.17 hrs to 10.43 hrs. In order to improve the signal-noise ration we wil be further discretizing the feature into 5 bins, where the bins would represent the following :**  \n",
    "* bin 0 : represent 5-6.2 average working hours\n",
    "* bin 1 : represent 6.2-7.3 average working hours\n",
    "* bin 2 : represent 7.3-8.3 average working hours\n",
    "* bin 3 : represent 8.3-9.4 average working hours\n",
    "* bin 4 : represent 9.4-10.4 average working hours"
   ]
  },
  {
   "cell_type": "code",
   "execution_count": 69,
   "metadata": {},
   "outputs": [],
   "source": [
    "data['avg_working_time'] = pd.cut(data['avg_working_time'], bins=5, labels=False, include_lowest=True)"
   ]
  },
  {
   "cell_type": "markdown",
   "metadata": {},
   "source": [
    "**Exploring the feature 'tot_working_time'.**"
   ]
  },
  {
   "cell_type": "code",
   "execution_count": 70,
   "metadata": {},
   "outputs": [
    {
     "data": {
      "text/plain": [
       "Float64Index([1349.0, 1351.0, 1352.0, 1359.0, 1360.0, 1361.0, 1362.0, 1363.0,\n",
       "              1364.0, 1365.0,\n",
       "              ...\n",
       "              2702.0, 2703.0, 2704.0, 2706.0, 2707.0, 2709.0, 2710.0, 2715.0,\n",
       "              2716.0, 2723.0],\n",
       "             dtype='float64', length=1169)"
      ]
     },
     "execution_count": 70,
     "metadata": {},
     "output_type": "execute_result"
    }
   ],
   "source": [
    "data['tot_working_time'].value_counts().index.sort_values(ascending=True)"
   ]
  },
  {
   "cell_type": "markdown",
   "metadata": {},
   "source": [
    "**We can see from above that the total working hours/time by the emplyees in the organisation ranges from 1349 hours to 2723 hours. The required total working hours in a yar from an employee is 2088 hours, and as we can see that none of the employee met that criterie.**  \n",
    "**So in order to improve the signal-noise ratio, we will be further discretizing the feature into 6 bins where each bin represent employees who worked ~240 hours i.e ~10 days more from th previous bin; i.e. bin 2 represents employees who worked 10 days more than the employees in bin 1, and so on till bin 6.**"
   ]
  },
  {
   "cell_type": "code",
   "execution_count": 71,
   "metadata": {},
   "outputs": [],
   "source": [
    "data['tot_working_time'] = pd.cut(data['tot_working_time'], bins=6, labels=False, include_lowest=True)"
   ]
  },
  {
   "cell_type": "markdown",
   "metadata": {
    "colab_type": "text",
    "id": "UzhevTVrL22E"
   },
   "source": [
    "# Feature encoding."
   ]
  },
  {
   "cell_type": "code",
   "execution_count": 72,
   "metadata": {
    "colab": {},
    "colab_type": "code",
    "id": "5PDEhEiGha4U"
   },
   "outputs": [],
   "source": [
    "from sklearn.preprocessing import (Binarizer,LabelEncoder,OneHotEncoder)"
   ]
  },
  {
   "cell_type": "code",
   "execution_count": 73,
   "metadata": {},
   "outputs": [
    {
     "name": "stderr",
     "output_type": "stream",
     "text": [
      "/home/titashmkhrj/anaconda3/lib/python3.8/site-packages/sklearn/utils/validation.py:73: DataConversionWarning: A column-vector y was passed when a 1d array was expected. Please change the shape of y to (n_samples, ), for example using ravel().\n",
      "  return f(**kwargs)\n"
     ]
    }
   ],
   "source": [
    "# Label encoding the 'SurveyScore' feature\n",
    "data['SurveyScore'] = LabelEncoder().fit_transform(data['SurveyScore'].values.reshape(-1,1))"
   ]
  },
  {
   "cell_type": "code",
   "execution_count": 74,
   "metadata": {},
   "outputs": [],
   "source": [
    "# one hot encoding the nominal catgegorical features in our dataset\n",
    "nom_catg_features = ['BusinessTravel', 'Department', 'EducationField', 'Gender', 'JobRole', 'MaritalStatus']\n",
    "\n",
    "for feature in nom_catg_features:\n",
    "    enc_feature_df = pd.get_dummies(data[feature],prefix=feature, prefix_sep='_')\n",
    "    data = pd.concat([enc_feature_df,data], axis=1)\n",
    "    data.drop(feature, axis=1, inplace=True)"
   ]
  },
  {
   "cell_type": "code",
   "execution_count": 75,
   "metadata": {
    "colab": {},
    "colab_type": "code",
    "id": "FyOfSXVyid92"
   },
   "outputs": [],
   "source": [
    "'''\n",
    "Binary encoding soe of the ordinal features 'avg_login_time' and 'avg_logout_time', mapping to the following :\n",
    "\n",
    "***'avg_login_time'***\n",
    "  0 > denoting EARLY and ON-TIME average login time of the employee through the year\n",
    "  1 > denoting LATE average login time of the employee through the year\n",
    "\n",
    "***'avg_logout_time'***\n",
    "  0 > denoting EARLY average logout time of the employee throught the year\n",
    "  1 > denoting ON-TIME and OVER-TIME average logout time of the employee through the year\n",
    "'''\n",
    "data['avg_login_time'] = Binarizer(threshold=10.00).fit_transform(data['avg_login_time'].values.reshape(-1,1))\n",
    "data['avg_logout_time'] = Binarizer(threshold=17.99).fit_transform(data['avg_logout_time'].values.reshape(-1,1))"
   ]
  },
  {
   "cell_type": "code",
   "execution_count": 76,
   "metadata": {},
   "outputs": [
    {
     "name": "stdout",
     "output_type": "stream",
     "text": [
      "The dimension of our resulting data after feature encoding is {} (4327, 46)\n"
     ]
    }
   ],
   "source": [
    "print('The dimension of our resulting data after feature encoding is {}',data.shape)"
   ]
  },
  {
   "cell_type": "code",
   "execution_count": 77,
   "metadata": {},
   "outputs": [
    {
     "data": {
      "text/html": [
       "<div>\n",
       "<style scoped>\n",
       "    .dataframe tbody tr th:only-of-type {\n",
       "        vertical-align: middle;\n",
       "    }\n",
       "\n",
       "    .dataframe tbody tr th {\n",
       "        vertical-align: top;\n",
       "    }\n",
       "\n",
       "    .dataframe thead th {\n",
       "        text-align: right;\n",
       "    }\n",
       "</style>\n",
       "<table border=\"1\" class=\"dataframe\">\n",
       "  <thead>\n",
       "    <tr style=\"text-align: right;\">\n",
       "      <th></th>\n",
       "      <th>MaritalStatus_Divorced</th>\n",
       "      <th>MaritalStatus_Married</th>\n",
       "      <th>MaritalStatus_Single</th>\n",
       "      <th>JobRole_Healthcare Representative</th>\n",
       "      <th>JobRole_Human Resources</th>\n",
       "      <th>JobRole_Laboratory Technician</th>\n",
       "      <th>JobRole_Manager</th>\n",
       "      <th>JobRole_Manufacturing Director</th>\n",
       "      <th>JobRole_Research Director</th>\n",
       "      <th>JobRole_Research Scientist</th>\n",
       "      <th>...</th>\n",
       "      <th>TrainingTimesLastYear</th>\n",
       "      <th>YearsAtCompany</th>\n",
       "      <th>YearsSinceLastPromotion</th>\n",
       "      <th>YearsWithCurrManager</th>\n",
       "      <th>tot_working_time</th>\n",
       "      <th>avg_working_time</th>\n",
       "      <th>overtime</th>\n",
       "      <th>avg_login_time</th>\n",
       "      <th>avg_logout_time</th>\n",
       "      <th>SurveyScore</th>\n",
       "    </tr>\n",
       "    <tr>\n",
       "      <th>EmployeeID</th>\n",
       "      <th></th>\n",
       "      <th></th>\n",
       "      <th></th>\n",
       "      <th></th>\n",
       "      <th></th>\n",
       "      <th></th>\n",
       "      <th></th>\n",
       "      <th></th>\n",
       "      <th></th>\n",
       "      <th></th>\n",
       "      <th></th>\n",
       "      <th></th>\n",
       "      <th></th>\n",
       "      <th></th>\n",
       "      <th></th>\n",
       "      <th></th>\n",
       "      <th></th>\n",
       "      <th></th>\n",
       "      <th></th>\n",
       "      <th></th>\n",
       "      <th></th>\n",
       "    </tr>\n",
       "  </thead>\n",
       "  <tbody>\n",
       "    <tr>\n",
       "      <th>1</th>\n",
       "      <td>0</td>\n",
       "      <td>1</td>\n",
       "      <td>0</td>\n",
       "      <td>1</td>\n",
       "      <td>0</td>\n",
       "      <td>0</td>\n",
       "      <td>0</td>\n",
       "      <td>0</td>\n",
       "      <td>0</td>\n",
       "      <td>0</td>\n",
       "      <td>...</td>\n",
       "      <td>6</td>\n",
       "      <td>0</td>\n",
       "      <td>0</td>\n",
       "      <td>0</td>\n",
       "      <td>1</td>\n",
       "      <td>1</td>\n",
       "      <td>0.0</td>\n",
       "      <td>0.0</td>\n",
       "      <td>0.0</td>\n",
       "      <td>7</td>\n",
       "    </tr>\n",
       "    <tr>\n",
       "      <th>2</th>\n",
       "      <td>0</td>\n",
       "      <td>0</td>\n",
       "      <td>1</td>\n",
       "      <td>0</td>\n",
       "      <td>0</td>\n",
       "      <td>0</td>\n",
       "      <td>0</td>\n",
       "      <td>0</td>\n",
       "      <td>0</td>\n",
       "      <td>1</td>\n",
       "      <td>...</td>\n",
       "      <td>3</td>\n",
       "      <td>0</td>\n",
       "      <td>0</td>\n",
       "      <td>2</td>\n",
       "      <td>2</td>\n",
       "      <td>1</td>\n",
       "      <td>0.0</td>\n",
       "      <td>0.0</td>\n",
       "      <td>0.0</td>\n",
       "      <td>7</td>\n",
       "    </tr>\n",
       "    <tr>\n",
       "      <th>3</th>\n",
       "      <td>0</td>\n",
       "      <td>1</td>\n",
       "      <td>0</td>\n",
       "      <td>0</td>\n",
       "      <td>0</td>\n",
       "      <td>0</td>\n",
       "      <td>0</td>\n",
       "      <td>0</td>\n",
       "      <td>0</td>\n",
       "      <td>0</td>\n",
       "      <td>...</td>\n",
       "      <td>2</td>\n",
       "      <td>0</td>\n",
       "      <td>0</td>\n",
       "      <td>1</td>\n",
       "      <td>1</td>\n",
       "      <td>1</td>\n",
       "      <td>0.0</td>\n",
       "      <td>1.0</td>\n",
       "      <td>0.0</td>\n",
       "      <td>3</td>\n",
       "    </tr>\n",
       "    <tr>\n",
       "      <th>4</th>\n",
       "      <td>0</td>\n",
       "      <td>1</td>\n",
       "      <td>0</td>\n",
       "      <td>0</td>\n",
       "      <td>1</td>\n",
       "      <td>0</td>\n",
       "      <td>0</td>\n",
       "      <td>0</td>\n",
       "      <td>0</td>\n",
       "      <td>0</td>\n",
       "      <td>...</td>\n",
       "      <td>5</td>\n",
       "      <td>1</td>\n",
       "      <td>1</td>\n",
       "      <td>2</td>\n",
       "      <td>1</td>\n",
       "      <td>1</td>\n",
       "      <td>0.0</td>\n",
       "      <td>0.0</td>\n",
       "      <td>0.0</td>\n",
       "      <td>8</td>\n",
       "    </tr>\n",
       "    <tr>\n",
       "      <th>5</th>\n",
       "      <td>0</td>\n",
       "      <td>0</td>\n",
       "      <td>1</td>\n",
       "      <td>0</td>\n",
       "      <td>0</td>\n",
       "      <td>0</td>\n",
       "      <td>0</td>\n",
       "      <td>0</td>\n",
       "      <td>0</td>\n",
       "      <td>0</td>\n",
       "      <td>...</td>\n",
       "      <td>2</td>\n",
       "      <td>1</td>\n",
       "      <td>0</td>\n",
       "      <td>2</td>\n",
       "      <td>2</td>\n",
       "      <td>2</td>\n",
       "      <td>0.0</td>\n",
       "      <td>0.0</td>\n",
       "      <td>1.0</td>\n",
       "      <td>6</td>\n",
       "    </tr>\n",
       "  </tbody>\n",
       "</table>\n",
       "<p>5 rows × 46 columns</p>\n",
       "</div>"
      ],
      "text/plain": [
       "            MaritalStatus_Divorced  MaritalStatus_Married  \\\n",
       "EmployeeID                                                  \n",
       "1                                0                      1   \n",
       "2                                0                      0   \n",
       "3                                0                      1   \n",
       "4                                0                      1   \n",
       "5                                0                      0   \n",
       "\n",
       "            MaritalStatus_Single  JobRole_Healthcare Representative  \\\n",
       "EmployeeID                                                            \n",
       "1                              0                                  1   \n",
       "2                              1                                  0   \n",
       "3                              0                                  0   \n",
       "4                              0                                  0   \n",
       "5                              1                                  0   \n",
       "\n",
       "            JobRole_Human Resources  JobRole_Laboratory Technician  \\\n",
       "EmployeeID                                                           \n",
       "1                                 0                              0   \n",
       "2                                 0                              0   \n",
       "3                                 0                              0   \n",
       "4                                 1                              0   \n",
       "5                                 0                              0   \n",
       "\n",
       "            JobRole_Manager  JobRole_Manufacturing Director  \\\n",
       "EmployeeID                                                    \n",
       "1                         0                               0   \n",
       "2                         0                               0   \n",
       "3                         0                               0   \n",
       "4                         0                               0   \n",
       "5                         0                               0   \n",
       "\n",
       "            JobRole_Research Director  JobRole_Research Scientist  ...  \\\n",
       "EmployeeID                                                         ...   \n",
       "1                                   0                           0  ...   \n",
       "2                                   0                           1  ...   \n",
       "3                                   0                           0  ...   \n",
       "4                                   0                           0  ...   \n",
       "5                                   0                           0  ...   \n",
       "\n",
       "            TrainingTimesLastYear  YearsAtCompany  YearsSinceLastPromotion  \\\n",
       "EmployeeID                                                                   \n",
       "1                               6               0                        0   \n",
       "2                               3               0                        0   \n",
       "3                               2               0                        0   \n",
       "4                               5               1                        1   \n",
       "5                               2               1                        0   \n",
       "\n",
       "            YearsWithCurrManager  tot_working_time  avg_working_time  \\\n",
       "EmployeeID                                                             \n",
       "1                              0                 1                 1   \n",
       "2                              2                 2                 1   \n",
       "3                              1                 1                 1   \n",
       "4                              2                 1                 1   \n",
       "5                              2                 2                 2   \n",
       "\n",
       "            overtime  avg_login_time  avg_logout_time  SurveyScore  \n",
       "EmployeeID                                                          \n",
       "1                0.0             0.0              0.0            7  \n",
       "2                0.0             0.0              0.0            7  \n",
       "3                0.0             1.0              0.0            3  \n",
       "4                0.0             0.0              0.0            8  \n",
       "5                0.0             0.0              1.0            6  \n",
       "\n",
       "[5 rows x 46 columns]"
      ]
     },
     "execution_count": 77,
     "metadata": {},
     "output_type": "execute_result"
    }
   ],
   "source": [
    "data.head()"
   ]
  },
  {
   "cell_type": "markdown",
   "metadata": {},
   "source": [
    "# Making the feature and target space."
   ]
  },
  {
   "cell_type": "code",
   "execution_count": 78,
   "metadata": {},
   "outputs": [
    {
     "name": "stdout",
     "output_type": "stream",
     "text": [
      "(4327, 45) (4327,)\n"
     ]
    }
   ],
   "source": [
    "# seperating our dataset in to predictors and target\n",
    "x_data = data.drop('Attrition', axis=1)\n",
    "y_data = data['Attrition']\n",
    "\n",
    "#saving the above as csv files\n",
    "x_data.to_csv('feature_space.csv')\n",
    "y_data.to_csv('target_space.csv')\n",
    "\n",
    "print(x_data.shape, y_data.shape)"
   ]
  }
 ],
 "metadata": {
  "kernelspec": {
   "display_name": "Python 3",
   "language": "python",
   "name": "python3"
  },
  "language_info": {
   "codemirror_mode": {
    "name": "ipython",
    "version": 3
   },
   "file_extension": ".py",
   "mimetype": "text/x-python",
   "name": "python",
   "nbconvert_exporter": "python",
   "pygments_lexer": "ipython3",
   "version": "3.8.3"
  }
 },
 "nbformat": 4,
 "nbformat_minor": 2
}
